{
 "cells": [
  {
   "cell_type": "markdown",
   "metadata": {},
   "source": [
    "# 用户信息操作"
   ]
  },
  {
   "cell_type": "code",
   "execution_count": 4,
   "metadata": {},
   "outputs": [
    {
     "name": "stdout",
     "output_type": "stream",
     "text": [
      "(219999, '布朗熊', 1, '127.0.0.1', '111111', '经济,美国,欧洲,技术,外媒,俄罗斯,肺炎,金融', '{\"美国\": 0.35, \"技术\": 0.35, \"俄罗斯\": 0.35, \"肺炎\": 0.35, \"金融\": 0.38, \"欧洲\": 0.35, \"外媒\": 0.35, \"经济\": 0.35, \"股价\": 0.01, \"商誉\": 0.01, \"股东\": 0.01, \"A股\": 0.01, \"业绩\": 0.01, \"净利润\": 0.01, \"公司\": 0.01, \"负面新闻\": 0.01, \"机构\": 0.01}', '', '陕西') \n",
      "\n",
      "(220000, '陶志远', 1, '127.0.0.1', '123456', '国际,制裁', '{\"国际\": 0.35, \"制裁\": 0.35, \"主题公园\": 0.01, \"观光\": 0.01, \"济州\": 0.01, \"头条\": 0.01, \"列车\": 0.01, \"济州岛\": 0.01, \"韩国\": 0.01, \"游客\": 0.01}', '', '安徽') \n",
      "\n"
     ]
    }
   ],
   "source": [
    "# 导入pymysql模块\n",
    "import pymysql\n",
    "\n",
    "# 连接database\n",
    "db = pymysql.connect(\n",
    "    host = \"127.0.0.1\",\n",
    "    port = 3306,\n",
    "    user = \"root\",\n",
    "    password = \"mysql123\",\n",
    "    db = \"news\",\n",
    "    charset = \"utf8\"\n",
    ")\n",
    "\n",
    "cur = db.cursor()\n",
    "\n",
    "\n",
    "sql = \"SELECT * FROM `news`.`news_api_user`\"\n",
    "\n",
    "cur.execute(sql)\n",
    "\n",
    "result = cur.fetchall()\n",
    "for item in result:\n",
    "    print(item, '\\n')\n",
    "\n",
    "cur.close()\n",
    "db.close()"
   ]
  },
  {
   "cell_type": "code",
   "execution_count": 68,
   "metadata": {},
   "outputs": [
    {
     "data": {
      "text/html": [
       "<div>\n",
       "<style scoped>\n",
       "    .dataframe tbody tr th:only-of-type {\n",
       "        vertical-align: middle;\n",
       "    }\n",
       "\n",
       "    .dataframe tbody tr th {\n",
       "        vertical-align: top;\n",
       "    }\n",
       "\n",
       "    .dataframe thead th {\n",
       "        text-align: right;\n",
       "    }\n",
       "</style>\n",
       "<table border=\"1\" class=\"dataframe\">\n",
       "  <thead>\n",
       "    <tr style=\"text-align: right;\">\n",
       "      <th></th>\n",
       "      <th>userid</th>\n",
       "      <th>username</th>\n",
       "      <th>password</th>\n",
       "      <th>gender</th>\n",
       "      <th>region</th>\n",
       "    </tr>\n",
       "  </thead>\n",
       "  <tbody>\n",
       "    <tr>\n",
       "      <th>0</th>\n",
       "      <td>220001</td>\n",
       "      <td>张伟</td>\n",
       "      <td>111111</td>\n",
       "      <td>1</td>\n",
       "      <td>河北</td>\n",
       "    </tr>\n",
       "    <tr>\n",
       "      <th>1</th>\n",
       "      <td>220002</td>\n",
       "      <td>王芳</td>\n",
       "      <td>111111</td>\n",
       "      <td>0</td>\n",
       "      <td>陕西</td>\n",
       "    </tr>\n",
       "    <tr>\n",
       "      <th>2</th>\n",
       "      <td>220003</td>\n",
       "      <td>刘伟</td>\n",
       "      <td>111111</td>\n",
       "      <td>1</td>\n",
       "      <td>西藏</td>\n",
       "    </tr>\n",
       "    <tr>\n",
       "      <th>3</th>\n",
       "      <td>220004</td>\n",
       "      <td>张敏</td>\n",
       "      <td>111111</td>\n",
       "      <td>0</td>\n",
       "      <td>四川</td>\n",
       "    </tr>\n",
       "    <tr>\n",
       "      <th>4</th>\n",
       "      <td>220005</td>\n",
       "      <td>李伟</td>\n",
       "      <td>111111</td>\n",
       "      <td>1</td>\n",
       "      <td>重庆</td>\n",
       "    </tr>\n",
       "  </tbody>\n",
       "</table>\n",
       "</div>"
      ],
      "text/plain": [
       "   userid username  password  gender region\n",
       "0  220001       张伟    111111       1     河北\n",
       "1  220002       王芳    111111       0     陕西\n",
       "2  220003       刘伟    111111       1     西藏\n",
       "3  220004       张敏    111111       0     四川\n",
       "4  220005       李伟    111111       1     重庆"
      ]
     },
     "execution_count": 68,
     "metadata": {},
     "output_type": "execute_result"
    }
   ],
   "source": [
    "import pandas as pd\n",
    "\n",
    "df = pd.read_csv('user_id_list.csv')\n",
    "df.head()"
   ]
  },
  {
   "cell_type": "code",
   "execution_count": 72,
   "metadata": {},
   "outputs": [
    {
     "name": "stdout",
     "output_type": "stream",
     "text": [
      "[{'userid': 220001, 'username': '张伟', 'password': 111111, 'gender': 1, 'region': '河北'}, {'userid': 220002, 'username': '王芳', 'password': 111111, 'gender': 0, 'region': '陕西'}, {'userid': 220003, 'username': '刘伟', 'password': 111111, 'gender': 1, 'region': '西藏'}, {'userid': 220004, 'username': '张敏', 'password': 111111, 'gender': 0, 'region': '四川'}, {'userid': 220005, 'username': '李伟', 'password': 111111, 'gender': 1, 'region': '重庆'}, {'userid': 220006, 'username': '王静', 'password': 111111, 'gender': 0, 'region': '云南'}, {'userid': 220007, 'username': '王勇', 'password': 111111, 'gender': 1, 'region': '贵州'}, {'userid': 220008, 'username': '李静', 'password': 111111, 'gender': 0, 'region': '江西'}, {'userid': 220009, 'username': '郑磊', 'password': 111111, 'gender': 1, 'region': '河南'}, {'userid': 220010, 'username': '王燕', 'password': 111111, 'gender': 0, 'region': '山东'}, {'userid': 220011, 'username': '孟浩', 'password': 111111, 'gender': 1, 'region': '北京'}, {'userid': 220012, 'username': '王秀英', 'password': 111111, 'gender': 0, 'region': '上海'}, {'userid': 220013, 'username': '陈建平', 'password': 111111, 'gender': 1, 'region': '江苏'}, {'userid': 220014, 'username': '王玉珍', 'password': 111111, 'gender': 0, 'region': '浙江'}, {'userid': 220015, 'username': '胡志明', 'password': 111111, 'gender': 1, 'region': '江苏'}, {'userid': 220016, 'username': '刘红梅', 'password': 111111, 'gender': 0, 'region': '浙江'}, {'userid': 220017, 'username': '李建平', 'password': 111111, 'gender': 1, 'region': '安徽'}, {'userid': 220018, 'username': '季欣怡', 'password': 111111, 'gender': 0, 'region': '安徽'}, {'userid': 220019, 'username': '彭国华', 'password': 111111, 'gender': 1, 'region': '江苏'}, {'userid': 220020, 'username': '吴桂秀', 'password': 111111, 'gender': 0, 'region': '安徽'}, {'userid': 220021, 'username': '一身都是月', 'password': 111111, 'gender': 1, 'region': '浙江'}, {'userid': 220022, 'username': '风软一江水', 'password': 111111, 'gender': 0, 'region': '安徽'}, {'userid': 220023, 'username': '犹怜草木青', 'password': 111111, 'gender': 1, 'region': '安徽'}, {'userid': 220024, 'username': '灭烛怜光满', 'password': 111111, 'gender': 0, 'region': '江苏'}, {'userid': 220025, 'username': '长安一片月', 'password': 111111, 'gender': 1, 'region': '安徽'}, {'userid': 220026, 'username': '可怜今夕月', 'password': 111111, 'gender': 0, 'region': '安徽'}, {'userid': 220027, 'username': '无心爱良夜', 'password': 111111, 'gender': 1, 'region': '安徽'}, {'userid': 220028, 'username': '吹不散眉弯', 'password': 111111, 'gender': 0, 'region': '江苏'}, {'userid': 220029, 'username': '我亦飘零久', 'password': 111111, 'gender': 1, 'region': '安徽'}, {'userid': 220030, 'username': '两鬓可怜青', 'password': 111111, 'gender': 0, 'region': '浙江'}]\n"
     ]
    }
   ],
   "source": [
    "user_info_list = []\n",
    "for i in range(len(df)):\n",
    "    user_info = {}\n",
    "    df_row = df.iloc[i]\n",
    "    user_info['userid']   = df_row['userid']\n",
    "    user_info['username'] = df_row['username']\n",
    "    user_info['password'] = df_row['password']\n",
    "    user_info['gender']   = df_row['gender']\n",
    "    user_info['region']   = df_row['region']\n",
    "    user_info_list.append(user_info)\n",
    "print(user_info_list)"
   ]
  },
  {
   "cell_type": "markdown",
   "metadata": {},
   "source": [
    "## 写入数据库"
   ]
  },
  {
   "cell_type": "code",
   "execution_count": 92,
   "metadata": {},
   "outputs": [],
   "source": []
  },
  {
   "cell_type": "code",
   "execution_count": 94,
   "metadata": {},
   "outputs": [],
   "source": [
    "# 导入pymysql模块\n",
    "import pymysql\n",
    "\n",
    "# 连接news数据库\n",
    "db = pymysql.connect(\n",
    "    host = \"127.0.0.1\",\n",
    "    port = 3306,\n",
    "    user = \"root\",\n",
    "    password = \"mysql123\",\n",
    "    db = \"news\",\n",
    "    charset = \"utf8\"\n",
    ")\n",
    "\n",
    "cur = db.cursor()\n",
    "\n",
    "## 查询\n",
    "sql = \"UPDATE news_api_user SET ip = %s\"\n",
    "\n",
    "cur.execute(sql, \"127.0.0.1\")\n",
    "db.commit()\n",
    "\n",
    "cur.close()\n",
    "db.close()"
   ]
  },
  {
   "cell_type": "markdown",
   "metadata": {},
   "source": [
    "# "
   ]
  }
 ],
 "metadata": {
  "interpreter": {
   "hash": "916dbcbb3f70747c44a77c7bcd40155683ae19c65e1c03b4aa3499c5328201f1"
  },
  "kernelspec": {
   "display_name": "Python 3.8.10 64-bit",
   "language": "python",
   "name": "python3"
  },
  "language_info": {
   "codemirror_mode": {
    "name": "ipython",
    "version": 3
   },
   "file_extension": ".py",
   "mimetype": "text/x-python",
   "name": "python",
   "nbconvert_exporter": "python",
   "pygments_lexer": "ipython3",
   "version": "3.8.10"
  },
  "orig_nbformat": 4
 },
 "nbformat": 4,
 "nbformat_minor": 2
}
