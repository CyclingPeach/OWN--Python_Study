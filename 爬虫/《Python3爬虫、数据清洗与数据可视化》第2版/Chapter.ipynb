{
 "cells": [
  {
   "cell_type": "code",
   "execution_count": 4,
   "metadata": {},
   "outputs": [
    {
     "name": "stdout",
     "output_type": "stream",
     "text": [
      "<Response [200]> <class 'requests.models.Response'> \n",
      "\n",
      "<!DOCTYPE html>\n",
      "<!--STATUS OK--><html> <head><meta http-equiv=content-type content=text/html;charset=utf-8><meta http-equiv=X-UA-Compatible content=IE=Edge><meta content=always name=referrer><link rel=stylesheet type=text/css href=https://ss1.bdstatic.com/5eN1bjq8AAUYm2zgoY3K/r/www/cache/bdorz/baidu.min.css><title>ç¾åº¦ä¸ä¸ï¼ä½ å°±ç¥é</title></head> <body link=#0000cc> <div id=wrapper> <div id=head> <div class=head_wrapper> <div class=s_form> <div class=s_form_wrapper> <div id=lg> <img hidefocus=true src=//www.baidu.com/img/bd_logo1.png width=270 height=129> </div> <form id=form name=f action=//www.baidu.com/s class=fm> <input type=hidden name=bdorz_come value=1> <input type=hidden name=ie value=utf-8> <input type=hidden name=f value=8> <input type=hidden name=rsv_bp value=1> <input type=hidden name=rsv_idx value=1> <input type=hidden name=tn value=baidu><span class=\"bg s_ipt_wr\"><input id=kw name=wd class=s_ipt value maxlength=255 autocomplete=off autofocus=autofocus></span><span class=\"bg s_btn_wr\"><input type=submit id=su value=ç¾åº¦ä¸ä¸ class=\"bg s_btn\" autofocus></span> </form> </div> </div> <div id=u1> <a href=http://news.baidu.com name=tj_trnews class=mnav>æ°é»</a> <a href=https://www.hao123.com name=tj_trhao123 class=mnav>hao123</a> <a href=http://map.baidu.com name=tj_trmap class=mnav>å°å¾</a> <a href=http://v.baidu.com name=tj_trvideo class=mnav>è§é¢</a> <a href=http://tieba.baidu.com name=tj_trtieba class=mnav>è´´å§</a> <noscript> <a href=http://www.baidu.com/bdorz/login.gif?login&amp;tpl=mn&amp;u=http%3A%2F%2Fwww.baidu.com%2f%3fbdorz_come%3d1 name=tj_login class=lb>ç»å½</a> </noscript> <script>document.write('<a href=\"http://www.baidu.com/bdorz/login.gif?login&tpl=mn&u='+ encodeURIComponent(window.location.href+ (window.location.search === \"\" ? \"?\" : \"&\")+ \"bdorz_come=1\")+ '\" name=\"tj_login\" class=\"lb\">ç»å½</a>');\n",
      "                </script> <a href=//www.baidu.com/more/ name=tj_briicon class=bri style=\"display: block;\">æ´å¤äº§å</a> </div> </div> </div> <div id=ftCon> <div id=ftConw> <p id=lh> <a href=http://home.baidu.com>å³äºç¾åº¦</a> <a href=http://ir.baidu.com>About Baidu</a> </p> <p id=cp>&copy;2017&nbsp;Baidu&nbsp;<a href=http://www.baidu.com/duty/>ä½¿ç¨ç¾åº¦åå¿è¯»</a>&nbsp; <a href=http://jianyi.baidu.com/ class=cp-feedback>æè§åé¦</a>&nbsp;äº¬ICPè¯030173å·&nbsp; <img src=//www.baidu.com/img/gs.gif> </p> </div> </div> </div> </body> </html>\n",
      "\n"
     ]
    }
   ],
   "source": [
    "import requests\n",
    "import random\n",
    "\n",
    "my_headers = [\n",
    "    \"Mozilla/5.0 (Windows NT 6.3; WOW64) AppleWebKit/537.36 (KHTML, like Gecko) Chrome/39.0.2171.95 Safari/537.36\",\n",
    "    \"Mozilla/5.0 (Macintosh; Intel Mac OS X 10_9_2) AppleWebKit/537.36 (KHTML, like Gecko) Chrome/35.0.1916.153 Safari/537.36\",\n",
    "    \"Mozilla/5.0 (Windows NT 6.1; WOW64; rv:30.0) Gecko/20100101 Firefox/30.0\",\n",
    "    \"Mozilla/5.0 (Macintosh; Intel Mac OS X 10_9_2) AppleWebKit/537.75.14 (KHTML, like Gecko) Version/7.0.3 Safari/537.75.14\",\n",
    "    \"Mozilla/5.0 (compatible; MSIE 10.0; Windows NT 6.2; Win64; x64; Trident/6.0)\",\n",
    "    'Mozilla/5.0 (Windows; U; Windows NT 5.1; it; rv:1.8.1.11) Gecko/20071127 Firefox/2.0.0.11',\n",
    "    'Opera/9.25 (Windows NT 5.1; U; en)',\n",
    "    'Mozilla/4.0 (compatible; MSIE 6.0; Windows NT 5.1; SV1; .NET CLR 1.1.4322; .NET CLR 2.0.50727)',\n",
    "    'Mozilla/5.0 (compatible; Konqueror/3.5; Linux) KHTML/3.5.5 (like Gecko) (Kubuntu)',\n",
    "    'Mozilla/5.0 (X11; U; Linux i686; en-US; rv:1.8.0.12) Gecko/20070731 Ubuntu/dapper-security Firefox/1.5.0.12',\n",
    "    'Lynx/2.8.5rel.1 libwww-FM/2.14 SSL-MM/1.4.1 GNUTLS/1.2.9',\n",
    "    \"Mozilla/5.0 (X11; Linux i686) AppleWebKit/535.7 (KHTML, like Gecko) Ubuntu/11.04 Chromium/16.0.912.77 Chrome/16.0.912.77 Safari/535.7\",\n",
    "    \"Mozilla/5.0 (X11; Ubuntu; Linux i686; rv:10.0) Gecko/20100101 Firefox/10.0 \"\n",
    "]\n",
    "\n",
    "url = 'https://www.baidu.com/'\n",
    "strhtml = requests.get(url)     ## 返回一个response\n",
    "print(strhtml,type(strhtml),\"\\n\")\n",
    "print(strhtml.text)"
   ]
  },
  {
   "cell_type": "code",
   "execution_count": 44,
   "metadata": {},
   "outputs": [
    {
     "name": "stdout",
     "output_type": "stream",
     "text": [
      "<Response [200]>\n",
      "                          {\"type\":\"ZH_CN2EN\",\"errorCode\":0,\"elapsedTime\":0,\"translateResult\":[[{\"src\":\"陶志远\",\"tgt\":\"TaoZhiYuan\"}]]}\n",
      "\n",
      "{'type': 'ZH_CN2EN', 'errorCode': 0, 'elapsedTime': 0, 'translateResult': [[{'src': '陶志远', 'tgt': 'TaoZhiYuan'}]]}\n",
      "\n",
      "翻译结果:TaoZhiYuan\n"
     ]
    }
   ],
   "source": [
    "import json\n",
    "import requests\n",
    "\n",
    "def get_translate_date(word=None):\n",
    "    url='http://fanyi.youdao.com/translate?smartresult=dict&smartresult =rule'\n",
    "    Form_data = {'i':word, 'from':'AUTO','to': 'AUTO','smartresult': 'dict', 'client':'fanyideskweb',\n",
    "                'salt':'1512399450582','sign':'78181ebbdcb38de9b4a3f4cd1d3 8816b','doctype':'json',\n",
    "                'version': '2.1','keyfrom':'fanyi.web','action':'FY_BY_ CLICKBUTTION','typoResult':'false'\n",
    "    }\t\n",
    "\n",
    "    # 请求表单数据\n",
    "    response = requests.post(url, Form_data)     ## 返回一个response\n",
    "    # 将JSON格式字符串转换成字典\n",
    "    content = json.loads(response.text)\n",
    "    # 打印翻译后的数据\n",
    "    print(response)\n",
    "    print(response.text)\n",
    "    print(content)\n",
    "    print(\"\\n翻译结果:\", content['translateResult'][0][0]['tgt'], sep='')\n",
    "\n",
    "get_translate_date('陶志远')"
   ]
  },
  {
   "cell_type": "markdown",
   "metadata": {},
   "source": [
    "## 2.4、使用`BeautifulSoup`解析网页\n",
    "\n",
    "**`lxml库`**\n",
    "- 如果不安装lxml库，就会使用Python默认的解析器\n",
    "\n",
    "- 尽管`Beautiful Soup`支持Python表中库中的`HTML解析器`, 又支持一些`第三方解析器`, 但是`lxml库`的功能更加强大、速度更快"
   ]
  },
  {
   "cell_type": "code",
   "execution_count": 145,
   "metadata": {},
   "outputs": [
    {
     "name": "stdout",
     "output_type": "stream",
     "text": [
      "<Response [200]>\n"
     ]
    }
   ],
   "source": [
    "import requests\n",
    "from bs4 import BeautifulSoup\n",
    "\n",
    "url = 'https://pvp.qq.com/web201605/herolist.shtml'\n",
    "\n",
    "strhtml = requests.get(url)\n",
    "print(strhtml)\n",
    "soup = BeautifulSoup(strhtml.text, 'lxml')      # \n",
    "selector = 'body > div.wrapper > div > div > div.herolist-box > div.herolist-content > ul > li > a > img'\n",
    "data = soup.select(selector)"
   ]
  },
  {
   "cell_type": "code",
   "execution_count": 109,
   "metadata": {},
   "outputs": [
    {
     "data": {
      "text/plain": [
       "{'title': 'ÔÆÖÐ¾ý',\n",
       " 'link': 'https://game.gtimg.cn/images/yxzj/img201606/heroimg/506/506.jpg'}"
      ]
     },
     "execution_count": 109,
     "metadata": {},
     "output_type": "execute_result"
    }
   ],
   "source": [
    "result_list = []\n",
    "for item in data:\n",
    "    result = {\n",
    "        'title':item.get('alt'),\n",
    "        'link':'https:' + item.get('src')\n",
    "    }\n",
    "    result_list.append(result)\n",
    "result_list[0]"
   ]
  },
  {
   "cell_type": "code",
   "execution_count": 143,
   "metadata": {},
   "outputs": [
    {
     "name": "stdout",
     "output_type": "stream",
     "text": [
      "<class 'str'>\n",
      "<class 'bs4.BeautifulSoup'>\n"
     ]
    }
   ],
   "source": [
    "print(type(strhtml.text))   # 网页类型<class 'str'>\n",
    "print(type(soup))           # 解析之后的网页类型"
   ]
  },
  {
   "cell_type": "markdown",
   "metadata": {},
   "source": [
    "### 类型\n",
    "#### 类型\n",
    "- **`requests`获取的类型为:`requests.models.Response`**【`<Response [200]>`】\n",
    "- **再`.text`后的类型为:`<class 'str'>`**\n",
    "    - 【`resopnse.text`】\n",
    "    - 【`<html><body><a href=\"https://www.ahpu.edu.cn/\">安徽工程大学</a></body></html>`】\n",
    "- \n",
    "- **`Beautiful Soup`解析后的网页类型为:`<class 'bs4.BeautifulSoup'>`**\n",
    "    - 【`<html><body><a href=\"https://www.ahpu.edu.cn/\">安徽工程大学</a></body></html>`】【整齐的】\n",
    "- \n",
    "- **`soup.select(selector)`后的类型为:`<class 'bs4.element.ResultSet'>`**\n",
    "    - `[<a href=\"https://www.ahpu.edu.cn/\">安徽工程大学</a>, <a>......</a>, <a>......</a>, ...]`【类似列表, 索引】\n",
    "\n",
    "#### 获取内容方法\n",
    "- **获取标签间的正文用`get_text()`方法**\n",
    "- **提取标签内的属性用`get()`方法**"
   ]
  },
  {
   "cell_type": "code",
   "execution_count": 136,
   "metadata": {},
   "outputs": [
    {
     "name": "stdout",
     "output_type": "stream",
     "text": [
      "【BeautifulSoup后的类型】\n",
      "<class 'bs4.BeautifulSoup'>\n",
      "\n",
      "【BeautifulSoup后的形式】\n",
      "<html><body><a href=\"https://www.ahpu.edu.cn/\">安徽工程大学</a></body></html>\n",
      "\n",
      "【到达指定标签位置】【select】\n",
      "<class 'bs4.element.ResultSet'>\n",
      "[<a href=\"https://www.ahpu.edu.cn/\">安徽工程大学</a>]\n"
     ]
    }
   ],
   "source": [
    "string = \"\"\"<a href=\"https://www.ahpu.edu.cn/\">安徽工程大学</a>\"\"\"\n",
    "soup = BeautifulSoup(string)\n",
    "data = soup.select('body > a')\n",
    "print(\"【BeautifulSoup后的类型】\\n\", type(soup), sep='')\n",
    "print(\"\\n【BeautifulSoup后的形式】\\n\", soup, sep='')\n",
    "print(\"\\n【到达指定标签位置】【select】\")\n",
    "print(type(data))\n",
    "print(data)"
   ]
  },
  {
   "cell_type": "markdown",
   "metadata": {},
   "source": [
    "#### 获取标签中正文用`get_text()`方法, 如: "
   ]
  },
  {
   "cell_type": "code",
   "execution_count": 137,
   "metadata": {},
   "outputs": [
    {
     "data": {
      "text/plain": [
       "'安徽工程大学'"
      ]
     },
     "execution_count": 137,
     "metadata": {},
     "output_type": "execute_result"
    }
   ],
   "source": [
    "data[0].get_text()"
   ]
  },
  {
   "cell_type": "markdown",
   "metadata": {},
   "source": [
    "#### 提取标签中的属性用`get()`方法, 如:"
   ]
  },
  {
   "cell_type": "code",
   "execution_count": 138,
   "metadata": {},
   "outputs": [
    {
     "data": {
      "text/plain": [
       "'https://www.ahpu.edu.cn/'"
      ]
     },
     "execution_count": 138,
     "metadata": {},
     "output_type": "execute_result"
    }
   ],
   "source": [
    "data[0].get('href')"
   ]
  }
 ],
 "metadata": {
  "interpreter": {
   "hash": "916dbcbb3f70747c44a77c7bcd40155683ae19c65e1c03b4aa3499c5328201f1"
  },
  "kernelspec": {
   "display_name": "Python 3.8.10 64-bit",
   "language": "python",
   "name": "python3"
  },
  "language_info": {
   "codemirror_mode": {
    "name": "ipython",
    "version": 3
   },
   "file_extension": ".py",
   "mimetype": "text/x-python",
   "name": "python",
   "nbconvert_exporter": "python",
   "pygments_lexer": "ipython3",
   "version": "3.8.10"
  },
  "orig_nbformat": 4
 },
 "nbformat": 4,
 "nbformat_minor": 2
}
