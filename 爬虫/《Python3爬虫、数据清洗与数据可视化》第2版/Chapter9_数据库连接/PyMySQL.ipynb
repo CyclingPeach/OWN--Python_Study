{
 "cells": [
  {
   "cell_type": "markdown",
   "metadata": {},
   "source": [
    "# PyMysql"
   ]
  },
  {
   "cell_type": "markdown",
   "metadata": {},
   "source": [
    "### 连接数据库"
   ]
  },
  {
   "cell_type": "code",
   "execution_count": 13,
   "metadata": {},
   "outputs": [],
   "source": [
    "import pymysql\n",
    "\n",
    "db = pymysql.connect(\n",
    "    \thost=\"localhost\",\n",
    "    \tport=3306,\n",
    "    \tuser=\"root\",\n",
    "    \tpassword=\"mysql123\",\n",
    "    \tdb=\"taobao\",\n",
    "    \tcharset=\"utf8\"\n",
    ")\n",
    "\n",
    "\n",
    "# fetch\t\t拿来\n",
    "# fetchone(),\tfetchall()\n",
    "# execute\t执行\n",
    "# cursor\t光标，游标"
   ]
  },
  {
   "cell_type": "markdown",
   "metadata": {},
   "source": [
    "### 操作（增删改查）"
   ]
  },
  {
   "cell_type": "markdown",
   "metadata": {},
   "source": [
    "#### 查询"
   ]
  },
  {
   "cell_type": "code",
   "execution_count": 39,
   "metadata": {},
   "outputs": [
    {
     "name": "stdout",
     "output_type": "stream",
     "text": [
      "('妈妈夏装时尚套装中老年人雪纺衫中年女装阔腿裤两件套40岁50衣服', 'https://g-search3.alicdn.com/img/bao/uploaded/i4/i1/TB1UpmwQFXXXXcwXVXXXXXXXXXX_!!0-item_pic.jpg', 'https://detail.tmall.com/item.htm?id=548719889438&ns=1&abbucket=0', 139.0, '18015人付款', '湖北 武汉', 'WSQ17222 ', '薇诗琪 ', '适中 ', '聚酯 ', '2017年夏季 ', '通勤 ', '条纹 ', '40-49周岁 ', '九分裤 ', '宽松 ', '两件套 ', '套头 ', '常规 ', '', '圆领 ', '常规 ', '', '', '96%及以上 ', '口袋 ')\n",
      "@@@@@@@@@@@@@@@@@@@@@@@@@@@@@@@@@@@@@@@@@@@@@@@@@@@@@@@@@@@@@@@@@@@@@@@@@@@\n",
      "('母亲节衣服夏季妈妈夏装中老年女装中年雪纺衫阔腿裤两件套装40岁', 'https://g-search3.alicdn.com/img/bao/uploaded/i4/i4/TB14i1NQVXXXXazXpXXXXXXXXXX_!!0-item_pic.jpg', 'https://detail.tmall.com/item.htm?id=549484743711&ns=1&abbucket=0', 158.0, '15721人付款', '浙江 杭州', 'P722606G0 ', '胖织缘福 ', '薄 ', '聚酯 ', '2017年夏季 ', '休闲 ', '条纹 ', '40-49周岁 ', '长裤 ', '直筒 ', '两件套 ', '套头 ', '常规 ', '', '圆领 ', '常规 ', '', '', '96%及以上 ', '') \n",
      "\n",
      "('中年妈妈装夏装套装中老年人女装春装上衣裤子两件套奶奶夏季短袖', 'https://g-search3.alicdn.com/img/bao/uploaded/i4/i2/TB14KeURXXXXXbAXXXXXXXXXXXX_!!0-item_pic.jpg', 'https://detail.tmall.com/item.htm?id=544910394853&ns=1&abbucket=0', 128.0, '12418人付款', '浙江 金华', 'FCH-VB807 ', 'FACHAIHUA/发财花 ', '', '聚酯 ', '2017年夏季 ', '民族风 ', '复古图案 ', '50-59周岁 ', '', '修身 ', '两件套 ', '开衫 ', '常规 ', '', 'V领 ', '常规 ', '单排扣 ', '', '91%(含)-95%(含) ', '口袋 ') \n",
      "\n",
      "('妈妈夏装套装40岁中老年女装春装中年连衣裙两件套母亲节衣服夏季', 'https://g-search3.alicdn.com/img/bao/uploaded/i4/i3/TB1lRM1QpXXXXcwXXXXXXXXXXXX_!!0-item_pic.jpg', 'https://detail.tmall.com/item.htm?id=545899639617&ns=1&abbucket=0', 128.0, '13349人付款', '江苏 苏州', 'KQ-6058 ', '悦薇孔雀 ', '适中 ', '聚酯 ', '2017年春季 ', '时尚 ', '花鸟图案 ', '40-49周岁 ', '七分裤 ', '宽松 ', '两件套 ', '套头 ', '常规 ', '中长款 ', '圆领 ', '', '', '', '91%(含)-95%(含) ', '纱网 ') \n",
      "\n",
      "('中年女妈妈夏装套装短袖t恤雪纺衫中老年套装两件套女母亲节衣服', 'https://g-search3.alicdn.com/img/bao/uploaded/i4/i1/TB1LWRYRXXXXXaiXFXXXXXXXXXX_!!0-item_pic.jpg', 'https://detail.tmall.com/item.htm?id=549612443412&ns=1&abbucket=0', 138.0, '12678人付款', '江苏 苏州', 'MJ-1136 ', '名瑾 ', '薄 ', '聚酯 ', '2017年夏季 ', '时尚 ', '纯色 ', '40-49周岁 ', '七分裤 ', '宽松 ', '两件套 ', '套头 ', '常规 ', '', '圆领 ', '飞飞袖 ', '', '', '91%(含)-95%(含) ', '腰带 ') \n",
      "\n"
     ]
    }
   ],
   "source": [
    "cur = db.cursor()           # 获取游标\n",
    "op = 'SELECT * FROM test LIMIT 5'\n",
    "cur.execute(op)             # 执行操作\n",
    "\n",
    "\n",
    "result = cur.fetchone()     # 取回执行操作的一个结果\n",
    "print(result)\n",
    "\n",
    "print(\"@\"*75)\n",
    "results = cur.fetchall()     # 取回执行操作的所有结果\n",
    "for item in results:\n",
    "    print(item, '\\n')"
   ]
  },
  {
   "cell_type": "markdown",
   "metadata": {},
   "source": [
    "#### 删除"
   ]
  },
  {
   "cell_type": "code",
   "execution_count": 32,
   "metadata": {},
   "outputs": [],
   "source": [
    "# 删除价格低于100的商品\n",
    "\n",
    "op = 'DELETE FROM test WHERE 价格 < 100'\n",
    "cur.execute(op)\n",
    "\n",
    "db.commit()         # 需要主动提交，以保存所至西的语句"
   ]
  },
  {
   "cell_type": "markdown",
   "metadata": {},
   "source": [
    "#### 更新"
   ]
  },
  {
   "cell_type": "code",
   "execution_count": 38,
   "metadata": {},
   "outputs": [],
   "source": [
    "# 把位置“江苏”“浙江”“上海”统一改为“江浙沪”\n",
    "\n",
    "op = 'UPDATE test SET 位置 = %s WHERE 位置 IN (%s,%s,%s)'\n",
    "cur.execute(op, (\"江浙沪\",\"江苏\",\"浙江\",\"上海\"))\n",
    "\n",
    "db.commit()"
   ]
  },
  {
   "cell_type": "markdown",
   "metadata": {},
   "source": [
    "#### 插入"
   ]
  },
  {
   "cell_type": "code",
   "execution_count": 43,
   "metadata": {},
   "outputs": [],
   "source": [
    "op = 'INSERT INTO test(宝贝标题, 价格, 销量, 位置) VALUES (%s,%s,%s,%s)'\n",
    "cur.execute(op, (\"我插入的\", \"298\", \"10000\", \"芜湖起飞地\"))\n",
    "\n",
    "db.commit()"
   ]
  },
  {
   "cell_type": "markdown",
   "metadata": {},
   "source": [
    "### 关闭游标和数据库连接"
   ]
  },
  {
   "cell_type": "code",
   "execution_count": 44,
   "metadata": {},
   "outputs": [],
   "source": [
    "cur.close()\n",
    "db.close()"
   ]
  },
  {
   "cell_type": "markdown",
   "metadata": {},
   "source": [
    "# MyMongoDB"
   ]
  },
  {
   "cell_type": "markdown",
   "metadata": {},
   "source": [
    "### 连接数据库"
   ]
  },
  {
   "cell_type": "code",
   "execution_count": null,
   "metadata": {},
   "outputs": [],
   "source": []
  }
 ],
 "metadata": {
  "interpreter": {
   "hash": "916dbcbb3f70747c44a77c7bcd40155683ae19c65e1c03b4aa3499c5328201f1"
  },
  "kernelspec": {
   "display_name": "Python 3.8.10 64-bit",
   "language": "python",
   "name": "python3"
  },
  "language_info": {
   "codemirror_mode": {
    "name": "ipython",
    "version": 3
   },
   "file_extension": ".py",
   "mimetype": "text/x-python",
   "name": "python",
   "nbconvert_exporter": "python",
   "pygments_lexer": "ipython3",
   "version": "3.8.10"
  },
  "orig_nbformat": 4
 },
 "nbformat": 4,
 "nbformat_minor": 2
}
