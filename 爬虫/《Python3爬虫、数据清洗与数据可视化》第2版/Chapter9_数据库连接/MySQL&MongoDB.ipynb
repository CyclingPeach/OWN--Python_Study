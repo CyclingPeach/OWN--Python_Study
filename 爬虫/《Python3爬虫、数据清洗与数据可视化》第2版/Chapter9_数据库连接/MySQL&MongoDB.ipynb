{
 "cells": [
  {
   "cell_type": "markdown",
   "metadata": {},
   "source": [
    "# PyMysql"
   ]
  },
  {
   "cell_type": "markdown",
   "metadata": {},
   "source": [
    "### 连接数据库"
   ]
  },
  {
   "cell_type": "code",
   "execution_count": 13,
   "metadata": {},
   "outputs": [],
   "source": [
    "import pymysql\n",
    "\n",
    "db = pymysql.connect(\n",
    "    \thost=\"localhost\",\n",
    "    \tport=3306,\n",
    "    \tuser=\"root\",\n",
    "    \tpassword=\"mysql123\",\n",
    "    \tdb=\"taobao\",\n",
    "    \tcharset=\"utf8\"\n",
    ")\n",
    "\n",
    "\n",
    "# fetch\t\t拿来\n",
    "# fetchone(),\tfetchall()\n",
    "# execute\t执行\n",
    "# cursor\t光标，游标"
   ]
  },
  {
   "cell_type": "markdown",
   "metadata": {},
   "source": [
    "### 操作（增删改查）"
   ]
  },
  {
   "cell_type": "markdown",
   "metadata": {},
   "source": [
    "#### 查询"
   ]
  },
  {
   "cell_type": "code",
   "execution_count": 39,
   "metadata": {},
   "outputs": [
    {
     "name": "stdout",
     "output_type": "stream",
     "text": [
      "('妈妈夏装时尚套装中老年人雪纺衫中年女装阔腿裤两件套40岁50衣服', 'https://g-search3.alicdn.com/img/bao/uploaded/i4/i1/TB1UpmwQFXXXXcwXVXXXXXXXXXX_!!0-item_pic.jpg', 'https://detail.tmall.com/item.htm?id=548719889438&ns=1&abbucket=0', 139.0, '18015人付款', '湖北 武汉', 'WSQ17222 ', '薇诗琪 ', '适中 ', '聚酯 ', '2017年夏季 ', '通勤 ', '条纹 ', '40-49周岁 ', '九分裤 ', '宽松 ', '两件套 ', '套头 ', '常规 ', '', '圆领 ', '常规 ', '', '', '96%及以上 ', '口袋 ')\n",
      "@@@@@@@@@@@@@@@@@@@@@@@@@@@@@@@@@@@@@@@@@@@@@@@@@@@@@@@@@@@@@@@@@@@@@@@@@@@\n",
      "('母亲节衣服夏季妈妈夏装中老年女装中年雪纺衫阔腿裤两件套装40岁', 'https://g-search3.alicdn.com/img/bao/uploaded/i4/i4/TB14i1NQVXXXXazXpXXXXXXXXXX_!!0-item_pic.jpg', 'https://detail.tmall.com/item.htm?id=549484743711&ns=1&abbucket=0', 158.0, '15721人付款', '浙江 杭州', 'P722606G0 ', '胖织缘福 ', '薄 ', '聚酯 ', '2017年夏季 ', '休闲 ', '条纹 ', '40-49周岁 ', '长裤 ', '直筒 ', '两件套 ', '套头 ', '常规 ', '', '圆领 ', '常规 ', '', '', '96%及以上 ', '') \n",
      "\n",
      "('中年妈妈装夏装套装中老年人女装春装上衣裤子两件套奶奶夏季短袖', 'https://g-search3.alicdn.com/img/bao/uploaded/i4/i2/TB14KeURXXXXXbAXXXXXXXXXXXX_!!0-item_pic.jpg', 'https://detail.tmall.com/item.htm?id=544910394853&ns=1&abbucket=0', 128.0, '12418人付款', '浙江 金华', 'FCH-VB807 ', 'FACHAIHUA/发财花 ', '', '聚酯 ', '2017年夏季 ', '民族风 ', '复古图案 ', '50-59周岁 ', '', '修身 ', '两件套 ', '开衫 ', '常规 ', '', 'V领 ', '常规 ', '单排扣 ', '', '91%(含)-95%(含) ', '口袋 ') \n",
      "\n",
      "('妈妈夏装套装40岁中老年女装春装中年连衣裙两件套母亲节衣服夏季', 'https://g-search3.alicdn.com/img/bao/uploaded/i4/i3/TB1lRM1QpXXXXcwXXXXXXXXXXXX_!!0-item_pic.jpg', 'https://detail.tmall.com/item.htm?id=545899639617&ns=1&abbucket=0', 128.0, '13349人付款', '江苏 苏州', 'KQ-6058 ', '悦薇孔雀 ', '适中 ', '聚酯 ', '2017年春季 ', '时尚 ', '花鸟图案 ', '40-49周岁 ', '七分裤 ', '宽松 ', '两件套 ', '套头 ', '常规 ', '中长款 ', '圆领 ', '', '', '', '91%(含)-95%(含) ', '纱网 ') \n",
      "\n",
      "('中年女妈妈夏装套装短袖t恤雪纺衫中老年套装两件套女母亲节衣服', 'https://g-search3.alicdn.com/img/bao/uploaded/i4/i1/TB1LWRYRXXXXXaiXFXXXXXXXXXX_!!0-item_pic.jpg', 'https://detail.tmall.com/item.htm?id=549612443412&ns=1&abbucket=0', 138.0, '12678人付款', '江苏 苏州', 'MJ-1136 ', '名瑾 ', '薄 ', '聚酯 ', '2017年夏季 ', '时尚 ', '纯色 ', '40-49周岁 ', '七分裤 ', '宽松 ', '两件套 ', '套头 ', '常规 ', '', '圆领 ', '飞飞袖 ', '', '', '91%(含)-95%(含) ', '腰带 ') \n",
      "\n"
     ]
    }
   ],
   "source": [
    "cur = db.cursor()           # 获取游标\n",
    "op = 'SELECT * FROM test LIMIT 5'\n",
    "cur.execute(op)             # 执行操作\n",
    "\n",
    "\n",
    "result = cur.fetchone()     # 取回执行操作的一个结果\n",
    "print(result)\n",
    "\n",
    "print(\"@\"*75)\n",
    "results = cur.fetchall()     # 取回执行操作的所有结果\n",
    "for item in results:\n",
    "    print(item, '\\n')"
   ]
  },
  {
   "cell_type": "markdown",
   "metadata": {},
   "source": [
    "#### 删除"
   ]
  },
  {
   "cell_type": "code",
   "execution_count": 32,
   "metadata": {},
   "outputs": [],
   "source": [
    "# 删除价格低于100的商品\n",
    "\n",
    "op = 'DELETE FROM test WHERE 价格 < 100'\n",
    "cur.execute(op)\n",
    "\n",
    "db.commit()         # 需要主动提交，以保存所至西的语句"
   ]
  },
  {
   "cell_type": "markdown",
   "metadata": {},
   "source": [
    "#### 更新"
   ]
  },
  {
   "cell_type": "code",
   "execution_count": 38,
   "metadata": {},
   "outputs": [],
   "source": [
    "# 把位置“江苏”“浙江”“上海”统一改为“江浙沪”\n",
    "\n",
    "op = 'UPDATE test SET 位置 = %s WHERE 位置 IN (%s,%s,%s)'\n",
    "cur.execute(op, (\"江浙沪\",\"江苏\",\"浙江\",\"上海\"))\n",
    "\n",
    "db.commit()"
   ]
  },
  {
   "cell_type": "markdown",
   "metadata": {},
   "source": [
    "#### 插入"
   ]
  },
  {
   "cell_type": "code",
   "execution_count": 43,
   "metadata": {},
   "outputs": [],
   "source": [
    "op = 'INSERT INTO test(宝贝标题, 价格, 销量, 位置) VALUES (%s,%s,%s,%s)'\n",
    "cur.execute(op, (\"我插入的\", \"298\", \"10000\", \"芜湖起飞地\"))\n",
    "\n",
    "db.commit()"
   ]
  },
  {
   "cell_type": "markdown",
   "metadata": {},
   "source": [
    "### 关闭游标和数据库连接"
   ]
  },
  {
   "cell_type": "code",
   "execution_count": 44,
   "metadata": {},
   "outputs": [],
   "source": [
    "cur.close()\n",
    "db.close()"
   ]
  },
  {
   "cell_type": "markdown",
   "metadata": {},
   "source": [
    "# MyMongoDB"
   ]
  },
  {
   "cell_type": "markdown",
   "metadata": {},
   "source": [
    "### 连接数据库\n",
    "\n",
    "#### 服务启动\n",
    "`mongod --dbpath /var/lib/mongo --logpath /var/log/mongodb/mongod.log --fork`"
   ]
  },
  {
   "cell_type": "code",
   "execution_count": 84,
   "metadata": {},
   "outputs": [],
   "source": [
    "import pymongo\n",
    "import requests\n",
    "\n",
    "client = pymongo.MongoClient('localhost', 27017)\n",
    "hero = client[\"hero\"]\n",
    "hero_url = hero[\"hero_url\"]"
   ]
  },
  {
   "cell_type": "markdown",
   "metadata": {},
   "source": [
    "### 爬取数据，并存入数据库"
   ]
  },
  {
   "cell_type": "code",
   "execution_count": 86,
   "metadata": {},
   "outputs": [
    {
     "name": "stderr",
     "output_type": "stream",
     "text": [
      "/tmp/ipykernel_131264/1276908512.py:14: DeprecationWarning: insert is deprecated. Use insert_one or insert_many instead.\n",
      "  hero_url.insert(hero_url_dict)\n"
     ]
    }
   ],
   "source": [
    "from bs4 import BeautifulSoup\n",
    "url = 'https://pvp.qq.com/web201605/herolist.shtml'\n",
    "res = requests.get(url)\n",
    "res.encoding='gbk'\n",
    "soup = BeautifulSoup(res.text)\n",
    "\n",
    "selector = 'body > div.wrapper > div > div > div.herolist-box > div.herolist-content > ul > li > a'\n",
    "\n",
    "for item in soup.select(selector=selector):\n",
    "    hero_url_dict = {\n",
    "        'name':item.get_text(),\n",
    "        'url':'https://pvp.qq.com/web201605/'+item.get('href')\n",
    "    }\n",
    "    hero_url.insert(hero_url_dict)"
   ]
  },
  {
   "cell_type": "markdown",
   "metadata": {},
   "source": [
    "> 提示\n",
    "\n",
    "`/tmp/ipykernel_131264/1276908512.py:14: DeprecationWarning: insert is deprecated. Use insert_one or insert_many instead.\n",
    "  hero_url.insert(hero_url_dict)`"
   ]
  },
  {
   "cell_type": "markdown",
   "metadata": {},
   "source": [
    "### 查询数据"
   ]
  },
  {
   "cell_type": "code",
   "execution_count": 1,
   "metadata": {},
   "outputs": [
    {
     "name": "stdout",
     "output_type": "stream",
     "text": [
      "{'_id': ObjectId('626954f1962313962bfc0cf3'), 'name': '云中君', 'url': 'https://pvp.qq.com/web201605/herodetail/506.shtml'}\n",
      "{'_id': ObjectId('626954f1962313962bfc0cf4'), 'name': '瑶', 'url': 'https://pvp.qq.com/web201605/herodetail/505.shtml'}\n",
      "{'_id': ObjectId('626954f1962313962bfc0cf5'), 'name': '盘古', 'url': 'https://pvp.qq.com/web201605/herodetail/529.shtml'}\n",
      "{'_id': ObjectId('626954f1962313962bfc0cf6'), 'name': '猪八戒', 'url': 'https://pvp.qq.com/web201605/herodetail/511.shtml'}\n",
      "{'_id': ObjectId('626954f1962313962bfc0cf7'), 'name': '嫦娥', 'url': 'https://pvp.qq.com/web201605/herodetail/515.shtml'}\n",
      "{'_id': ObjectId('626954f1962313962bfc0cf8'), 'name': '上官婉儿', 'url': 'https://pvp.qq.com/web201605/herodetail/513.shtml'}\n",
      "{'_id': ObjectId('626954f1962313962bfc0cf9'), 'name': '李信', 'url': 'https://pvp.qq.com/web201605/herodetail/507.shtml'}\n",
      "{'_id': ObjectId('626954f1962313962bfc0cfa'), 'name': '沈梦溪', 'url': 'https://pvp.qq.com/web201605/herodetail/312.shtml'}\n",
      "{'_id': ObjectId('626954f1962313962bfc0cfb'), 'name': '伽罗', 'url': 'https://pvp.qq.com/web201605/herodetail/508.shtml'}\n",
      "{'_id': ObjectId('626954f1962313962bfc0cfc'), 'name': '盾山', 'url': 'https://pvp.qq.com/web201605/herodetail/509.shtml'}\n",
      "{'_id': ObjectId('626954f1962313962bfc0cfd'), 'name': '司马懿', 'url': 'https://pvp.qq.com/web201605/herodetail/137.shtml'}\n",
      "{'_id': ObjectId('626954f1962313962bfc0cfe'), 'name': '孙策', 'url': 'https://pvp.qq.com/web201605/herodetail/510.shtml'}\n",
      "{'_id': ObjectId('626954f1962313962bfc0cff'), 'name': '元歌', 'url': 'https://pvp.qq.com/web201605/herodetail/125.shtml'}\n",
      "{'_id': ObjectId('626954f1962313962bfc0d00'), 'name': '米莱狄', 'url': 'https://pvp.qq.com/web201605/herodetail/504.shtml'}\n",
      "{'_id': ObjectId('626954f1962313962bfc0d01'), 'name': '狂铁', 'url': 'https://pvp.qq.com/web201605/herodetail/503.shtml'}\n",
      "{'_id': ObjectId('626954f1962313962bfc0d02'), 'name': '弈星', 'url': 'https://pvp.qq.com/web201605/herodetail/197.shtml'}\n",
      "{'_id': ObjectId('626954f1962313962bfc0d03'), 'name': '裴擒虎', 'url': 'https://pvp.qq.com/web201605/herodetail/502.shtml'}\n",
      "{'_id': ObjectId('626954f1962313962bfc0d04'), 'name': '杨玉环', 'url': 'https://pvp.qq.com/web201605/herodetail/176.shtml'}\n",
      "{'_id': ObjectId('626954f1962313962bfc0d05'), 'name': '公孙离', 'url': 'https://pvp.qq.com/web201605/herodetail/199.shtml'}\n",
      "{'_id': ObjectId('626954f1962313962bfc0d06'), 'name': '明世隐', 'url': 'https://pvp.qq.com/web201605/herodetail/501.shtml'}\n",
      "{'_id': ObjectId('626954f1962313962bfc0d07'), 'name': '女娲', 'url': 'https://pvp.qq.com/web201605/herodetail/179.shtml'}\n",
      "{'_id': ObjectId('626954f1962313962bfc0d08'), 'name': '梦奇', 'url': 'https://pvp.qq.com/web201605/herodetail/198.shtml'}\n",
      "{'_id': ObjectId('626954f1962313962bfc0d09'), 'name': '苏烈', 'url': 'https://pvp.qq.com/web201605/herodetail/194.shtml'}\n",
      "{'_id': ObjectId('626954f1962313962bfc0d0a'), 'name': '百里玄策', 'url': 'https://pvp.qq.com/web201605/herodetail/195.shtml'}\n",
      "{'_id': ObjectId('626954f1962313962bfc0d0b'), 'name': '百里守约', 'url': 'https://pvp.qq.com/web201605/herodetail/196.shtml'}\n",
      "{'_id': ObjectId('626954f1962313962bfc0d0c'), 'name': '铠', 'url': 'https://pvp.qq.com/web201605/herodetail/193.shtml'}\n",
      "{'_id': ObjectId('626954f1962313962bfc0d0d'), 'name': '鬼谷子', 'url': 'https://pvp.qq.com/web201605/herodetail/189.shtml'}\n",
      "{'_id': ObjectId('626954f1962313962bfc0d0e'), 'name': '干将莫邪', 'url': 'https://pvp.qq.com/web201605/herodetail/182.shtml'}\n",
      "{'_id': ObjectId('626954f1962313962bfc0d0f'), 'name': '东皇太一', 'url': 'https://pvp.qq.com/web201605/herodetail/187.shtml'}\n",
      "{'_id': ObjectId('626954f1962313962bfc0d10'), 'name': '大乔', 'url': 'https://pvp.qq.com/web201605/herodetail/191.shtml'}\n",
      "{'_id': ObjectId('626954f1962313962bfc0d11'), 'name': '黄忠', 'url': 'https://pvp.qq.com/web201605/herodetail/192.shtml'}\n",
      "{'_id': ObjectId('626954f1962313962bfc0d12'), 'name': '诸葛亮', 'url': 'https://pvp.qq.com/web201605/herodetail/190.shtml'}\n",
      "{'_id': ObjectId('626954f1962313962bfc0d13'), 'name': '哪吒', 'url': 'https://pvp.qq.com/web201605/herodetail/180.shtml'}\n",
      "{'_id': ObjectId('626954f1962313962bfc0d14'), 'name': '太乙真人', 'url': 'https://pvp.qq.com/web201605/herodetail/186.shtml'}\n",
      "{'_id': ObjectId('626954f1962313962bfc0d15'), 'name': '蔡文姬', 'url': 'https://pvp.qq.com/web201605/herodetail/184.shtml'}\n",
      "{'_id': ObjectId('626954f1962313962bfc0d16'), 'name': '雅典娜', 'url': 'https://pvp.qq.com/web201605/herodetail/183.shtml'}\n",
      "{'_id': ObjectId('626954f1962313962bfc0d17'), 'name': '杨戬', 'url': 'https://pvp.qq.com/web201605/herodetail/178.shtml'}\n",
      "{'_id': ObjectId('626954f1962313962bfc0d18'), 'name': '成吉思汗', 'url': 'https://pvp.qq.com/web201605/herodetail/177.shtml'}\n",
      "{'_id': ObjectId('626954f1962313962bfc0d19'), 'name': '钟馗', 'url': 'https://pvp.qq.com/web201605/herodetail/175.shtml'}\n",
      "{'_id': ObjectId('626954f1962313962bfc0d1a'), 'name': '虞姬', 'url': 'https://pvp.qq.com/web201605/herodetail/174.shtml'}\n",
      "{'_id': ObjectId('626954f1962313962bfc0d1b'), 'name': '李元芳', 'url': 'https://pvp.qq.com/web201605/herodetail/173.shtml'}\n",
      "{'_id': ObjectId('626954f1962313962bfc0d1c'), 'name': '张飞', 'url': 'https://pvp.qq.com/web201605/herodetail/171.shtml'}\n",
      "{'_id': ObjectId('626954f1962313962bfc0d1d'), 'name': '刘备', 'url': 'https://pvp.qq.com/web201605/herodetail/170.shtml'}\n",
      "{'_id': ObjectId('626954f1962313962bfc0d1e'), 'name': '后羿', 'url': 'https://pvp.qq.com/web201605/herodetail/169.shtml'}\n",
      "{'_id': ObjectId('626954f1962313962bfc0d1f'), 'name': '牛魔', 'url': 'https://pvp.qq.com/web201605/herodetail/168.shtml'}\n",
      "{'_id': ObjectId('626954f1962313962bfc0d20'), 'name': '孙悟空', 'url': 'https://pvp.qq.com/web201605/herodetail/167.shtml'}\n",
      "{'_id': ObjectId('626954f1962313962bfc0d21'), 'name': '亚瑟', 'url': 'https://pvp.qq.com/web201605/herodetail/166.shtml'}\n",
      "{'_id': ObjectId('626954f1962313962bfc0d22'), 'name': '橘右京', 'url': 'https://pvp.qq.com/web201605/herodetail/163.shtml'}\n",
      "{'_id': ObjectId('626954f1962313962bfc0d23'), 'name': '娜可露露', 'url': 'https://pvp.qq.com/web201605/herodetail/162.shtml'}\n",
      "{'_id': ObjectId('626954f1962313962bfc0d24'), 'name': '不知火舞', 'url': 'https://pvp.qq.com/web201605/herodetail/157.shtml'}\n",
      "{'_id': ObjectId('626954f1962313962bfc0d25'), 'name': '张良', 'url': 'https://pvp.qq.com/web201605/herodetail/156.shtml'}\n",
      "{'_id': ObjectId('626954f1962313962bfc0d26'), 'name': '花木兰', 'url': 'https://pvp.qq.com/web201605/herodetail/154.shtml'}\n",
      "{'_id': ObjectId('626954f1962313962bfc0d27'), 'name': '兰陵王', 'url': 'https://pvp.qq.com/web201605/herodetail/153.shtml'}\n",
      "{'_id': ObjectId('626954f1962313962bfc0d28'), 'name': '王昭君', 'url': 'https://pvp.qq.com/web201605/herodetail/152.shtml'}\n",
      "{'_id': ObjectId('626954f1962313962bfc0d29'), 'name': '韩信', 'url': 'https://pvp.qq.com/web201605/herodetail/150.shtml'}\n",
      "{'_id': ObjectId('626954f1962313962bfc0d2a'), 'name': '刘邦', 'url': 'https://pvp.qq.com/web201605/herodetail/149.shtml'}\n",
      "{'_id': ObjectId('626954f1962313962bfc0d2b'), 'name': '姜子牙', 'url': 'https://pvp.qq.com/web201605/herodetail/148.shtml'}\n",
      "{'_id': ObjectId('626954f1962313962bfc0d2c'), 'name': '露娜', 'url': 'https://pvp.qq.com/web201605/herodetail/146.shtml'}\n",
      "{'_id': ObjectId('626954f1962313962bfc0d2d'), 'name': '程咬金', 'url': 'https://pvp.qq.com/web201605/herodetail/144.shtml'}\n",
      "{'_id': ObjectId('626954f1962313962bfc0d2e'), 'name': '安琪拉', 'url': 'https://pvp.qq.com/web201605/herodetail/142.shtml'}\n",
      "{'_id': ObjectId('626954f1962313962bfc0d2f'), 'name': '貂蝉', 'url': 'https://pvp.qq.com/web201605/herodetail/141.shtml'}\n",
      "{'_id': ObjectId('626954f1962313962bfc0d30'), 'name': '关羽', 'url': 'https://pvp.qq.com/web201605/herodetail/140.shtml'}\n",
      "{'_id': ObjectId('626954f1962313962bfc0d31'), 'name': '老夫子', 'url': 'https://pvp.qq.com/web201605/herodetail/139.shtml'}\n",
      "{'_id': ObjectId('626954f1962313962bfc0d32'), 'name': '武则天', 'url': 'https://pvp.qq.com/web201605/herodetail/136.shtml'}\n",
      "{'_id': ObjectId('626954f1962313962bfc0d33'), 'name': '项羽', 'url': 'https://pvp.qq.com/web201605/herodetail/135.shtml'}\n",
      "{'_id': ObjectId('626954f1962313962bfc0d34'), 'name': '达摩', 'url': 'https://pvp.qq.com/web201605/herodetail/134.shtml'}\n",
      "{'_id': ObjectId('626954f1962313962bfc0d35'), 'name': '狄仁杰', 'url': 'https://pvp.qq.com/web201605/herodetail/133.shtml'}\n",
      "{'_id': ObjectId('626954f1962313962bfc0d36'), 'name': '马可波罗', 'url': 'https://pvp.qq.com/web201605/herodetail/132.shtml'}\n",
      "{'_id': ObjectId('626954f1962313962bfc0d37'), 'name': '李白', 'url': 'https://pvp.qq.com/web201605/herodetail/131.shtml'}\n",
      "{'_id': ObjectId('626954f1962313962bfc0d38'), 'name': '宫本武藏', 'url': 'https://pvp.qq.com/web201605/herodetail/130.shtml'}\n",
      "{'_id': ObjectId('626954f1962313962bfc0d39'), 'name': '典韦', 'url': 'https://pvp.qq.com/web201605/herodetail/129.shtml'}\n",
      "{'_id': ObjectId('626954f1962313962bfc0d3a'), 'name': '曹操', 'url': 'https://pvp.qq.com/web201605/herodetail/128.shtml'}\n",
      "{'_id': ObjectId('626954f1962313962bfc0d3b'), 'name': '甄姬', 'url': 'https://pvp.qq.com/web201605/herodetail/127.shtml'}\n",
      "{'_id': ObjectId('626954f1962313962bfc0d3c'), 'name': '夏侯惇', 'url': 'https://pvp.qq.com/web201605/herodetail/126.shtml'}\n",
      "{'_id': ObjectId('626954f1962313962bfc0d3d'), 'name': '周瑜', 'url': 'https://pvp.qq.com/web201605/herodetail/124.shtml'}\n",
      "{'_id': ObjectId('626954f1962313962bfc0d3e'), 'name': '吕布', 'url': 'https://pvp.qq.com/web201605/herodetail/123.shtml'}\n",
      "{'_id': ObjectId('626954f1962313962bfc0d3f'), 'name': '芈月', 'url': 'https://pvp.qq.com/web201605/herodetail/121.shtml'}\n",
      "{'_id': ObjectId('626954f1962313962bfc0d40'), 'name': '白起', 'url': 'https://pvp.qq.com/web201605/herodetail/120.shtml'}\n",
      "{'_id': ObjectId('626954f1962313962bfc0d41'), 'name': '扁鹊', 'url': 'https://pvp.qq.com/web201605/herodetail/119.shtml'}\n",
      "{'_id': ObjectId('626954f1962313962bfc0d42'), 'name': '孙膑', 'url': 'https://pvp.qq.com/web201605/herodetail/118.shtml'}\n",
      "{'_id': ObjectId('626954f1962313962bfc0d43'), 'name': '钟无艳', 'url': 'https://pvp.qq.com/web201605/herodetail/117.shtml'}\n",
      "{'_id': ObjectId('626954f1962313962bfc0d44'), 'name': '阿轲', 'url': 'https://pvp.qq.com/web201605/herodetail/116.shtml'}\n",
      "{'_id': ObjectId('626954f1962313962bfc0d45'), 'name': '高渐离', 'url': 'https://pvp.qq.com/web201605/herodetail/115.shtml'}\n",
      "{'_id': ObjectId('626954f1962313962bfc0d46'), 'name': '刘禅', 'url': 'https://pvp.qq.com/web201605/herodetail/114.shtml'}\n",
      "{'_id': ObjectId('626954f1962313962bfc0d47'), 'name': '庄周', 'url': 'https://pvp.qq.com/web201605/herodetail/113.shtml'}\n",
      "{'_id': ObjectId('626954f1962313962bfc0d48'), 'name': '鲁班七号', 'url': 'https://pvp.qq.com/web201605/herodetail/112.shtml'}\n",
      "{'_id': ObjectId('626954f1962313962bfc0d49'), 'name': '孙尚香', 'url': 'https://pvp.qq.com/web201605/herodetail/111.shtml'}\n",
      "{'_id': ObjectId('626954f1962313962bfc0d4a'), 'name': '嬴政', 'url': 'https://pvp.qq.com/web201605/herodetail/110.shtml'}\n",
      "{'_id': ObjectId('626954f1962313962bfc0d4b'), 'name': '妲己', 'url': 'https://pvp.qq.com/web201605/herodetail/109.shtml'}\n",
      "{'_id': ObjectId('626954f1962313962bfc0d4c'), 'name': '墨子', 'url': 'https://pvp.qq.com/web201605/herodetail/108.shtml'}\n",
      "{'_id': ObjectId('626954f1962313962bfc0d4d'), 'name': '赵云', 'url': 'https://pvp.qq.com/web201605/herodetail/107.shtml'}\n",
      "{'_id': ObjectId('626954f1962313962bfc0d4e'), 'name': '小乔', 'url': 'https://pvp.qq.com/web201605/herodetail/106.shtml'}\n",
      "{'_id': ObjectId('626954f1962313962bfc0d4f'), 'name': '廉颇', 'url': 'https://pvp.qq.com/web201605/herodetail/105.shtml'}\n"
     ]
    }
   ],
   "source": [
    "import pymongo\n",
    "\n",
    "client = pymongo.MongoClient('localhost', 27017)\n",
    "\n",
    "hero_db = client['hero']\n",
    "hero_col = hero_db['hero_url']\n",
    "\n",
    "for item in hero_col.find():\n",
    "    print(item)"
   ]
  }
 ],
 "metadata": {
  "interpreter": {
   "hash": "916dbcbb3f70747c44a77c7bcd40155683ae19c65e1c03b4aa3499c5328201f1"
  },
  "kernelspec": {
   "display_name": "Python 3.8.10 64-bit",
   "language": "python",
   "name": "python3"
  },
  "language_info": {
   "codemirror_mode": {
    "name": "ipython",
    "version": 3
   },
   "file_extension": ".py",
   "mimetype": "text/x-python",
   "name": "python",
   "nbconvert_exporter": "python",
   "pygments_lexer": "ipython3",
   "version": "3.8.10"
  },
  "orig_nbformat": 4
 },
 "nbformat": 4,
 "nbformat_minor": 2
}
