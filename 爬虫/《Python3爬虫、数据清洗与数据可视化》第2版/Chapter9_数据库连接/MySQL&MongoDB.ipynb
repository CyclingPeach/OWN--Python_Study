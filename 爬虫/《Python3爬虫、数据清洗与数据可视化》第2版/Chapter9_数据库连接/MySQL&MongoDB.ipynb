{
 "cells": [
  {
   "cell_type": "markdown",
   "metadata": {},
   "source": [
    "# PyMysql"
   ]
  },
  {
   "cell_type": "markdown",
   "metadata": {},
   "source": [
    "### 连接数据库"
   ]
  },
  {
   "cell_type": "code",
   "execution_count": 13,
   "metadata": {},
   "outputs": [],
   "source": [
    "import pymysql\n",
    "\n",
    "db = pymysql.connect(\n",
    "    \thost=\"localhost\",\n",
    "    \tport=3306,\n",
    "    \tuser=\"root\",\n",
    "    \tpassword=\"mysql123\",\n",
    "    \tdb=\"taobao\",\n",
    "    \tcharset=\"utf8\"\n",
    ")\n",
    "\n",
    "\n",
    "# fetch\t\t拿来\n",
    "# fetchone(),\tfetchall()\n",
    "# execute\t执行\n",
    "# cursor\t光标，游标"
   ]
  },
  {
   "cell_type": "markdown",
   "metadata": {},
   "source": [
    "### 操作（增删改查）"
   ]
  },
  {
   "cell_type": "markdown",
   "metadata": {},
   "source": [
    "#### 查询"
   ]
  },
  {
   "cell_type": "code",
   "execution_count": 39,
   "metadata": {},
   "outputs": [
    {
     "name": "stdout",
     "output_type": "stream",
     "text": [
      "('妈妈夏装时尚套装中老年人雪纺衫中年女装阔腿裤两件套40岁50衣服', 'https://g-search3.alicdn.com/img/bao/uploaded/i4/i1/TB1UpmwQFXXXXcwXVXXXXXXXXXX_!!0-item_pic.jpg', 'https://detail.tmall.com/item.htm?id=548719889438&ns=1&abbucket=0', 139.0, '18015人付款', '湖北 武汉', 'WSQ17222 ', '薇诗琪 ', '适中 ', '聚酯 ', '2017年夏季 ', '通勤 ', '条纹 ', '40-49周岁 ', '九分裤 ', '宽松 ', '两件套 ', '套头 ', '常规 ', '', '圆领 ', '常规 ', '', '', '96%及以上 ', '口袋 ')\n",
      "@@@@@@@@@@@@@@@@@@@@@@@@@@@@@@@@@@@@@@@@@@@@@@@@@@@@@@@@@@@@@@@@@@@@@@@@@@@\n",
      "('母亲节衣服夏季妈妈夏装中老年女装中年雪纺衫阔腿裤两件套装40岁', 'https://g-search3.alicdn.com/img/bao/uploaded/i4/i4/TB14i1NQVXXXXazXpXXXXXXXXXX_!!0-item_pic.jpg', 'https://detail.tmall.com/item.htm?id=549484743711&ns=1&abbucket=0', 158.0, '15721人付款', '浙江 杭州', 'P722606G0 ', '胖织缘福 ', '薄 ', '聚酯 ', '2017年夏季 ', '休闲 ', '条纹 ', '40-49周岁 ', '长裤 ', '直筒 ', '两件套 ', '套头 ', '常规 ', '', '圆领 ', '常规 ', '', '', '96%及以上 ', '') \n",
      "\n",
      "('中年妈妈装夏装套装中老年人女装春装上衣裤子两件套奶奶夏季短袖', 'https://g-search3.alicdn.com/img/bao/uploaded/i4/i2/TB14KeURXXXXXbAXXXXXXXXXXXX_!!0-item_pic.jpg', 'https://detail.tmall.com/item.htm?id=544910394853&ns=1&abbucket=0', 128.0, '12418人付款', '浙江 金华', 'FCH-VB807 ', 'FACHAIHUA/发财花 ', '', '聚酯 ', '2017年夏季 ', '民族风 ', '复古图案 ', '50-59周岁 ', '', '修身 ', '两件套 ', '开衫 ', '常规 ', '', 'V领 ', '常规 ', '单排扣 ', '', '91%(含)-95%(含) ', '口袋 ') \n",
      "\n",
      "('妈妈夏装套装40岁中老年女装春装中年连衣裙两件套母亲节衣服夏季', 'https://g-search3.alicdn.com/img/bao/uploaded/i4/i3/TB1lRM1QpXXXXcwXXXXXXXXXXXX_!!0-item_pic.jpg', 'https://detail.tmall.com/item.htm?id=545899639617&ns=1&abbucket=0', 128.0, '13349人付款', '江苏 苏州', 'KQ-6058 ', '悦薇孔雀 ', '适中 ', '聚酯 ', '2017年春季 ', '时尚 ', '花鸟图案 ', '40-49周岁 ', '七分裤 ', '宽松 ', '两件套 ', '套头 ', '常规 ', '中长款 ', '圆领 ', '', '', '', '91%(含)-95%(含) ', '纱网 ') \n",
      "\n",
      "('中年女妈妈夏装套装短袖t恤雪纺衫中老年套装两件套女母亲节衣服', 'https://g-search3.alicdn.com/img/bao/uploaded/i4/i1/TB1LWRYRXXXXXaiXFXXXXXXXXXX_!!0-item_pic.jpg', 'https://detail.tmall.com/item.htm?id=549612443412&ns=1&abbucket=0', 138.0, '12678人付款', '江苏 苏州', 'MJ-1136 ', '名瑾 ', '薄 ', '聚酯 ', '2017年夏季 ', '时尚 ', '纯色 ', '40-49周岁 ', '七分裤 ', '宽松 ', '两件套 ', '套头 ', '常规 ', '', '圆领 ', '飞飞袖 ', '', '', '91%(含)-95%(含) ', '腰带 ') \n",
      "\n"
     ]
    }
   ],
   "source": [
    "cur = db.cursor()           # 获取游标\n",
    "op = 'SELECT * FROM test LIMIT 5'\n",
    "cur.execute(op)             # 执行操作\n",
    "\n",
    "\n",
    "result = cur.fetchone()     # 取回执行操作的一个结果\n",
    "print(result)\n",
    "\n",
    "print(\"@\"*75)\n",
    "results = cur.fetchall()     # 取回执行操作的所有结果\n",
    "for item in results:\n",
    "    print(item, '\\n')"
   ]
  },
  {
   "cell_type": "markdown",
   "metadata": {},
   "source": [
    "#### 删除"
   ]
  },
  {
   "cell_type": "code",
   "execution_count": 32,
   "metadata": {},
   "outputs": [],
   "source": [
    "# 删除价格低于100的商品\n",
    "\n",
    "op = 'DELETE FROM test WHERE 价格 < 100'\n",
    "cur.execute(op)\n",
    "\n",
    "db.commit()         # 需要主动提交，以保存所至西的语句"
   ]
  },
  {
   "cell_type": "markdown",
   "metadata": {},
   "source": [
    "#### 更新"
   ]
  },
  {
   "cell_type": "code",
   "execution_count": 38,
   "metadata": {},
   "outputs": [],
   "source": [
    "# 把位置“江苏”“浙江”“上海”统一改为“江浙沪”\n",
    "\n",
    "op = 'UPDATE test SET 位置 = %s WHERE 位置 IN (%s,%s,%s)'\n",
    "cur.execute(op, (\"江浙沪\",\"江苏\",\"浙江\",\"上海\"))\n",
    "\n",
    "db.commit()"
   ]
  },
  {
   "cell_type": "markdown",
   "metadata": {},
   "source": [
    "#### 插入"
   ]
  },
  {
   "cell_type": "code",
   "execution_count": 43,
   "metadata": {},
   "outputs": [],
   "source": [
    "op = 'INSERT INTO test(宝贝标题, 价格, 销量, 位置) VALUES (%s,%s,%s,%s)'\n",
    "cur.execute(op, (\"我插入的\", \"298\", \"10000\", \"芜湖起飞地\"))\n",
    "\n",
    "db.commit()"
   ]
  },
  {
   "cell_type": "markdown",
   "metadata": {},
   "source": [
    "### 关闭游标和数据库连接"
   ]
  },
  {
   "cell_type": "code",
   "execution_count": 44,
   "metadata": {},
   "outputs": [],
   "source": [
    "cur.close()\n",
    "db.close()"
   ]
  },
  {
   "cell_type": "markdown",
   "metadata": {},
   "source": [
    "# MyMongoDB"
   ]
  },
  {
   "cell_type": "markdown",
   "metadata": {},
   "source": [
    "### 连接数据库\n",
    "\n",
    "#### 服务启动\n",
    "`mongod --dbpath /var/lib/mongo --logpath /var/log/mongodb/mongod.log --fork`"
   ]
  },
  {
   "cell_type": "code",
   "execution_count": 84,
   "metadata": {},
   "outputs": [],
   "source": [
    "import pymongo\n",
    "import requests\n",
    "\n",
    "client = pymongo.MongoClient('localhost', 27017)\n",
    "hero = client[\"hero\"]\n",
    "hero_url = hero[\"hero_url\"]"
   ]
  },
  {
   "cell_type": "markdown",
   "metadata": {},
   "source": [
    "### 爬取数据，并存入数据库"
   ]
  },
  {
   "cell_type": "code",
   "execution_count": 86,
   "metadata": {},
   "outputs": [
    {
     "name": "stderr",
     "output_type": "stream",
     "text": [
      "/tmp/ipykernel_131264/1276908512.py:14: DeprecationWarning: insert is deprecated. Use insert_one or insert_many instead.\n",
      "  hero_url.insert(hero_url_dict)\n"
     ]
    }
   ],
   "source": [
    "from bs4 import BeautifulSoup\n",
    "url = 'https://pvp.qq.com/web201605/herolist.shtml'\n",
    "res = requests.get(url)\n",
    "res.encoding='gbk'\n",
    "soup = BeautifulSoup(res.text)\n",
    "\n",
    "selector = 'body > div.wrapper > div > div > div.herolist-box > div.herolist-content > ul > li > a'\n",
    "print(len(soup.select(selector=selector)))\n",
    "\n",
    "for item in soup.select(selector=selector):\n",
    "    hero_url_dict = {\n",
    "        'name':item.get_text(),\n",
    "        'url':'https://pvp.qq.com/web201605/'+item.get('href')\n",
    "    }\n",
    "    hero_url.insert(hero_url_dict)"
   ]
  },
  {
   "cell_type": "markdown",
   "metadata": {},
   "source": [
    "> 提示\n",
    "\n",
    "`/tmp/ipykernel_131264/1276908512.py:14: DeprecationWarning: insert is deprecated. Use insert_one or insert_many instead.\n",
    "  hero_url.insert(hero_url_dict)`"
   ]
  },
  {
   "cell_type": "markdown",
   "metadata": {},
   "source": [
    "### 一些问题\n",
    "\n",
    "> 为什么只爬了93个英雄数据呢\n",
    "\n",
    "> 尝试将英雄的ID作为一个字段存入数据库"
   ]
  },
  {
   "cell_type": "code",
   "execution_count": 35,
   "metadata": {},
   "outputs": [
    {
     "name": "stderr",
     "output_type": "stream",
     "text": [
      "/tmp/ipykernel_150084/1458080396.py:7: DeprecationWarning: count is deprecated. Use Collection.count_documents instead.\n",
      "  hero_col.find().count()\n"
     ]
    },
    {
     "data": {
      "text/plain": [
       "93"
      ]
     },
     "execution_count": 35,
     "metadata": {},
     "output_type": "execute_result"
    }
   ],
   "source": [
    "import pymongo\n",
    "\n",
    "client = pymongo.MongoClient('localhost', 27017)\n",
    "hero_db = client['hero']\n",
    "hero_col = hero_db['hero_url']\n",
    "\n",
    "hero_col.find().count()"
   ]
  },
  {
   "cell_type": "code",
   "execution_count": 39,
   "metadata": {},
   "outputs": [
    {
     "data": {
      "text/plain": [
       "<a href=\"herodetail/506.shtml\" target=\"_blank\"><img alt=\"云中君\" height=\"91\" src=\"//game.gtimg.cn/images/yxzj/img201606/heroimg/506/506.jpg\" width=\"91\"/>云中君</a>"
      ]
     },
     "execution_count": 39,
     "metadata": {},
     "output_type": "execute_result"
    }
   ],
   "source": [
    "selector = 'body > div.wrapper > div > div > div.herolist-box > div.herolist-content > ul > li > a'\n",
    "a = soup.select(selector=selector)\n",
    "b = a[0]\n",
    "b"
   ]
  },
  {
   "cell_type": "code",
   "execution_count": 50,
   "metadata": {},
   "outputs": [
    {
     "data": {
      "text/plain": [
       "<img alt=\"云中君\" height=\"91\" src=\"//game.gtimg.cn/images/yxzj/img201606/heroimg/506/506.jpg\" width=\"91\"/>"
      ]
     },
     "execution_count": 50,
     "metadata": {},
     "output_type": "execute_result"
    }
   ],
   "source": [
    "selector = 'a > img'\n",
    "c = b.select(selector=selector)\n",
    "c[0]"
   ]
  },
  {
   "cell_type": "code",
   "execution_count": 55,
   "metadata": {},
   "outputs": [
    {
     "data": {
      "text/plain": [
       "'//game.gtimg.cn/images/yxzj/img201606/heroimg/506/506.jpg'"
      ]
     },
     "execution_count": 55,
     "metadata": {},
     "output_type": "execute_result"
    }
   ],
   "source": [
    "c[0].get('src')"
   ]
  },
  {
   "cell_type": "code",
   "execution_count": 53,
   "metadata": {},
   "outputs": [
    {
     "data": {
      "text/plain": [
       "'_blank'"
      ]
     },
     "execution_count": 53,
     "metadata": {},
     "output_type": "execute_result"
    }
   ],
   "source": [
    "b.get('target')"
   ]
  },
  {
   "cell_type": "code",
   "execution_count": 45,
   "metadata": {},
   "outputs": [
    {
     "data": {
      "text/plain": [
       "506"
      ]
     },
     "execution_count": 45,
     "metadata": {},
     "output_type": "execute_result"
    }
   ],
   "source": [
    "int(a[0].get('href').split('/')[-1].split('.')[0])"
   ]
  },
  {
   "cell_type": "code",
   "execution_count": 54,
   "metadata": {},
   "outputs": [
    {
     "data": {
      "text/plain": [
       "'云中君'"
      ]
     },
     "execution_count": 54,
     "metadata": {},
     "output_type": "execute_result"
    }
   ],
   "source": [
    "b.get_text()"
   ]
  },
  {
   "cell_type": "markdown",
   "metadata": {},
   "source": [
    "### 尝试重新存储\n",
    "\n",
    "> lxml可以同时使用CSS选择器和Xpath选择器"
   ]
  },
  {
   "cell_type": "code",
   "execution_count": 236,
   "metadata": {},
   "outputs": [
    {
     "name": "stdout",
     "output_type": "stream",
     "text": [
      "英雄数量 109\n"
     ]
    }
   ],
   "source": []
  },
  {
   "cell_type": "code",
   "execution_count": 252,
   "metadata": {},
   "outputs": [
    {
     "name": "stdout",
     "output_type": "stream",
     "text": [
      "跳过\n",
      "再次跳过\n",
      "结束\n"
     ]
    },
    {
     "name": "stderr",
     "output_type": "stream",
     "text": [
      "/tmp/ipykernel_150084/1858783224.py:8: DeprecationWarning: count is deprecated. Use Collection.count_documents instead.\n",
      "  if hero_general_info.find().count() == 109:\n"
     ]
    }
   ],
   "source": [
    "import pymongo\n",
    "import requests\n",
    "\n",
    "client = pymongo.MongoClient('localhost', 27017)\n",
    "hero_db = client['Honor_of_Kings']\n",
    "hero_general_info = hero_db['hero_general_info']\n",
    "\n",
    "if hero_general_info.find().count() == 109:\n",
    "    print(\"跳过\")\n",
    "    pass\n",
    "    print(\"再次跳过\")\n",
    "else:\n",
    "    print(\"重新插入\")\n",
    "    hero_general_info.delete_many({})\n",
    "    url = 'https://pvp.qq.com/web201605/js/herolist.json'\n",
    "    res = requests.get(url)\n",
    "    print(\"英雄数量\", len(res.json()))\n",
    "    for item in res.json():\n",
    "        hero_types = ['战士','法师','坦克','刺客','射手','辅助']\n",
    "        hero_info = {\n",
    "            'ename':item['ename'],\n",
    "            'cname':item['cname'],\n",
    "            'type':item['hero_type'],\n",
    "            'type_name':hero_types[item['hero_type']-1],\n",
    "            'new_type':item['new_type'],\n",
    "            'url':'https://pvp.qq.com/web201605/herodetail/' + str(item['ename']) + '.shtml'\n",
    "        }\n",
    "        hero_general_info.insert_one(hero_info)\n",
    "print(\"结束\")"
   ]
  },
  {
   "cell_type": "code",
   "execution_count": 250,
   "metadata": {},
   "outputs": [
    {
     "data": {
      "text/plain": [
       "<pymongo.results.DeleteResult at 0x7fe4a9dbbe40>"
      ]
     },
     "execution_count": 250,
     "metadata": {},
     "output_type": "execute_result"
    }
   ],
   "source": [
    "import pymongo\n",
    "\n",
    "client = pymongo.MongoClient('localhost', 27017)\n",
    "hero_db = client['Honor_of_Kings']\n",
    "hero_general_info = hero_db['hero_general_info']\n",
    "\n",
    "hero_general_info.delete_many({})"
   ]
  },
  {
   "cell_type": "markdown",
   "metadata": {},
   "source": [
    "#### xpath的一些用法"
   ]
  },
  {
   "cell_type": "code",
   "execution_count": 188,
   "metadata": {},
   "outputs": [
    {
     "data": {
      "text/plain": [
       "['云中君',\n",
       " '瑶',\n",
       " '盘古',\n",
       " '猪八戒',\n",
       " '嫦娥',\n",
       " '上官婉儿',\n",
       " '李信',\n",
       " '沈梦溪',\n",
       " '伽罗',\n",
       " '盾山',\n",
       " '司马懿',\n",
       " '孙策',\n",
       " '元歌',\n",
       " '米莱狄',\n",
       " '狂铁',\n",
       " '弈星',\n",
       " '裴擒虎',\n",
       " '杨玉环',\n",
       " '公孙离',\n",
       " '明世隐',\n",
       " '女娲',\n",
       " '梦奇',\n",
       " '苏烈',\n",
       " '百里玄策',\n",
       " '百里守约',\n",
       " '铠',\n",
       " '鬼谷子',\n",
       " '干将莫邪',\n",
       " '东皇太一',\n",
       " '大乔',\n",
       " '黄忠',\n",
       " '诸葛亮',\n",
       " '哪吒',\n",
       " '太乙真人',\n",
       " '蔡文姬',\n",
       " '雅典娜',\n",
       " '杨戬',\n",
       " '成吉思汗',\n",
       " '钟馗',\n",
       " '虞姬',\n",
       " '李元芳',\n",
       " '张飞',\n",
       " '刘备',\n",
       " '后羿',\n",
       " '牛魔',\n",
       " '孙悟空',\n",
       " '亚瑟',\n",
       " '橘右京',\n",
       " '娜可露露',\n",
       " '不知火舞',\n",
       " '张良',\n",
       " '花木兰',\n",
       " '兰陵王',\n",
       " '王昭君',\n",
       " '韩信',\n",
       " '刘邦',\n",
       " '姜子牙',\n",
       " '露娜',\n",
       " '程咬金',\n",
       " '安琪拉',\n",
       " '貂蝉',\n",
       " '关羽',\n",
       " '老夫子',\n",
       " '武则天',\n",
       " '项羽',\n",
       " '达摩',\n",
       " '狄仁杰',\n",
       " '马可波罗',\n",
       " '李白',\n",
       " '宫本武藏',\n",
       " '典韦',\n",
       " '曹操',\n",
       " '甄姬',\n",
       " '夏侯惇',\n",
       " '周瑜',\n",
       " '吕布',\n",
       " '芈月',\n",
       " '白起',\n",
       " '扁鹊',\n",
       " '孙膑',\n",
       " '钟无艳',\n",
       " '阿轲',\n",
       " '高渐离',\n",
       " '刘禅',\n",
       " '庄周',\n",
       " '鲁班七号',\n",
       " '孙尚香',\n",
       " '嬴政',\n",
       " '妲己',\n",
       " '墨子',\n",
       " '赵云',\n",
       " '小乔',\n",
       " '廉颇']"
      ]
     },
     "execution_count": 188,
     "metadata": {},
     "output_type": "execute_result"
    }
   ],
   "source": [
    "tree.xpath('//*[@class=\"herolist clearfix\"]/li//text()')"
   ]
  },
  {
   "cell_type": "code",
   "execution_count": 183,
   "metadata": {},
   "outputs": [
    {
     "data": {
      "text/plain": [
       "['云中君',\n",
       " '瑶',\n",
       " '盘古',\n",
       " '猪八戒',\n",
       " '嫦娥',\n",
       " '上官婉儿',\n",
       " '李信',\n",
       " '沈梦溪',\n",
       " '伽罗',\n",
       " '盾山',\n",
       " '司马懿',\n",
       " '孙策',\n",
       " '元歌',\n",
       " '米莱狄',\n",
       " '狂铁',\n",
       " '弈星',\n",
       " '裴擒虎',\n",
       " '杨玉环',\n",
       " '公孙离',\n",
       " '明世隐',\n",
       " '女娲',\n",
       " '梦奇',\n",
       " '苏烈',\n",
       " '百里玄策',\n",
       " '百里守约',\n",
       " '铠',\n",
       " '鬼谷子',\n",
       " '干将莫邪',\n",
       " '东皇太一',\n",
       " '大乔',\n",
       " '黄忠',\n",
       " '诸葛亮',\n",
       " '哪吒',\n",
       " '太乙真人',\n",
       " '蔡文姬',\n",
       " '雅典娜',\n",
       " '杨戬',\n",
       " '成吉思汗',\n",
       " '钟馗',\n",
       " '虞姬',\n",
       " '李元芳',\n",
       " '张飞',\n",
       " '刘备',\n",
       " '后羿',\n",
       " '牛魔',\n",
       " '孙悟空',\n",
       " '亚瑟',\n",
       " '橘右京',\n",
       " '娜可露露',\n",
       " '不知火舞',\n",
       " '张良',\n",
       " '花木兰',\n",
       " '兰陵王',\n",
       " '王昭君',\n",
       " '韩信',\n",
       " '刘邦',\n",
       " '姜子牙',\n",
       " '露娜',\n",
       " '程咬金',\n",
       " '安琪拉',\n",
       " '貂蝉',\n",
       " '关羽',\n",
       " '老夫子',\n",
       " '武则天',\n",
       " '项羽',\n",
       " '达摩',\n",
       " '狄仁杰',\n",
       " '马可波罗',\n",
       " '李白',\n",
       " '宫本武藏',\n",
       " '典韦',\n",
       " '曹操',\n",
       " '甄姬',\n",
       " '夏侯惇',\n",
       " '周瑜',\n",
       " '吕布',\n",
       " '芈月',\n",
       " '白起',\n",
       " '扁鹊',\n",
       " '孙膑',\n",
       " '钟无艳',\n",
       " '阿轲',\n",
       " '高渐离',\n",
       " '刘禅',\n",
       " '庄周',\n",
       " '鲁班七号',\n",
       " '孙尚香',\n",
       " '嬴政',\n",
       " '妲己',\n",
       " '墨子',\n",
       " '赵云',\n",
       " '小乔',\n",
       " '廉颇']"
      ]
     },
     "execution_count": 183,
     "metadata": {},
     "output_type": "execute_result"
    }
   ],
   "source": [
    "tree.xpath('//*[@class=\"herolist clearfix\"]/li/a/text()')"
   ]
  },
  {
   "cell_type": "code",
   "execution_count": 176,
   "metadata": {},
   "outputs": [
    {
     "data": {
      "text/plain": [
       "['//game.gtimg.cn/images/yxzj/img201606/heroimg/506/506.jpg']"
      ]
     },
     "execution_count": 176,
     "metadata": {},
     "output_type": "execute_result"
    }
   ],
   "source": [
    "tree.xpath('//*[@class=\"herolist clearfix\"]/li[1]/a//@src')"
   ]
  },
  {
   "cell_type": "code",
   "execution_count": 177,
   "metadata": {},
   "outputs": [
    {
     "data": {
      "text/plain": [
       "['//game.gtimg.cn/images/yxzj/img201606/heroimg/506/506.jpg']"
      ]
     },
     "execution_count": 177,
     "metadata": {},
     "output_type": "execute_result"
    }
   ],
   "source": [
    "tree.xpath('//*[@class=\"herolist clearfix\"]/li[1]/a/img/@src')"
   ]
  },
  {
   "cell_type": "code",
   "execution_count": 179,
   "metadata": {},
   "outputs": [
    {
     "data": {
      "text/plain": [
       "['herodetail/506.shtml']"
      ]
     },
     "execution_count": 179,
     "metadata": {},
     "output_type": "execute_result"
    }
   ],
   "source": [
    "tree.xpath('//*[@class=\"herolist clearfix\"]/li[1]/a/@href')"
   ]
  },
  {
   "cell_type": "markdown",
   "metadata": {},
   "source": [
    "### 查询数据\n",
    "\n",
    "**【MongoDB 查询数据的语法格式如下】**\n",
    "\n",
    ">`db.collection.find(query, projection)`\n",
    "- `query `：可选，使用查询操作符指定查询条件\n",
    "- `projection` ：可选，使用投影操作符指定返回的键。查询时返回文档中所有键值， 只需省略该参数即可（默认省略）。\n",
    "如果你需要以易读的方式来读取数据，可以使用 `pretty()` 方法，语法格式如下：\n",
    "\n",
    "> `db.col.find().pretty()`\n",
    "\n",
    "- `pretty`：漂亮的"
   ]
  },
  {
   "cell_type": "code",
   "execution_count": 3,
   "metadata": {},
   "outputs": [
    {
     "name": "stdout",
     "output_type": "stream",
     "text": [
      "{'_id': ObjectId('626954f1962313962bfc0cf3'), 'name': '云中君', 'url': 'https://pvp.qq.com/web201605/herodetail/506.shtml'}\n",
      "{'_id': ObjectId('626954f1962313962bfc0cf4'), 'name': '瑶', 'url': 'https://pvp.qq.com/web201605/herodetail/505.shtml'}\n",
      "{'_id': ObjectId('626954f1962313962bfc0cf5'), 'name': '盘古', 'url': 'https://pvp.qq.com/web201605/herodetail/529.shtml'}\n",
      "{'_id': ObjectId('626954f1962313962bfc0cf6'), 'name': '猪八戒', 'url': 'https://pvp.qq.com/web201605/herodetail/511.shtml'}\n",
      "{'_id': ObjectId('626954f1962313962bfc0cf7'), 'name': '嫦娥', 'url': 'https://pvp.qq.com/web201605/herodetail/515.shtml'}\n",
      "{'_id': ObjectId('626954f1962313962bfc0cf8'), 'name': '上官婉儿', 'url': 'https://pvp.qq.com/web201605/herodetail/513.shtml'}\n",
      "{'_id': ObjectId('626954f1962313962bfc0cf9'), 'name': '李信', 'url': 'https://pvp.qq.com/web201605/herodetail/507.shtml'}\n",
      "{'_id': ObjectId('626954f1962313962bfc0cfa'), 'name': '沈梦溪', 'url': 'https://pvp.qq.com/web201605/herodetail/312.shtml'}\n",
      "{'_id': ObjectId('626954f1962313962bfc0cfb'), 'name': '伽罗', 'url': 'https://pvp.qq.com/web201605/herodetail/508.shtml'}\n",
      "{'_id': ObjectId('626954f1962313962bfc0cfc'), 'name': '盾山', 'url': 'https://pvp.qq.com/web201605/herodetail/509.shtml'}\n",
      "{'_id': ObjectId('626954f1962313962bfc0cfd'), 'name': '司马懿', 'url': 'https://pvp.qq.com/web201605/herodetail/137.shtml'}\n",
      "{'_id': ObjectId('626954f1962313962bfc0cfe'), 'name': '孙策', 'url': 'https://pvp.qq.com/web201605/herodetail/510.shtml'}\n",
      "{'_id': ObjectId('626954f1962313962bfc0cff'), 'name': '元歌', 'url': 'https://pvp.qq.com/web201605/herodetail/125.shtml'}\n",
      "{'_id': ObjectId('626954f1962313962bfc0d00'), 'name': '米莱狄', 'url': 'https://pvp.qq.com/web201605/herodetail/504.shtml'}\n",
      "{'_id': ObjectId('626954f1962313962bfc0d01'), 'name': '狂铁', 'url': 'https://pvp.qq.com/web201605/herodetail/503.shtml'}\n",
      "{'_id': ObjectId('626954f1962313962bfc0d02'), 'name': '弈星', 'url': 'https://pvp.qq.com/web201605/herodetail/197.shtml'}\n",
      "{'_id': ObjectId('626954f1962313962bfc0d03'), 'name': '裴擒虎', 'url': 'https://pvp.qq.com/web201605/herodetail/502.shtml'}\n",
      "{'_id': ObjectId('626954f1962313962bfc0d04'), 'name': '杨玉环', 'url': 'https://pvp.qq.com/web201605/herodetail/176.shtml'}\n",
      "{'_id': ObjectId('626954f1962313962bfc0d05'), 'name': '公孙离', 'url': 'https://pvp.qq.com/web201605/herodetail/199.shtml'}\n",
      "{'_id': ObjectId('626954f1962313962bfc0d06'), 'name': '明世隐', 'url': 'https://pvp.qq.com/web201605/herodetail/501.shtml'}\n",
      "{'_id': ObjectId('626954f1962313962bfc0d07'), 'name': '女娲', 'url': 'https://pvp.qq.com/web201605/herodetail/179.shtml'}\n",
      "{'_id': ObjectId('626954f1962313962bfc0d08'), 'name': '梦奇', 'url': 'https://pvp.qq.com/web201605/herodetail/198.shtml'}\n",
      "{'_id': ObjectId('626954f1962313962bfc0d09'), 'name': '苏烈', 'url': 'https://pvp.qq.com/web201605/herodetail/194.shtml'}\n",
      "{'_id': ObjectId('626954f1962313962bfc0d0a'), 'name': '百里玄策', 'url': 'https://pvp.qq.com/web201605/herodetail/195.shtml'}\n",
      "{'_id': ObjectId('626954f1962313962bfc0d0b'), 'name': '百里守约', 'url': 'https://pvp.qq.com/web201605/herodetail/196.shtml'}\n",
      "{'_id': ObjectId('626954f1962313962bfc0d0c'), 'name': '铠', 'url': 'https://pvp.qq.com/web201605/herodetail/193.shtml'}\n",
      "{'_id': ObjectId('626954f1962313962bfc0d0d'), 'name': '鬼谷子', 'url': 'https://pvp.qq.com/web201605/herodetail/189.shtml'}\n",
      "{'_id': ObjectId('626954f1962313962bfc0d0e'), 'name': '干将莫邪', 'url': 'https://pvp.qq.com/web201605/herodetail/182.shtml'}\n",
      "{'_id': ObjectId('626954f1962313962bfc0d0f'), 'name': '东皇太一', 'url': 'https://pvp.qq.com/web201605/herodetail/187.shtml'}\n",
      "{'_id': ObjectId('626954f1962313962bfc0d10'), 'name': '大乔', 'url': 'https://pvp.qq.com/web201605/herodetail/191.shtml'}\n",
      "{'_id': ObjectId('626954f1962313962bfc0d11'), 'name': '黄忠', 'url': 'https://pvp.qq.com/web201605/herodetail/192.shtml'}\n",
      "{'_id': ObjectId('626954f1962313962bfc0d12'), 'name': '诸葛亮', 'url': 'https://pvp.qq.com/web201605/herodetail/190.shtml'}\n",
      "{'_id': ObjectId('626954f1962313962bfc0d13'), 'name': '哪吒', 'url': 'https://pvp.qq.com/web201605/herodetail/180.shtml'}\n",
      "{'_id': ObjectId('626954f1962313962bfc0d14'), 'name': '太乙真人', 'url': 'https://pvp.qq.com/web201605/herodetail/186.shtml'}\n",
      "{'_id': ObjectId('626954f1962313962bfc0d15'), 'name': '蔡文姬', 'url': 'https://pvp.qq.com/web201605/herodetail/184.shtml'}\n",
      "{'_id': ObjectId('626954f1962313962bfc0d16'), 'name': '雅典娜', 'url': 'https://pvp.qq.com/web201605/herodetail/183.shtml'}\n",
      "{'_id': ObjectId('626954f1962313962bfc0d17'), 'name': '杨戬', 'url': 'https://pvp.qq.com/web201605/herodetail/178.shtml'}\n",
      "{'_id': ObjectId('626954f1962313962bfc0d18'), 'name': '成吉思汗', 'url': 'https://pvp.qq.com/web201605/herodetail/177.shtml'}\n",
      "{'_id': ObjectId('626954f1962313962bfc0d19'), 'name': '钟馗', 'url': 'https://pvp.qq.com/web201605/herodetail/175.shtml'}\n",
      "{'_id': ObjectId('626954f1962313962bfc0d1a'), 'name': '虞姬', 'url': 'https://pvp.qq.com/web201605/herodetail/174.shtml'}\n",
      "{'_id': ObjectId('626954f1962313962bfc0d1b'), 'name': '李元芳', 'url': 'https://pvp.qq.com/web201605/herodetail/173.shtml'}\n",
      "{'_id': ObjectId('626954f1962313962bfc0d1c'), 'name': '张飞', 'url': 'https://pvp.qq.com/web201605/herodetail/171.shtml'}\n",
      "{'_id': ObjectId('626954f1962313962bfc0d1d'), 'name': '刘备', 'url': 'https://pvp.qq.com/web201605/herodetail/170.shtml'}\n",
      "{'_id': ObjectId('626954f1962313962bfc0d1e'), 'name': '后羿', 'url': 'https://pvp.qq.com/web201605/herodetail/169.shtml'}\n",
      "{'_id': ObjectId('626954f1962313962bfc0d1f'), 'name': '牛魔', 'url': 'https://pvp.qq.com/web201605/herodetail/168.shtml'}\n",
      "{'_id': ObjectId('626954f1962313962bfc0d20'), 'name': '孙悟空', 'url': 'https://pvp.qq.com/web201605/herodetail/167.shtml'}\n",
      "{'_id': ObjectId('626954f1962313962bfc0d21'), 'name': '亚瑟', 'url': 'https://pvp.qq.com/web201605/herodetail/166.shtml'}\n",
      "{'_id': ObjectId('626954f1962313962bfc0d22'), 'name': '橘右京', 'url': 'https://pvp.qq.com/web201605/herodetail/163.shtml'}\n",
      "{'_id': ObjectId('626954f1962313962bfc0d23'), 'name': '娜可露露', 'url': 'https://pvp.qq.com/web201605/herodetail/162.shtml'}\n",
      "{'_id': ObjectId('626954f1962313962bfc0d24'), 'name': '不知火舞', 'url': 'https://pvp.qq.com/web201605/herodetail/157.shtml'}\n",
      "{'_id': ObjectId('626954f1962313962bfc0d25'), 'name': '张良', 'url': 'https://pvp.qq.com/web201605/herodetail/156.shtml'}\n",
      "{'_id': ObjectId('626954f1962313962bfc0d26'), 'name': '花木兰', 'url': 'https://pvp.qq.com/web201605/herodetail/154.shtml'}\n",
      "{'_id': ObjectId('626954f1962313962bfc0d27'), 'name': '兰陵王', 'url': 'https://pvp.qq.com/web201605/herodetail/153.shtml'}\n",
      "{'_id': ObjectId('626954f1962313962bfc0d28'), 'name': '王昭君', 'url': 'https://pvp.qq.com/web201605/herodetail/152.shtml'}\n",
      "{'_id': ObjectId('626954f1962313962bfc0d29'), 'name': '韩信', 'url': 'https://pvp.qq.com/web201605/herodetail/150.shtml'}\n",
      "{'_id': ObjectId('626954f1962313962bfc0d2a'), 'name': '刘邦', 'url': 'https://pvp.qq.com/web201605/herodetail/149.shtml'}\n",
      "{'_id': ObjectId('626954f1962313962bfc0d2b'), 'name': '姜子牙', 'url': 'https://pvp.qq.com/web201605/herodetail/148.shtml'}\n",
      "{'_id': ObjectId('626954f1962313962bfc0d2c'), 'name': '露娜', 'url': 'https://pvp.qq.com/web201605/herodetail/146.shtml'}\n",
      "{'_id': ObjectId('626954f1962313962bfc0d2d'), 'name': '程咬金', 'url': 'https://pvp.qq.com/web201605/herodetail/144.shtml'}\n",
      "{'_id': ObjectId('626954f1962313962bfc0d2e'), 'name': '安琪拉', 'url': 'https://pvp.qq.com/web201605/herodetail/142.shtml'}\n",
      "{'_id': ObjectId('626954f1962313962bfc0d2f'), 'name': '貂蝉', 'url': 'https://pvp.qq.com/web201605/herodetail/141.shtml'}\n",
      "{'_id': ObjectId('626954f1962313962bfc0d30'), 'name': '关羽', 'url': 'https://pvp.qq.com/web201605/herodetail/140.shtml'}\n",
      "{'_id': ObjectId('626954f1962313962bfc0d31'), 'name': '老夫子', 'url': 'https://pvp.qq.com/web201605/herodetail/139.shtml'}\n",
      "{'_id': ObjectId('626954f1962313962bfc0d32'), 'name': '武则天', 'url': 'https://pvp.qq.com/web201605/herodetail/136.shtml'}\n",
      "{'_id': ObjectId('626954f1962313962bfc0d33'), 'name': '项羽', 'url': 'https://pvp.qq.com/web201605/herodetail/135.shtml'}\n",
      "{'_id': ObjectId('626954f1962313962bfc0d34'), 'name': '达摩', 'url': 'https://pvp.qq.com/web201605/herodetail/134.shtml'}\n",
      "{'_id': ObjectId('626954f1962313962bfc0d35'), 'name': '狄仁杰', 'url': 'https://pvp.qq.com/web201605/herodetail/133.shtml'}\n",
      "{'_id': ObjectId('626954f1962313962bfc0d36'), 'name': '马可波罗', 'url': 'https://pvp.qq.com/web201605/herodetail/132.shtml'}\n",
      "{'_id': ObjectId('626954f1962313962bfc0d37'), 'name': '李白', 'url': 'https://pvp.qq.com/web201605/herodetail/131.shtml'}\n",
      "{'_id': ObjectId('626954f1962313962bfc0d38'), 'name': '宫本武藏', 'url': 'https://pvp.qq.com/web201605/herodetail/130.shtml'}\n",
      "{'_id': ObjectId('626954f1962313962bfc0d39'), 'name': '典韦', 'url': 'https://pvp.qq.com/web201605/herodetail/129.shtml'}\n",
      "{'_id': ObjectId('626954f1962313962bfc0d3a'), 'name': '曹操', 'url': 'https://pvp.qq.com/web201605/herodetail/128.shtml'}\n",
      "{'_id': ObjectId('626954f1962313962bfc0d3b'), 'name': '甄姬', 'url': 'https://pvp.qq.com/web201605/herodetail/127.shtml'}\n",
      "{'_id': ObjectId('626954f1962313962bfc0d3c'), 'name': '夏侯惇', 'url': 'https://pvp.qq.com/web201605/herodetail/126.shtml'}\n",
      "{'_id': ObjectId('626954f1962313962bfc0d3d'), 'name': '周瑜', 'url': 'https://pvp.qq.com/web201605/herodetail/124.shtml'}\n",
      "{'_id': ObjectId('626954f1962313962bfc0d3e'), 'name': '吕布', 'url': 'https://pvp.qq.com/web201605/herodetail/123.shtml'}\n",
      "{'_id': ObjectId('626954f1962313962bfc0d3f'), 'name': '芈月', 'url': 'https://pvp.qq.com/web201605/herodetail/121.shtml'}\n",
      "{'_id': ObjectId('626954f1962313962bfc0d40'), 'name': '白起', 'url': 'https://pvp.qq.com/web201605/herodetail/120.shtml'}\n",
      "{'_id': ObjectId('626954f1962313962bfc0d41'), 'name': '扁鹊', 'url': 'https://pvp.qq.com/web201605/herodetail/119.shtml'}\n",
      "{'_id': ObjectId('626954f1962313962bfc0d42'), 'name': '孙膑', 'url': 'https://pvp.qq.com/web201605/herodetail/118.shtml'}\n",
      "{'_id': ObjectId('626954f1962313962bfc0d43'), 'name': '钟无艳', 'url': 'https://pvp.qq.com/web201605/herodetail/117.shtml'}\n",
      "{'_id': ObjectId('626954f1962313962bfc0d44'), 'name': '阿轲', 'url': 'https://pvp.qq.com/web201605/herodetail/116.shtml'}\n",
      "{'_id': ObjectId('626954f1962313962bfc0d45'), 'name': '高渐离', 'url': 'https://pvp.qq.com/web201605/herodetail/115.shtml'}\n",
      "{'_id': ObjectId('626954f1962313962bfc0d46'), 'name': '刘禅', 'url': 'https://pvp.qq.com/web201605/herodetail/114.shtml'}\n",
      "{'_id': ObjectId('626954f1962313962bfc0d47'), 'name': '庄周', 'url': 'https://pvp.qq.com/web201605/herodetail/113.shtml'}\n",
      "{'_id': ObjectId('626954f1962313962bfc0d48'), 'name': '鲁班七号', 'url': 'https://pvp.qq.com/web201605/herodetail/112.shtml'}\n",
      "{'_id': ObjectId('626954f1962313962bfc0d49'), 'name': '孙尚香', 'url': 'https://pvp.qq.com/web201605/herodetail/111.shtml'}\n",
      "{'_id': ObjectId('626954f1962313962bfc0d4a'), 'name': '嬴政', 'url': 'https://pvp.qq.com/web201605/herodetail/110.shtml'}\n",
      "{'_id': ObjectId('626954f1962313962bfc0d4b'), 'name': '妲己', 'url': 'https://pvp.qq.com/web201605/herodetail/109.shtml'}\n",
      "{'_id': ObjectId('626954f1962313962bfc0d4c'), 'name': '墨子', 'url': 'https://pvp.qq.com/web201605/herodetail/108.shtml'}\n",
      "{'_id': ObjectId('626954f1962313962bfc0d4d'), 'name': '赵云', 'url': 'https://pvp.qq.com/web201605/herodetail/107.shtml'}\n",
      "{'_id': ObjectId('626954f1962313962bfc0d4e'), 'name': '小乔', 'url': 'https://pvp.qq.com/web201605/herodetail/106.shtml'}\n",
      "{'_id': ObjectId('626954f1962313962bfc0d4f'), 'name': '廉颇', 'url': 'https://pvp.qq.com/web201605/herodetail/105.shtml'}\n"
     ]
    }
   ],
   "source": [
    "import pymongo\n",
    "\n",
    "client = pymongo.MongoClient('localhost', 27017)\n",
    "hero_db = client['hero']\n",
    "hero_col = hero_db['hero_url']\n",
    "\n",
    "for item in hero_col.find():\n",
    "    print(item)"
   ]
  }
 ],
 "metadata": {
  "interpreter": {
   "hash": "916dbcbb3f70747c44a77c7bcd40155683ae19c65e1c03b4aa3499c5328201f1"
  },
  "kernelspec": {
   "display_name": "Python 3.8.10 64-bit",
   "language": "python",
   "name": "python3"
  },
  "language_info": {
   "codemirror_mode": {
    "name": "ipython",
    "version": 3
   },
   "file_extension": ".py",
   "mimetype": "text/x-python",
   "name": "python",
   "nbconvert_exporter": "python",
   "pygments_lexer": "ipython3",
   "version": "3.8.10"
  },
  "orig_nbformat": 4
 },
 "nbformat": 4,
 "nbformat_minor": 2
}
