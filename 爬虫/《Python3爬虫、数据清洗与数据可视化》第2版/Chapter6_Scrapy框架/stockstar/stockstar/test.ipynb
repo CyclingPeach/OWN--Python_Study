{
 "cells": [
  {
   "cell_type": "code",
   "execution_count": 4,
   "metadata": {},
   "outputs": [
    {
     "data": {
      "text/plain": [
       "'1'"
      ]
     },
     "execution_count": 4,
     "metadata": {},
     "output_type": "execute_result"
    }
   ],
   "source": [
    "url = 'https://quote.stockstar.com/stock/ranklist_a_3_1_1.html'\n",
    "url.split(\"_\")[-1].split(\".\")[0]"
   ]
  },
  {
   "cell_type": "code",
   "execution_count": 5,
   "metadata": {},
   "outputs": [
    {
     "data": {
      "text/plain": [
       "\"\\n<html>\\n <head>\\n  <base href='http://example.com/' />\\n  <title>Example website</title>\\n </head>\\n <body>\\n  <div id='images'>\\n   <a href='image1.html'>Name: My image 1 <br /><img src='image1_thumb.jpg' /></a>\\n   <a href='image2.html'>Name: My image 2 <br /><img src='image2_thumb.jpg' /></a>\\n   <a href='image3.html'>Name: My image 3 <br /><img src='image3_thumb.jpg' /></a>\\n   <a href='image4.html'>Name: My image 4 <br /><img src='image4_thumb.jpg' /></a>\\n   <a href='image5.html'>Name: My image 5 <br /><img src='image5_thumb.jpg' /></a>\\n  </div>\\n </body>\\n</html>\""
      ]
     },
     "execution_count": 5,
     "metadata": {},
     "output_type": "execute_result"
    }
   ],
   "source": [
    "<html>\n",
    " <head>\n",
    "  <base href='http://example.com/' />\n",
    "  <title>Example website</title>\n",
    " </head>\n",
    " <body>\n",
    "  <div id='images'>\n",
    "   <a href='image1.html'>Name: My image 1 <br /><img src='image1_thumb.jpg' /></a>\n",
    "   <a href='image2.html'>Name: My image 2 <br /><img src='image2_thumb.jpg' /></a>\n",
    "   <a href='image3.html'>Name: My image 3 <br /><img src='image3_thumb.jpg' /></a>\n",
    "   <a href='image4.html'>Name: My image 4 <br /><img src='image4_thumb.jpg' /></a>\n",
    "   <a href='image5.html'>Name: My image 5 <br /><img src='image5_thumb.jpg' /></a>\n",
    "  </div>\n",
    " </body>\n",
    "</html>"
   ]
  },
  {
   "cell_type": "code",
   "execution_count": 6,
   "metadata": {},
   "outputs": [
    {
     "ename": "AttributeError",
     "evalue": "'str' object has no attribute 'css'",
     "output_type": "error",
     "traceback": [
      "\u001b[0;31m---------------------------------------------------------------------------\u001b[0m",
      "\u001b[0;31mAttributeError\u001b[0m                            Traceback (most recent call last)",
      "\u001b[1;32m/home/tzy/文档/Project/OWN--Python_Study/爬虫/《Python3爬虫、数据清洗与数据可视化》第2版/Chapter6_Scrapy框架/stockstar/stockstar/test.ipynb Cell 3'\u001b[0m in \u001b[0;36m<cell line: 1>\u001b[0;34m()\u001b[0m\n\u001b[0;32m----> <a href='vscode-notebook-cell:/home/tzy/%E6%96%87%E6%A1%A3/Project/OWN--Python_Study/%E7%88%AC%E8%99%AB/%E3%80%8APython3%E7%88%AC%E8%99%AB%E3%80%81%E6%95%B0%E6%8D%AE%E6%B8%85%E6%B4%97%E4%B8%8E%E6%95%B0%E6%8D%AE%E5%8F%AF%E8%A7%86%E5%8C%96%E3%80%8B%E7%AC%AC2%E7%89%88/Chapter6_Scrapy%E6%A1%86%E6%9E%B6/stockstar/stockstar/test.ipynb#ch0000003?line=0'>1</a>\u001b[0m response\u001b[39m.\u001b[39;49mcss(\u001b[39m'\u001b[39m\u001b[39mtitle::text\u001b[39m\u001b[39m'\u001b[39m)\u001b[39m.\u001b[39mextract_first()\n",
      "\u001b[0;31mAttributeError\u001b[0m: 'str' object has no attribute 'css'"
     ]
    }
   ],
   "source": [
    "response.css('title::text').extract_first()"
   ]
  },
  {
   "cell_type": "code",
   "execution_count": null,
   "metadata": {},
   "outputs": [],
   "source": [
    ">>> response.selector.css('title::text').extract_first()\n",
    "'Example website'\n",
    ">>> response.css('title::text').extract_first()\n",
    "'Example website'\n",
    ">>> response.xpath('//div[@id=\"image\"]').css('img')\n",
    "[]\n",
    ">>> response.xpath('//div[@id=\"images\"]').css('img')\n",
    "[<Selector xpath='descendant-or-self::img' data='<img src=\"image1_thumb.jpg\">'>, <Selector xpath='descendant-or-self::img' data='<img src=\"image2_thumb.jpg\">'>, <Selector xpath='\n",
    "descendant-or-self::img' data='<img src=\"image3_thumb.jpg\">'>, <\n",
    "Selector xpath='descendant-or-self::img' data='<img src=\"image4_\n",
    "thumb.jpg\">'>, <Selector xpath='descendant-or-self::img' data='<\n",
    "img src=\"image5_thumb.jpg\">'>]\n",
    ">>> response.xpath('//div[@id=\"images\"]').css('img::attr(src)')\n",
    "[<Selector xpath='descendant-or-self::img/@src' data='image1_thumb.jpg'>, <Selector xpath='de\n",
    "scendant-or-self::img/@src' data='image2_thumb.jpg'>, <Selector xpath='descendant-or-self::[<Selector xpath='descendant-or-self::img/@src' data='image1_thumb.jpg'>, <S\n",
    "elector xpath='descendant-or-self::img/@src' data='image2_thumb.jpg'>, <Sele\n",
    "ctor xpath='descendant-or-self::\n",
    "img/@src' data='image3_thumb.jpg\n",
    "'>, <Selector xpath='descendant-\n",
    "or-self::img/@src' data='image4_\n",
    "thumb.jpg'>, <Selector xpath='de\n",
    "scendant-or-self::img/@src' data\n",
    "='image5_thumb.jpg'>]\n",
    ">>> response.xpath('//div[@id=\"i\n",
    "mages\"]').css('img::\n",
    "attr(src)').extract(\n",
    ")\n",
    "['image1_thumb.jpg', 'image2_thumb.jpg', 'image3_thumb.jpg',\n",
    " 'image4_thumb.jpg', 'image5_thumb.jpg']\n",
    ">>> response.xpath('//div[@id=\"images\"]').css('img::attr(src\n",
    ")').extract_first()\n",
    "'image1_thumb.jpg'\n",
    ">>> response.xpath('//div[@id=\"images\"]').css('img::attr(src\n",
    ")').extract_first(default='')\n",
    "'image1_thumb.jpg'\n",
    ">>> response.xpath('//a/@href')\n",
    "[<Selector xpath='//a/@href' data='image1.html'>, <Selector xpath='//a/@href' data\n",
    "='image2.html'>, <Selector xpath='//a/@href' data='image3.html'>, <Selector xpath=\n",
    "'//a/@href' data='image4.html'>, <Selector xpath='//a/@href' data='image5.html'>]\n",
    ">>> response.xpath('//a/@href').extract()\n",
    "['image1.html', 'image2.html', 'image3.html', 'image4.html', 'image5.html']\n",
    ">>> response.css('a').extract()\n",
    "['<a href=\"image1.html\">Name: My image 1 <br><img src=\"image1_thumb.jpg\"></a>', '<\n",
    "a href=\"image2.html\">Name: My image 2 <br><img src=\"image2_thumb.jpg\"></a>', '<a h\n",
    "ref=\"image3.html\">Name: My image 3 <br><img src=\"image3_thumb.jpg\"></a>', '<a href\n",
    "=\"image4.html\">Name: My image 4 <br><img src=\"image4_thumb.jpg\"></a>', '<a href=\"i\n",
    "mage5.html\">Name: My image 5 <br><img src=\"image5_thumb.jpg\"></a>']\n",
    ">>> response.css('a::attr(href)').extract()\n",
    "['image1.html', 'image2.html', 'image3.html', 'image4.html', 'image5.html']\n",
    ">>> response.xpath('//a/text()').extract()\n",
    "['Name: My image 1 ', 'Name: My image 2 ', 'Name: My image 3 ', 'Name: My image 4\n",
    "', 'Name: My image 5 ']\n",
    ">>> response.css('a::text()').extract()\n",
    "Traceback (most recent call last):\n",
    "  File \"<console>\", line 1, in <module>\n",
    "  File \"c:\\python3.7\\lib\\site-packages\\scrapy\\http\\response\\text.py\", line 122, in\n",
    " css\n",
    "    return self.selector.css(query)\n",
    "  File \"c:\\python3.7\\lib\\site-packages\\parsel\\selector.py\", line 262, in css\n",
    "    return self.xpath(self._css2xpath(query))\n",
    "  File \"c:\\python3.7\\lib\\site-packages\\parsel\\selector.py\", line 265, in _css2xpat\n",
    "h\n",
    "    return self._csstranslator.css_to_xpath(query)\n",
    "  File \"c:\\python3.7\\lib\\site-packages\\parsel\\csstranslator.py\", line 109, in css_\n",
    "to_xpath\n",
    "    return super(HTMLTranslator, self).css_to_xpath(css, prefix)\n",
    "  File \"c:\\python3.7\\lib\\site-packages\\cssselect\\xpath.py\", line 192, in css_to_xp\n",
    "ath\n",
    "    for selector in parse(css))\n",
    "  File \"c:\\python3.7\\lib\\site-packages\\cssselect\\xpath.py\", line 192, in <genexpr>\n",
    "    for selector in parse(css))\n",
    "  File \"c:\\python3.7\\lib\\site-packages\\cssselect\\xpath.py\", line 222, in selector_\n",
    "to_xpath\n",
    "    xpath = self.xpath_pseudo_element(xpath, selector.pseudo_element)\n",
    "  File \"c:\\python3.7\\lib\\site-packages\\parsel\\csstranslator.py\", line 72, in xpath\n",
    "_pseudo_element\n",
    "    % pseudo_element.name)\n",
    "cssselect.xpath.ExpressionError: The functional pseudo-element ::text() is unknown\n",
    ">>> response.css('a::text').extract()\n",
    "['Name: My image 1 ', 'Name: My image 2 ', 'Name: My image 3 ', 'Name: My image 4\n",
    "', 'Name: My image 5 ']\n",
    ">>> response.xpath('//a[contains(@href, \"image\")]/@href')\n",
    "[<Selector xpath='//a[contains(@href, \"image\")]/@href' data='image1.html'>, <Selec\n",
    "tor xpath='//a[contains(@href, \"image\")]/@href' data='image2.html'>, <Selector xpa\n",
    "th='//a[contains(@href, \"image\")]/@href' data='image3.html'>, <Selector xpath='//a\n",
    "[contains(@href, \"image\")]/@href' data='image4.html'>, <Selector xpath='//a[contai\n",
    "ns(@href, \"image\")]/@href' data='image5.html'>]\n",
    ">>> response.xpath('//a[contains(@href, \"image\")]/@href').extract()\n",
    "['image1.html', 'image2.html', 'image3.html', 'image4.html', 'image5.html']\n",
    ">>> response.css('a[href*=image]::attr(hr)')\n",
    "[]\n",
    ">>> response.css('a[href*=image]::attr(href)')\n",
    "[<Selector xpath=\"descendant-or-self::a[@href and contains(@href, 'image')]/@href\"\n",
    " data='image1.html'>, <Selector xpath=\"descendant-or-self::a[@href and contains(@h\n",
    "ref, 'image')]/@href\" data='image2.html'>, <Selector xpath=\"descendant-or-self::a[\n",
    "@href and contains(@href, 'image')]/@href\" data='image3.html'>, <Selector xpath=\"d\n",
    "escendant-or-self::a[@href and contains(@href, 'image')]/@href\" data='image4.html'\n",
    ">, <Selector xpath=\"descendant-or-self::a[@href and contains(@href, 'image')]/@hre\n",
    "f\" data='image5.html'>]\n",
    ">>> response.css('a[href*=image]::attr(href)').extract()\n",
    "['image1.html', 'image2.html', 'image3.html', 'image4.html', 'image5.html']\n",
    ">>> response.xpath('//a/img/@src').extract()\n",
    "['image1_thumb.jpg', 'image2_thumb.jpg', 'image3_thumb.jpg', 'image4_thumb.jpg', '\n",
    "image5_thumb.jpg']\n",
    ">>> response.xpath('//a[contains(@href, \"image\")]/img/@src').extract()\n",
    "['image1_thumb.jpg', 'image2_thumb.jpg', 'image3_thumb.jpg', 'image4_thumb.jpg', '\n",
    "image5_thumb.jpg']\n",
    ">>> response.css('a[href*=image] img::attr(src)').extract()\n",
    "['image1_thumb.jpg', 'image2_thumb.jpg', 'image3_thumb.jpg', 'image4_thumb.jpg', '\n",
    "image5_thumb.jpg']\n",
    ">>> response.css('a::text').re('Name\\:(.*)')\n",
    "[' My image 1 ', ' My image 2 ', ' My image 3 ', ' My image 4 ', ' My image 5 ']\n",
    ">>> response.css('a::text').re_first('Name\\:(.*)')\n",
    "' My image 1 '"
   ]
  }
 ],
 "metadata": {
  "interpreter": {
   "hash": "916dbcbb3f70747c44a77c7bcd40155683ae19c65e1c03b4aa3499c5328201f1"
  },
  "kernelspec": {
   "display_name": "Python 3.8.10 64-bit",
   "language": "python",
   "name": "python3"
  },
  "language_info": {
   "codemirror_mode": {
    "name": "ipython",
    "version": 3
   },
   "file_extension": ".py",
   "mimetype": "text/x-python",
   "name": "python",
   "nbconvert_exporter": "python",
   "pygments_lexer": "ipython3",
   "version": "3.8.10"
  },
  "orig_nbformat": 4
 },
 "nbformat": 4,
 "nbformat_minor": 2
}
