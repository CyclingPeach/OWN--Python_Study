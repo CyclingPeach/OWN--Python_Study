{
 "cells": [
  {
   "cell_type": "code",
   "execution_count": 6,
   "metadata": {},
   "outputs": [],
   "source": [
    "import requests\n",
    "\n",
    "url = 'https://fanyi.baidu.com/v2transapi?from=en&to=zh'\n",
    "\n",
    "\n",
    "headers = {\n",
    "    \"Accept\": \"*/*\",\n",
    "    \"Accept-Encoding\": \"gzip, deflate, br\",\n",
    "    \"Accept-Language\": \"en-US,en;q=0.9,zh-CN;q=0.8,zh;q=0.7\",\n",
    "    \"Connection\": \"keep-alive\",\n",
    "    \"Content-Length\": \"115\",\n",
    "    \"Content-Type\": \"application/x-www-form-urlencoded; charset=UTF-8\",\n",
    "    \"Cookie\": \"BIDUPSID=8942F705A01146F96BECBC6E93CB9D26; PSTM=1647442212; BAIDUID=6FE0DC887C3FA9BA5CE79E519051C551:SL=0:NR=20:FG=1; REALTIME_TRANS_SWITCH=1; FANYI_WORD_SWITCH=1; HISTORY_SWITCH=1; SOUND_SPD_SWITCH=1; SOUND_PREFER_SWITCH=1; APPGUIDE_10_0_2=1; H_WISE_SIDS=110085_114552_127969_179348_184716_188331_188744_189755_190619_191242_194085_194512_194519_195343_196425_197241_197471_197711_197956_198267_199023_199569_201193_202651_202911_203309_203525_204254_204267_204305_204778_204860_204901_204950_205217_205240_205380_205386_205485_205548_205569_205710_206008_206704_206906_207003_207021_207178_207235_207473_207497_207512_207554_207604_207610_207625_207739_207830_207884_207999_208113_208134_208225_208268_208313_208343_208554_208561_208607_208721_208770_208772_209068_209295_209519_209568_209614_209630_209673_209749; BDUSS_BFESS=dTd0tNenRQNWduUmlPbHNHMEZLSzJ5elpHb1hzYU5aQ2VGVlE1VDZ0cTZIWUppRUFBQUFBJCQAAAAAAAAAAAEAAAAn9ntVzNXWvtS2VFpZWAAAAAAAAAAAAAAAAAAAAAAAAAAAAAAAAAAAAAAAAAAAAAAAAAAAAAAAAAAAAAAAAAAAAAAAALqQWmK6kFpieX; BDORZ=B490B5EBF6F3CD402E515D22BCDA1598; H_PS_PSSID=36309_31254_36165_34584_36120_35978_36232_26350_36300_36312_36061; Hm_lvt_64ecd82404c51e03dc91cb9e8c025574=1648807301,1650445313,1650890248,1650968091; BA_HECTOR=04ahak2h8kah208hoh1h6fkev0r; BAIDUID_BFESS=6FE0DC887C3FA9BA5CE79E519051C551:SL=0:NR=20:FG=1; delPer=0; PSINO=3; Hm_lpvt_64ecd82404c51e03dc91cb9e8c025574=1651021264\",\n",
    "    \"Host\": \"fanyi.baidu.com\",\n",
    "    \"Origin\": \"https://fanyi.baidu.com\",\n",
    "    \"Referer\": \"https://fanyi.baidu.com/\",\n",
    "    \"User-Agent\": \"Mozilla/5.0 (X11; Linux x86_64) AppleWebKit/537.36 (KHTML, like Gecko) Chrome/100.0.4896.127 Safari/537.36\",\n",
    "    \"X-Requested-With\": \"XMLHttpRequest\",\n",
    "}\n",
    "\n",
    "\n",
    "\n",
    "params = \"你好\"\n",
    "form_data = {\n",
    "    \"from\": \"en\",\n",
    "    \"to\": \"zh\",\n",
    "    \"query\": params,\n",
    "    \"simple_means_flag\": \"3\",\n",
    "    \"token\": \"bc91a8be60de1f64d436ad50ed8bb42f\",\n",
    "    \"domain\": \"common\",\n",
    "}\n",
    "\n",
    "response = requests.post(url, headers = headers, data = form_data)"
   ]
  },
  {
   "cell_type": "markdown",
   "metadata": {},
   "source": [
    "# 网易云音乐下载"
   ]
  },
  {
   "cell_type": "code",
   "execution_count": 11,
   "metadata": {},
   "outputs": [],
   "source": [
    "url = 'https://music.163.com/weapi/song/enhance/player/url/v1?csrf_token=73148468a4d352a6d6b628ce34a4a326'\n",
    "\n",
    "data = {\n",
    "    \"params\": \"3V1fKZchNoiC4Jolh2LQqTKklLuxdUQIY4tCQr9o52OTWGQAFlRroyCm9eP2WXE0rV/V6jFctbG6zh0I6v+Jrc4KfL5mZ1NLtom/k5sTzldmip3FFz/bWKjaQ6Bnm/If1ljYvam65vWtyu+GzCRRNTI+jTvPmBh8SeGMqC2OOQ2sUuIV9nYt2LHPpGW6e8NzKxeN75b7t4XE5X0njZAqyQ==\",\n",
    "    \"encSecKey\": \"1666451fcf1601a88a96630a1db866fc0863b70ad0b28fd1e74f03b3f8b72dd27c349e25bdb287eec1b573d57696e70ba7f86793766bfdfcb82fc050ce93fa9b49be8271e59b4a74284d3f9c1b1a39ea502f47e68b02766679fe662a20a9cd648524ac19e6aed400bb49e12b2accf9ad2573ec3524adf719e8c904f50c31c779\"\n",
    "}\n",
    "\n",
    "response = requests.post(url=url, data=data)"
   ]
  },
  {
   "cell_type": "code",
   "execution_count": 17,
   "metadata": {},
   "outputs": [
    {
     "data": {
      "text/plain": [
       "'http://m701.music.126.net/20220427103401/93352d8fcb2ca8cbbe32fd7323869d05/jdyyaac/obj/w5rDlsOJwrLDjj7CmsOj/9520066677/d47f/29b7/49f0/4a34f121ba4ab82925c275f86b02cc20.m4a'"
      ]
     },
     "execution_count": 17,
     "metadata": {},
     "output_type": "execute_result"
    }
   ],
   "source": [
    "response.json()['data'][0]['url']"
   ]
  },
  {
   "cell_type": "markdown",
   "metadata": {},
   "source": [
    "# Bilibili Pics Get\n",
    "\n",
    "\n",
    "\n",
    "<img src=\"../../images/291233f92f8e063673dc75349d8ce7945b8f3a2f3f5b1d94ea8b19eda18a5648.png\" width=\"75%\" height=\"75%\">  \n"
   ]
  },
  {
   "cell_type": "code",
   "execution_count": 18,
   "metadata": {},
   "outputs": [
    {
     "data": {
      "text/plain": [
       "<Response [200]>"
      ]
     },
     "execution_count": 18,
     "metadata": {},
     "output_type": "execute_result"
    }
   ],
   "source": [
    "url = 'https://www.bilibili.com/activity/web/view/data/31'\n",
    "\n",
    "res = requests.get(url).json()\n",
    "img_url_list = []\n",
    "for item in res['data']['list']:\n",
    "    img_url_list.append('https:'+item['data']['img'])\n",
    "img_url_list"
   ]
  },
  {
   "cell_type": "code",
   "execution_count": 45,
   "metadata": {},
   "outputs": [],
   "source": [
    "import random\n",
    "import time\n",
    "import wget\n",
    "import os\n",
    "\n",
    "foldername = \"./bilibili_pics_download/\"\n",
    "if not os.path.exists(foldername):\n",
    "    print(\"Selected folder not exist, try to create it.\")\n",
    "    os.makedirs(foldername)\n",
    "\n",
    "for img_url in img_url_list:\n",
    "    img_name = img_url.split('/')[-1]\n",
    "    img_path = foldername + img_name\n",
    "    wget.download(img_url, img_path)\n",
    "    time.sleep(random.randint(0,1))"
   ]
  }
 ],
 "metadata": {
  "interpreter": {
   "hash": "916dbcbb3f70747c44a77c7bcd40155683ae19c65e1c03b4aa3499c5328201f1"
  },
  "kernelspec": {
   "display_name": "Python 3.8.10 64-bit",
   "language": "python",
   "name": "python3"
  },
  "language_info": {
   "codemirror_mode": {
    "name": "ipython",
    "version": 3
   },
   "file_extension": ".py",
   "mimetype": "text/x-python",
   "name": "python",
   "nbconvert_exporter": "python",
   "pygments_lexer": "ipython3",
   "version": "3.8.10"
  },
  "orig_nbformat": 4
 },
 "nbformat": 4,
 "nbformat_minor": 2
}
