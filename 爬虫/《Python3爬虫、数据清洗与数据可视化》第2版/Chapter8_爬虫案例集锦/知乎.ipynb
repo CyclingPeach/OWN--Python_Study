{
 "cells": [
  {
   "cell_type": "code",
   "execution_count": 239,
   "metadata": {},
   "outputs": [
    {
     "name": "stdout",
     "output_type": "stream",
     "text": [
      "采集第1页 采集结束\n",
      "采集第2页 "
     ]
    },
    {
     "ename": "KeyError",
     "evalue": "'data'",
     "output_type": "error",
     "traceback": [
      "\u001b[0;31m---------------------------------------------------------------------------\u001b[0m",
      "\u001b[0;31mKeyError\u001b[0m                                  Traceback (most recent call last)",
      "\u001b[1;32m/home/tzy/文档/Project/OWN--Python_Study/爬虫/《Python3爬虫、数据清洗与数据可视化》第2版/Chapter8_爬虫案例集锦/知乎.ipynb Cell 1'\u001b[0m in \u001b[0;36m<cell line: 37>\u001b[0;34m()\u001b[0m\n\u001b[1;32m     <a href='vscode-notebook-cell:/home/tzy/%E6%96%87%E6%A1%A3/Project/OWN--Python_Study/%E7%88%AC%E8%99%AB/%E3%80%8APython3%E7%88%AC%E8%99%AB%E3%80%81%E6%95%B0%E6%8D%AE%E6%B8%85%E6%B4%97%E4%B8%8E%E6%95%B0%E6%8D%AE%E5%8F%AF%E8%A7%86%E5%8C%96%E3%80%8B%E7%AC%AC2%E7%89%88/Chapter8_%E7%88%AC%E8%99%AB%E6%A1%88%E4%BE%8B%E9%9B%86%E9%94%A6/%E7%9F%A5%E4%B9%8E.ipynb#ch0000000?line=45'>46</a>\u001b[0m url \u001b[39m=\u001b[39m \u001b[39m'\u001b[39m\u001b[39mhttps://www.zhihu.com/api/v4/search_v3?t=general&q=Python&correction=1&offset=\u001b[39m\u001b[39m{}\u001b[39;00m\u001b[39m&limit=20&filter_fields=&lc_idx=\u001b[39m\u001b[39m{}\u001b[39;00m\u001b[39m&show_all_topics=0&search_source=Normal\u001b[39m\u001b[39m'\u001b[39m\u001b[39m.\u001b[39mformat(i\u001b[39m*\u001b[39m\u001b[39m20\u001b[39m, i\u001b[39m*\u001b[39m\u001b[39m20\u001b[39m)\n\u001b[1;32m     <a href='vscode-notebook-cell:/home/tzy/%E6%96%87%E6%A1%A3/Project/OWN--Python_Study/%E7%88%AC%E8%99%AB/%E3%80%8APython3%E7%88%AC%E8%99%AB%E3%80%81%E6%95%B0%E6%8D%AE%E6%B8%85%E6%B4%97%E4%B8%8E%E6%95%B0%E6%8D%AE%E5%8F%AF%E8%A7%86%E5%8C%96%E3%80%8B%E7%AC%AC2%E7%89%88/Chapter8_%E7%88%AC%E8%99%AB%E6%A1%88%E4%BE%8B%E9%9B%86%E9%94%A6/%E7%9F%A5%E4%B9%8E.ipynb#ch0000000?line=46'>47</a>\u001b[0m res \u001b[39m=\u001b[39m requests\u001b[39m.\u001b[39mget(url\u001b[39m=\u001b[39murl, headers\u001b[39m=\u001b[39mheaders)\n\u001b[0;32m---> <a href='vscode-notebook-cell:/home/tzy/%E6%96%87%E6%A1%A3/Project/OWN--Python_Study/%E7%88%AC%E8%99%AB/%E3%80%8APython3%E7%88%AC%E8%99%AB%E3%80%81%E6%95%B0%E6%8D%AE%E6%B8%85%E6%B4%97%E4%B8%8E%E6%95%B0%E6%8D%AE%E5%8F%AF%E8%A7%86%E5%8C%96%E3%80%8B%E7%AC%AC2%E7%89%88/Chapter8_%E7%88%AC%E8%99%AB%E6%A1%88%E4%BE%8B%E9%9B%86%E9%94%A6/%E7%9F%A5%E4%B9%8E.ipynb#ch0000000?line=47'>48</a>\u001b[0m page_data \u001b[39m=\u001b[39m res\u001b[39m.\u001b[39;49mjson()[\u001b[39m'\u001b[39;49m\u001b[39mdata\u001b[39;49m\u001b[39m'\u001b[39;49m]\n\u001b[1;32m     <a href='vscode-notebook-cell:/home/tzy/%E6%96%87%E6%A1%A3/Project/OWN--Python_Study/%E7%88%AC%E8%99%AB/%E3%80%8APython3%E7%88%AC%E8%99%AB%E3%80%81%E6%95%B0%E6%8D%AE%E6%B8%85%E6%B4%97%E4%B8%8E%E6%95%B0%E6%8D%AE%E5%8F%AF%E8%A7%86%E5%8C%96%E3%80%8B%E7%AC%AC2%E7%89%88/Chapter8_%E7%88%AC%E8%99%AB%E6%A1%88%E4%BE%8B%E9%9B%86%E9%94%A6/%E7%9F%A5%E4%B9%8E.ipynb#ch0000000?line=49'>50</a>\u001b[0m \u001b[39mfor\u001b[39;00m data \u001b[39min\u001b[39;00m page_data:\n\u001b[1;32m     <a href='vscode-notebook-cell:/home/tzy/%E6%96%87%E6%A1%A3/Project/OWN--Python_Study/%E7%88%AC%E8%99%AB/%E3%80%8APython3%E7%88%AC%E8%99%AB%E3%80%81%E6%95%B0%E6%8D%AE%E6%B8%85%E6%B4%97%E4%B8%8E%E6%95%B0%E6%8D%AE%E5%8F%AF%E8%A7%86%E5%8C%96%E3%80%8B%E7%AC%AC2%E7%89%88/Chapter8_%E7%88%AC%E8%99%AB%E6%A1%88%E4%BE%8B%E9%9B%86%E9%94%A6/%E7%9F%A5%E4%B9%8E.ipynb#ch0000000?line=50'>51</a>\u001b[0m     \u001b[39mobject\u001b[39m \u001b[39m=\u001b[39m data[\u001b[39m'\u001b[39m\u001b[39mobject\u001b[39m\u001b[39m'\u001b[39m]\n",
      "\u001b[0;31mKeyError\u001b[0m: 'data'"
     ]
    }
   ],
   "source": [
    "import random\n",
    "import time\n",
    "import requests\n",
    "\n",
    "headers = {\n",
    "    \"cookie\": '_zap=2f2193bc-1e3c-48fb-b789-1202f43a3898; d_c0=\"AMBQRqDspBSPTtSlCjliAxu6T4yr8xKyO2s=|1647445267\"; gdxidpyhxdE=DA%5CNRJt1gNG4rmkAp0hNtjELp0sR3lvHkfrKoNIsKM3SLeUu81xlyw9g%2BG8%2BZv73auDPapqC9f2vL%2FrnmU0PxYvJruc94ZHtIMhpplcRf3%5CiDazGaofM4cDKaSPf%5CcjDnnhgGOc42OzKgW4y8l8rGu7IQMX4iYDXYyR8vQK12uDYQdcg%3A1647485077540; _9755xjdesxxd_=32; YD00517437729195%3AWM_NI=5Tt8mkf8nqVEurOUqXXQpIEweAvAua8GIjn3zOW2hlTjmH04NBBcXlasGiJixl172N5oL%2F6Aii0vQiaaV07NN6fYkFwqhLP2F2hkwLJgRE2zV2c9qPXJpIk%2Bzh7Q5QQhcVo%3D; YD00517437729195%3AWM_NIKE=9ca17ae2e6ffcda170e2e6eeafb76081e9e188ec4881eb8fa7d84a979e9a84f125fb87a2d4f96f82f5b9b6d92af0fea7c3b92af78cbcd9f061a6e8a292d54fb7ae81b6f4549c8fc0aac87da79fbaa2f86bfc99878bed39ba9199d3eb6898b6a3a9b3408e9e8e84db68a3ad898ac963bcb4ffd8b146f7b184d0b54babb70097d463a3bf9ad1b6468eeaaabaea4eb5afa8add33a86eea88cf6488ab99ea6b17296eeaddaf45c9c96c0aaea21bab8f9b2b85b93b8adb7ee37e2a3; YD00517437729195%3AWM_TID=EMI4Rb%2FSLvdBBVBQRUMq%2Ftdj33KUuhBO; z_c0=\"2|1:0|10:1647484185|4:z_c0|92:Mi4xcVc2dkFnQUFBQUFBd0ZCR29PeWtGQ1lBQUFCZ0FsVk5HZXNmWXdDS19tcmFFV0xtcERRSHYyakZuVnBKdzlWU2dB|d9111d92c7fe576c7e5325dfe370983693ff6509c4a6605108e339be92590967\"; q_c1=8e1a14e70b55488c8bd54f20822f92e0|1650547245000|1650547245000; tst=r; _xsrf=77e7cc24-d37e-48b0-b639-08fbda5ee736; Hm_lvt_98beee57fd2ef70ccdd5ca52b9740c49=1650545851,1650701935,1650889532,1650958062; _ga=GA1.2.1608559975.1651032820; _gid=GA1.2.621307196.1651032820; SESSIONID=zXs5jdJQuVoZdFONbn6XgObUJF67m5LLSUIts1Mnghf; JOID=U1oUA0_mfopPgPRINOfImrEiGeognyX4fu-TAWSWK-YU4LcEee-_5yyG9EoxtR9eKmhVMkAiajDZ2QKQm-6UtAA=; osd=Wl8WAEnve4hMhv1NNuTOk7QgGuwpmif7eOaWA2eQIuMW47ENfO284SWD9kk3vBpcKW5cN0IhbDnc2wGWkuuWtwY=; NOT_UNREGISTER_WAITING=1; Hm_lpvt_98beee57fd2ef70ccdd5ca52b9740c49=1651044918; ariaDefaultTheme=undefined; KLBRSID=4efa8d1879cb42f8c5b48fe9f8d37c16|1651044938|1651044849',\n",
    "    \"referer\": \"https://www.zhihu.com/search?q=Python&type=content\",\n",
    "    \"sec-fetch-dest\": \"empty\",\n",
    "    \"sec-fetch-mode\": \"cors\",\n",
    "    \"sec-fetch-site\": \"same-origin\",\n",
    "    \"user-agent\": \"Mozilla/5.0 (iPhone; CPU iPhone OS 13_2_3 like Mac OS X) AppleWebKit/605.1.15 (KHTML, like Gecko) Version/13.0.3 Mobile/15E148 Safari/604.1\",\n",
    "    \"x-ab-param\": \"qap_question_visitor= 0;tp_topic_style=0;tp_zrec=1;top_test_4_liguangyi=1;pf_noti_entry_num=2;qap_question_author=0;tp_dingyue_video=0;pf_adjust=0;tp_contents=2;se_ffzx_jushen1=0\",\n",
    "    \"x-ab-pb\": \"CpACKgbaCI0JhAJSC7IHBwo7AnYI3Qe1C4kIZwg/AE8D9gl6CGkBngXPC0EGtABQAzIF9AOjCYwEUQXFCHUJBAoGCmwIEglJCcgJJwfXC30CKgNXB5gI4Ak3DEcAogPWCCcJogZ4B9YE1wIzBFIFPwYBCdwHqwnJCbkCKQWMBZEJdwfKCdwLMwXLCT8JVQlPB4QJxwmmBnQI4QmbC1QJiwk0DKED8QmUBhYJYAngC+kE2AcnCGEJKwqgA40EpgT0CRYG9gLzA8wCxglWDBsAQwAxBkIJYAt5CBEFVgWLBdgCMAbjBecFmwflCcwJagHlCMUJ9AvkCjID0Qm0CuwKDwvECUABwwkBCwEG6wZ0AbcDVwQSiAEAAAAAAQAAAAACAwAFAAAAAgIBCwAAAAAAAAQBAAAAAAAAAQAAAAECAQMAAQAAAAAAAAQAAAAAAAIAABUAAAEAAAAAAAAAAAAAAAAAAgAAAAAAAAABAAAAAAAAAAQAAAAAAAAAAQAVAAAAAAAAAAAAAAAAAAABAAAAAAAAAAEBAAEAAAAAAAAB\",\n",
    "    \"x-api-version\": \"3.0.91\",\n",
    "    \"x-app-za\": \"OS=Web\",\n",
    "    \"x-is-zhihu-mobile\": \"1\",\n",
    "    \"x-requested-with\": \"fetch\",\n",
    "    \"x-zse-93\": \"101_3_2.0\",\n",
    "    \"x-zse-96\": \"2.0_aRYBUcUqgBNpoHFBm7Y0UreqgCxfkRtB1Xxyo4U8UhSp\",\n",
    "    \"x-zst-81\": \"3_2.0ae3TnRUTEvOOUCNMTQnTr_RqQ8YuDhV80wSL7TuqrLepr4fBxgN8-GxT26nxE0Y0w6SmDggMgBgPD4S1hCS974e1DrNPAQLYlUefii_qr6kxELt0M4PGDwN8gGcYAupMWufI8DQLzuffUcXTzJO1ADQ0shYG2XtTbvXTg9emiuc_7LwLDukyg9emiuc_iRP0XL2ZUBXmDDV9qhnyTXFMnXcTF_ntRueThMSB2DUMbgOx3BwLBTVMogc_PgeXYCYYW9tqJcCK6AXVCwtYGqXCAcUKjvLPvHcGKGCGcweCpGpxFbx9TUOfQ_S8cMC8Fu3_Mq21Wqu9Vqgp6T2Y0bL9o6rCqCo89CN0WGC8zveqNgS9QGVGJGOLoXeYLCpBywFGPcX1e4HGECe1VUtmvqfzhccMfgouJqcCWqF8XbO8ACcmqBwMvrH8r7pGju2s6LLKbCtqrG_BwCCpcTCLpALCzcN_fcfBNvw9bbSB3vwfEcXOJJX9zceffrcBhg28NcS0-hHL3J9C\"\n",
    "}\n",
    "\n",
    "form_data = {\n",
    "    \"t\": \"general\",\n",
    "    \"q\": \"Python\",\n",
    "    \"correction\": \"1\",\n",
    "    \"offset\": \"0\",\n",
    "    \"limit\": \"20\",\n",
    "    \"filter_fields\":\"\",\n",
    "    \"lc_idx\": \"0\",\n",
    "    \"show_all_topics\": \"0\",\n",
    "    \"search_source\": \"Normal\"\n",
    "}\n",
    "\n",
    "question_list = []\n",
    "article_list = []\n",
    "for i in range(10):\n",
    "    print(\"采集第{}页\".format(i+1), end=\" \")\n",
    "    if i == 0:\n",
    "        url = 'https://www.zhihu.com/api/v4/search_v3?t=general&q=Python&correction=1&offset=0&limit=20&filter_fields=&lc_idx=0&show_all_topics=0&search_source=Normal'\n",
    "    else:\n",
    "        url_prefix = 'https://www.zhihu.com/api/v4/search_v3?t=general&q=Python&correction=1&offset={}&limit=20&filter_fields=&lc_idx={}&show_all_topics=0&'.format(i*20, i*20)\n",
    "        url_suffix = 'search_hash_id=c167df0c876a3c0a6fff2901ac7612b1&search_source=Normal&vertical_info=0%2C0%2C0%2C0%2C0%2C0%2C0%2C0%2C0%2C0'\n",
    "        # url = url_prefix + url_suffix\n",
    "    # print(url)\n",
    "    url = 'https://www.zhihu.com/api/v4/search_v3?t=general&q=Python&correction=1&offset={}&limit=20&filter_fields=&lc_idx={}&show_all_topics=0&search_source=Normal'.format(i*20, i*20)\n",
    "    res = requests.get(url=url, headers=headers)\n",
    "    page_data = res.json()['data']\n",
    "\n",
    "    for data in page_data:\n",
    "        object = data['object']\n",
    "        search_type = data['type']\n",
    "        if search_type == 'search_result':\n",
    "            type = data['object']['type']\n",
    "            if type == 'answer':\n",
    "                question = object['question']\n",
    "                question_list.append({'id':question['id'], 'name':question['name']})\n",
    "            elif type == 'article':\n",
    "                article_list.append({'id':object['id'], 'title':object['title']})\n",
    "    print(\"采集结束\")\n",
    "    time.sleep(round(random.uniform(1, 3), 2))      # round() 控制精度，保留两位小数"
   ]
  },
  {
   "cell_type": "code",
   "execution_count": 224,
   "metadata": {},
   "outputs": [
    {
     "data": {
      "text/plain": [
       "<Response [403]>"
      ]
     },
     "execution_count": 224,
     "metadata": {},
     "output_type": "execute_result"
    }
   ],
   "source": [
    "# form_data\n",
    "\n",
    "earch_hash_id=c167df0c876a3c0a6fff2901ac7612b1&search_source=Normal&vertical_info=0%2C0%2C0%2C0%2C0%2C0%2C0%2C0%2C0%2C0\n",
    "earch_hash_id=a7c561227fce82572f74f94d7870838a&search_source=Normal&vertical_info=0%2C0%2C0%2C0%2C0%2C0%2C0%2C0%2C0%2C0"
   ]
  },
  {
   "cell_type": "code",
   "execution_count": 238,
   "metadata": {},
   "outputs": [
    {
     "data": {
      "text/plain": [
       "<Response [403]>"
      ]
     },
     "execution_count": 238,
     "metadata": {},
     "output_type": "execute_result"
    }
   ],
   "source": [
    "res"
   ]
  },
  {
   "cell_type": "code",
   "execution_count": null,
   "metadata": {},
   "outputs": [],
   "source": [
    "x_zse_96 = '2.0_aXF0FJL0e_txgq2qm_NBQ4uqcTNYn9Y8m7F0NrrqS_2f'"
   ]
  },
  {
   "cell_type": "code",
   "execution_count": null,
   "metadata": {},
   "outputs": [],
   "source": [
    "x_zse_96= '2.0_aTYqFJLqgqYpnBxq88Y8ciuqc0NXNGtyB_x0Fv9yk0SY'\n",
    "x_zst_81= '3_2.0ae3TnRUTEvOOUCNMTQnTr_RqQ8YuDhV80wSL7TuqrLepr4fBxgN8-GxT26nxE0Y0w6SmDggMgBgPD4S1hCS974e1DrNPAQLYlUefii_qr6kxELt0M4PGDwN8gGcYAupMWufI8DQLzuffUcXTzJO1ADQ0shYG2XtTbvXTg9emiuc_7LwLDukyg9emiuc_iRP0XL2ZUBXmDDV9qhnyTXFMnXcTF_ntRueTh8p0BcV13uVBPqefp9c0YDcfoLFO_CHBGipyzGXf8q3MqqO0ywSGtJ38rQLPvHcGKGCGcweCpGpxFbx9TUOfQ_S8cMC8Fu3_Mq21Wqu9Vqgp6T2Y0bL9o6rCqCo89CN0WGC8zveqNgS9QGVGJGOLoXeYLCpBywFGPcX1e4HGECe1VUtmvqfzCbCKAUoYCwwf7Bw1HDwKyqcBphSBTGwqocXmzwYxCvcfcqoGTJL_bvN_k8XCNqoB67SYcXgYQuo98rL8A9SMVu29bGgC4wwy6BHG9GcXc8wK-hXBeQ3C'"
   ]
  },
  {
   "cell_type": "code",
   "execution_count": null,
   "metadata": {},
   "outputs": [],
   "source": [
    "x_zse_96= '2.0_aLx0ND9BrHFX2X28sXtybQuqNCNpb8YqKLYqggU0S_Yf'\n",
    "x_zst_81= '3_2.0ae3TnRUTEvOOUCNMTQnTr_RqQ8YuDhV80wSL7TuqrLepr4fBxgN8-GxT26nxE0Y0w6SmDggMgBgPD4S1hCS974e1DrNPAQLYlUefii_qr6kxELt0M4PGDwN8gGcYAupMWufI8DQLzuffUcXTzJO1ADQ0shYG2XtTbvXTg9emiuc_7LwLDukyg9emiuc_iRP0XL2ZUBXmDDV9qhnyTXFMnXcTF_ntRueTh8p0BcV13uVBPqefp9c0YDcfoLFO_CHBGipyzGXf8q3MqqO0ywSGtJ38rQLPvHcGKGCGcweCpGpxFbx9TUOfQ_S8cMC8Fu3_Mq21Wqu9Vqgp6T2Y0bL9o6rCqCo89CN0WGC8zveqNgS9QGVGJGOLoXeYLCpBywFGPcX1e4HGECe1VUtmvqfzCbCKAUoYCwwf7Bw1HDwKyqcBphSBTGwqocXmzwYxCvcfcqoGTJL_bvN_k8XCNqoB67SYcXgYQuo98rL8A9SMVu29bGgC4wwy6BHG9GcXc8wK-hXBeQ3C'"
   ]
  }
 ],
 "metadata": {
  "interpreter": {
   "hash": "916dbcbb3f70747c44a77c7bcd40155683ae19c65e1c03b4aa3499c5328201f1"
  },
  "kernelspec": {
   "display_name": "Python 3.8.10 64-bit",
   "language": "python",
   "name": "python3"
  },
  "language_info": {
   "codemirror_mode": {
    "name": "ipython",
    "version": 3
   },
   "file_extension": ".py",
   "mimetype": "text/x-python",
   "name": "python",
   "nbconvert_exporter": "python",
   "pygments_lexer": "ipython3",
   "version": "3.8.10"
  },
  "orig_nbformat": 4
 },
 "nbformat": 4,
 "nbformat_minor": 2
}
