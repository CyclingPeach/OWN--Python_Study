{
 "cells": [
  {
   "cell_type": "markdown",
   "metadata": {},
   "source": [
    "# 主程序\n",
    "\n",
    ">只爬取了两页"
   ]
  },
  {
   "cell_type": "code",
   "execution_count": 114,
   "metadata": {},
   "outputs": [
    {
     "name": "stdout",
     "output_type": "stream",
     "text": [
      "104\n"
     ]
    }
   ],
   "source": [
    "# 加载包\n",
    "import requests\n",
    "import time\n",
    "import json\n",
    "# 设置表头\n",
    "post_headers={\n",
    "    \"Accept\":\"*/*\",\n",
    "    \"Accept-Encoding\":\"gzip, deflate, br\",\n",
    "    \"Accept-Language\":\"en-US,en;q=0.9,zh-CN;q=0.8,zh;q=0.7\",\n",
    "    \"Connection\":\"keep-alive\",\n",
    "    \"Content-Length\":\"1341\",\n",
    "    \"Content-Type\":\"application/x-www-form-urlencoded\",\n",
    "    \"Cookie\":'wm_order_channel=default; request_source=openh5; au_trace_key_net=default; _lx_utm=utm_source%3D60066; _lxsdk_cuid=18064140fe2c8-0be98c43e9aa72-5b4c7c4c-f7716-18064140fe2c8; terminal=i; w_utmz=\"utm_campaign=(direct)&utm_source=5000&utm_medium=(none)&utm_content=(none)&utm_term=(none)\"; iuuid=C1C8C763F975395D99BCC2DFA37AFE325BFBD519079EC8859B9F4E58034D87E4; token=xOpkTlTpmsc2MGUdNSvZZYi0ya8AAAAAihEAAE34TLLN906FFimrFlXymQ5xcaQKaw7vzH4fJ_y53mKzDbLjOHEhltS3YUYzuQP67Q; mt_c_token=xOpkTlTpmsc2MGUdNSvZZYi0ya8AAAAAihEAAE34TLLN906FFimrFlXymQ5xcaQKaw7vzH4fJ_y53mKzDbLjOHEhltS3YUYzuQP67Q; oops=xOpkTlTpmsc2MGUdNSvZZYi0ya8AAAAAihEAAE34TLLN906FFimrFlXymQ5xcaQKaw7vzH4fJ_y53mKzDbLjOHEhltS3YUYzuQP67Q; userId=318902474; openh5_uuid=C1C8C763F975395D99BCC2DFA37AFE325BFBD519079EC8859B9F4E58034D87E4; uuid=C1C8C763F975395D99BCC2DFA37AFE325BFBD519079EC8859B9F4E58034D87E4; _lxsdk=C1C8C763F975395D99BCC2DFA37AFE325BFBD519079EC8859B9F4E58034D87E4; w_token=xOpkTlTpmsc2MGUdNSvZZYi0ya8AAAAAihEAAE34TLLN906FFimrFlXymQ5xcaQKaw7vzH4fJ_y53mKzDbLjOHEhltS3YUYzuQP67Q; openh5_uuid=C1C8C763F975395D99BCC2DFA37AFE325BFBD519079EC8859B9F4E58034D87E4; w_uuid=yO6-Hyg34rmFtt5lNi823Mj4JjQ4sh4kuDizyltaMhBokMgDay0izLLtBK3ta1XP; w_visitid=d47e8ac5-5908-4beb-9583-07bdbe7e4077; cssVersion=42725d1e; _lxsdk_s=18064140fe5-ae4-6f2-52b%7C%7C3110',\n",
    "    \"Host\":\"i.waimai.meituan.com\",\n",
    "    \"Origin\":\"https://h5.waimai.meituan.com\",\n",
    "    \"Referer\":\"https://h5.waimai.meituan.com/\",\n",
    "    \"User-Agent\":\"Mozilla/5.0 (iPhone; CPU iPhone OS 13_2_3 like Mac OS X) AppleWebKit/605.1.15 (KHTML, like Gecko) Version/13.0.3 Mobile/15E148 Safari/604.1\"\n",
    "}\n",
    "\n",
    "resopnse_list = []      # 存储所有店铺的详细信息列表\n",
    "for i in range(10000):\n",
    "    print(\"正在请求第{}页\".format(i+1))\n",
    "    # 请求正文\n",
    "    post_data={\n",
    "        \"startIndex\":i,     #控制页码\n",
    "        \"uuid\":\"C1C8C763F975395D99BCC2DFA37AFE325BFBD519079EC8859B9F4E58034D87E4\",\n",
    "        \"originUrl\":\"https://h5.waimai.meituan.com/waimai/mindex/home\",\n",
    "        \"wm_actual_latitude\":\"31338023\",\n",
    "        \"wm_actual_longitude\":\"118412192\",\n",
    "        \"openh5_uuid\":\"C1C8C763F975395D99BCC2DFA37AFE325BFBD519079EC8859B9F4E58034D87E4\",\n",
    "        \"_token\":\"eJx9kHuLm0AUxb+LsP0nIb7iK7AU45pEo1GTXY0ppfiY9TE+Et+69Lt3ttmyFErhwj33N/cwZ+YNq5QQW5EEyRHkHOtAha0wckEsWGyONTU6YRlCYDiaYmmem2PBX4wjlswc8yv7CVt9owVizi+X39/BEc2f4FNRS1TvGwpawOKmudYrHI+ZRe8luZcscpA0rVcsgjLH7wjPkyIEAx6XOUCR/m/Jyigpvr6WVQAem6oFX3wvgD/aKnv87XugxQdqg+qfbsTvEIn7pXcBMBQ4f0aBUYcf3fvozZ9ZR/+G8tVJVCAF1LGBetP2o2gdX/lMYrxB91wqs1NZ47NTS93G9CoKtb1ZOorkM4ag5ZD0LyHMmJ6ZDk44wZrdWdbJrbROhV5YilWLa4E4XTeBfZFCWzwAs0gMLlKLa2DT6VmhqzphwEkP9qc4brb77mbkLbs7ZdT5pR6dwrataaNJgu9cXrLL4N/4q2Pv+ZtbU2nfSuS+6yo3DdQ+YWcWnAL5apagnx0CmIOCUm6WE9yadZw5LuesSR5KapZ7sjep/pMTHbU47k0ZaHK7gQVwZcPZGWAMtqwMjMJ8Lg54JA9Wq3eqkraiYOnKcydkODzbEy5uYVJLHIFePRs0bUbHxCs+mkkZ4TOtitZrxiR6F0aVW1TuIGpFK6XbvWKG7nQ+prtBLBV1Hxo6ro91flzGQ+4YOj+OAK+IkTEv0xF4JYvz2M9fbgHz7Q==\"\n",
    "    }   # _token 是会变的？\n",
    "    \n",
    "    start_url = \"https://i.waimai.meituan.com/openh5/homepage/poilist?_=1650957979896\"\n",
    "    response_data = requests.post(start_url, headers=post_headers, data=post_data)\n",
    "    response_data = response_data.text  # 返回的是 str 类型的数据\n",
    "    \n",
    "    if len(response_data) < 1000:       # 判断返回数据的长度，如果小于1000则跳出for循环\n",
    "        print(\"遍历穷尽\")\n",
    "        break\n",
    "    resopnse_list.append(json.loads(response_data))     # 将 str 类型的数据转换为 json类型\n",
    "    time.sleep(2)           # 延时，每次访问数据间隔2秒。\n",
    "print(len(resopnse_list))   # 页数"
   ]
  },
  {
   "cell_type": "code",
   "execution_count": 115,
   "metadata": {},
   "outputs": [
    {
     "name": "stdout",
     "output_type": "stream",
     "text": [
      "2067\n"
     ]
    }
   ],
   "source": [
    "\"\"\"\n",
    "    数据格式化\n",
    "\"\"\"\n",
    "shop_info_list = []     # 存储所有店铺的格式化信息\n",
    "for i in range(len(resopnse_list)):\n",
    "    for j in range(len(resopnse_list[i]['data']['shopList'])):\n",
    "        shop = resopnse_list[i]['data']['shopList'][j]\n",
    "        shop_info = {\n",
    "            \"店铺名\":shop[\"shopName\"],\n",
    "            \"评分\":shop[\"wmPoiScore\"]/10,\n",
    "            \"人均\":shop[\"averagePriceTip\"],\n",
    "            \"起送\":shop[\"minPriceTip\"],\n",
    "            \"距离\":shop[\"distance\"],\n",
    "            \"配送时间\":shop[\"deliveryTimeTip\"],\n",
    "            \"月售\":shop[\"monthSalesTip\"],\n",
    "            \"地址\":shop[\"address\"],\n",
    "            \"营业时间\":shop[\"shipping_time\"],\n",
    "        }\n",
    "        shop_info_list.append(shop_info)\n",
    "print(len(shop_info_list))"
   ]
  },
  {
   "cell_type": "code",
   "execution_count": 120,
   "metadata": {},
   "outputs": [
    {
     "data": {
      "text/plain": [
       "[{'店铺名': '莲翔烟酒食品店',\n",
       "  '评分': 0.0,\n",
       "  '人均': '',\n",
       "  '起送': '起送 ¥&#xe276;&#xe559;',\n",
       "  '距离': '&#xe48a;.&#xe559;km',\n",
       "  '配送时间': '&#xe6a1;&#xe559;分钟',\n",
       "  '月售': '月售&#xe276;',\n",
       "  '地址': '镜湖新城公共服务中心绿地伊顿公馆',\n",
       "  '营业时间': '09:18-20:28'},\n",
       " {'店铺名': '情雨花艺',\n",
       "  '评分': 0.0,\n",
       "  '人均': '',\n",
       "  '起送': '起送 ¥&#xe559;',\n",
       "  '距离': '&#xe701;.&#xeb97;km',\n",
       "  '配送时间': '&#xe276;小时',\n",
       "  '月售': '月售&#xe6a1;',\n",
       "  '地址': '芜湖市弋江区南瑞商业街3幢1号一楼',\n",
       "  '营业时间': '07:30-22:30'},\n",
       " {'店铺名': '世界茶饮（小九华店）',\n",
       "  '评分': 0.0,\n",
       "  '人均': '',\n",
       "  '起送': '起送 ¥&#xe559;',\n",
       "  '距离': '&#xf880;.&#xf880;km',\n",
       "  '配送时间': '&#xe6a1;&#xeb97;分钟',\n",
       "  '月售': '月售&#xe276;',\n",
       "  '地址': '芜湖市镜湖区北京中路2号名铸置业广场裙楼商铺102',\n",
       "  '营业时间': '10:00-13:00'}]"
      ]
     },
     "execution_count": 120,
     "metadata": {},
     "output_type": "execute_result"
    }
   ],
   "source": [
    "# 最后 3 家\n",
    "shop_info_list[-3:]"
   ]
  },
  {
   "cell_type": "markdown",
   "metadata": {},
   "source": [
    "# 代码说明"
   ]
  },
  {
   "cell_type": "markdown",
   "metadata": {},
   "source": [
    "## 一、post_headers数据来源\n",
    "\n",
    "#### 1、第一步：`F12` -> `网络`\n",
    "<div align=\"center\">\n",
    "<a name=\"ML\"></a>\n",
    "<img src=\"../../../images/c2d3eef8e66a5e63ee41bf93ec055a76516a0f73c7c25be2f017165f315ad212.png\" alt=\"ML\" width=\"67.5%\" height=\"67.5%\"/>\n",
    "<br>图 1</div>\n",
    "\n",
    "\n",
    "#### 2、第二步：选择`Fetch/XHR`\n",
    "- 注：现在我还不知道为什么要选择`Fetch/XHR`，没去了解，后续有时间再看看为什么\n",
    "- 依次点击左边的文件，然后点击预览，找到包含店铺数据的文件（`预览`中可以看到数据细节）\n",
    "<div align=\"center\">\n",
    "<img src=\"../../../images/8ddc40509f023b8bdfca521abe4a71e1b27bc906b18fe0134ed9277972abedc1.png\" alt=\"ML\" width=\"67.5%\" height=\"67.5%\"/>\n",
    "<br>图 2</div>\n",
    "\n",
    "#### 3、第三步：选择`标头`\n",
    "- 查看`请求标头`的数据\n",
    "- 这里的数据就是我们需要的`post_headers`\n",
    "\n",
    "<div align=\"center\">\n",
    "<img src=\"../../../images/a1ec39ba8344e60b00c23a03a92b289544928b1e2300cfb5880e7da49ea6e872.png\" alt=\"ML\" width=\"67.5%\" height=\"67.5%\"/>\n",
    "<br>图 3</div>\n",
    "\n",
    "#### 4、第四步：将数据放入定义的`post_headers`中\n",
    "\n",
    "- 将这些数据原封不动的复制到我们定义的`post_headers`字典中\n",
    "- 不是所有的字段数据都要放进来\n",
    "```Python\n",
    "post_headers = {\n",
    "    \"Accept\": \"*/*\"\n",
    "    \"Accept-Encoding\": \"gzip, deflate, br\",\n",
    "    \"Accept-Language\": \"en-US,en;q=0.9,zh-CN;q=0.8,zh;q=0.7\",\n",
    "    \"Connection\": \"keep-alive\",\n",
    "    \"Content-Length\": \"1329\",\n",
    "    \"Content-Type\": \"application/x-www-form-urlencoded\",\n",
    "    \"Cookie\": \"Cookie参数\",     # 太长了，我没写。\n",
    "    \"Host\": \"i.waimai.meituan.com\",\n",
    "    \"Origin\": \"https://h5.waimai.meituan.com\",\n",
    "    \"Referer\": \"https://h5.waimai.meituan.com/\",\n",
    "    \"Sec-Fetch-Dest\": \"empty\",\n",
    "    \"Sec-Fetch-Mode\": \"cors\",\n",
    "    \"Sec-Fetch-Site\": \"same-site\",\n",
    "    \"User-Agent\": \"Mozilla/5.0 (iPhone; CPU iPhone OS 13_2_3 like Mac OS X) AppleWebKit/605.1.15 (KHTML, like Gecko) Version/13.0.3 Mobile/15E148 Safari/604.1\"\n",
    "}\n",
    "\n",
    "```"
   ]
  },
  {
   "cell_type": "markdown",
   "metadata": {},
   "source": [
    "## 二、post_data\n",
    "\n",
    "#### 1、第一步：点击`载荷`\n",
    "- 下面的`表单数据`就是我们需要的`post_data`\n",
    "\n",
    "<div align=\"center\">\n",
    "<img src=\"../../../images/24e2f5cdc3a7eee9a5bd2be642f1488f726bb3f193700f531d6be02cbd4a49bb.png\" alt=\"ML\" width=\"67.5%\" height=\"67.5%\"/>\n",
    "<br>图 4</div>\n",
    "\n",
    "- 将其复制到我们定义的`post_data`中\n",
    "\n",
    "\n",
    "```Python\n",
    "post_data={\n",
    "    \"startIndex\":i,         #控制页码\n",
    "    \"uuid\":\"C1C8C763F975395D99BCC2DFA37AFE325BFBD519079EC8859B9F4E58034D87E4\",\n",
    "    \"originUrl\":\"https://h5.waimai.meituan.com/waimai/mindex/home\",\n",
    "    \"wm_actual_latitude\":\"31338023\",\n",
    "    \"wm_actual_longitude\":\"118412192\",\n",
    "    \"openh5_uuid\":\"C1C8C763F975395D99BCC2DFA37AFE325BFBD519079EC8859B9F4E58034D87E4\",\n",
    "    \"_token\":\"_token参数\"   # 太长了\n",
    "}\n",
    "```"
   ]
  },
  {
   "cell_type": "markdown",
   "metadata": {},
   "source": [
    "## 三、采集数据\n",
    "\n",
    "```Python\n",
    "response_data = requests.post(\"https://i.waimai.meituan.com/openh5/homepage/poilist?_=1650957979896\",headers = post_headers, data = post_data).text\n",
    "\n",
    "#判断返回数据的长度，如果小于1000则跳出for循环\n",
    "if len(response_data)<1000:\n",
    "    break\n",
    "else:\n",
    "    print(response_data)\n",
    "```\n",
    "\n",
    "- 这里`psot`请求的网址为：`标头 —> 常规`中的`请求网址`\n",
    "- 虽然每页`poilist?_=`后的数字不同，但不影响我们爬取其他页的数据\n",
    "- 【原因未知，尚未求知】\n",
    "\n",
    "<div align=\"center\">\n",
    "<img src=\"../../../images/2ebfa37e090fbab62f3bb339d5ccd39c28926f2a9e69001d5a874d1b06916fdd.png\" alt=\"ML\" width=\"67.5%\" height=\"67.5%\"/>\n",
    "<br>图 5</div>\n",
    "\n"
   ]
  },
  {
   "cell_type": "markdown",
   "metadata": {},
   "source": [
    "# 展示"
   ]
  },
  {
   "cell_type": "markdown",
   "metadata": {},
   "source": [
    "## 一、店铺名"
   ]
  },
  {
   "cell_type": "code",
   "execution_count": 61,
   "metadata": {},
   "outputs": [
    {
     "name": "stdout",
     "output_type": "stream",
     "text": [
      "**************************************************\n",
      "**************************************************\n",
      "老乡鸡（芜湖伟星时代之光店）\n",
      "口口香瓦香鸡米饭(安工程店)\n",
      "香辣王炒饭炒面\n",
      "F+牛肉饭（安工程店）\n",
      "疆小赞·新疆炒米粉（安工程店）\n",
      "夜小宴·卤味研究所（时代之光店）\n",
      "麦子小碗菜（万达店）\n",
      "十元小食堂·千层小花卷·猪油拌饭（芜湖店）\n",
      "华莱士.全鸡汉堡（快慢里安工程店）\n",
      "松庐快餐煲仔饭（安工程店）\n",
      "影星麻辣烫（城东店）\n",
      "嗨族拌面（安工程店）\n",
      "松庐台湾卤肉饭（安工程店）\n",
      "麦当劳麦乐送（芜湖万达店）\n",
      "肯德基宅急送（弋江中路店）\n",
      "小菜园新徽菜（芜湖星悦广场店）\n",
      "CoCo都可（芜湖万达店）\n",
      "詹记桃酥（芜湖万达店）\n",
      "7cake榴莲千层蛋糕（芜湖店）\n",
      "老娘舅（文化路店）\n",
      "**************************************************\n",
      "**************************************************\n",
      "爱尚水果大卖场\n",
      "茶百道（镜湖万达店）\n",
      "古茗（鸠江星悦广场店）\n",
      "1点点（芜湖快慢里店）\n",
      "红旗大个子麻辣烫（伟星城店）\n",
      "金佬馆川菜（星悦广场店）\n",
      "CoCo都可（星悦广场店）\n",
      "蓉蓉家常菜\n",
      "绿篮子（玖樟台店）\n",
      "淮南牛肉汤（鲁范记左岸店）\n",
      "蜜雪冰城（东方红郡店）\n",
      "茶百道（芜湖星悦广场店）\n",
      "古茗（时代之光店）\n",
      "小高米线（星悦店）\n",
      "BBQ韩国炸鸡(东郊路总店）\n",
      "瑞幸咖啡luckincoffee(安徽工程大学校外店)\n",
      "CoCo都可(绿地缤纷店)\n",
      "1点点(芜湖星悦广场店)\n",
      "波波烤鸭（东方红郡店）\n",
      "陆记龙虾花甲\n"
     ]
    }
   ],
   "source": [
    "for i in range(len(resopnse_list)):\n",
    "    print(\"*\"*50, '\\n', \"*\"*50, sep='')\n",
    "    for j in range(len(resopnse_list[i]['data']['shopList'])):\n",
    "        print(resopnse_list[i]['data']['shopList'][j]['shopName'])"
   ]
  },
  {
   "cell_type": "markdown",
   "metadata": {},
   "source": [
    "## 二、字典"
   ]
  },
  {
   "cell_type": "code",
   "execution_count": 91,
   "metadata": {},
   "outputs": [],
   "source": [
    "shop_info_list = []\n",
    "for i in range(len(resopnse_list)):\n",
    "    for j in range(len(resopnse_list[i]['data']['shopList'])):\n",
    "        shop = resopnse_list[i]['data']['shopList'][j]\n",
    "        shop_info = {\n",
    "            \"店铺名\":shop[\"shopName\"],\n",
    "            \"评分\":shop[\"wmPoiScore\"]/10,\n",
    "            \"人均\":shop[\"averagePriceTip\"],\n",
    "            \"起送\":shop[\"minPriceTip\"],\n",
    "            \"距离\":shop[\"distance\"],\n",
    "            \"配送时间\":shop[\"deliveryTimeTip\"],\n",
    "            \"月售\":shop[\"monthSalesTip\"],\n",
    "            \"地址\":shop[\"address\"],\n",
    "            \"营业时间\":shop[\"shipping_time\"],\n",
    "        }\n",
    "        shop_info_list.append(shop_info)"
   ]
  },
  {
   "cell_type": "code",
   "execution_count": 93,
   "metadata": {},
   "outputs": [
    {
     "data": {
      "text/plain": [
       "40"
      ]
     },
     "execution_count": 93,
     "metadata": {},
     "output_type": "execute_result"
    }
   ],
   "source": []
  }
 ],
 "metadata": {
  "interpreter": {
   "hash": "916dbcbb3f70747c44a77c7bcd40155683ae19c65e1c03b4aa3499c5328201f1"
  },
  "kernelspec": {
   "display_name": "Python 3.8.10 64-bit",
   "language": "python",
   "name": "python3"
  },
  "language_info": {
   "codemirror_mode": {
    "name": "ipython",
    "version": 3
   },
   "file_extension": ".py",
   "mimetype": "text/x-python",
   "name": "python",
   "nbconvert_exporter": "python",
   "pygments_lexer": "ipython3",
   "version": "3.8.10"
  },
  "orig_nbformat": 4
 },
 "nbformat": 4,
 "nbformat_minor": 2
}
