{
 "cells": [
  {
   "cell_type": "markdown",
   "metadata": {},
   "source": [
    "### 旅游网"
   ]
  },
  {
   "cell_type": "code",
   "execution_count": 5,
   "metadata": {},
   "outputs": [
    {
     "name": "stdout",
     "output_type": "stream",
     "text": [
      "<Response [200]>\n"
     ]
    }
   ],
   "source": [
    "from bs4 import BeautifulSoup\n",
    "import requests\n",
    "import random\n",
    "\n",
    "'''\n",
    "    [python爬虫设置请求消息头(headers)](https://blog.csdn.net/aaronjny/article/details/62088640)\n",
    "'''\n",
    "headers = {\n",
    "    'Accept': '*/*',\n",
    "    'Accept-Language': 'en-US,en;q=0.8',\n",
    "    'Cache-Control': 'max-age=0',\n",
    "    'User-Agent': 'Mozilla/5.0 (X11; Linux x86_64) AppleWebKit/537.36 (KHTML, like Gecko) Chrome/48.0.2564.116 Safari/537.36',\n",
    "    'Connection': 'keep-alive',\n",
    "    'Referer': 'http://www.baidu.com/'\n",
    "}\n",
    "\n",
    "url = 'http://www.cntour.cn/'\n",
    "strhtml = requests.get(url, headers=headers)     ## 返回一个response\n",
    "soup = BeautifulSoup(strhtml.text, 'lxml')"
   ]
  },
  {
   "cell_type": "markdown",
   "metadata": {},
   "source": [
    "**失败**"
   ]
  },
  {
   "cell_type": "code",
   "execution_count": 7,
   "metadata": {},
   "outputs": [
    {
     "data": {
      "text/plain": [
       "[<a class=\"article_title\" href=\"/h-nd-1231.html#_np=2_8590\" target=\"_blank\" title=\"数字人民币扩容，旅游业入门淘金\"><div class=\"news_titleimg\"></div> <span class=\"title_content\">\n",
       "             数字人民币扩容，旅游业入门淘金\n",
       "         </span></a>]"
      ]
     },
     "execution_count": 7,
     "metadata": {},
     "output_type": "execute_result"
    }
   ],
   "source": [
    "selector = '#m_news_info1231 > div.news_title > a'\n",
    "#module6890 > div.formMiddle.formMiddle6890 > div > div > div > div.m_news.m_new_padding_1.m_news__wrap-1 > div > div > div > div:nth-child(1)\n",
    "#m_news_info1214 > div.news_title > a\n",
    "#m_news_content > div\n",
    "data = soup.select(selector)\n",
    "data"
   ]
  },
  {
   "cell_type": "markdown",
   "metadata": {},
   "source": [
    "### 有道翻译"
   ]
  },
  {
   "cell_type": "code",
   "execution_count": 44,
   "metadata": {},
   "outputs": [
    {
     "name": "stdout",
     "output_type": "stream",
     "text": [
      "<Response [200]>\n",
      "                          {\"type\":\"ZH_CN2EN\",\"errorCode\":0,\"elapsedTime\":0,\"translateResult\":[[{\"src\":\"陶志远\",\"tgt\":\"TaoZhiYuan\"}]]}\n",
      "\n",
      "{'type': 'ZH_CN2EN', 'errorCode': 0, 'elapsedTime': 0, 'translateResult': [[{'src': '陶志远', 'tgt': 'TaoZhiYuan'}]]}\n",
      "\n",
      "翻译结果:TaoZhiYuan\n"
     ]
    }
   ],
   "source": [
    "import json\n",
    "import requests\n",
    "\n",
    "def get_translate_date(word=None):\n",
    "    url='http://fanyi.youdao.com/translate?smartresult=dict&smartresult =rule'\n",
    "    Form_data = {'i':word, 'from':'AUTO','to': 'AUTO','smartresult': 'dict', 'client':'fanyideskweb',\n",
    "                'salt':'1512399450582','sign':'78181ebbdcb38de9b4a3f4cd1d3 8816b','doctype':'json',\n",
    "                'version': '2.1','keyfrom':'fanyi.web','action':'FY_BY_ CLICKBUTTION','typoResult':'false'\n",
    "    }\t\n",
    "\n",
    "    # 请求表单数据\n",
    "    response = requests.post(url, Form_data)     ## 返回一个response\n",
    "    # 将JSON格式字符串转换成字典\n",
    "    content = json.loads(response.text)\n",
    "    # 打印翻译后的数据\n",
    "    print(response)\n",
    "    print(response.text)\n",
    "    print(content)\n",
    "    print(\"\\n翻译结果:\", content['translateResult'][0][0]['tgt'], sep='')\n",
    "\n",
    "get_translate_date('陶志远')"
   ]
  },
  {
   "cell_type": "markdown",
   "metadata": {},
   "source": [
    "## 2.4、使用`BeautifulSoup`解析网页\n",
    "\n",
    "**`lxml库`**\n",
    "- 如果不安装lxml库，就会使用Python默认的解析器\n",
    "\n",
    "- 尽管`Beautiful Soup`支持Python表中库中的`HTML解析器`, 又支持一些`第三方解析器`, 但是`lxml库`的功能更加强大、速度更快"
   ]
  },
  {
   "cell_type": "code",
   "execution_count": 38,
   "metadata": {},
   "outputs": [
    {
     "name": "stdout",
     "output_type": "stream",
     "text": [
      "<Response [200]>\n"
     ]
    }
   ],
   "source": [
    "import requests\n",
    "from bs4 import BeautifulSoup\n",
    "\n",
    "url = 'https://pvp.qq.com/web201605/herolist.shtml'\n",
    "\n",
    "strhtml = requests.get(url)\n",
    "print(strhtml)\n",
    "soup = BeautifulSoup(strhtml.text, 'lxml')      # \n",
    "selector = 'body > div.wrapper > div > div > div.herolist-box > div.herolist-content > ul > li > a'\n",
    "data = soup.select(selector)"
   ]
  },
  {
   "cell_type": "code",
   "execution_count": 41,
   "metadata": {},
   "outputs": [
    {
     "data": {
      "text/plain": [
       "[{'title': 'ÔÆÖÐ¾ý',\n",
       "  'link': 'https://pvp.qq.com/web201605/herodetail/506.shtml'},\n",
       " {'title': 'Ñþ', 'link': 'https://pvp.qq.com/web201605/herodetail/505.shtml'},\n",
       " {'title': 'ÅÌ¹Å',\n",
       "  'link': 'https://pvp.qq.com/web201605/herodetail/529.shtml'},\n",
       " {'title': 'Öí°Ë½ä',\n",
       "  'link': 'https://pvp.qq.com/web201605/herodetail/511.shtml'},\n",
       " {'title': 'æÏ¶ð',\n",
       "  'link': 'https://pvp.qq.com/web201605/herodetail/515.shtml'}]"
      ]
     },
     "execution_count": 41,
     "metadata": {},
     "output_type": "execute_result"
    }
   ],
   "source": [
    "result_list = []\n",
    "for item in data:\n",
    "    result = {\n",
    "        'title':item.get_text(),\n",
    "        'link':'https://pvp.qq.com/web201605/' + item.get('href')\n",
    "    }\n",
    "    result_list.append(result)\n",
    "result_list[0:5]"
   ]
  },
  {
   "cell_type": "code",
   "execution_count": 143,
   "metadata": {},
   "outputs": [
    {
     "name": "stdout",
     "output_type": "stream",
     "text": [
      "<class 'str'>\n",
      "<class 'bs4.BeautifulSoup'>\n"
     ]
    }
   ],
   "source": [
    "print(type(strhtml.text))   # 网页类型<class 'str'>\n",
    "print(type(soup))           # 解析之后的网页类型"
   ]
  },
  {
   "cell_type": "markdown",
   "metadata": {},
   "source": [
    "### 类型\n",
    "#### 类型\n",
    "- **`requests`获取的类型为:`requests.models.Response`**【`<Response [200]>`】\n",
    "- **再`.text`后的类型为:`<class 'str'>`**\n",
    "    - 【`resopnse.text`】\n",
    "    - 【`<html><body><a href=\"https://www.ahpu.edu.cn/\">安徽工程大学</a></body></html>`】\n",
    "- \n",
    "- **`Beautiful Soup`解析后的网页类型为:`<class 'bs4.BeautifulSoup'>`**\n",
    "    - 【`<html><body><a href=\"https://www.ahpu.edu.cn/\">安徽工程大学</a></body></html>`】【整齐的】\n",
    "- \n",
    "- **`soup.select(selector)`后的类型为:`<class 'bs4.element.ResultSet'>`**\n",
    "    - `[<a href=\"https://www.ahpu.edu.cn/\">安徽工程大学</a>, <a>......</a>, <a>......</a>, ...]`【类似列表, 索引】\n",
    "\n",
    "#### 获取内容方法\n",
    "- **获取标签间的正文用`get_text()`方法**\n",
    "- **提取标签内的属性用`get()`方法**"
   ]
  },
  {
   "cell_type": "code",
   "execution_count": 136,
   "metadata": {},
   "outputs": [
    {
     "name": "stdout",
     "output_type": "stream",
     "text": [
      "【BeautifulSoup后的类型】\n",
      "<class 'bs4.BeautifulSoup'>\n",
      "\n",
      "【BeautifulSoup后的形式】\n",
      "<html><body><a href=\"https://www.ahpu.edu.cn/\">安徽工程大学</a></body></html>\n",
      "\n",
      "【到达指定标签位置】【select】\n",
      "<class 'bs4.element.ResultSet'>\n",
      "[<a href=\"https://www.ahpu.edu.cn/\">安徽工程大学</a>]\n"
     ]
    }
   ],
   "source": [
    "string = \"\"\"<a href=\"https://www.ahpu.edu.cn/\">安徽工程大学</a>\"\"\"\n",
    "soup = BeautifulSoup(string)\n",
    "data = soup.select('body > a')\n",
    "print(\"【BeautifulSoup后的类型】\\n\", type(soup), sep='')\n",
    "print(\"\\n【BeautifulSoup后的形式】\\n\", soup, sep='')\n",
    "print(\"\\n【到达指定标签位置】【select】\")\n",
    "print(type(data))\n",
    "print(data)"
   ]
  },
  {
   "cell_type": "markdown",
   "metadata": {},
   "source": [
    "#### 获取标签中正文用`get_text()`方法, 如: "
   ]
  },
  {
   "cell_type": "code",
   "execution_count": 137,
   "metadata": {},
   "outputs": [
    {
     "data": {
      "text/plain": [
       "'安徽工程大学'"
      ]
     },
     "execution_count": 137,
     "metadata": {},
     "output_type": "execute_result"
    }
   ],
   "source": [
    "data[0].get_text()"
   ]
  },
  {
   "cell_type": "markdown",
   "metadata": {},
   "source": [
    "#### 提取标签中的属性用`get()`方法, 如:"
   ]
  },
  {
   "cell_type": "code",
   "execution_count": 138,
   "metadata": {},
   "outputs": [
    {
     "data": {
      "text/plain": [
       "'https://www.ahpu.edu.cn/'"
      ]
     },
     "execution_count": 138,
     "metadata": {},
     "output_type": "execute_result"
    }
   ],
   "source": [
    "data[0].get('href')"
   ]
  },
  {
   "cell_type": "markdown",
   "metadata": {},
   "source": [
    "## 正则表达式"
   ]
  },
  {
   "cell_type": "code",
   "execution_count": 42,
   "metadata": {},
   "outputs": [
    {
     "data": {
      "text/plain": [
       "[{'title': 'ÔÆÖÐ¾ý',\n",
       "  'link': 'https://pvp.qq.com/web201605/herodetail/506.shtml',\n",
       "  'ID': ['506']},\n",
       " {'title': 'Ñþ',\n",
       "  'link': 'https://pvp.qq.com/web201605/herodetail/505.shtml',\n",
       "  'ID': ['505']},\n",
       " {'title': 'ÅÌ¹Å',\n",
       "  'link': 'https://pvp.qq.com/web201605/herodetail/529.shtml',\n",
       "  'ID': ['529']},\n",
       " {'title': 'Öí°Ë½ä',\n",
       "  'link': 'https://pvp.qq.com/web201605/herodetail/511.shtml',\n",
       "  'ID': ['511']},\n",
       " {'title': 'æÏ¶ð',\n",
       "  'link': 'https://pvp.qq.com/web201605/herodetail/515.shtml',\n",
       "  'ID': ['515']}]"
      ]
     },
     "execution_count": 42,
     "metadata": {},
     "output_type": "execute_result"
    }
   ],
   "source": [
    "import re\n",
    "\n",
    "result_list = []\n",
    "for item in data:\n",
    "    result={\n",
    "        'title':item.get_text(),\n",
    "        'link':'https://pvp.qq.com/web201605/' + item.get('href'),\n",
    "        'ID':re.findall('\\d+', item.get('href'))\n",
    "    }\n",
    "    result_list.append(result)\n",
    "result_list[0:5]"
   ]
  },
  {
   "cell_type": "markdown",
   "metadata": {},
   "source": [
    "## 反爬"
   ]
  },
  {
   "cell_type": "code",
   "execution_count": 45,
   "metadata": {},
   "outputs": [
    {
     "ename": "ProxyError",
     "evalue": "HTTPSConnectionPool(host='movie.douban.com', port=443): Max retries exceeded with url: /top250 (Caused by ProxyError('Cannot connect to proxy.', NewConnectionError('<urllib3.connection.HTTPSConnection object at 0x7f9d0414e550>: Failed to establish a new connection: [Errno -2] Name or service not known')))",
     "output_type": "error",
     "traceback": [
      "\u001b[0;31m---------------------------------------------------------------------------\u001b[0m",
      "\u001b[0;31mgaierror\u001b[0m                                  Traceback (most recent call last)",
      "File \u001b[0;32m~/.local/lib/python3.8/site-packages/urllib3/connection.py:174\u001b[0m, in \u001b[0;36mHTTPConnection._new_conn\u001b[0;34m(self)\u001b[0m\n\u001b[1;32m    <a href='file:///home/tzy/.local/lib/python3.8/site-packages/urllib3/connection.py?line=172'>173</a>\u001b[0m \u001b[39mtry\u001b[39;00m:\n\u001b[0;32m--> <a href='file:///home/tzy/.local/lib/python3.8/site-packages/urllib3/connection.py?line=173'>174</a>\u001b[0m     conn \u001b[39m=\u001b[39m connection\u001b[39m.\u001b[39;49mcreate_connection(\n\u001b[1;32m    <a href='file:///home/tzy/.local/lib/python3.8/site-packages/urllib3/connection.py?line=174'>175</a>\u001b[0m         (\u001b[39mself\u001b[39;49m\u001b[39m.\u001b[39;49m_dns_host, \u001b[39mself\u001b[39;49m\u001b[39m.\u001b[39;49mport), \u001b[39mself\u001b[39;49m\u001b[39m.\u001b[39;49mtimeout, \u001b[39m*\u001b[39;49m\u001b[39m*\u001b[39;49mextra_kw\n\u001b[1;32m    <a href='file:///home/tzy/.local/lib/python3.8/site-packages/urllib3/connection.py?line=175'>176</a>\u001b[0m     )\n\u001b[1;32m    <a href='file:///home/tzy/.local/lib/python3.8/site-packages/urllib3/connection.py?line=177'>178</a>\u001b[0m \u001b[39mexcept\u001b[39;00m SocketTimeout:\n",
      "File \u001b[0;32m~/.local/lib/python3.8/site-packages/urllib3/util/connection.py:73\u001b[0m, in \u001b[0;36mcreate_connection\u001b[0;34m(address, timeout, source_address, socket_options)\u001b[0m\n\u001b[1;32m     <a href='file:///home/tzy/.local/lib/python3.8/site-packages/urllib3/util/connection.py?line=68'>69</a>\u001b[0m     \u001b[39mreturn\u001b[39;00m six\u001b[39m.\u001b[39mraise_from(\n\u001b[1;32m     <a href='file:///home/tzy/.local/lib/python3.8/site-packages/urllib3/util/connection.py?line=69'>70</a>\u001b[0m         LocationParseError(\u001b[39mu\u001b[39m\u001b[39m\"\u001b[39m\u001b[39m'\u001b[39m\u001b[39m%s\u001b[39;00m\u001b[39m'\u001b[39m\u001b[39m, label empty or too long\u001b[39m\u001b[39m\"\u001b[39m \u001b[39m%\u001b[39m host), \u001b[39mNone\u001b[39;00m\n\u001b[1;32m     <a href='file:///home/tzy/.local/lib/python3.8/site-packages/urllib3/util/connection.py?line=70'>71</a>\u001b[0m     )\n\u001b[0;32m---> <a href='file:///home/tzy/.local/lib/python3.8/site-packages/urllib3/util/connection.py?line=72'>73</a>\u001b[0m \u001b[39mfor\u001b[39;00m res \u001b[39min\u001b[39;00m socket\u001b[39m.\u001b[39;49mgetaddrinfo(host, port, family, socket\u001b[39m.\u001b[39;49mSOCK_STREAM):\n\u001b[1;32m     <a href='file:///home/tzy/.local/lib/python3.8/site-packages/urllib3/util/connection.py?line=73'>74</a>\u001b[0m     af, socktype, proto, canonname, sa \u001b[39m=\u001b[39m res\n",
      "File \u001b[0;32m/usr/lib/python3.8/socket.py:918\u001b[0m, in \u001b[0;36mgetaddrinfo\u001b[0;34m(host, port, family, type, proto, flags)\u001b[0m\n\u001b[1;32m    <a href='file:///usr/lib/python3.8/socket.py?line=916'>917</a>\u001b[0m addrlist \u001b[39m=\u001b[39m []\n\u001b[0;32m--> <a href='file:///usr/lib/python3.8/socket.py?line=917'>918</a>\u001b[0m \u001b[39mfor\u001b[39;00m res \u001b[39min\u001b[39;00m _socket\u001b[39m.\u001b[39;49mgetaddrinfo(host, port, family, \u001b[39mtype\u001b[39;49m, proto, flags):\n\u001b[1;32m    <a href='file:///usr/lib/python3.8/socket.py?line=918'>919</a>\u001b[0m     af, socktype, proto, canonname, sa \u001b[39m=\u001b[39m res\n",
      "\u001b[0;31mgaierror\u001b[0m: [Errno -2] Name or service not known",
      "\nDuring handling of the above exception, another exception occurred:\n",
      "\u001b[0;31mNewConnectionError\u001b[0m                        Traceback (most recent call last)",
      "File \u001b[0;32m~/.local/lib/python3.8/site-packages/urllib3/connectionpool.py:696\u001b[0m, in \u001b[0;36mHTTPConnectionPool.urlopen\u001b[0;34m(self, method, url, body, headers, retries, redirect, assert_same_host, timeout, pool_timeout, release_conn, chunked, body_pos, **response_kw)\u001b[0m\n\u001b[1;32m    <a href='file:///home/tzy/.local/lib/python3.8/site-packages/urllib3/connectionpool.py?line=694'>695</a>\u001b[0m \u001b[39mif\u001b[39;00m is_new_proxy_conn \u001b[39mand\u001b[39;00m http_tunnel_required:\n\u001b[0;32m--> <a href='file:///home/tzy/.local/lib/python3.8/site-packages/urllib3/connectionpool.py?line=695'>696</a>\u001b[0m     \u001b[39mself\u001b[39;49m\u001b[39m.\u001b[39;49m_prepare_proxy(conn)\n\u001b[1;32m    <a href='file:///home/tzy/.local/lib/python3.8/site-packages/urllib3/connectionpool.py?line=697'>698</a>\u001b[0m \u001b[39m# Make the request on the httplib connection object.\u001b[39;00m\n",
      "File \u001b[0;32m~/.local/lib/python3.8/site-packages/urllib3/connectionpool.py:964\u001b[0m, in \u001b[0;36mHTTPSConnectionPool._prepare_proxy\u001b[0;34m(self, conn)\u001b[0m\n\u001b[1;32m    <a href='file:///home/tzy/.local/lib/python3.8/site-packages/urllib3/connectionpool.py?line=961'>962</a>\u001b[0m     conn\u001b[39m.\u001b[39mtls_in_tls_required \u001b[39m=\u001b[39m \u001b[39mTrue\u001b[39;00m\n\u001b[0;32m--> <a href='file:///home/tzy/.local/lib/python3.8/site-packages/urllib3/connectionpool.py?line=963'>964</a>\u001b[0m conn\u001b[39m.\u001b[39;49mconnect()\n",
      "File \u001b[0;32m~/.local/lib/python3.8/site-packages/urllib3/connection.py:358\u001b[0m, in \u001b[0;36mHTTPSConnection.connect\u001b[0;34m(self)\u001b[0m\n\u001b[1;32m    <a href='file:///home/tzy/.local/lib/python3.8/site-packages/urllib3/connection.py?line=355'>356</a>\u001b[0m \u001b[39mdef\u001b[39;00m \u001b[39mconnect\u001b[39m(\u001b[39mself\u001b[39m):\n\u001b[1;32m    <a href='file:///home/tzy/.local/lib/python3.8/site-packages/urllib3/connection.py?line=356'>357</a>\u001b[0m     \u001b[39m# Add certificate verification\u001b[39;00m\n\u001b[0;32m--> <a href='file:///home/tzy/.local/lib/python3.8/site-packages/urllib3/connection.py?line=357'>358</a>\u001b[0m     conn \u001b[39m=\u001b[39m \u001b[39mself\u001b[39;49m\u001b[39m.\u001b[39;49m_new_conn()\n\u001b[1;32m    <a href='file:///home/tzy/.local/lib/python3.8/site-packages/urllib3/connection.py?line=358'>359</a>\u001b[0m     hostname \u001b[39m=\u001b[39m \u001b[39mself\u001b[39m\u001b[39m.\u001b[39mhost\n",
      "File \u001b[0;32m~/.local/lib/python3.8/site-packages/urllib3/connection.py:186\u001b[0m, in \u001b[0;36mHTTPConnection._new_conn\u001b[0;34m(self)\u001b[0m\n\u001b[1;32m    <a href='file:///home/tzy/.local/lib/python3.8/site-packages/urllib3/connection.py?line=184'>185</a>\u001b[0m \u001b[39mexcept\u001b[39;00m SocketError \u001b[39mas\u001b[39;00m e:\n\u001b[0;32m--> <a href='file:///home/tzy/.local/lib/python3.8/site-packages/urllib3/connection.py?line=185'>186</a>\u001b[0m     \u001b[39mraise\u001b[39;00m NewConnectionError(\n\u001b[1;32m    <a href='file:///home/tzy/.local/lib/python3.8/site-packages/urllib3/connection.py?line=186'>187</a>\u001b[0m         \u001b[39mself\u001b[39m, \u001b[39m\"\u001b[39m\u001b[39mFailed to establish a new connection: \u001b[39m\u001b[39m%s\u001b[39;00m\u001b[39m\"\u001b[39m \u001b[39m%\u001b[39m e\n\u001b[1;32m    <a href='file:///home/tzy/.local/lib/python3.8/site-packages/urllib3/connection.py?line=187'>188</a>\u001b[0m     )\n\u001b[1;32m    <a href='file:///home/tzy/.local/lib/python3.8/site-packages/urllib3/connection.py?line=189'>190</a>\u001b[0m \u001b[39mreturn\u001b[39;00m conn\n",
      "\u001b[0;31mNewConnectionError\u001b[0m: <urllib3.connection.HTTPSConnection object at 0x7f9d0414e550>: Failed to establish a new connection: [Errno -2] Name or service not known",
      "\nDuring handling of the above exception, another exception occurred:\n",
      "\u001b[0;31mMaxRetryError\u001b[0m                             Traceback (most recent call last)",
      "File \u001b[0;32m~/.local/lib/python3.8/site-packages/requests/adapters.py:439\u001b[0m, in \u001b[0;36mHTTPAdapter.send\u001b[0;34m(self, request, stream, timeout, verify, cert, proxies)\u001b[0m\n\u001b[1;32m    <a href='file:///home/tzy/.local/lib/python3.8/site-packages/requests/adapters.py?line=437'>438</a>\u001b[0m \u001b[39mif\u001b[39;00m \u001b[39mnot\u001b[39;00m chunked:\n\u001b[0;32m--> <a href='file:///home/tzy/.local/lib/python3.8/site-packages/requests/adapters.py?line=438'>439</a>\u001b[0m     resp \u001b[39m=\u001b[39m conn\u001b[39m.\u001b[39;49murlopen(\n\u001b[1;32m    <a href='file:///home/tzy/.local/lib/python3.8/site-packages/requests/adapters.py?line=439'>440</a>\u001b[0m         method\u001b[39m=\u001b[39;49mrequest\u001b[39m.\u001b[39;49mmethod,\n\u001b[1;32m    <a href='file:///home/tzy/.local/lib/python3.8/site-packages/requests/adapters.py?line=440'>441</a>\u001b[0m         url\u001b[39m=\u001b[39;49murl,\n\u001b[1;32m    <a href='file:///home/tzy/.local/lib/python3.8/site-packages/requests/adapters.py?line=441'>442</a>\u001b[0m         body\u001b[39m=\u001b[39;49mrequest\u001b[39m.\u001b[39;49mbody,\n\u001b[1;32m    <a href='file:///home/tzy/.local/lib/python3.8/site-packages/requests/adapters.py?line=442'>443</a>\u001b[0m         headers\u001b[39m=\u001b[39;49mrequest\u001b[39m.\u001b[39;49mheaders,\n\u001b[1;32m    <a href='file:///home/tzy/.local/lib/python3.8/site-packages/requests/adapters.py?line=443'>444</a>\u001b[0m         redirect\u001b[39m=\u001b[39;49m\u001b[39mFalse\u001b[39;49;00m,\n\u001b[1;32m    <a href='file:///home/tzy/.local/lib/python3.8/site-packages/requests/adapters.py?line=444'>445</a>\u001b[0m         assert_same_host\u001b[39m=\u001b[39;49m\u001b[39mFalse\u001b[39;49;00m,\n\u001b[1;32m    <a href='file:///home/tzy/.local/lib/python3.8/site-packages/requests/adapters.py?line=445'>446</a>\u001b[0m         preload_content\u001b[39m=\u001b[39;49m\u001b[39mFalse\u001b[39;49;00m,\n\u001b[1;32m    <a href='file:///home/tzy/.local/lib/python3.8/site-packages/requests/adapters.py?line=446'>447</a>\u001b[0m         decode_content\u001b[39m=\u001b[39;49m\u001b[39mFalse\u001b[39;49;00m,\n\u001b[1;32m    <a href='file:///home/tzy/.local/lib/python3.8/site-packages/requests/adapters.py?line=447'>448</a>\u001b[0m         retries\u001b[39m=\u001b[39;49m\u001b[39mself\u001b[39;49m\u001b[39m.\u001b[39;49mmax_retries,\n\u001b[1;32m    <a href='file:///home/tzy/.local/lib/python3.8/site-packages/requests/adapters.py?line=448'>449</a>\u001b[0m         timeout\u001b[39m=\u001b[39;49mtimeout\n\u001b[1;32m    <a href='file:///home/tzy/.local/lib/python3.8/site-packages/requests/adapters.py?line=449'>450</a>\u001b[0m     )\n\u001b[1;32m    <a href='file:///home/tzy/.local/lib/python3.8/site-packages/requests/adapters.py?line=451'>452</a>\u001b[0m \u001b[39m# Send the request.\u001b[39;00m\n\u001b[1;32m    <a href='file:///home/tzy/.local/lib/python3.8/site-packages/requests/adapters.py?line=452'>453</a>\u001b[0m \u001b[39melse\u001b[39;00m:\n",
      "File \u001b[0;32m~/.local/lib/python3.8/site-packages/urllib3/connectionpool.py:755\u001b[0m, in \u001b[0;36mHTTPConnectionPool.urlopen\u001b[0;34m(self, method, url, body, headers, retries, redirect, assert_same_host, timeout, pool_timeout, release_conn, chunked, body_pos, **response_kw)\u001b[0m\n\u001b[1;32m    <a href='file:///home/tzy/.local/lib/python3.8/site-packages/urllib3/connectionpool.py?line=752'>753</a>\u001b[0m     e \u001b[39m=\u001b[39m ProtocolError(\u001b[39m\"\u001b[39m\u001b[39mConnection aborted.\u001b[39m\u001b[39m\"\u001b[39m, e)\n\u001b[0;32m--> <a href='file:///home/tzy/.local/lib/python3.8/site-packages/urllib3/connectionpool.py?line=754'>755</a>\u001b[0m retries \u001b[39m=\u001b[39m retries\u001b[39m.\u001b[39;49mincrement(\n\u001b[1;32m    <a href='file:///home/tzy/.local/lib/python3.8/site-packages/urllib3/connectionpool.py?line=755'>756</a>\u001b[0m     method, url, error\u001b[39m=\u001b[39;49me, _pool\u001b[39m=\u001b[39;49m\u001b[39mself\u001b[39;49m, _stacktrace\u001b[39m=\u001b[39;49msys\u001b[39m.\u001b[39;49mexc_info()[\u001b[39m2\u001b[39;49m]\n\u001b[1;32m    <a href='file:///home/tzy/.local/lib/python3.8/site-packages/urllib3/connectionpool.py?line=756'>757</a>\u001b[0m )\n\u001b[1;32m    <a href='file:///home/tzy/.local/lib/python3.8/site-packages/urllib3/connectionpool.py?line=757'>758</a>\u001b[0m retries\u001b[39m.\u001b[39msleep()\n",
      "File \u001b[0;32m~/.local/lib/python3.8/site-packages/urllib3/util/retry.py:574\u001b[0m, in \u001b[0;36mRetry.increment\u001b[0;34m(self, method, url, response, error, _pool, _stacktrace)\u001b[0m\n\u001b[1;32m    <a href='file:///home/tzy/.local/lib/python3.8/site-packages/urllib3/util/retry.py?line=572'>573</a>\u001b[0m \u001b[39mif\u001b[39;00m new_retry\u001b[39m.\u001b[39mis_exhausted():\n\u001b[0;32m--> <a href='file:///home/tzy/.local/lib/python3.8/site-packages/urllib3/util/retry.py?line=573'>574</a>\u001b[0m     \u001b[39mraise\u001b[39;00m MaxRetryError(_pool, url, error \u001b[39mor\u001b[39;00m ResponseError(cause))\n\u001b[1;32m    <a href='file:///home/tzy/.local/lib/python3.8/site-packages/urllib3/util/retry.py?line=575'>576</a>\u001b[0m log\u001b[39m.\u001b[39mdebug(\u001b[39m\"\u001b[39m\u001b[39mIncremented Retry for (url=\u001b[39m\u001b[39m'\u001b[39m\u001b[39m%s\u001b[39;00m\u001b[39m'\u001b[39m\u001b[39m): \u001b[39m\u001b[39m%r\u001b[39;00m\u001b[39m\"\u001b[39m, url, new_retry)\n",
      "\u001b[0;31mMaxRetryError\u001b[0m: HTTPSConnectionPool(host='movie.douban.com', port=443): Max retries exceeded with url: /top250 (Caused by ProxyError('Cannot connect to proxy.', NewConnectionError('<urllib3.connection.HTTPSConnection object at 0x7f9d0414e550>: Failed to establish a new connection: [Errno -2] Name or service not known')))",
      "\nDuring handling of the above exception, another exception occurred:\n",
      "\u001b[0;31mProxyError\u001b[0m                                Traceback (most recent call last)",
      "\u001b[1;32m/home/tzy/文档/Project/OWN--Python_Study/爬虫/《Python3爬虫、数据清洗与数据可视化》第2版/Chapter.ipynb Cell 20'\u001b[0m in \u001b[0;36m<cell line: 25>\u001b[0;34m()\u001b[0m\n\u001b[1;32m     <a href='vscode-notebook-cell:/home/tzy/%E6%96%87%E6%A1%A3/Project/OWN--Python_Study/%E7%88%AC%E8%99%AB/%E3%80%8APython3%E7%88%AC%E8%99%AB%E3%80%81%E6%95%B0%E6%8D%AE%E6%B8%85%E6%B4%97%E4%B8%8E%E6%95%B0%E6%8D%AE%E5%8F%AF%E8%A7%86%E5%8C%96%E3%80%8B%E7%AC%AC2%E7%89%88/Chapter.ipynb#ch0000023?line=18'>19</a>\u001b[0m proxies \u001b[39m=\u001b[39m {\n\u001b[1;32m     <a href='vscode-notebook-cell:/home/tzy/%E6%96%87%E6%A1%A3/Project/OWN--Python_Study/%E7%88%AC%E8%99%AB/%E3%80%8APython3%E7%88%AC%E8%99%AB%E3%80%81%E6%95%B0%E6%8D%AE%E6%B8%85%E6%B4%97%E4%B8%8E%E6%95%B0%E6%8D%AE%E5%8F%AF%E8%A7%86%E5%8C%96%E3%80%8B%E7%AC%AC2%E7%89%88/Chapter.ipynb#ch0000023?line=19'>20</a>\u001b[0m     \u001b[39m\"\u001b[39m\u001b[39mhttp\u001b[39m\u001b[39m\"\u001b[39m:\u001b[39m\"\u001b[39m\u001b[39mhttp://10.10.1.10.3128\u001b[39m\u001b[39m\"\u001b[39m,\n\u001b[1;32m     <a href='vscode-notebook-cell:/home/tzy/%E6%96%87%E6%A1%A3/Project/OWN--Python_Study/%E7%88%AC%E8%99%AB/%E3%80%8APython3%E7%88%AC%E8%99%AB%E3%80%81%E6%95%B0%E6%8D%AE%E6%B8%85%E6%B4%97%E4%B8%8E%E6%95%B0%E6%8D%AE%E5%8F%AF%E8%A7%86%E5%8C%96%E3%80%8B%E7%AC%AC2%E7%89%88/Chapter.ipynb#ch0000023?line=20'>21</a>\u001b[0m     \u001b[39m\"\u001b[39m\u001b[39mhttps\u001b[39m\u001b[39m\"\u001b[39m:\u001b[39m\"\u001b[39m\u001b[39mhttp://10.10.1.10.1080\u001b[39m\u001b[39m\"\u001b[39m\n\u001b[1;32m     <a href='vscode-notebook-cell:/home/tzy/%E6%96%87%E6%A1%A3/Project/OWN--Python_Study/%E7%88%AC%E8%99%AB/%E3%80%8APython3%E7%88%AC%E8%99%AB%E3%80%81%E6%95%B0%E6%8D%AE%E6%B8%85%E6%B4%97%E4%B8%8E%E6%95%B0%E6%8D%AE%E5%8F%AF%E8%A7%86%E5%8C%96%E3%80%8B%E7%AC%AC2%E7%89%88/Chapter.ipynb#ch0000023?line=21'>22</a>\u001b[0m }\n\u001b[1;32m     <a href='vscode-notebook-cell:/home/tzy/%E6%96%87%E6%A1%A3/Project/OWN--Python_Study/%E7%88%AC%E8%99%AB/%E3%80%8APython3%E7%88%AC%E8%99%AB%E3%80%81%E6%95%B0%E6%8D%AE%E6%B8%85%E6%B4%97%E4%B8%8E%E6%95%B0%E6%8D%AE%E5%8F%AF%E8%A7%86%E5%8C%96%E3%80%8B%E7%AC%AC2%E7%89%88/Chapter.ipynb#ch0000023?line=23'>24</a>\u001b[0m url \u001b[39m=\u001b[39m \u001b[39m'\u001b[39m\u001b[39mhttps://movie.douban.com/top250\u001b[39m\u001b[39m'\u001b[39m\n\u001b[0;32m---> <a href='vscode-notebook-cell:/home/tzy/%E6%96%87%E6%A1%A3/Project/OWN--Python_Study/%E7%88%AC%E8%99%AB/%E3%80%8APython3%E7%88%AC%E8%99%AB%E3%80%81%E6%95%B0%E6%8D%AE%E6%B8%85%E6%B4%97%E4%B8%8E%E6%95%B0%E6%8D%AE%E5%8F%AF%E8%A7%86%E5%8C%96%E3%80%8B%E7%AC%AC2%E7%89%88/Chapter.ipynb#ch0000023?line=24'>25</a>\u001b[0m strhtml \u001b[39m=\u001b[39m requests\u001b[39m.\u001b[39;49mget(url, headers\u001b[39m=\u001b[39;49mheaders, proxies\u001b[39m=\u001b[39;49mproxies)     \u001b[39m## 返回一个response\u001b[39;00m\n\u001b[1;32m     <a href='vscode-notebook-cell:/home/tzy/%E6%96%87%E6%A1%A3/Project/OWN--Python_Study/%E7%88%AC%E8%99%AB/%E3%80%8APython3%E7%88%AC%E8%99%AB%E3%80%81%E6%95%B0%E6%8D%AE%E6%B8%85%E6%B4%97%E4%B8%8E%E6%95%B0%E6%8D%AE%E5%8F%AF%E8%A7%86%E5%8C%96%E3%80%8B%E7%AC%AC2%E7%89%88/Chapter.ipynb#ch0000023?line=25'>26</a>\u001b[0m \u001b[39mprint\u001b[39m(strhtml)\n\u001b[1;32m     <a href='vscode-notebook-cell:/home/tzy/%E6%96%87%E6%A1%A3/Project/OWN--Python_Study/%E7%88%AC%E8%99%AB/%E3%80%8APython3%E7%88%AC%E8%99%AB%E3%80%81%E6%95%B0%E6%8D%AE%E6%B8%85%E6%B4%97%E4%B8%8E%E6%95%B0%E6%8D%AE%E5%8F%AF%E8%A7%86%E5%8C%96%E3%80%8B%E7%AC%AC2%E7%89%88/Chapter.ipynb#ch0000023?line=26'>27</a>\u001b[0m soup \u001b[39m=\u001b[39m BeautifulSoup(strhtml\u001b[39m.\u001b[39mtext, \u001b[39m'\u001b[39m\u001b[39mlxml\u001b[39m\u001b[39m'\u001b[39m)\n",
      "File \u001b[0;32m~/.local/lib/python3.8/site-packages/requests/api.py:76\u001b[0m, in \u001b[0;36mget\u001b[0;34m(url, params, **kwargs)\u001b[0m\n\u001b[1;32m     <a href='file:///home/tzy/.local/lib/python3.8/site-packages/requests/api.py?line=64'>65</a>\u001b[0m \u001b[39mr\u001b[39m\u001b[39m\"\"\"Sends a GET request.\u001b[39;00m\n\u001b[1;32m     <a href='file:///home/tzy/.local/lib/python3.8/site-packages/requests/api.py?line=65'>66</a>\u001b[0m \n\u001b[1;32m     <a href='file:///home/tzy/.local/lib/python3.8/site-packages/requests/api.py?line=66'>67</a>\u001b[0m \u001b[39m:param url: URL for the new :class:`Request` object.\u001b[39;00m\n\u001b[0;32m   (...)\u001b[0m\n\u001b[1;32m     <a href='file:///home/tzy/.local/lib/python3.8/site-packages/requests/api.py?line=71'>72</a>\u001b[0m \u001b[39m:rtype: requests.Response\u001b[39;00m\n\u001b[1;32m     <a href='file:///home/tzy/.local/lib/python3.8/site-packages/requests/api.py?line=72'>73</a>\u001b[0m \u001b[39m\"\"\"\u001b[39;00m\n\u001b[1;32m     <a href='file:///home/tzy/.local/lib/python3.8/site-packages/requests/api.py?line=74'>75</a>\u001b[0m kwargs\u001b[39m.\u001b[39msetdefault(\u001b[39m'\u001b[39m\u001b[39mallow_redirects\u001b[39m\u001b[39m'\u001b[39m, \u001b[39mTrue\u001b[39;00m)\n\u001b[0;32m---> <a href='file:///home/tzy/.local/lib/python3.8/site-packages/requests/api.py?line=75'>76</a>\u001b[0m \u001b[39mreturn\u001b[39;00m request(\u001b[39m'\u001b[39;49m\u001b[39mget\u001b[39;49m\u001b[39m'\u001b[39;49m, url, params\u001b[39m=\u001b[39;49mparams, \u001b[39m*\u001b[39;49m\u001b[39m*\u001b[39;49mkwargs)\n",
      "File \u001b[0;32m~/.local/lib/python3.8/site-packages/requests/api.py:61\u001b[0m, in \u001b[0;36mrequest\u001b[0;34m(method, url, **kwargs)\u001b[0m\n\u001b[1;32m     <a href='file:///home/tzy/.local/lib/python3.8/site-packages/requests/api.py?line=56'>57</a>\u001b[0m \u001b[39m# By using the 'with' statement we are sure the session is closed, thus we\u001b[39;00m\n\u001b[1;32m     <a href='file:///home/tzy/.local/lib/python3.8/site-packages/requests/api.py?line=57'>58</a>\u001b[0m \u001b[39m# avoid leaving sockets open which can trigger a ResourceWarning in some\u001b[39;00m\n\u001b[1;32m     <a href='file:///home/tzy/.local/lib/python3.8/site-packages/requests/api.py?line=58'>59</a>\u001b[0m \u001b[39m# cases, and look like a memory leak in others.\u001b[39;00m\n\u001b[1;32m     <a href='file:///home/tzy/.local/lib/python3.8/site-packages/requests/api.py?line=59'>60</a>\u001b[0m \u001b[39mwith\u001b[39;00m sessions\u001b[39m.\u001b[39mSession() \u001b[39mas\u001b[39;00m session:\n\u001b[0;32m---> <a href='file:///home/tzy/.local/lib/python3.8/site-packages/requests/api.py?line=60'>61</a>\u001b[0m     \u001b[39mreturn\u001b[39;00m session\u001b[39m.\u001b[39;49mrequest(method\u001b[39m=\u001b[39;49mmethod, url\u001b[39m=\u001b[39;49murl, \u001b[39m*\u001b[39;49m\u001b[39m*\u001b[39;49mkwargs)\n",
      "File \u001b[0;32m~/.local/lib/python3.8/site-packages/requests/sessions.py:542\u001b[0m, in \u001b[0;36mSession.request\u001b[0;34m(self, method, url, params, data, headers, cookies, files, auth, timeout, allow_redirects, proxies, hooks, stream, verify, cert, json)\u001b[0m\n\u001b[1;32m    <a href='file:///home/tzy/.local/lib/python3.8/site-packages/requests/sessions.py?line=536'>537</a>\u001b[0m send_kwargs \u001b[39m=\u001b[39m {\n\u001b[1;32m    <a href='file:///home/tzy/.local/lib/python3.8/site-packages/requests/sessions.py?line=537'>538</a>\u001b[0m     \u001b[39m'\u001b[39m\u001b[39mtimeout\u001b[39m\u001b[39m'\u001b[39m: timeout,\n\u001b[1;32m    <a href='file:///home/tzy/.local/lib/python3.8/site-packages/requests/sessions.py?line=538'>539</a>\u001b[0m     \u001b[39m'\u001b[39m\u001b[39mallow_redirects\u001b[39m\u001b[39m'\u001b[39m: allow_redirects,\n\u001b[1;32m    <a href='file:///home/tzy/.local/lib/python3.8/site-packages/requests/sessions.py?line=539'>540</a>\u001b[0m }\n\u001b[1;32m    <a href='file:///home/tzy/.local/lib/python3.8/site-packages/requests/sessions.py?line=540'>541</a>\u001b[0m send_kwargs\u001b[39m.\u001b[39mupdate(settings)\n\u001b[0;32m--> <a href='file:///home/tzy/.local/lib/python3.8/site-packages/requests/sessions.py?line=541'>542</a>\u001b[0m resp \u001b[39m=\u001b[39m \u001b[39mself\u001b[39;49m\u001b[39m.\u001b[39;49msend(prep, \u001b[39m*\u001b[39;49m\u001b[39m*\u001b[39;49msend_kwargs)\n\u001b[1;32m    <a href='file:///home/tzy/.local/lib/python3.8/site-packages/requests/sessions.py?line=543'>544</a>\u001b[0m \u001b[39mreturn\u001b[39;00m resp\n",
      "File \u001b[0;32m~/.local/lib/python3.8/site-packages/requests/sessions.py:655\u001b[0m, in \u001b[0;36mSession.send\u001b[0;34m(self, request, **kwargs)\u001b[0m\n\u001b[1;32m    <a href='file:///home/tzy/.local/lib/python3.8/site-packages/requests/sessions.py?line=651'>652</a>\u001b[0m start \u001b[39m=\u001b[39m preferred_clock()\n\u001b[1;32m    <a href='file:///home/tzy/.local/lib/python3.8/site-packages/requests/sessions.py?line=653'>654</a>\u001b[0m \u001b[39m# Send the request\u001b[39;00m\n\u001b[0;32m--> <a href='file:///home/tzy/.local/lib/python3.8/site-packages/requests/sessions.py?line=654'>655</a>\u001b[0m r \u001b[39m=\u001b[39m adapter\u001b[39m.\u001b[39;49msend(request, \u001b[39m*\u001b[39;49m\u001b[39m*\u001b[39;49mkwargs)\n\u001b[1;32m    <a href='file:///home/tzy/.local/lib/python3.8/site-packages/requests/sessions.py?line=656'>657</a>\u001b[0m \u001b[39m# Total elapsed time of the request (approximately)\u001b[39;00m\n\u001b[1;32m    <a href='file:///home/tzy/.local/lib/python3.8/site-packages/requests/sessions.py?line=657'>658</a>\u001b[0m elapsed \u001b[39m=\u001b[39m preferred_clock() \u001b[39m-\u001b[39m start\n",
      "File \u001b[0;32m~/.local/lib/python3.8/site-packages/requests/adapters.py:510\u001b[0m, in \u001b[0;36mHTTPAdapter.send\u001b[0;34m(self, request, stream, timeout, verify, cert, proxies)\u001b[0m\n\u001b[1;32m    <a href='file:///home/tzy/.local/lib/python3.8/site-packages/requests/adapters.py?line=506'>507</a>\u001b[0m     \u001b[39mraise\u001b[39;00m RetryError(e, request\u001b[39m=\u001b[39mrequest)\n\u001b[1;32m    <a href='file:///home/tzy/.local/lib/python3.8/site-packages/requests/adapters.py?line=508'>509</a>\u001b[0m \u001b[39mif\u001b[39;00m \u001b[39misinstance\u001b[39m(e\u001b[39m.\u001b[39mreason, _ProxyError):\n\u001b[0;32m--> <a href='file:///home/tzy/.local/lib/python3.8/site-packages/requests/adapters.py?line=509'>510</a>\u001b[0m     \u001b[39mraise\u001b[39;00m ProxyError(e, request\u001b[39m=\u001b[39mrequest)\n\u001b[1;32m    <a href='file:///home/tzy/.local/lib/python3.8/site-packages/requests/adapters.py?line=511'>512</a>\u001b[0m \u001b[39mif\u001b[39;00m \u001b[39misinstance\u001b[39m(e\u001b[39m.\u001b[39mreason, _SSLError):\n\u001b[1;32m    <a href='file:///home/tzy/.local/lib/python3.8/site-packages/requests/adapters.py?line=512'>513</a>\u001b[0m     \u001b[39m# This branch is for urllib3 v1.22 and later.\u001b[39;00m\n\u001b[1;32m    <a href='file:///home/tzy/.local/lib/python3.8/site-packages/requests/adapters.py?line=513'>514</a>\u001b[0m     \u001b[39mraise\u001b[39;00m SSLError(e, request\u001b[39m=\u001b[39mrequest)\n",
      "\u001b[0;31mProxyError\u001b[0m: HTTPSConnectionPool(host='movie.douban.com', port=443): Max retries exceeded with url: /top250 (Caused by ProxyError('Cannot connect to proxy.', NewConnectionError('<urllib3.connection.HTTPSConnection object at 0x7f9d0414e550>: Failed to establish a new connection: [Errno -2] Name or service not known')))"
     ]
    }
   ],
   "source": [
    "from bs4 import BeautifulSoup\n",
    "import requests\n",
    "import random\n",
    "\n",
    "'''\n",
    "    [python爬虫设置请求消息头(headers)](https://blog.csdn.net/aaronjny/article/details/62088640)\n",
    "'''\n",
    "# 添加请求头，伪装成浏览器\n",
    "headers = {\n",
    "    'Accept': '*/*',\n",
    "    'Accept-Language': 'en-US,en;q=0.8',\n",
    "    'Cache-Control': 'max-age=0',\n",
    "    'User-Agent': 'Mozilla/5.0 (X11; Linux x86_64) AppleWebKit/537.36 (KHTML, like Gecko) Chrome/48.0.2564.116 Safari/537.36',\n",
    "    'Connection': 'keep-alive',\n",
    "    'Referer': 'http://www.baidu.com/'\n",
    "}\n",
    "\n",
    "# 添加代理IP池，防止频繁访问导致IP地址被封\n",
    "proxies = {\n",
    "    \"http\":\"http://10.10.1.10.3128\",\n",
    "    \"https\":\"http://10.10.1.10.1080\"\n",
    "}\n",
    "\n",
    "url = 'https://movie.douban.com/top250'\n",
    "strhtml = requests.get(url, headers=headers, proxies=proxies)     ## 返回一个response\n",
    "print(strhtml)\n",
    "soup = BeautifulSoup(strhtml.text, 'lxml')\n",
    "soup"
   ]
  }
 ],
 "metadata": {
  "interpreter": {
   "hash": "916dbcbb3f70747c44a77c7bcd40155683ae19c65e1c03b4aa3499c5328201f1"
  },
  "kernelspec": {
   "display_name": "Python 3.8.10 64-bit",
   "language": "python",
   "name": "python3"
  },
  "language_info": {
   "codemirror_mode": {
    "name": "ipython",
    "version": 3
   },
   "file_extension": ".py",
   "mimetype": "text/x-python",
   "name": "python",
   "nbconvert_exporter": "python",
   "pygments_lexer": "ipython3",
   "version": "3.8.10"
  },
  "orig_nbformat": 4
 },
 "nbformat": 4,
 "nbformat_minor": 2
}
