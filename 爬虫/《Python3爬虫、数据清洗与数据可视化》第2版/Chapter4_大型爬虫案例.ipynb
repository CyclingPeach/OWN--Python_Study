{
 "cells": [
  {
   "cell_type": "markdown",
   "metadata": {},
   "source": [
    "# 第四章、大型爬虫案例——去哪儿网"
   ]
  },
  {
   "cell_type": "markdown",
   "metadata": {},
   "source": [
    "# 一、构建类目树"
   ]
  },
  {
   "cell_type": "markdown",
   "metadata": {},
   "source": [
    "## 1、获取出发地点列表"
   ]
  },
  {
   "cell_type": "code",
   "execution_count": 15,
   "metadata": {},
   "outputs": [
    {
     "name": "stdout",
     "output_type": "stream",
     "text": [
      "澳门|阿坝州|阿克苏地区|阿拉尔|阿拉善盟|阿勒泰|阿里|安康|安庆|鞍山|安顺|安阳|\n",
      "\n",
      "北京|白城|百色|白沙|白山|白银|保定|宝鸡|保山|保亭|包头|巴彦淖尔|巴音郭楞|巴中|北海|北屯市|蚌埠|本溪|毕节|滨州|博尔塔拉|亳州|\n",
      "\n",
      "长春|长沙|成都|重庆|沧州|长白山市|常德|昌都|长葛市|昌吉|长治|常州|朝阳市|潮州|承德|澄迈|郴州|赤峰|池州|崇左|楚雄|滁州|\n",
      "\n",
      "大理|大连|丹东|淡水|儋州|大庆|大同|大兴安岭|达州|德宏|德阳|德州|定安|定西|迪庆|东方市|东莞|东兴|东营|敦煌市|\n",
      "\n",
      "鄂尔多斯|恩施|鄂州|\n",
      "\n",
      "福州|防城港|佛山|抚顺|阜新|阜阳|抚州|\n",
      "\n",
      "广州|贵阳|甘南|赣州|甘孜州|格尔木市|广安|广元|贵港|桂林|果洛藏族自治州|固原|\n",
      "\n",
      "哈尔滨|海口|杭州|合肥|呼和浩特|海北藏族自治州|海东|海拉尔区|海南藏族自治州|海西蒙古族藏族自治州|哈密|邯郸|汉中|鹤壁|河池|鹤岗|黑河|衡水|衡阳|和田|河源|菏泽|贺州|红河|淮安|淮北|怀化|淮南|花莲|黄冈|黄金海岸|黄南藏族自治州|黄山|黄石|惠州|葫芦岛|呼伦贝尔|湖州|\n",
      "\n",
      "济南|佳木斯|吉安|江门|焦作|嘉兴|嘉峪关|揭阳|吉林市|基隆|金昌|晋城|景德镇|荆门|荆州|金华|济宁|锦山|晋中|锦州|九江|酒泉|鸡西|济源市|\n",
      "\n",
      "昆明|开封|喀什|克拉玛依|克孜勒苏柯尔克孜|克孜勒苏|昆山市|\n",
      "\n",
      "兰州|拉萨|来宾|莱芜|廊坊|乐东|乐山|凉山州|连云港|聊城|辽阳|辽源|丽江|临沧|临汾|临高|陵水县|临夏|临沂|林芝|丽水|六安|六盘水|柳州|陇南|龙岩|娄底|漯河|洛阳|泸州|吕梁|\n",
      "\n",
      "马鞍山|芒市|茂名|眉山|梅州|绵阳|牡丹江|\n",
      "\n",
      "南昌|南京|南宁|南充|南平|南通|南投|南阳|那曲|内江|宁波|宁德|怒江|\n",
      "\n",
      "盘锦|攀枝花|平顶山|屏东|平凉|萍乡|普洱|普宁市|莆田|濮阳|\n",
      "\n",
      "黔东南|潜江市|黔南|黔西南|青岛|庆阳|清远|秦皇岛|钦州|琼海市|琼中|齐齐哈尔|七台河|泉州|曲靖|衢州|\n",
      "\n",
      "日喀则|日照|\n",
      "\n",
      "上海|沈阳|石家庄|三门峡|三明|三沙|三亚|商洛|商丘|上饶|山南|汕头|汕尾|韶关|绍兴|邵阳|神农架|深圳|石河子|十堰|石嘴山|双鸭山|朔州|四平|松原|绥化|遂宁|随州|宿迁|宿州|苏州|\n",
      "\n",
      "台北|太原|塔林|天津|塔城|泰安|台山市|太阳岛|台州|泰州|唐山|腾冲市|天门|天水|铁岭|铜川|通化|通辽|铜陵|铜仁|吐鲁番|图木舒克|屯昌|\n",
      "\n",
      "武汉|乌鲁木齐|万宁市|万州区|潍坊|威海|渭南|文昌市|文山|温州|乌海|芜湖|五家渠|乌兰察布|武威|无锡|武夷山市|五指山市|吴忠|梧州|\n",
      "\n",
      "西安|香港|西宁|厦门|襄樊|湘潭|湘西|襄阳|咸宁|仙桃市|咸阳|孝感|西昌市|锡林郭勒盟|西南中沙群岛办事处|新北|兴安盟|邢台|兴义市|新乡|信阳|新余|忻州|西双版纳|宣城|许昌|徐州|\n",
      "\n",
      "银川|雅安|延安|延边|盐城|阳江|阳泉|扬州|延吉市|烟台|椰子岛|宜宾|宜昌|伊春|宜春|伊犁|伊犁哈萨克自治州|营口|鹰潭|伊宁市|义乌市|益阳|永州|岳阳|玉林|榆林|运城|云浮|玉树藏族自治州|玉溪|\n",
      "\n",
      "郑州|枣庄|张家界|张家口|张掖|漳州|湛江|肇庆|昭通|镇江|中山|中卫|周口|舟山|珠海|驻马店|株洲|淄博|自贡|资阳|遵义|\n",
      "\n"
     ]
    }
   ],
   "source": [
    "import requests\n",
    "\n",
    "url = 'https://touch.dujia.qunar.com/depCities.qunar'\n",
    "strhtml = requests.get(url)\n",
    "\n",
    "dep_dict = strhtml.json()\n",
    "for dep_item in dep_dict['data']:\n",
    "    for dep in dep_dict['data'][dep_item]:\n",
    "        print(dep, end='|')\n",
    "    print(\"\\n\")"
   ]
  },
  {
   "cell_type": "markdown",
   "metadata": {},
   "source": [
    "## 2、获取旅游景点列表（目的地列表）"
   ]
  },
  {
   "cell_type": "code",
   "execution_count": 202,
   "metadata": {},
   "outputs": [
    {
     "name": "stdout",
     "output_type": "stream",
     "text": [
      "澳门\n",
      "['三亚', '海口', '万宁', '西沙群岛', '三沙', '三亚亚特兰蒂斯度假区', '厦门', '武夷山', '鼓浪屿', '福州', '泉州', '漳州', '贵阳', '梵净山', '黄果树大瀑布', '遵义', '荔波', '西江千户苗寨', '丽江', '大理', '西双版纳', '昆明', '泸沽湖', '香格里拉', '丽江虎跳峡', '红河县', '腾冲市', '成都', '九寨沟', '稻城亚丁', '峨眉山', '毕棚沟', '四姑娘山', '拉萨', '林芝', '珠峰大本营', '林芝桃花节', '羊湖', '纳木错', '洪崖洞', '长江三峡', '大足石刻', '武隆县', '仙女山', '龚滩古镇', '长沙', '张家界', '凤凰古城', '湘西', '韶山', '郴州', '武汉', '恩施', '宜昌', '神农架', '武当山', '襄阳', '乌鲁木齐', '喀纳斯', '伊犁', '吐鲁番', '南疆', '喀什', '兰州', '敦煌', '甘南', '嘉峪关', '张掖', '天水', '西宁', '青海湖', '茶卡盐湖', '银川', '中卫', '贺兰山', '杭州', '乌镇', '千岛湖', '西塘', '舟山', '普陀山', '婺源', '庐山', '井冈山', '三清山', '南昌', '景德镇', '上海迪士尼乐园', '外滩', '东方明珠', '苏州', '南京', '扬州', '无锡', '常州', '周庄', '黄山', '西递', '黟县宏村', '新安江山水画廊', '芜湖', '九华山', '广州', '清远', '长隆旅游度假区', '深圳', '珠海', '惠州', '桂林', '北海', '阳朔', '龙脊梯田', '涠洲岛', '南宁', '北京环球度假区', '古北水镇', '故宫', '八达岭长城', '鸟巢', '颐和园', '天津', '瓷房子', '天津之眼', '秦皇岛', '北戴河', '承德', '丰宁坝上', '张家口', '石家庄', '包头', '呼伦贝尔', '呼和浩特', '响沙湾', '乌兰察布', '乌兰布统', '五台山', '平遥古城', '太原', '大同', '忻州', '乔家大院', '烟台', '泰山', '威海', '青岛', '济南', '崂山', '华山', '西安', '延安', '咸阳', '秦始皇兵马俑博物馆', '宝鸡', '郑州', '嵩山少林寺', '开封', '云台山', '洛阳', '龙门石窟', '长春', '长白山', '吉林', '延吉', '白山', '延边', '哈尔滨', '漠河', '北极村', '大兴安岭', '齐齐哈尔', '伊春', '大连', '沈阳', '金石滩']\n"
     ]
    }
   ],
   "source": [
    "import time\n",
    "import urllib\n",
    "import requests\n",
    "\n",
    "url = 'https://touch.dujia.qunar.com/depCities.qunar'\n",
    "strhtml = requests.get(url)\n",
    "dep_dict = strhtml.json()\n",
    "for dep_item in dep_dict['data']:\n",
    "    for dep in dep_dict['data'][dep_item]:\n",
    "        # print(dep,end='|')\n",
    "        a = []\n",
    "        print(dep)\n",
    "        # urllib.request.quote(dep)     将中文编码成带%的\n",
    "        # 目的地url\n",
    "        url = 'https://touch.dujia.qunar.com/golfz/domestic/domesticDest?dep={}&exclude=&extensionImg=255,175'.format(urllib.request.quote(dep))\n",
    "        time.sleep(1)\n",
    "        strhtml = requests.get(url)\n",
    "        arrive_dict = strhtml.json()\n",
    "        for arr_item in arrive_dict['data']['ossData']:\n",
    "            for arr_item_1 in arr_item['subModules'][1:]:\n",
    "                for query in arr_item_1['items']:\n",
    "                    if query['query'] not in a:\n",
    "                        a.append(query['query'])\n",
    "        print(a)\n",
    "        break\n",
    "    break"
   ]
  },
  {
   "cell_type": "markdown",
   "metadata": {},
   "source": [
    "# 二、获取景点产品列表"
   ]
  },
  {
   "cell_type": "code",
   "execution_count": 227,
   "metadata": {},
   "outputs": [],
   "source": [
    "for item in a:  # a是目的地列表。现在的a是出发地在澳门，目的地的列表\n",
    "    url = 'https://touch.dujia.qunar.com/list?modules=list%2CbookingInfo%2CactivityDetail&dep={}&query={}&dappDealTrace=true&mobFunction=%E6%89%A9%E5%B1%95%E8%87%AA%E7%94%B1%E8%A1%8C&cfrom=zyx&it=dujia_hy_destination&date=&needNoResult=true&originalquery={}&width=480&height=320&quality=90&limit=0,20&includeAD=true&qsact=search'.format(\n",
    "        urllib.request.quote(dep), \n",
    "        urllib.request.quote(item + '自由行'), \n",
    "        urllib.request.quote(item + '自由行')\n",
    "    )\n",
    "    time.sleep(1)\n",
    "    strhtml = requests.get(url)\n",
    "    routeCount = int(strhtml.json()['data']['limit']['routeCount'])\n",
    "    # 分20组获取routeCount个产品并存储\n",
    "    for limit in range(0, routeCount, 20):\n",
    "        url = 'https://touch.dujia.qunar.com/list?modules=list%2CbookingInfo%2CactivityDetail&dep={}&query={}&dappDealTrace=true&mobFunction=%E6%89%A9%E5%B1%95%E8%87%AA%E7%94%B1%E8%A1%8C&cfrom=zyx&it=dujia_hy_destination&date=&needNoResult=true&originalquery={}&width=480&height=320&quality=90&limit={},20&includeAD=true&qsact=search'.format(\n",
    "            urllib.request.quote(dep), \n",
    "            urllib.request.quote(item + '自由行'), \n",
    "            urllib.request.quote(item + '自由行'),\n",
    "            limit\n",
    "        )\n",
    "        strhtml = requests.get(url).json()\n",
    "        result = {\n",
    "            'date':time.strftime('%Y-%m-%d', time.localtime(time.time())),   # 重要——需要掌握\n",
    "            'dep':dep,\n",
    "            'arrive':item,\n",
    "            'limit':limit,\n",
    "            'result':strhtml\n",
    "        }\n",
    "        break"
   ]
  },
  {
   "cell_type": "markdown",
   "metadata": {},
   "source": [
    "# 三、存储数据"
   ]
  },
  {
   "cell_type": "markdown",
   "metadata": {},
   "source": [
    "### 集合查询\n",
    "\n",
    "`计数`\n",
    "```Mongo\n",
    "> db.qunar_zyx.find().count()\n",
    "```\n",
    "\n",
    "`删除集合`\n",
    "```Mongo\n",
    "> db.qunar_zyx.drop()\n",
    "```"
   ]
  },
  {
   "cell_type": "markdown",
   "metadata": {},
   "source": [
    "# 四、模块化"
   ]
  },
  {
   "cell_type": "markdown",
   "metadata": {},
   "source": [
    "### MongoDB服务启动\n",
    "\n",
    "\n",
    "`mongod --dbpath /var/lib/mongo --logpath /var/log/mongodb/mongod.log --fork`\n"
   ]
  },
  {
   "cell_type": "markdown",
   "metadata": {},
   "source": [
    "### 运行爬虫程序"
   ]
  },
  {
   "cell_type": "code",
   "execution_count": 229,
   "metadata": {},
   "outputs": [
    {
     "ename": "KeyError",
     "evalue": "'routeCount'",
     "output_type": "error",
     "traceback": [
      "\u001b[0;31m---------------------------------------------------------------------------\u001b[0m",
      "\u001b[0;31mKeyError\u001b[0m                                  Traceback (most recent call last)",
      "\u001b[1;32m/home/tzy/文档/Project/OWN--Python_Study/爬虫/《Python3爬虫、数据清洗与数据可视化》第2版/Chapter4_大型爬虫案例.ipynb Cell 13'\u001b[0m in \u001b[0;36m<cell line: 56>\u001b[0;34m()\u001b[0m\n\u001b[1;32m     <a href='vscode-notebook-cell:/home/tzy/%E6%96%87%E6%A1%A3/Project/OWN--Python_Study/%E7%88%AC%E8%99%AB/%E3%80%8APython3%E7%88%AC%E8%99%AB%E3%80%81%E6%95%B0%E6%8D%AE%E6%B8%85%E6%B4%97%E4%B8%8E%E6%95%B0%E6%8D%AE%E5%8F%AF%E8%A7%86%E5%8C%96%E3%80%8B%E7%AC%AC2%E7%89%88/Chapter4_%E5%A4%A7%E5%9E%8B%E7%88%AC%E8%99%AB%E6%A1%88%E4%BE%8B.ipynb#ch0000029?line=77'>78</a>\u001b[0m \u001b[39m\"\"\"\u001b[39;00m\n\u001b[1;32m     <a href='vscode-notebook-cell:/home/tzy/%E6%96%87%E6%A1%A3/Project/OWN--Python_Study/%E7%88%AC%E8%99%AB/%E3%80%8APython3%E7%88%AC%E8%99%AB%E3%80%81%E6%95%B0%E6%8D%AE%E6%B8%85%E6%B4%97%E4%B8%8E%E6%95%B0%E6%8D%AE%E5%8F%AF%E8%A7%86%E5%8C%96%E3%80%8B%E7%AC%AC2%E7%89%88/Chapter4_%E5%A4%A7%E5%9E%8B%E7%88%AC%E8%99%AB%E6%A1%88%E4%BE%8B.ipynb#ch0000029?line=78'>79</a>\u001b[0m \u001b[39m    获取 【出发地dep >>> 所有的目的地a[] >>> 的所有产品】\u001b[39;00m\n\u001b[1;32m     <a href='vscode-notebook-cell:/home/tzy/%E6%96%87%E6%A1%A3/Project/OWN--Python_Study/%E7%88%AC%E8%99%AB/%E3%80%8APython3%E7%88%AC%E8%99%AB%E3%80%81%E6%95%B0%E6%8D%AE%E6%B8%85%E6%B4%97%E4%B8%8E%E6%95%B0%E6%8D%AE%E5%8F%AF%E8%A7%86%E5%8C%96%E3%80%8B%E7%AC%AC2%E7%89%88/Chapter4_%E5%A4%A7%E5%9E%8B%E7%88%AC%E8%99%AB%E6%A1%88%E4%BE%8B.ipynb#ch0000029?line=79'>80</a>\u001b[0m \u001b[39m    在这个for循环下 指的是: “1 个出发地dep” 的 “所有目的地a[]” 的 “所有产品”\u001b[39;00m\n\u001b[1;32m     <a href='vscode-notebook-cell:/home/tzy/%E6%96%87%E6%A1%A3/Project/OWN--Python_Study/%E7%88%AC%E8%99%AB/%E3%80%8APython3%E7%88%AC%E8%99%AB%E3%80%81%E6%95%B0%E6%8D%AE%E6%B8%85%E6%B4%97%E4%B8%8E%E6%95%B0%E6%8D%AE%E5%8F%AF%E8%A7%86%E5%8C%96%E3%80%8B%E7%AC%AC2%E7%89%88/Chapter4_%E5%A4%A7%E5%9E%8B%E7%88%AC%E8%99%AB%E6%A1%88%E4%BE%8B.ipynb#ch0000029?line=80'>81</a>\u001b[0m \u001b[39m    所有数据都存储在“sheet_qunar_zyx”表下面\u001b[39;00m\n\u001b[1;32m     <a href='vscode-notebook-cell:/home/tzy/%E6%96%87%E6%A1%A3/Project/OWN--Python_Study/%E7%88%AC%E8%99%AB/%E3%80%8APython3%E7%88%AC%E8%99%AB%E3%80%81%E6%95%B0%E6%8D%AE%E6%B8%85%E6%B4%97%E4%B8%8E%E6%95%B0%E6%8D%AE%E5%8F%AF%E8%A7%86%E5%8C%96%E3%80%8B%E7%AC%AC2%E7%89%88/Chapter4_%E5%A4%A7%E5%9E%8B%E7%88%AC%E8%99%AB%E6%A1%88%E4%BE%8B.ipynb#ch0000029?line=81'>82</a>\u001b[0m \u001b[39m\"\"\"\u001b[39;00m\n\u001b[1;32m     <a href='vscode-notebook-cell:/home/tzy/%E6%96%87%E6%A1%A3/Project/OWN--Python_Study/%E7%88%AC%E8%99%AB/%E3%80%8APython3%E7%88%AC%E8%99%AB%E3%80%81%E6%95%B0%E6%8D%AE%E6%B8%85%E6%B4%97%E4%B8%8E%E6%95%B0%E6%8D%AE%E5%8F%AF%E8%A7%86%E5%8C%96%E3%80%8B%E7%AC%AC2%E7%89%88/Chapter4_%E5%A4%A7%E5%9E%8B%E7%88%AC%E8%99%AB%E6%A1%88%E4%BE%8B.ipynb#ch0000029?line=82'>83</a>\u001b[0m \u001b[39mfor\u001b[39;00m item \u001b[39min\u001b[39;00m a:\n\u001b[0;32m---> <a href='vscode-notebook-cell:/home/tzy/%E6%96%87%E6%A1%A3/Project/OWN--Python_Study/%E7%88%AC%E8%99%AB/%E3%80%8APython3%E7%88%AC%E8%99%AB%E3%80%81%E6%95%B0%E6%8D%AE%E6%B8%85%E6%B4%97%E4%B8%8E%E6%95%B0%E6%8D%AE%E5%8F%AF%E8%A7%86%E5%8C%96%E3%80%8B%E7%AC%AC2%E7%89%88/Chapter4_%E5%A4%A7%E5%9E%8B%E7%88%AC%E8%99%AB%E6%A1%88%E4%BE%8B.ipynb#ch0000029?line=83'>84</a>\u001b[0m     get_list(dep, item)\n",
      "\u001b[1;32m/home/tzy/文档/Project/OWN--Python_Study/爬虫/《Python3爬虫、数据清洗与数据可视化》第2版/Chapter4_大型爬虫案例.ipynb Cell 13'\u001b[0m in \u001b[0;36mget_list\u001b[0;34m(dep, item)\u001b[0m\n\u001b[1;32m     <a href='vscode-notebook-cell:/home/tzy/%E6%96%87%E6%A1%A3/Project/OWN--Python_Study/%E7%88%AC%E8%99%AB/%E3%80%8APython3%E7%88%AC%E8%99%AB%E3%80%81%E6%95%B0%E6%8D%AE%E6%B8%85%E6%B4%97%E4%B8%8E%E6%95%B0%E6%8D%AE%E5%8F%AF%E8%A7%86%E5%8C%96%E3%80%8B%E7%AC%AC2%E7%89%88/Chapter4_%E5%A4%A7%E5%9E%8B%E7%88%AC%E8%99%AB%E6%A1%88%E4%BE%8B.ipynb#ch0000029?line=20'>21</a>\u001b[0m time\u001b[39m.\u001b[39msleep(\u001b[39m1\u001b[39m)\n\u001b[1;32m     <a href='vscode-notebook-cell:/home/tzy/%E6%96%87%E6%A1%A3/Project/OWN--Python_Study/%E7%88%AC%E8%99%AB/%E3%80%8APython3%E7%88%AC%E8%99%AB%E3%80%81%E6%95%B0%E6%8D%AE%E6%B8%85%E6%B4%97%E4%B8%8E%E6%95%B0%E6%8D%AE%E5%8F%AF%E8%A7%86%E5%8C%96%E3%80%8B%E7%AC%AC2%E7%89%88/Chapter4_%E5%A4%A7%E5%9E%8B%E7%88%AC%E8%99%AB%E6%A1%88%E4%BE%8B.ipynb#ch0000029?line=21'>22</a>\u001b[0m strhtml \u001b[39m=\u001b[39m requests\u001b[39m.\u001b[39mget(url)\n\u001b[0;32m---> <a href='vscode-notebook-cell:/home/tzy/%E6%96%87%E6%A1%A3/Project/OWN--Python_Study/%E7%88%AC%E8%99%AB/%E3%80%8APython3%E7%88%AC%E8%99%AB%E3%80%81%E6%95%B0%E6%8D%AE%E6%B8%85%E6%B4%97%E4%B8%8E%E6%95%B0%E6%8D%AE%E5%8F%AF%E8%A7%86%E5%8C%96%E3%80%8B%E7%AC%AC2%E7%89%88/Chapter4_%E5%A4%A7%E5%9E%8B%E7%88%AC%E8%99%AB%E6%A1%88%E4%BE%8B.ipynb#ch0000029?line=22'>23</a>\u001b[0m routeCount \u001b[39m=\u001b[39m \u001b[39mint\u001b[39m(strhtml\u001b[39m.\u001b[39;49mjson()[\u001b[39m'\u001b[39;49m\u001b[39mdata\u001b[39;49m\u001b[39m'\u001b[39;49m][\u001b[39m'\u001b[39;49m\u001b[39mlimit\u001b[39;49m\u001b[39m'\u001b[39;49m][\u001b[39m'\u001b[39;49m\u001b[39mrouteCount\u001b[39;49m\u001b[39m'\u001b[39;49m])\n\u001b[1;32m     <a href='vscode-notebook-cell:/home/tzy/%E6%96%87%E6%A1%A3/Project/OWN--Python_Study/%E7%88%AC%E8%99%AB/%E3%80%8APython3%E7%88%AC%E8%99%AB%E3%80%81%E6%95%B0%E6%8D%AE%E6%B8%85%E6%B4%97%E4%B8%8E%E6%95%B0%E6%8D%AE%E5%8F%AF%E8%A7%86%E5%8C%96%E3%80%8B%E7%AC%AC2%E7%89%88/Chapter4_%E5%A4%A7%E5%9E%8B%E7%88%AC%E8%99%AB%E6%A1%88%E4%BE%8B.ipynb#ch0000029?line=23'>24</a>\u001b[0m \u001b[39m# 分20组获取routeCount个产品并存储\u001b[39;00m\n\u001b[1;32m     <a href='vscode-notebook-cell:/home/tzy/%E6%96%87%E6%A1%A3/Project/OWN--Python_Study/%E7%88%AC%E8%99%AB/%E3%80%8APython3%E7%88%AC%E8%99%AB%E3%80%81%E6%95%B0%E6%8D%AE%E6%B8%85%E6%B4%97%E4%B8%8E%E6%95%B0%E6%8D%AE%E5%8F%AF%E8%A7%86%E5%8C%96%E3%80%8B%E7%AC%AC2%E7%89%88/Chapter4_%E5%A4%A7%E5%9E%8B%E7%88%AC%E8%99%AB%E6%A1%88%E4%BE%8B.ipynb#ch0000029?line=24'>25</a>\u001b[0m \u001b[39mfor\u001b[39;00m limit \u001b[39min\u001b[39;00m \u001b[39mrange\u001b[39m(\u001b[39m0\u001b[39m, routeCount, \u001b[39m20\u001b[39m):\n",
      "\u001b[0;31mKeyError\u001b[0m: 'routeCount'"
     ]
    }
   ],
   "source": [
    "import urllib.request\n",
    "import time\n",
    "import requests\n",
    "import pymongo\n",
    "\n",
    "client = pymongo.MongoClient('localhost', 27017)\n",
    "book_qunar = client['qunar']\n",
    "sheet_qunar_zyx = book_qunar['qunar_zyx']\n",
    "\n",
    "\n",
    "\"\"\"\n",
    "    获取目的地产品列表\n",
    "\"\"\"\n",
    "def get_list(dep, item):\n",
    "# for item in a:  # a是目的地列表。现在的a是出发地在澳门，目的地的列表\n",
    "    url = 'https://touch.dujia.qunar.com/list?modules=list%2CbookingInfo%2CactivityDetail&dep={}&query={}&dappDealTrace=true&mobFunction=%E6%89%A9%E5%B1%95%E8%87%AA%E7%94%B1%E8%A1%8C&cfrom=zyx&it=dujia_hy_destination&date=&needNoResult=true&originalquery={}&width=480&height=320&quality=90&limit=0,20&includeAD=true&qsact=search'.format(\n",
    "        urllib.request.quote(dep), \n",
    "        urllib.request.quote(item + '自由行'), \n",
    "        urllib.request.quote(item + '自由行')\n",
    "    )\n",
    "    time.sleep(1)\n",
    "    strhtml = requests.get(url)\n",
    "    routeCount = int(strhtml.json()['data']['limit']['routeCount'])\n",
    "    # 分20组获取routeCount个产品并存储\n",
    "    for limit in range(0, routeCount, 20):\n",
    "        url = 'https://touch.dujia.qunar.com/list?modules=list%2CbookingInfo%2CactivityDetail&dep={}&query={}&dappDealTrace=true&mobFunction=%E6%89%A9%E5%B1%95%E8%87%AA%E7%94%B1%E8%A1%8C&cfrom=zyx&it=dujia_hy_destination&date=&needNoResult=true&originalquery={}&width=480&height=320&quality=90&limit={},20&includeAD=true&qsact=search'.format(\n",
    "            urllib.request.quote(dep), \n",
    "            urllib.request.quote(item + '自由行'), \n",
    "            urllib.request.quote(item + '自由行'),\n",
    "            limit\n",
    "        )\n",
    "        strhtml = requests.get(url).json()\n",
    "        result = {\n",
    "            'date':time.strftime('%Y-%m-%d', time.localtime(time.time())),   # 重要——需要掌握\n",
    "            'dep':dep,\n",
    "            'arrive':item,\n",
    "            'limit':limit,\n",
    "            'result':strhtml\n",
    "        }\n",
    "        sheet_qunar_zyx.insert_one(result)\n",
    "\n",
    "\n",
    "\n",
    "\"\"\"\n",
    "    获取网页中json格式数据\n",
    "\"\"\"\n",
    "def get_json(url):\n",
    "    strhtml = requests.get(url)\n",
    "    time.sleep(1)\n",
    "    return strhtml.json()\n",
    "\n",
    "\n",
    "\"\"\"\n",
    "\n",
    "\"\"\"\n",
    "if __name__ == \"__main__\":\n",
    "    \"\"\"\n",
    "        获取出发地列表\n",
    "    \"\"\"\n",
    "    url = 'https://touch.dujia.qunar.com/depCities.qunar'\n",
    "    dep_dict = get_json(url)    # 出发地列表源代码数据（json格式）\n",
    "    for dep_item in dep_dict['data']:\n",
    "        for dep in dep_dict['data'][dep_item]:      # dep代表一个出发地\n",
    "            \"\"\"\n",
    "                获取目的地列表\n",
    "            \"\"\"\n",
    "            a = []      # 存放\n",
    "            # 每个 出发地dep 对应的 目的地url\n",
    "            url = 'https://touch.dujia.qunar.com/golfz/domestic/domesticDest?dep={}&exclude=&extensionImg=255,175'.format(urllib.request.quote(dep))\n",
    "            # urllib.request.quote(dep)     将中文编码成带%的\n",
    "            time.sleep(1)\n",
    "            arrive_dict = get_json(url)     # 目的地列表源代码数据（json格式）\n",
    "            for arr_item in arrive_dict['data']['ossData']:\n",
    "                for arr_item_1 in arr_item['subModules'][1:]:\n",
    "                    for query in arr_item_1['items']:\n",
    "                        if query['query'] not in a:\n",
    "                            a.append(query['query'])    # “query['query']”：目的地的地名\n",
    "            \"\"\"\n",
    "                获取 【出发地dep >>> 所有的目的地a[] >>> 的所有产品】\n",
    "                在这个for循环下 指的是: “1 个出发地dep” 的 “所有目的地a[]” 的 “所有产品”\n",
    "                所有数据都存储在“sheet_qunar_zyx”表下面\n",
    "            \"\"\"\n",
    "            for item in a:\n",
    "                get_list(dep, item)\n"
   ]
  },
  {
   "cell_type": "markdown",
   "metadata": {},
   "source": [
    "#### 【知识积累】\n",
    "```Python\n",
    "if __name__ == \"__main__\"\n",
    "```\n",
    "- 如果直接执行某个.py文件，那么该文件中`__name__ == \"__main__\"`的结果是`True`，将执行`if __name__ == \"__main__\"`下面定义的代码块\n",
    "- 如果从另一个.py文件通过`import`导入该文件，那么`__name__`的值就是这个.py文件的名称，而不是`__main__`，将不会执行`if __name__ == \"__main__\"`下面定义的代码块。\n",
    "\n",
    "也就是说：\n",
    ">用户写的脚本模块既可以导入别的模块使用，也可以直接执行该模块"
   ]
  },
  {
   "cell_type": "markdown",
   "metadata": {},
   "source": [
    "### 设置程序定时监控运行结果\n",
    "\n"
   ]
  },
  {
   "cell_type": "code",
   "execution_count": 14,
   "metadata": {},
   "outputs": [
    {
     "name": "stderr",
     "output_type": "stream",
     "text": [
      "/tmp/ipykernel_75449/97826432.py:12: DeprecationWarning: count is deprecated. Use Collection.count_documents instead.\n",
      "  print(sheet_qunar_zyx.find().count())\n"
     ]
    },
    {
     "name": "stdout",
     "output_type": "stream",
     "text": [
      "17685\n",
      "18248\n",
      "18452\n",
      "18510\n",
      "18754\n"
     ]
    },
    {
     "ename": "KeyboardInterrupt",
     "evalue": "",
     "output_type": "error",
     "traceback": [
      "\u001b[0;31m---------------------------------------------------------------------------\u001b[0m",
      "\u001b[0;31mKeyboardInterrupt\u001b[0m                         Traceback (most recent call last)",
      "\u001b[1;32m/home/tzy/文档/Project/OWN--Python_Study/爬虫/《Python3爬虫、数据清洗与数据可视化》第2版/Chapter4_大型爬虫案例.ipynb Cell 16'\u001b[0m in \u001b[0;36m<cell line: 12>\u001b[0;34m()\u001b[0m\n\u001b[1;32m     <a href='vscode-notebook-cell:/home/tzy/%E6%96%87%E6%A1%A3/Project/OWN--Python_Study/%E7%88%AC%E8%99%AB/%E3%80%8APython3%E7%88%AC%E8%99%AB%E3%80%81%E6%95%B0%E6%8D%AE%E6%B8%85%E6%B4%97%E4%B8%8E%E6%95%B0%E6%8D%AE%E5%8F%AF%E8%A7%86%E5%8C%96%E3%80%8B%E7%AC%AC2%E7%89%88/Chapter4_%E5%A4%A7%E5%9E%8B%E7%88%AC%E8%99%AB%E6%A1%88%E4%BE%8B.ipynb#ch0000015?line=10'>11</a>\u001b[0m \u001b[39mwhile\u001b[39;00m \u001b[39mTrue\u001b[39;00m:\n\u001b[1;32m     <a href='vscode-notebook-cell:/home/tzy/%E6%96%87%E6%A1%A3/Project/OWN--Python_Study/%E7%88%AC%E8%99%AB/%E3%80%8APython3%E7%88%AC%E8%99%AB%E3%80%81%E6%95%B0%E6%8D%AE%E6%B8%85%E6%B4%97%E4%B8%8E%E6%95%B0%E6%8D%AE%E5%8F%AF%E8%A7%86%E5%8C%96%E3%80%8B%E7%AC%AC2%E7%89%88/Chapter4_%E5%A4%A7%E5%9E%8B%E7%88%AC%E8%99%AB%E6%A1%88%E4%BE%8B.ipynb#ch0000015?line=11'>12</a>\u001b[0m     \u001b[39mprint\u001b[39m(sheet_qunar_zyx\u001b[39m.\u001b[39mfind()\u001b[39m.\u001b[39mcount())\n\u001b[0;32m---> <a href='vscode-notebook-cell:/home/tzy/%E6%96%87%E6%A1%A3/Project/OWN--Python_Study/%E7%88%AC%E8%99%AB/%E3%80%8APython3%E7%88%AC%E8%99%AB%E3%80%81%E6%95%B0%E6%8D%AE%E6%B8%85%E6%B4%97%E4%B8%8E%E6%95%B0%E6%8D%AE%E5%8F%AF%E8%A7%86%E5%8C%96%E3%80%8B%E7%AC%AC2%E7%89%88/Chapter4_%E5%A4%A7%E5%9E%8B%E7%88%AC%E8%99%AB%E6%A1%88%E4%BE%8B.ipynb#ch0000015?line=12'>13</a>\u001b[0m     time\u001b[39m.\u001b[39;49msleep(\u001b[39m30\u001b[39;49m)\n",
      "\u001b[0;31mKeyboardInterrupt\u001b[0m: "
     ]
    }
   ],
   "source": [
    "'''from test import sheet_qunar_zyx\n",
    "import time'''\n",
    "\n",
    "import time\n",
    "import pymongo\n",
    "\n",
    "client = pymongo.MongoClient('localhost', 27017)\n",
    "book_qunar = client['qunar']\n",
    "sheet_qunar_zyx = book_qunar['qunar_zyx']\n",
    "\n",
    "while True:\n",
    "    print(sheet_qunar_zyx.find().count())\n",
    "    time.sleep(30)"
   ]
  },
  {
   "cell_type": "markdown",
   "metadata": {},
   "source": [
    "# 五、爬虫效率优化——多进程爬虫\n",
    "\n",
    ">根据出发地同时调用多个CPU，每个CPU运行一个出发地的脚本。\n",
    "\n",
    ">本电脑CPU>>>8核，因此每次可以同时获取 8 个出发地的数据。\n",
    "\n",
    "多进程爬虫使用的库是`Pool`库"
   ]
  },
  {
   "cell_type": "markdown",
   "metadata": {},
   "source": [
    "### qunar.py"
   ]
  },
  {
   "cell_type": "code",
   "execution_count": null,
   "metadata": {},
   "outputs": [],
   "source": [
    "import urllib.request\n",
    "import time\n",
    "import requests\n",
    "import pymongo\n",
    "\n",
    "client = pymongo.MongoClient('localhost', 27017)\n",
    "book_qunar = client['qunar']\n",
    "sheet_qunar_zyx = book_qunar['qunar_zyx']\n",
    "\n",
    "\n",
    "\"\"\"\n",
    "    获取目的地产品列表\n",
    "\"\"\"\n",
    "def get_list(dep, item):\n",
    "# for item in a:  # a是目的地列表。现在的a是出发地在澳门，目的地的列表\n",
    "    url = 'https://touch.dujia.qunar.com/list?modules=list%2CbookingInfo%2CactivityDetail&dep={}&query={}&dappDealTrace=true&mobFunction=%E6%89%A9%E5%B1%95%E8%87%AA%E7%94%B1%E8%A1%8C&cfrom=zyx&it=dujia_hy_destination&date=&needNoResult=true&originalquery={}&width=480&height=320&quality=90&limit=0,20&includeAD=true&qsact=search'.format(\n",
    "        urllib.request.quote(dep), \n",
    "        urllib.request.quote(item + '自由行'), \n",
    "        urllib.request.quote(item + '自由行')\n",
    "    )\n",
    "    time.sleep(1)\n",
    "    strhtml = requests.get(url)\n",
    "    try:\n",
    "        routeCount = int(strhtml.json()['data']['limit']['routeCount'])\n",
    "    except:\n",
    "        return\n",
    "    # 分20组获取routeCount个产品并存储\n",
    "    for limit in range(0, routeCount, 20):\n",
    "        url = 'https://touch.dujia.qunar.com/list?modules=list%2CbookingInfo%2CactivityDetail&dep={}&query={}&dappDealTrace=true&mobFunction=%E6%89%A9%E5%B1%95%E8%87%AA%E7%94%B1%E8%A1%8C&cfrom=zyx&it=dujia_hy_destination&date=&needNoResult=true&originalquery={}&width=480&height=320&quality=90&limit={},20&includeAD=true&qsact=search'.format(\n",
    "            urllib.request.quote(dep), \n",
    "            urllib.request.quote(item + '自由行'), \n",
    "            urllib.request.quote(item + '自由行'),\n",
    "            limit\n",
    "        )\n",
    "        strhtml = requests.get(url).json()\n",
    "        result = {\n",
    "            'date':time.strftime('%Y-%m-%d', time.localtime(time.time())),   # 重要——需要掌握\n",
    "            'dep':dep,\n",
    "            'arrive':item,\n",
    "            'limit':limit,\n",
    "            'result':strhtml\n",
    "        }\n",
    "        sheet_qunar_zyx.insert_one(result)\n",
    "\n",
    "\n",
    "def connect_mongo():\n",
    "    client = pymongo.MongoClient('localhost', 27017)\n",
    "    book_qunar = client['qunar']\n",
    "    return book_qunar['qunar_zyx']\n",
    "\n",
    "\n",
    "\"\"\"\n",
    "    获取网页中json格式数据\n",
    "\"\"\"\n",
    "def get_json(url):\n",
    "    strhtml = requests.get(url)\n",
    "    time.sleep(1)\n",
    "    return strhtml.json()\n",
    "\n",
    "\n",
    "\n",
    "def get_all_data(dep):\n",
    "    a = []\n",
    "    # 每个 出发地dep 对应的 目的地url\n",
    "    url = 'https://touch.dujia.qunar.com/golfz/domestic/domesticDest?dep={}&exclude=&extensionImg=255,175'.format(urllib.request.quote(dep))\n",
    "    # urllib.request.quote(dep)     将中文编码成带%的\n",
    "    time.sleep(1)\n",
    "    arrive_dict = get_json(url)     # 目的地列表源代码数据（json格式）\n",
    "    for arr_item in arrive_dict['data']['ossData']:\n",
    "        for arr_item_1 in arr_item['subModules'][1:]:\n",
    "            for query in arr_item_1['items']:\n",
    "                if query['query'] not in a:\n",
    "                    a.append(query['query'])    # “query['query']”：目的地的地名\n",
    "    \"\"\"\n",
    "        获取 【出发地dep >>> 所有的目的地a[] >>> 的所有产品】\n",
    "        在这个for循环下 指的是: “1 个出发地dep” 的 “所有目的地a[]” 的 “所有产品”\n",
    "        所有数据都存储在“sheet_qunar_zyx”表下面\n",
    "    \"\"\"\n",
    "    for item in a:\n",
    "        get_list(dep, item)\n",
    "\n",
    "\n",
    "\n",
    "\"\"\"\n",
    "    出发地>>>398个城市列表——统计时间2022.4.24\n",
    "\"\"\"\n",
    "dep_list = []\n",
    "url = 'https://touch.dujia.qunar.com/depCities.qunar'\n",
    "dep_dict = get_json(url)\n",
    "for dep_item in dep_dict['data']:\n",
    "    for dep in dep_dict['data'][dep_item]:\n",
    "        dep_list.append(dep)"
   ]
  },
  {
   "cell_type": "markdown",
   "metadata": {},
   "source": [
    "### main.py"
   ]
  },
  {
   "cell_type": "code",
   "execution_count": null,
   "metadata": {},
   "outputs": [],
   "source": [
    "from qunar import get_all_data\n",
    "from qunar import dep_list\n",
    "from multiprocessing import Pool, pool\n",
    "\n",
    "if __name__ == \"__main__\":\n",
    "    pool = Pool()\n",
    "    pool.map(get_all_data, dep_list)"
   ]
  },
  {
   "cell_type": "markdown",
   "metadata": {},
   "source": [
    "### MongoDB报错\n",
    "```bash\n",
    "UserWarning: MongoClient opened before fork. Create MongoClient only after forking. See PyMongo's documentation for details: https://pymongo.readthedocs.io/en/stable/faq.html#is-pymongo-fork-safe\n",
    "warnings.warn(\n",
    "```\n",
    "- **【原因】**\n",
    "    - PyMongo不是fork-safe，因此MongoClient实例一定不能从父进程复制到子进程中，而应该父进程和子进程创建自己的MongoClient实例.\n",
    "- **【解决方法】**\n",
    "    - 在实例化时MongoClient时添加`connect = False`\n",
    "```Python\n",
    "import pymongo\n",
    "client = pymongo.MongoClient(host='localhost', port=27017, connect=False)\n",
    "```"
   ]
  }
 ],
 "metadata": {
  "interpreter": {
   "hash": "916dbcbb3f70747c44a77c7bcd40155683ae19c65e1c03b4aa3499c5328201f1"
  },
  "kernelspec": {
   "display_name": "Python 3.8.10 64-bit",
   "language": "python",
   "name": "python3"
  },
  "language_info": {
   "codemirror_mode": {
    "name": "ipython",
    "version": 3
   },
   "file_extension": ".py",
   "mimetype": "text/x-python",
   "name": "python",
   "nbconvert_exporter": "python",
   "pygments_lexer": "ipython3",
   "version": "3.8.10"
  },
  "orig_nbformat": 4
 },
 "nbformat": 4,
 "nbformat_minor": 2
}
