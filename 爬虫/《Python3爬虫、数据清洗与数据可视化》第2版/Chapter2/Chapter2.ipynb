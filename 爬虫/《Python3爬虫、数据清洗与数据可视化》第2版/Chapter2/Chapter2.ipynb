{
 "cells": [
  {
   "cell_type": "markdown",
   "metadata": {},
   "source": [
    "# 使用`BeautifulSoup`解析网页\n",
    "\n",
    "**`lxml库`**\n",
    "- 如果不安装lxml库，就会使用Python默认的解析器\n",
    "\n",
    "- 尽管`Beautiful Soup`支持Python表中库中的`HTML解析器`, 又支持一些`第三方解析器`, 但是`lxml库`的功能更加强大、速度更快"
   ]
  },
  {
   "cell_type": "code",
   "execution_count": 7,
   "metadata": {},
   "outputs": [
    {
     "name": "stdout",
     "output_type": "stream",
     "text": [
      "<Response [200]>\n"
     ]
    }
   ],
   "source": [
    "import requests\n",
    "from bs4 import BeautifulSoup\n",
    "\n",
    "url = 'https://pvp.qq.com/web201605/herolist.shtml'\n",
    "\n",
    "strhtml = requests.get(url)\n",
    "print(strhtml)\n",
    "soup = BeautifulSoup(strhtml.text, 'lxml')      # \n",
    "selector = 'body > div.wrapper > div > div > div.herolist-box > div.herolist-content > ul > li > a'\n",
    "data = soup.select(selector)"
   ]
  },
  {
   "cell_type": "code",
   "execution_count": 8,
   "metadata": {},
   "outputs": [
    {
     "data": {
      "text/plain": [
       "[{'title': 'ÔÆÖÐ¾ý',\n",
       "  'link': 'https://pvp.qq.com/web201605/herodetail/506.shtml'},\n",
       " {'title': 'Ñþ', 'link': 'https://pvp.qq.com/web201605/herodetail/505.shtml'},\n",
       " {'title': 'ÅÌ¹Å',\n",
       "  'link': 'https://pvp.qq.com/web201605/herodetail/529.shtml'},\n",
       " {'title': 'Öí°Ë½ä',\n",
       "  'link': 'https://pvp.qq.com/web201605/herodetail/511.shtml'},\n",
       " {'title': 'æÏ¶ð',\n",
       "  'link': 'https://pvp.qq.com/web201605/herodetail/515.shtml'}]"
      ]
     },
     "execution_count": 8,
     "metadata": {},
     "output_type": "execute_result"
    }
   ],
   "source": [
    "result_list = []\n",
    "for item in data:\n",
    "    result = {\n",
    "        'title':item.get_text(),\n",
    "        'link':'https://pvp.qq.com/web201605/' + item.get('href')\n",
    "    }\n",
    "    result_list.append(result)\n",
    "result_list[0:5]"
   ]
  },
  {
   "cell_type": "code",
   "execution_count": 143,
   "metadata": {},
   "outputs": [
    {
     "name": "stdout",
     "output_type": "stream",
     "text": [
      "<class 'str'>\n",
      "<class 'bs4.BeautifulSoup'>\n"
     ]
    }
   ],
   "source": [
    "print(type(strhtml.text))   # 网页类型<class 'str'>\n",
    "print(type(soup))           # 解析之后的网页类型"
   ]
  },
  {
   "cell_type": "markdown",
   "metadata": {},
   "source": [
    "### 类型\n",
    "#### 类型\n",
    "- **`requests`获取的类型为:`requests.models.Response`**【`<Response [200]>`】\n",
    "- **再`.text`后的类型为:`<class 'str'>`**\n",
    "    - 【`resopnse.text`】\n",
    "    - 【`<html><body><a href=\"https://www.ahpu.edu.cn/\">安徽工程大学</a></body></html>`】\n",
    "- \n",
    "- **`Beautiful Soup`解析后的网页类型为:`<class 'bs4.BeautifulSoup'>`**\n",
    "    - 【`<html><body><a href=\"https://www.ahpu.edu.cn/\">安徽工程大学</a></body></html>`】【整齐的】\n",
    "- \n",
    "- **`soup.select(selector)`后的类型为:`<class 'bs4.element.ResultSet'>`**\n",
    "    - `[<a href=\"https://www.ahpu.edu.cn/\">安徽工程大学</a>, <a>......</a>, <a>......</a>, ...]`【类似列表, 索引】\n",
    "\n",
    "#### 获取内容方法\n",
    "- **获取标签间的正文用`get_text()`方法**\n",
    "- **提取标签内的属性用`get()`方法**"
   ]
  },
  {
   "cell_type": "code",
   "execution_count": 136,
   "metadata": {},
   "outputs": [
    {
     "name": "stdout",
     "output_type": "stream",
     "text": [
      "【BeautifulSoup后的类型】\n",
      "<class 'bs4.BeautifulSoup'>\n",
      "\n",
      "【BeautifulSoup后的形式】\n",
      "<html><body><a href=\"https://www.ahpu.edu.cn/\">安徽工程大学</a></body></html>\n",
      "\n",
      "【到达指定标签位置】【select】\n",
      "<class 'bs4.element.ResultSet'>\n",
      "[<a href=\"https://www.ahpu.edu.cn/\">安徽工程大学</a>]\n"
     ]
    }
   ],
   "source": [
    "string = \"\"\"<a href=\"https://www.ahpu.edu.cn/\">安徽工程大学</a>\"\"\"\n",
    "soup = BeautifulSoup(string)\n",
    "data = soup.select('body > a')\n",
    "print(\"【BeautifulSoup后的类型】\\n\", type(soup), sep='')\n",
    "print(\"\\n【BeautifulSoup后的形式】\\n\", soup, sep='')\n",
    "print(\"\\n【到达指定标签位置】【select】\")\n",
    "print(type(data))\n",
    "print(data)"
   ]
  },
  {
   "cell_type": "markdown",
   "metadata": {},
   "source": [
    "#### 获取标签中正文用`get_text()`方法, 如: "
   ]
  },
  {
   "cell_type": "code",
   "execution_count": 137,
   "metadata": {},
   "outputs": [
    {
     "data": {
      "text/plain": [
       "'安徽工程大学'"
      ]
     },
     "execution_count": 137,
     "metadata": {},
     "output_type": "execute_result"
    }
   ],
   "source": [
    "data[0].get_text()"
   ]
  },
  {
   "cell_type": "markdown",
   "metadata": {},
   "source": [
    "#### 提取标签中的属性用`get()`方法, 如:"
   ]
  },
  {
   "cell_type": "code",
   "execution_count": 138,
   "metadata": {},
   "outputs": [
    {
     "data": {
      "text/plain": [
       "'https://www.ahpu.edu.cn/'"
      ]
     },
     "execution_count": 138,
     "metadata": {},
     "output_type": "execute_result"
    }
   ],
   "source": [
    "data[0].get('href')"
   ]
  },
  {
   "cell_type": "markdown",
   "metadata": {},
   "source": [
    "## 正则表达式"
   ]
  },
  {
   "cell_type": "code",
   "execution_count": 42,
   "metadata": {},
   "outputs": [
    {
     "data": {
      "text/plain": [
       "[{'title': 'ÔÆÖÐ¾ý',\n",
       "  'link': 'https://pvp.qq.com/web201605/herodetail/506.shtml',\n",
       "  'ID': ['506']},\n",
       " {'title': 'Ñþ',\n",
       "  'link': 'https://pvp.qq.com/web201605/herodetail/505.shtml',\n",
       "  'ID': ['505']},\n",
       " {'title': 'ÅÌ¹Å',\n",
       "  'link': 'https://pvp.qq.com/web201605/herodetail/529.shtml',\n",
       "  'ID': ['529']},\n",
       " {'title': 'Öí°Ë½ä',\n",
       "  'link': 'https://pvp.qq.com/web201605/herodetail/511.shtml',\n",
       "  'ID': ['511']},\n",
       " {'title': 'æÏ¶ð',\n",
       "  'link': 'https://pvp.qq.com/web201605/herodetail/515.shtml',\n",
       "  'ID': ['515']}]"
      ]
     },
     "execution_count": 42,
     "metadata": {},
     "output_type": "execute_result"
    }
   ],
   "source": [
    "import re\n",
    "\n",
    "result_list = []\n",
    "for item in data:\n",
    "    result={\n",
    "        'title':item.get_text(),\n",
    "        'link':'https://pvp.qq.com/web201605/' + item.get('href'),\n",
    "        'ID':re.findall('\\d+', item.get('href'))\n",
    "    }\n",
    "    result_list.append(result)\n",
    "result_list[0:5]"
   ]
  },
  {
   "cell_type": "markdown",
   "metadata": {},
   "source": [
    "## 反爬"
   ]
  },
  {
   "cell_type": "code",
   "execution_count": 45,
   "metadata": {},
   "outputs": [
    {
     "ename": "ProxyError",
     "evalue": "HTTPSConnectionPool(host='movie.douban.com', port=443): Max retries exceeded with url: /top250 (Caused by ProxyError('Cannot connect to proxy.', NewConnectionError('<urllib3.connection.HTTPSConnection object at 0x7f9d0414e550>: Failed to establish a new connection: [Errno -2] Name or service not known')))",
     "output_type": "error",
     "traceback": [
      "\u001b[0;31m---------------------------------------------------------------------------\u001b[0m",
      "\u001b[0;31mgaierror\u001b[0m                                  Traceback (most recent call last)",
      "File \u001b[0;32m~/.local/lib/python3.8/site-packages/urllib3/connection.py:174\u001b[0m, in \u001b[0;36mHTTPConnection._new_conn\u001b[0;34m(self)\u001b[0m\n\u001b[1;32m    <a href='file:///home/tzy/.local/lib/python3.8/site-packages/urllib3/connection.py?line=172'>173</a>\u001b[0m \u001b[39mtry\u001b[39;00m:\n\u001b[0;32m--> <a href='file:///home/tzy/.local/lib/python3.8/site-packages/urllib3/connection.py?line=173'>174</a>\u001b[0m     conn \u001b[39m=\u001b[39m connection\u001b[39m.\u001b[39;49mcreate_connection(\n\u001b[1;32m    <a href='file:///home/tzy/.local/lib/python3.8/site-packages/urllib3/connection.py?line=174'>175</a>\u001b[0m         (\u001b[39mself\u001b[39;49m\u001b[39m.\u001b[39;49m_dns_host, \u001b[39mself\u001b[39;49m\u001b[39m.\u001b[39;49mport), \u001b[39mself\u001b[39;49m\u001b[39m.\u001b[39;49mtimeout, \u001b[39m*\u001b[39;49m\u001b[39m*\u001b[39;49mextra_kw\n\u001b[1;32m    <a href='file:///home/tzy/.local/lib/python3.8/site-packages/urllib3/connection.py?line=175'>176</a>\u001b[0m     )\n\u001b[1;32m    <a href='file:///home/tzy/.local/lib/python3.8/site-packages/urllib3/connection.py?line=177'>178</a>\u001b[0m \u001b[39mexcept\u001b[39;00m SocketTimeout:\n",
      "File \u001b[0;32m~/.local/lib/python3.8/site-packages/urllib3/util/connection.py:73\u001b[0m, in \u001b[0;36mcreate_connection\u001b[0;34m(address, timeout, source_address, socket_options)\u001b[0m\n\u001b[1;32m     <a href='file:///home/tzy/.local/lib/python3.8/site-packages/urllib3/util/connection.py?line=68'>69</a>\u001b[0m     \u001b[39mreturn\u001b[39;00m six\u001b[39m.\u001b[39mraise_from(\n\u001b[1;32m     <a href='file:///home/tzy/.local/lib/python3.8/site-packages/urllib3/util/connection.py?line=69'>70</a>\u001b[0m         LocationParseError(\u001b[39mu\u001b[39m\u001b[39m\"\u001b[39m\u001b[39m'\u001b[39m\u001b[39m%s\u001b[39;00m\u001b[39m'\u001b[39m\u001b[39m, label empty or too long\u001b[39m\u001b[39m\"\u001b[39m \u001b[39m%\u001b[39m host), \u001b[39mNone\u001b[39;00m\n\u001b[1;32m     <a href='file:///home/tzy/.local/lib/python3.8/site-packages/urllib3/util/connection.py?line=70'>71</a>\u001b[0m     )\n\u001b[0;32m---> <a href='file:///home/tzy/.local/lib/python3.8/site-packages/urllib3/util/connection.py?line=72'>73</a>\u001b[0m \u001b[39mfor\u001b[39;00m res \u001b[39min\u001b[39;00m socket\u001b[39m.\u001b[39;49mgetaddrinfo(host, port, family, socket\u001b[39m.\u001b[39;49mSOCK_STREAM):\n\u001b[1;32m     <a href='file:///home/tzy/.local/lib/python3.8/site-packages/urllib3/util/connection.py?line=73'>74</a>\u001b[0m     af, socktype, proto, canonname, sa \u001b[39m=\u001b[39m res\n",
      "File \u001b[0;32m/usr/lib/python3.8/socket.py:918\u001b[0m, in \u001b[0;36mgetaddrinfo\u001b[0;34m(host, port, family, type, proto, flags)\u001b[0m\n\u001b[1;32m    <a href='file:///usr/lib/python3.8/socket.py?line=916'>917</a>\u001b[0m addrlist \u001b[39m=\u001b[39m []\n\u001b[0;32m--> <a href='file:///usr/lib/python3.8/socket.py?line=917'>918</a>\u001b[0m \u001b[39mfor\u001b[39;00m res \u001b[39min\u001b[39;00m _socket\u001b[39m.\u001b[39;49mgetaddrinfo(host, port, family, \u001b[39mtype\u001b[39;49m, proto, flags):\n\u001b[1;32m    <a href='file:///usr/lib/python3.8/socket.py?line=918'>919</a>\u001b[0m     af, socktype, proto, canonname, sa \u001b[39m=\u001b[39m res\n",
      "\u001b[0;31mgaierror\u001b[0m: [Errno -2] Name or service not known",
      "\nDuring handling of the above exception, another exception occurred:\n",
      "\u001b[0;31mNewConnectionError\u001b[0m                        Traceback (most recent call last)",
      "File \u001b[0;32m~/.local/lib/python3.8/site-packages/urllib3/connectionpool.py:696\u001b[0m, in \u001b[0;36mHTTPConnectionPool.urlopen\u001b[0;34m(self, method, url, body, headers, retries, redirect, assert_same_host, timeout, pool_timeout, release_conn, chunked, body_pos, **response_kw)\u001b[0m\n\u001b[1;32m    <a href='file:///home/tzy/.local/lib/python3.8/site-packages/urllib3/connectionpool.py?line=694'>695</a>\u001b[0m \u001b[39mif\u001b[39;00m is_new_proxy_conn \u001b[39mand\u001b[39;00m http_tunnel_required:\n\u001b[0;32m--> <a href='file:///home/tzy/.local/lib/python3.8/site-packages/urllib3/connectionpool.py?line=695'>696</a>\u001b[0m     \u001b[39mself\u001b[39;49m\u001b[39m.\u001b[39;49m_prepare_proxy(conn)\n\u001b[1;32m    <a href='file:///home/tzy/.local/lib/python3.8/site-packages/urllib3/connectionpool.py?line=697'>698</a>\u001b[0m \u001b[39m# Make the request on the httplib connection object.\u001b[39;00m\n",
      "File \u001b[0;32m~/.local/lib/python3.8/site-packages/urllib3/connectionpool.py:964\u001b[0m, in \u001b[0;36mHTTPSConnectionPool._prepare_proxy\u001b[0;34m(self, conn)\u001b[0m\n\u001b[1;32m    <a href='file:///home/tzy/.local/lib/python3.8/site-packages/urllib3/connectionpool.py?line=961'>962</a>\u001b[0m     conn\u001b[39m.\u001b[39mtls_in_tls_required \u001b[39m=\u001b[39m \u001b[39mTrue\u001b[39;00m\n\u001b[0;32m--> <a href='file:///home/tzy/.local/lib/python3.8/site-packages/urllib3/connectionpool.py?line=963'>964</a>\u001b[0m conn\u001b[39m.\u001b[39;49mconnect()\n",
      "File \u001b[0;32m~/.local/lib/python3.8/site-packages/urllib3/connection.py:358\u001b[0m, in \u001b[0;36mHTTPSConnection.connect\u001b[0;34m(self)\u001b[0m\n\u001b[1;32m    <a href='file:///home/tzy/.local/lib/python3.8/site-packages/urllib3/connection.py?line=355'>356</a>\u001b[0m \u001b[39mdef\u001b[39;00m \u001b[39mconnect\u001b[39m(\u001b[39mself\u001b[39m):\n\u001b[1;32m    <a href='file:///home/tzy/.local/lib/python3.8/site-packages/urllib3/connection.py?line=356'>357</a>\u001b[0m     \u001b[39m# Add certificate verification\u001b[39;00m\n\u001b[0;32m--> <a href='file:///home/tzy/.local/lib/python3.8/site-packages/urllib3/connection.py?line=357'>358</a>\u001b[0m     conn \u001b[39m=\u001b[39m \u001b[39mself\u001b[39;49m\u001b[39m.\u001b[39;49m_new_conn()\n\u001b[1;32m    <a href='file:///home/tzy/.local/lib/python3.8/site-packages/urllib3/connection.py?line=358'>359</a>\u001b[0m     hostname \u001b[39m=\u001b[39m \u001b[39mself\u001b[39m\u001b[39m.\u001b[39mhost\n",
      "File \u001b[0;32m~/.local/lib/python3.8/site-packages/urllib3/connection.py:186\u001b[0m, in \u001b[0;36mHTTPConnection._new_conn\u001b[0;34m(self)\u001b[0m\n\u001b[1;32m    <a href='file:///home/tzy/.local/lib/python3.8/site-packages/urllib3/connection.py?line=184'>185</a>\u001b[0m \u001b[39mexcept\u001b[39;00m SocketError \u001b[39mas\u001b[39;00m e:\n\u001b[0;32m--> <a href='file:///home/tzy/.local/lib/python3.8/site-packages/urllib3/connection.py?line=185'>186</a>\u001b[0m     \u001b[39mraise\u001b[39;00m NewConnectionError(\n\u001b[1;32m    <a href='file:///home/tzy/.local/lib/python3.8/site-packages/urllib3/connection.py?line=186'>187</a>\u001b[0m         \u001b[39mself\u001b[39m, \u001b[39m\"\u001b[39m\u001b[39mFailed to establish a new connection: \u001b[39m\u001b[39m%s\u001b[39;00m\u001b[39m\"\u001b[39m \u001b[39m%\u001b[39m e\n\u001b[1;32m    <a href='file:///home/tzy/.local/lib/python3.8/site-packages/urllib3/connection.py?line=187'>188</a>\u001b[0m     )\n\u001b[1;32m    <a href='file:///home/tzy/.local/lib/python3.8/site-packages/urllib3/connection.py?line=189'>190</a>\u001b[0m \u001b[39mreturn\u001b[39;00m conn\n",
      "\u001b[0;31mNewConnectionError\u001b[0m: <urllib3.connection.HTTPSConnection object at 0x7f9d0414e550>: Failed to establish a new connection: [Errno -2] Name or service not known",
      "\nDuring handling of the above exception, another exception occurred:\n",
      "\u001b[0;31mMaxRetryError\u001b[0m                             Traceback (most recent call last)",
      "File \u001b[0;32m~/.local/lib/python3.8/site-packages/requests/adapters.py:439\u001b[0m, in \u001b[0;36mHTTPAdapter.send\u001b[0;34m(self, request, stream, timeout, verify, cert, proxies)\u001b[0m\n\u001b[1;32m    <a href='file:///home/tzy/.local/lib/python3.8/site-packages/requests/adapters.py?line=437'>438</a>\u001b[0m \u001b[39mif\u001b[39;00m \u001b[39mnot\u001b[39;00m chunked:\n\u001b[0;32m--> <a href='file:///home/tzy/.local/lib/python3.8/site-packages/requests/adapters.py?line=438'>439</a>\u001b[0m     resp \u001b[39m=\u001b[39m conn\u001b[39m.\u001b[39;49murlopen(\n\u001b[1;32m    <a href='file:///home/tzy/.local/lib/python3.8/site-packages/requests/adapters.py?line=439'>440</a>\u001b[0m         method\u001b[39m=\u001b[39;49mrequest\u001b[39m.\u001b[39;49mmethod,\n\u001b[1;32m    <a href='file:///home/tzy/.local/lib/python3.8/site-packages/requests/adapters.py?line=440'>441</a>\u001b[0m         url\u001b[39m=\u001b[39;49murl,\n\u001b[1;32m    <a href='file:///home/tzy/.local/lib/python3.8/site-packages/requests/adapters.py?line=441'>442</a>\u001b[0m         body\u001b[39m=\u001b[39;49mrequest\u001b[39m.\u001b[39;49mbody,\n\u001b[1;32m    <a href='file:///home/tzy/.local/lib/python3.8/site-packages/requests/adapters.py?line=442'>443</a>\u001b[0m         headers\u001b[39m=\u001b[39;49mrequest\u001b[39m.\u001b[39;49mheaders,\n\u001b[1;32m    <a href='file:///home/tzy/.local/lib/python3.8/site-packages/requests/adapters.py?line=443'>444</a>\u001b[0m         redirect\u001b[39m=\u001b[39;49m\u001b[39mFalse\u001b[39;49;00m,\n\u001b[1;32m    <a href='file:///home/tzy/.local/lib/python3.8/site-packages/requests/adapters.py?line=444'>445</a>\u001b[0m         assert_same_host\u001b[39m=\u001b[39;49m\u001b[39mFalse\u001b[39;49;00m,\n\u001b[1;32m    <a href='file:///home/tzy/.local/lib/python3.8/site-packages/requests/adapters.py?line=445'>446</a>\u001b[0m         preload_content\u001b[39m=\u001b[39;49m\u001b[39mFalse\u001b[39;49;00m,\n\u001b[1;32m    <a href='file:///home/tzy/.local/lib/python3.8/site-packages/requests/adapters.py?line=446'>447</a>\u001b[0m         decode_content\u001b[39m=\u001b[39;49m\u001b[39mFalse\u001b[39;49;00m,\n\u001b[1;32m    <a href='file:///home/tzy/.local/lib/python3.8/site-packages/requests/adapters.py?line=447'>448</a>\u001b[0m         retries\u001b[39m=\u001b[39;49m\u001b[39mself\u001b[39;49m\u001b[39m.\u001b[39;49mmax_retries,\n\u001b[1;32m    <a href='file:///home/tzy/.local/lib/python3.8/site-packages/requests/adapters.py?line=448'>449</a>\u001b[0m         timeout\u001b[39m=\u001b[39;49mtimeout\n\u001b[1;32m    <a href='file:///home/tzy/.local/lib/python3.8/site-packages/requests/adapters.py?line=449'>450</a>\u001b[0m     )\n\u001b[1;32m    <a href='file:///home/tzy/.local/lib/python3.8/site-packages/requests/adapters.py?line=451'>452</a>\u001b[0m \u001b[39m# Send the request.\u001b[39;00m\n\u001b[1;32m    <a href='file:///home/tzy/.local/lib/python3.8/site-packages/requests/adapters.py?line=452'>453</a>\u001b[0m \u001b[39melse\u001b[39;00m:\n",
      "File \u001b[0;32m~/.local/lib/python3.8/site-packages/urllib3/connectionpool.py:755\u001b[0m, in \u001b[0;36mHTTPConnectionPool.urlopen\u001b[0;34m(self, method, url, body, headers, retries, redirect, assert_same_host, timeout, pool_timeout, release_conn, chunked, body_pos, **response_kw)\u001b[0m\n\u001b[1;32m    <a href='file:///home/tzy/.local/lib/python3.8/site-packages/urllib3/connectionpool.py?line=752'>753</a>\u001b[0m     e \u001b[39m=\u001b[39m ProtocolError(\u001b[39m\"\u001b[39m\u001b[39mConnection aborted.\u001b[39m\u001b[39m\"\u001b[39m, e)\n\u001b[0;32m--> <a href='file:///home/tzy/.local/lib/python3.8/site-packages/urllib3/connectionpool.py?line=754'>755</a>\u001b[0m retries \u001b[39m=\u001b[39m retries\u001b[39m.\u001b[39;49mincrement(\n\u001b[1;32m    <a href='file:///home/tzy/.local/lib/python3.8/site-packages/urllib3/connectionpool.py?line=755'>756</a>\u001b[0m     method, url, error\u001b[39m=\u001b[39;49me, _pool\u001b[39m=\u001b[39;49m\u001b[39mself\u001b[39;49m, _stacktrace\u001b[39m=\u001b[39;49msys\u001b[39m.\u001b[39;49mexc_info()[\u001b[39m2\u001b[39;49m]\n\u001b[1;32m    <a href='file:///home/tzy/.local/lib/python3.8/site-packages/urllib3/connectionpool.py?line=756'>757</a>\u001b[0m )\n\u001b[1;32m    <a href='file:///home/tzy/.local/lib/python3.8/site-packages/urllib3/connectionpool.py?line=757'>758</a>\u001b[0m retries\u001b[39m.\u001b[39msleep()\n",
      "File \u001b[0;32m~/.local/lib/python3.8/site-packages/urllib3/util/retry.py:574\u001b[0m, in \u001b[0;36mRetry.increment\u001b[0;34m(self, method, url, response, error, _pool, _stacktrace)\u001b[0m\n\u001b[1;32m    <a href='file:///home/tzy/.local/lib/python3.8/site-packages/urllib3/util/retry.py?line=572'>573</a>\u001b[0m \u001b[39mif\u001b[39;00m new_retry\u001b[39m.\u001b[39mis_exhausted():\n\u001b[0;32m--> <a href='file:///home/tzy/.local/lib/python3.8/site-packages/urllib3/util/retry.py?line=573'>574</a>\u001b[0m     \u001b[39mraise\u001b[39;00m MaxRetryError(_pool, url, error \u001b[39mor\u001b[39;00m ResponseError(cause))\n\u001b[1;32m    <a href='file:///home/tzy/.local/lib/python3.8/site-packages/urllib3/util/retry.py?line=575'>576</a>\u001b[0m log\u001b[39m.\u001b[39mdebug(\u001b[39m\"\u001b[39m\u001b[39mIncremented Retry for (url=\u001b[39m\u001b[39m'\u001b[39m\u001b[39m%s\u001b[39;00m\u001b[39m'\u001b[39m\u001b[39m): \u001b[39m\u001b[39m%r\u001b[39;00m\u001b[39m\"\u001b[39m, url, new_retry)\n",
      "\u001b[0;31mMaxRetryError\u001b[0m: HTTPSConnectionPool(host='movie.douban.com', port=443): Max retries exceeded with url: /top250 (Caused by ProxyError('Cannot connect to proxy.', NewConnectionError('<urllib3.connection.HTTPSConnection object at 0x7f9d0414e550>: Failed to establish a new connection: [Errno -2] Name or service not known')))",
      "\nDuring handling of the above exception, another exception occurred:\n",
      "\u001b[0;31mProxyError\u001b[0m                                Traceback (most recent call last)",
      "\u001b[1;32m/home/tzy/文档/Project/OWN--Python_Study/爬虫/《Python3爬虫、数据清洗与数据可视化》第2版/Chapter.ipynb Cell 20'\u001b[0m in \u001b[0;36m<cell line: 25>\u001b[0;34m()\u001b[0m\n\u001b[1;32m     <a href='vscode-notebook-cell:/home/tzy/%E6%96%87%E6%A1%A3/Project/OWN--Python_Study/%E7%88%AC%E8%99%AB/%E3%80%8APython3%E7%88%AC%E8%99%AB%E3%80%81%E6%95%B0%E6%8D%AE%E6%B8%85%E6%B4%97%E4%B8%8E%E6%95%B0%E6%8D%AE%E5%8F%AF%E8%A7%86%E5%8C%96%E3%80%8B%E7%AC%AC2%E7%89%88/Chapter.ipynb#ch0000023?line=18'>19</a>\u001b[0m proxies \u001b[39m=\u001b[39m {\n\u001b[1;32m     <a href='vscode-notebook-cell:/home/tzy/%E6%96%87%E6%A1%A3/Project/OWN--Python_Study/%E7%88%AC%E8%99%AB/%E3%80%8APython3%E7%88%AC%E8%99%AB%E3%80%81%E6%95%B0%E6%8D%AE%E6%B8%85%E6%B4%97%E4%B8%8E%E6%95%B0%E6%8D%AE%E5%8F%AF%E8%A7%86%E5%8C%96%E3%80%8B%E7%AC%AC2%E7%89%88/Chapter.ipynb#ch0000023?line=19'>20</a>\u001b[0m     \u001b[39m\"\u001b[39m\u001b[39mhttp\u001b[39m\u001b[39m\"\u001b[39m:\u001b[39m\"\u001b[39m\u001b[39mhttp://10.10.1.10.3128\u001b[39m\u001b[39m\"\u001b[39m,\n\u001b[1;32m     <a href='vscode-notebook-cell:/home/tzy/%E6%96%87%E6%A1%A3/Project/OWN--Python_Study/%E7%88%AC%E8%99%AB/%E3%80%8APython3%E7%88%AC%E8%99%AB%E3%80%81%E6%95%B0%E6%8D%AE%E6%B8%85%E6%B4%97%E4%B8%8E%E6%95%B0%E6%8D%AE%E5%8F%AF%E8%A7%86%E5%8C%96%E3%80%8B%E7%AC%AC2%E7%89%88/Chapter.ipynb#ch0000023?line=20'>21</a>\u001b[0m     \u001b[39m\"\u001b[39m\u001b[39mhttps\u001b[39m\u001b[39m\"\u001b[39m:\u001b[39m\"\u001b[39m\u001b[39mhttp://10.10.1.10.1080\u001b[39m\u001b[39m\"\u001b[39m\n\u001b[1;32m     <a href='vscode-notebook-cell:/home/tzy/%E6%96%87%E6%A1%A3/Project/OWN--Python_Study/%E7%88%AC%E8%99%AB/%E3%80%8APython3%E7%88%AC%E8%99%AB%E3%80%81%E6%95%B0%E6%8D%AE%E6%B8%85%E6%B4%97%E4%B8%8E%E6%95%B0%E6%8D%AE%E5%8F%AF%E8%A7%86%E5%8C%96%E3%80%8B%E7%AC%AC2%E7%89%88/Chapter.ipynb#ch0000023?line=21'>22</a>\u001b[0m }\n\u001b[1;32m     <a href='vscode-notebook-cell:/home/tzy/%E6%96%87%E6%A1%A3/Project/OWN--Python_Study/%E7%88%AC%E8%99%AB/%E3%80%8APython3%E7%88%AC%E8%99%AB%E3%80%81%E6%95%B0%E6%8D%AE%E6%B8%85%E6%B4%97%E4%B8%8E%E6%95%B0%E6%8D%AE%E5%8F%AF%E8%A7%86%E5%8C%96%E3%80%8B%E7%AC%AC2%E7%89%88/Chapter.ipynb#ch0000023?line=23'>24</a>\u001b[0m url \u001b[39m=\u001b[39m \u001b[39m'\u001b[39m\u001b[39mhttps://movie.douban.com/top250\u001b[39m\u001b[39m'\u001b[39m\n\u001b[0;32m---> <a href='vscode-notebook-cell:/home/tzy/%E6%96%87%E6%A1%A3/Project/OWN--Python_Study/%E7%88%AC%E8%99%AB/%E3%80%8APython3%E7%88%AC%E8%99%AB%E3%80%81%E6%95%B0%E6%8D%AE%E6%B8%85%E6%B4%97%E4%B8%8E%E6%95%B0%E6%8D%AE%E5%8F%AF%E8%A7%86%E5%8C%96%E3%80%8B%E7%AC%AC2%E7%89%88/Chapter.ipynb#ch0000023?line=24'>25</a>\u001b[0m strhtml \u001b[39m=\u001b[39m requests\u001b[39m.\u001b[39;49mget(url, headers\u001b[39m=\u001b[39;49mheaders, proxies\u001b[39m=\u001b[39;49mproxies)     \u001b[39m## 返回一个response\u001b[39;00m\n\u001b[1;32m     <a href='vscode-notebook-cell:/home/tzy/%E6%96%87%E6%A1%A3/Project/OWN--Python_Study/%E7%88%AC%E8%99%AB/%E3%80%8APython3%E7%88%AC%E8%99%AB%E3%80%81%E6%95%B0%E6%8D%AE%E6%B8%85%E6%B4%97%E4%B8%8E%E6%95%B0%E6%8D%AE%E5%8F%AF%E8%A7%86%E5%8C%96%E3%80%8B%E7%AC%AC2%E7%89%88/Chapter.ipynb#ch0000023?line=25'>26</a>\u001b[0m \u001b[39mprint\u001b[39m(strhtml)\n\u001b[1;32m     <a href='vscode-notebook-cell:/home/tzy/%E6%96%87%E6%A1%A3/Project/OWN--Python_Study/%E7%88%AC%E8%99%AB/%E3%80%8APython3%E7%88%AC%E8%99%AB%E3%80%81%E6%95%B0%E6%8D%AE%E6%B8%85%E6%B4%97%E4%B8%8E%E6%95%B0%E6%8D%AE%E5%8F%AF%E8%A7%86%E5%8C%96%E3%80%8B%E7%AC%AC2%E7%89%88/Chapter.ipynb#ch0000023?line=26'>27</a>\u001b[0m soup \u001b[39m=\u001b[39m BeautifulSoup(strhtml\u001b[39m.\u001b[39mtext, \u001b[39m'\u001b[39m\u001b[39mlxml\u001b[39m\u001b[39m'\u001b[39m)\n",
      "File \u001b[0;32m~/.local/lib/python3.8/site-packages/requests/api.py:76\u001b[0m, in \u001b[0;36mget\u001b[0;34m(url, params, **kwargs)\u001b[0m\n\u001b[1;32m     <a href='file:///home/tzy/.local/lib/python3.8/site-packages/requests/api.py?line=64'>65</a>\u001b[0m \u001b[39mr\u001b[39m\u001b[39m\"\"\"Sends a GET request.\u001b[39;00m\n\u001b[1;32m     <a href='file:///home/tzy/.local/lib/python3.8/site-packages/requests/api.py?line=65'>66</a>\u001b[0m \n\u001b[1;32m     <a href='file:///home/tzy/.local/lib/python3.8/site-packages/requests/api.py?line=66'>67</a>\u001b[0m \u001b[39m:param url: URL for the new :class:`Request` object.\u001b[39;00m\n\u001b[0;32m   (...)\u001b[0m\n\u001b[1;32m     <a href='file:///home/tzy/.local/lib/python3.8/site-packages/requests/api.py?line=71'>72</a>\u001b[0m \u001b[39m:rtype: requests.Response\u001b[39;00m\n\u001b[1;32m     <a href='file:///home/tzy/.local/lib/python3.8/site-packages/requests/api.py?line=72'>73</a>\u001b[0m \u001b[39m\"\"\"\u001b[39;00m\n\u001b[1;32m     <a href='file:///home/tzy/.local/lib/python3.8/site-packages/requests/api.py?line=74'>75</a>\u001b[0m kwargs\u001b[39m.\u001b[39msetdefault(\u001b[39m'\u001b[39m\u001b[39mallow_redirects\u001b[39m\u001b[39m'\u001b[39m, \u001b[39mTrue\u001b[39;00m)\n\u001b[0;32m---> <a href='file:///home/tzy/.local/lib/python3.8/site-packages/requests/api.py?line=75'>76</a>\u001b[0m \u001b[39mreturn\u001b[39;00m request(\u001b[39m'\u001b[39;49m\u001b[39mget\u001b[39;49m\u001b[39m'\u001b[39;49m, url, params\u001b[39m=\u001b[39;49mparams, \u001b[39m*\u001b[39;49m\u001b[39m*\u001b[39;49mkwargs)\n",
      "File \u001b[0;32m~/.local/lib/python3.8/site-packages/requests/api.py:61\u001b[0m, in \u001b[0;36mrequest\u001b[0;34m(method, url, **kwargs)\u001b[0m\n\u001b[1;32m     <a href='file:///home/tzy/.local/lib/python3.8/site-packages/requests/api.py?line=56'>57</a>\u001b[0m \u001b[39m# By using the 'with' statement we are sure the session is closed, thus we\u001b[39;00m\n\u001b[1;32m     <a href='file:///home/tzy/.local/lib/python3.8/site-packages/requests/api.py?line=57'>58</a>\u001b[0m \u001b[39m# avoid leaving sockets open which can trigger a ResourceWarning in some\u001b[39;00m\n\u001b[1;32m     <a href='file:///home/tzy/.local/lib/python3.8/site-packages/requests/api.py?line=58'>59</a>\u001b[0m \u001b[39m# cases, and look like a memory leak in others.\u001b[39;00m\n\u001b[1;32m     <a href='file:///home/tzy/.local/lib/python3.8/site-packages/requests/api.py?line=59'>60</a>\u001b[0m \u001b[39mwith\u001b[39;00m sessions\u001b[39m.\u001b[39mSession() \u001b[39mas\u001b[39;00m session:\n\u001b[0;32m---> <a href='file:///home/tzy/.local/lib/python3.8/site-packages/requests/api.py?line=60'>61</a>\u001b[0m     \u001b[39mreturn\u001b[39;00m session\u001b[39m.\u001b[39;49mrequest(method\u001b[39m=\u001b[39;49mmethod, url\u001b[39m=\u001b[39;49murl, \u001b[39m*\u001b[39;49m\u001b[39m*\u001b[39;49mkwargs)\n",
      "File \u001b[0;32m~/.local/lib/python3.8/site-packages/requests/sessions.py:542\u001b[0m, in \u001b[0;36mSession.request\u001b[0;34m(self, method, url, params, data, headers, cookies, files, auth, timeout, allow_redirects, proxies, hooks, stream, verify, cert, json)\u001b[0m\n\u001b[1;32m    <a href='file:///home/tzy/.local/lib/python3.8/site-packages/requests/sessions.py?line=536'>537</a>\u001b[0m send_kwargs \u001b[39m=\u001b[39m {\n\u001b[1;32m    <a href='file:///home/tzy/.local/lib/python3.8/site-packages/requests/sessions.py?line=537'>538</a>\u001b[0m     \u001b[39m'\u001b[39m\u001b[39mtimeout\u001b[39m\u001b[39m'\u001b[39m: timeout,\n\u001b[1;32m    <a href='file:///home/tzy/.local/lib/python3.8/site-packages/requests/sessions.py?line=538'>539</a>\u001b[0m     \u001b[39m'\u001b[39m\u001b[39mallow_redirects\u001b[39m\u001b[39m'\u001b[39m: allow_redirects,\n\u001b[1;32m    <a href='file:///home/tzy/.local/lib/python3.8/site-packages/requests/sessions.py?line=539'>540</a>\u001b[0m }\n\u001b[1;32m    <a href='file:///home/tzy/.local/lib/python3.8/site-packages/requests/sessions.py?line=540'>541</a>\u001b[0m send_kwargs\u001b[39m.\u001b[39mupdate(settings)\n\u001b[0;32m--> <a href='file:///home/tzy/.local/lib/python3.8/site-packages/requests/sessions.py?line=541'>542</a>\u001b[0m resp \u001b[39m=\u001b[39m \u001b[39mself\u001b[39;49m\u001b[39m.\u001b[39;49msend(prep, \u001b[39m*\u001b[39;49m\u001b[39m*\u001b[39;49msend_kwargs)\n\u001b[1;32m    <a href='file:///home/tzy/.local/lib/python3.8/site-packages/requests/sessions.py?line=543'>544</a>\u001b[0m \u001b[39mreturn\u001b[39;00m resp\n",
      "File \u001b[0;32m~/.local/lib/python3.8/site-packages/requests/sessions.py:655\u001b[0m, in \u001b[0;36mSession.send\u001b[0;34m(self, request, **kwargs)\u001b[0m\n\u001b[1;32m    <a href='file:///home/tzy/.local/lib/python3.8/site-packages/requests/sessions.py?line=651'>652</a>\u001b[0m start \u001b[39m=\u001b[39m preferred_clock()\n\u001b[1;32m    <a href='file:///home/tzy/.local/lib/python3.8/site-packages/requests/sessions.py?line=653'>654</a>\u001b[0m \u001b[39m# Send the request\u001b[39;00m\n\u001b[0;32m--> <a href='file:///home/tzy/.local/lib/python3.8/site-packages/requests/sessions.py?line=654'>655</a>\u001b[0m r \u001b[39m=\u001b[39m adapter\u001b[39m.\u001b[39;49msend(request, \u001b[39m*\u001b[39;49m\u001b[39m*\u001b[39;49mkwargs)\n\u001b[1;32m    <a href='file:///home/tzy/.local/lib/python3.8/site-packages/requests/sessions.py?line=656'>657</a>\u001b[0m \u001b[39m# Total elapsed time of the request (approximately)\u001b[39;00m\n\u001b[1;32m    <a href='file:///home/tzy/.local/lib/python3.8/site-packages/requests/sessions.py?line=657'>658</a>\u001b[0m elapsed \u001b[39m=\u001b[39m preferred_clock() \u001b[39m-\u001b[39m start\n",
      "File \u001b[0;32m~/.local/lib/python3.8/site-packages/requests/adapters.py:510\u001b[0m, in \u001b[0;36mHTTPAdapter.send\u001b[0;34m(self, request, stream, timeout, verify, cert, proxies)\u001b[0m\n\u001b[1;32m    <a href='file:///home/tzy/.local/lib/python3.8/site-packages/requests/adapters.py?line=506'>507</a>\u001b[0m     \u001b[39mraise\u001b[39;00m RetryError(e, request\u001b[39m=\u001b[39mrequest)\n\u001b[1;32m    <a href='file:///home/tzy/.local/lib/python3.8/site-packages/requests/adapters.py?line=508'>509</a>\u001b[0m \u001b[39mif\u001b[39;00m \u001b[39misinstance\u001b[39m(e\u001b[39m.\u001b[39mreason, _ProxyError):\n\u001b[0;32m--> <a href='file:///home/tzy/.local/lib/python3.8/site-packages/requests/adapters.py?line=509'>510</a>\u001b[0m     \u001b[39mraise\u001b[39;00m ProxyError(e, request\u001b[39m=\u001b[39mrequest)\n\u001b[1;32m    <a href='file:///home/tzy/.local/lib/python3.8/site-packages/requests/adapters.py?line=511'>512</a>\u001b[0m \u001b[39mif\u001b[39;00m \u001b[39misinstance\u001b[39m(e\u001b[39m.\u001b[39mreason, _SSLError):\n\u001b[1;32m    <a href='file:///home/tzy/.local/lib/python3.8/site-packages/requests/adapters.py?line=512'>513</a>\u001b[0m     \u001b[39m# This branch is for urllib3 v1.22 and later.\u001b[39;00m\n\u001b[1;32m    <a href='file:///home/tzy/.local/lib/python3.8/site-packages/requests/adapters.py?line=513'>514</a>\u001b[0m     \u001b[39mraise\u001b[39;00m SSLError(e, request\u001b[39m=\u001b[39mrequest)\n",
      "\u001b[0;31mProxyError\u001b[0m: HTTPSConnectionPool(host='movie.douban.com', port=443): Max retries exceeded with url: /top250 (Caused by ProxyError('Cannot connect to proxy.', NewConnectionError('<urllib3.connection.HTTPSConnection object at 0x7f9d0414e550>: Failed to establish a new connection: [Errno -2] Name or service not known')))"
     ]
    }
   ],
   "source": [
    "from bs4 import BeautifulSoup\n",
    "import requests\n",
    "import random\n",
    "\n",
    "'''\n",
    "    [python爬虫设置请求消息头(headers)](https://blog.csdn.net/aaronjny/article/details/62088640)\n",
    "'''\n",
    "# 添加请求头，伪装成浏览器\n",
    "headers = {\n",
    "    'Accept': '*/*',\n",
    "    'Accept-Language': 'en-US,en;q=0.8',\n",
    "    'Cache-Control': 'max-age=0',\n",
    "    'User-Agent': 'Mozilla/5.0 (X11; Linux x86_64) AppleWebKit/537.36 (KHTML, like Gecko) Chrome/48.0.2564.116 Safari/537.36',\n",
    "    'Connection': 'keep-alive',\n",
    "    'Referer': 'http://www.baidu.com/'\n",
    "}\n",
    "\n",
    "# 添加代理IP池，防止频繁访问导致IP地址被封\n",
    "proxies = {\n",
    "    \"http\":\"http://10.10.1.10.3128\",\n",
    "    \"https\":\"http://10.10.1.10.1080\"\n",
    "}\n",
    "\n",
    "url = 'https://movie.douban.com/top250'\n",
    "strhtml = requests.get(url, headers=headers, proxies=proxies)     ## 返回一个response\n",
    "print(strhtml)\n",
    "soup = BeautifulSoup(strhtml.text, 'lxml')\n",
    "soup"
   ]
  },
  {
   "cell_type": "markdown",
   "metadata": {},
   "source": [
    "# 中国旅游网\n",
    "\n",
    "<img src=\"../../images/76c36180d4c116ad718cc5609104e5b4d86c59c397a902bdc7102fcc901d29e8.png\" width=\"67.5%\" height=\"67.5%\" align=left />"
   ]
  },
  {
   "cell_type": "code",
   "execution_count": null,
   "metadata": {},
   "outputs": [
    {
     "name": "stdout",
     "output_type": "stream",
     "text": [
      "<Response [200]>\n"
     ]
    }
   ],
   "source": [
    "from bs4 import BeautifulSoup\n",
    "import requests\n",
    "import random\n",
    "\n",
    "'''\n",
    "    [python爬虫设置请求消息头(headers)](https://blog.csdn.net/aaronjny/article/details/62088640)\n",
    "'''\n",
    "headers = {\n",
    "    'Accept': '*/*',\n",
    "    'Accept-Language': 'en-US,en;q=0.8',\n",
    "    'Cache-Control': 'max-age=0',\n",
    "    'User-Agent': 'Mozilla/5.0 (X11; Linux x86_64) AppleWebKit/537.36 (KHTML, like Gecko) Chrome/48.0.2564.116 Safari/537.36',\n",
    "    'Connection': 'keep-alive',\n",
    "    'Referer': 'http://www.baidu.com/'\n",
    "}\n",
    "\n",
    "url = 'http://www.cntour.cn/'\n",
    "strhtml = requests.get(url, headers=headers)     ## 返回一个response\n",
    "soup = BeautifulSoup(strhtml.text, 'lxml')"
   ]
  },
  {
   "cell_type": "markdown",
   "metadata": {},
   "source": [
    "**失败**"
   ]
  },
  {
   "cell_type": "code",
   "execution_count": null,
   "metadata": {},
   "outputs": [
    {
     "data": {
      "text/plain": [
       "[<a class=\"article_title\" href=\"/h-nd-1231.html#_np=2_8590\" target=\"_blank\" title=\"数字人民币扩容，旅游业入门淘金\"><div class=\"news_titleimg\"></div> <span class=\"title_content\">\n",
       "             数字人民币扩容，旅游业入门淘金\n",
       "         </span></a>]"
      ]
     },
     "metadata": {},
     "output_type": "display_data"
    }
   ],
   "source": [
    "selector = '#m_news_info1231 > div.news_title > a'\n",
    "#module6890 > div.formMiddle.formMiddle6890 > div > div > div > div.m_news.m_new_padding_1.m_news__wrap-1 > div > div > div > div:nth-child(1)\n",
    "#m_news_info1214 > div.news_title > a\n",
    "#m_news_content > div\n",
    "data = soup.select(selector)\n",
    "data"
   ]
  },
  {
   "cell_type": "markdown",
   "metadata": {},
   "source": [
    "# 有道翻译\n",
    "\n",
    "<img src=\"../../../images/5211e8f366e5fb640256fc46c2ea8a3302ca6b9bd1d0d3bd00b6e93dd8a8de4c.png\" width=\"67.5%\" height=\"67.5%\" align=center />"
   ]
  },
  {
   "cell_type": "markdown",
   "metadata": {},
   "source": [
    "## 一、爬虫——普通做法"
   ]
  },
  {
   "cell_type": "code",
   "execution_count": 40,
   "metadata": {},
   "outputs": [
    {
     "name": "stdout",
     "output_type": "stream",
     "text": [
      "\n",
      "翻译结果:你好\n"
     ]
    }
   ],
   "source": [
    "import json\n",
    "import requests\n",
    "\n",
    "def get_translate_date(word=None):\n",
    "    url='http://fanyi.youdao.com/translate?smartresult=dict&smartresult =rule'\n",
    "    form_data = {   # 表单数据\n",
    "        'i':word, \n",
    "        'from':'AUTO',\n",
    "        'to': 'AUTO',\n",
    "        'smartresult': 'dict', \n",
    "        'client':'fanyideskweb',\n",
    "        'salt':'1512399450582',\n",
    "        'sign':'78181ebbdcb38de9b4a3f4cd1d3 8816b',\n",
    "        'doctype':'json',\n",
    "        'version': '2.1',\n",
    "        'keyfrom':'fanyi.web',\n",
    "        'action':'FY_BY_ CLICKBUTTION',\n",
    "        'typoResult':'false'\n",
    "    }\n",
    "\n",
    "    # 请求表单数据\n",
    "    response = requests.post(url=url, data=form_data)     ## 返回一个response\n",
    "    # json.loads(str)\n",
    "    # content = json.loads(response.text)\n",
    "    content = response.json()\n",
    "    print(\"\\n翻译结果:\", content['translateResult'][0][0]['tgt'], sep='')\n",
    "\n",
    "get_translate_date('Hello')"
   ]
  },
  {
   "cell_type": "markdown",
   "metadata": {},
   "source": [
    "## 二、爬虫结合`JS`解密做法\n",
    "\n",
    "> [`JS`加密详解](https://juejin.cn/post/6932769337115688974?#heading-2)\n",
    "\n",
    "> 每一次翻译的时候，`translate_o?smartresult=dict&smartresult=rule`接口中的`载荷`->`Form Data`下的数据都会发生变化\n",
    "- 分别是【`salt`, `sing`, `lts`, `bv`】这四个数据（`bv`好像是不会变的）\n",
    "\n",
    "<img src=\"../../../images/09ea1d0966caf59af1185197051b85869bdcf991b4970935bccab34826cba2db.png\" width=\"40%\" height=\"40%\">\n",
    "\n",
    "\n",
    "### **1、加密函数——`JS`版**\n",
    "\n",
    "<img src=\"../../../images/0b51701438e3c7d3736632419eadda220cf75c74466a25fccc55ea33b53dec4b.png\" width=\"67.5%\" height=\"67.5%\" align=center>"
   ]
  },
  {
   "cell_type": "code",
   "execution_count": null,
   "metadata": {},
   "outputs": [],
   "source": [
    "# 加密函数\n",
    "'''\n",
    "    var r = function(e) {\n",
    "        var t = n.md5(navigator.appVersion)\n",
    "          , r = \"\" + (new Date).getTime()\n",
    "          , i = r + parseInt(10 * Math.random(), 10);\n",
    "        return {\n",
    "            ts: r,\n",
    "            bv: t,\n",
    "            salt: i,\n",
    "            sign: n.md5(\"fanyideskweb\" + e + i + \"Ygy_4c=r#e#4EX^NUGUc5\")\n",
    "        }\n",
    "    };\n",
    "'''"
   ]
  },
  {
   "cell_type": "markdown",
   "metadata": {},
   "source": [
    "#### （1）获取 `bv` 的值\n",
    "\n",
    "> **`appVersion`**\n",
    "\n",
    "<img src=\"../../../images/5f0798ef0dbb39f4f754f7251afcf240146a12fa395fb75203a49e6307da7b1f.png\" width=\"75%\" height=\"75%\">"
   ]
  },
  {
   "cell_type": "code",
   "execution_count": 28,
   "metadata": {},
   "outputs": [
    {
     "name": "stdout",
     "output_type": "stream",
     "text": [
      "f4ba6f45063bb1cd2f2872ed23e89c8f\n"
     ]
    }
   ],
   "source": [
    "from hashlib import md5\n",
    "appVersion = \"5.0 (X11; Linux x86_64) AppleWebKit/537.36 (KHTML, like Gecko) Chrome/100.0.4896.127 Safari/537.36\"\n",
    "\n",
    "t = md5(appVersion.encode()).hexdigest()    # hexdigest 为16进制\n",
    "print(t)"
   ]
  },
  {
   "cell_type": "markdown",
   "metadata": {},
   "source": [
    "> 这里得到的结果和`bv`是一样的"
   ]
  },
  {
   "cell_type": "markdown",
   "metadata": {},
   "source": [
    "#### （2）获取 `lts` 的值\n",
    "\n",
    "**即`JS`实现的时间戳**\n",
    "\n",
    "<img src=\"../../../images/3fbe4a8516c35884b5b2840932bb992ef5f543544745064dc006ff1c38130a98.png\" width=\"35%\" height=\"35%\">"
   ]
  },
  {
   "cell_type": "code",
   "execution_count": 22,
   "metadata": {},
   "outputs": [
    {
     "name": "stdout",
     "output_type": "stream",
     "text": [
      "Python时间戳 1650975545.8530574\n",
      "JS实现 时间戳 1650974766322\n"
     ]
    }
   ],
   "source": [
    "import time\n",
    "r = time.time()\n",
    "print(\"Python时间戳\",r)\n",
    "print(\"JS实现 时间戳\", 1650974766322)"
   ]
  },
  {
   "cell_type": "markdown",
   "metadata": {},
   "source": [
    "- 乘以1000转化为int舍弃小数位再转化为字符串\n",
    "\n",
    "> **因为JS里是字符串**"
   ]
  },
  {
   "cell_type": "code",
   "execution_count": 23,
   "metadata": {},
   "outputs": [
    {
     "name": "stdout",
     "output_type": "stream",
     "text": [
      "Python时间戳 1650975616016\n",
      "JS实现 时间戳 1650974766322\n"
     ]
    }
   ],
   "source": [
    "r = str(int(time.time()*1000))\n",
    "print(\"Python时间戳\",r)\n",
    "print(\"JS实现 时间戳\", 1650974766322)"
   ]
  },
  {
   "cell_type": "markdown",
   "metadata": {},
   "source": [
    "#### （3）获取 `salt` 的值\n",
    "\n",
    "`i = r + parseInt(10 * Math.random(), 10)`\n",
    "\n",
    "在 `r` 后面加上一个0到10的随机数，`10`表示十进制"
   ]
  },
  {
   "cell_type": "code",
   "execution_count": 27,
   "metadata": {},
   "outputs": [
    {
     "name": "stdout",
     "output_type": "stream",
     "text": [
      "16509763352232\n"
     ]
    }
   ],
   "source": [
    "import random\n",
    "r = str(int(time.time()*1000))\n",
    "i = r + str(random.randint(0, 9))\n",
    "print(i)"
   ]
  },
  {
   "cell_type": "markdown",
   "metadata": {},
   "source": [
    "#### （4）获取 `sign` 的值\n",
    "\n",
    "`sign: n.md5(\"fanyideskweb\" + e + i + \"Ygy_4c=r#e#4EX^NUGUc5\")`"
   ]
  },
  {
   "cell_type": "code",
   "execution_count": 30,
   "metadata": {},
   "outputs": [
    {
     "name": "stdout",
     "output_type": "stream",
     "text": [
      "191e93864c6de81be2f212d143d9053f\n"
     ]
    }
   ],
   "source": [
    "e = \"I love you\"\n",
    "\n",
    "r = str(int(time.time()*1000))\n",
    "i = r + str(random.randint(0, 9))\n",
    "sign = md5((\"fanyideskweb\" + e + i + \"Ygy_4c=r#e#4EX^NUGUc5\").encode()).hexdigest()\n",
    "print(sign)"
   ]
  },
  {
   "cell_type": "markdown",
   "metadata": {},
   "source": [
    "### 2、加密函数——`Python`版"
   ]
  },
  {
   "cell_type": "code",
   "execution_count": null,
   "metadata": {},
   "outputs": [],
   "source": [
    "# 加密函数——JS版\n",
    "'''\n",
    "    var r = function(e) {\n",
    "        var t = n.md5(navigator.appVersion)\n",
    "          , r = \"\" + (new Date).getTime()\n",
    "          , i = r + parseInt(10 * Math.random(), 10);\n",
    "        return {\n",
    "            ts: r,\n",
    "            bv: t,\n",
    "            salt: i,\n",
    "            sign: n.md5(\"fanyideskweb\" + e + i + \"Ygy_4c=r#e#4EX^NUGUc5\")\n",
    "        }\n",
    "    };\n",
    "'''\n",
    "\n",
    "# 加密函数——Python版\n",
    "import time\n",
    "import random\n",
    "from hashlib import md5\n",
    "appVersion = \"5.0 (X11; Linux x86_64) AppleWebKit/537.36 (KHTML, like Gecko) Chrome/100.0.4896.127 Safari/537.36\"\n",
    "\n",
    "def r(e):\n",
    "    t = md5(appVersion.encode()).hexdigest()    # hexdigest 为16进制\n",
    "    r = str(int(time.time()*1000))\n",
    "    i = r + str(random.randint(0,9))\n",
    "\n",
    "    return {\n",
    "        \"ts\":r,\n",
    "        \"bv\":t,\n",
    "        \"salt\":i,\n",
    "        \"sign\":md5((\"fanyideskweb\" + e + i + \"Ygy_4c=r#e#4EX^NUGUc5\").encode()).hexdigest()\n",
    "    }"
   ]
  },
  {
   "cell_type": "markdown",
   "metadata": {},
   "source": [
    "## 三、爬取结合`JS`解密做法——代码"
   ]
  },
  {
   "cell_type": "code",
   "execution_count": 7,
   "metadata": {},
   "outputs": [],
   "source": [
    "import json\n",
    "import requests\n",
    "\n",
    "import time\n",
    "import random\n",
    "from hashlib import md5\n",
    "\n",
    "appVersion = \"5.0 (X11; Linux x86_64) AppleWebKit/537.36 (KHTML, like Gecko) Chrome/100.0.4896.127 Safari/537.36\"\n",
    "url='http://fanyi.youdao.com/translate?smartresult=dict&smartresult =rule'\n",
    "\n",
    "headers = {\n",
    "    \"Accept\": \"application/json, text/javascript, */*; q=0.01\",\n",
    "    \"Accept-Encoding\": \"gzip, deflate, br\",\n",
    "    \"Accept-Language\": \"en-US,en;q=0.9,zh-CN;q=0.8,zh;q=0.7\",\n",
    "    \"Connection\": \"keep-alive\",\n",
    "    \"Content-Length\": \"261\",\n",
    "    \"Content-Type\": \"application/x-www-form-urlencoded; charset=UTF-8\",\n",
    "    \"Cookie\": \"P_INFO=null; UM_distinctid=18031c6458f169-07ea19b779ecdd-5b4c7c4c-f7716-18031c64590151; OUTFOX_SEARCH_USER_ID=-163867329@10.110.96.158; OUTFOX_SEARCH_USER_ID_NCOO=1855100400.923158; fanyi-ad-id=305676; fanyi-ad-closed=0; JSESSIONID=aaakE6qmBnMvMfr5nFLby; ___rl__test__cookies=1650974132444\",\n",
    "    \"Host\": \"fanyi.youdao.com\",\n",
    "    \"Origin\": \"https://fanyi.youdao.com\",\n",
    "    \"Referer\": \"https://fanyi.youdao.com/\",\n",
    "    \"User-Agent\": \"Mozilla/5.0 (X11; Linux x86_64) AppleWebKit/537.36 (KHTML, like Gecko) Chrome/100.0.4896.127 Safari/537.36\",\n",
    "    \"X-Requested-With\": \"XMLHttpRequest\"\n",
    "}\n",
    "\n",
    "def r(e):\n",
    "    t = md5(appVersion.encode()).hexdigest()    # hexdigest 为16进制\n",
    "    r = str(int(time.time()*1000))\n",
    "    i = r + str(random.randint(0,9))\n",
    "\n",
    "    return {\n",
    "        \"ts\":r,\n",
    "        \"bv\":t,\n",
    "        \"salt\":i,\n",
    "        \"sign\":md5((\"fanyideskweb\" + e + i + \"Ygy_4c=r#e#4EX^NUGUc5\").encode()).hexdigest()\n",
    "    }\n",
    "\n",
    "def fanyi(word=None):\n",
    "    \n",
    "    data = r(word)\n",
    "    # print(word)\n",
    "    params = {   # 参数（表单数据\n",
    "        'i':word,\n",
    "        'from':'AUTO',\n",
    "        'to': 'AUTO',\n",
    "        'smartresult': 'dict',\n",
    "        'client':'fanyideskweb',\n",
    "        'salt':data[\"salt\"],\n",
    "        'sign':data[\"sign\"],\n",
    "        'lts':data[\"ts\"],\n",
    "        'bv':data[\"bv\"],\n",
    "        'doctype':'json',\n",
    "        'version': '2.1',\n",
    "        'keyfrom':'fanyi.web',\n",
    "        'action':'FY_BY_ CLICKBUTTION',\n",
    "        'typoResult':'false'\n",
    "    }\n",
    "\n",
    "    # 请求表单数据\n",
    "    response = requests.post(url=url, data=params)     ## 返回一个response\n",
    "    \n",
    "    # 返回json数据\n",
    "    return response.json()"
   ]
  },
  {
   "cell_type": "code",
   "execution_count": 3,
   "metadata": {},
   "outputs": [
    {
     "name": "stdout",
     "output_type": "stream",
     "text": [
      "test\n",
      "测试\n"
     ]
    }
   ],
   "source": [
    "if __name__ == \"__main__\":\n",
    "    word = input(\"请输入待翻译文字\")\n",
    "    print(fanyi(word)['translateResult'][0][0]['tgt'])"
   ]
  },
  {
   "cell_type": "markdown",
   "metadata": {},
   "source": [
    "## 读取文件翻译"
   ]
  },
  {
   "cell_type": "code",
   "execution_count": 20,
   "metadata": {},
   "outputs": [
    {
     "name": "stdout",
     "output_type": "stream",
     "text": [
      "I wish you a happy simple, warm and kind.\n",
      "《愿你简单快乐，温暖善良》\n",
      "Author: whales fall April 22, 2022, literature appreciation\n",
      "作者: 鲸落2022年04月22日美文欣赏\n",
      "Sometimes will think, the more people grow up, the more difficult it is to happiness?\n",
      "有时候会不会觉得，人越长大，越难快乐了？\n",
      "\n",
      "\n",
      "Is not life become boring, less happy, but happy threshold was raised, change, is our mood.\n",
      "其实不是生活变得乏味，快乐变少了，而是快乐的门槛被提高了，变化的，是我们的心境。\n",
      "\n",
      "\n",
      "Most of the time, we want to be too much, care too much, but ignored the plain and simple happiness.\n",
      "很多时候，我们想要的太多，在意的太多，却忽视了那些朴实的、简单的幸福。\n",
      "\n",
      "\n",
      "One of the best life state, not every moment with a bang, but at the same time in the pursuit of a warm, also can cherish small beautiful days.\n",
      "一个人最好的生活状态，并不是每时每刻都要轰轰烈烈，而是在追求热烈的同时，也能珍惜平淡日子里的小美好。\n",
      "\n",
      "\n",
      "Today, do a simple people.\n",
      "今天起，做一个简单的人。\n",
      "\n",
      "\n",
      "Shopping and reading books, go for a walk, have their own small life and interest, to live out yourself.\n",
      "逛逛街，看看书，散散步，有自己的小生活和小情趣，努力活出自己就好。\n",
      "\n",
      "\n",
      "As one writer said: \"today's things, devoted all my heart and soul to try to do it, no matter how, should be to be able to sleep happily.\"\n",
      "就像有位作家说的：“今日的事情，尽心、尽意、尽力去做了，无论成绩如何，都应该高高兴兴地上床恬睡。”\n",
      "\n",
      "\n",
      "Simple life is not easy, but we can too.\n",
      "生活不简单，但我们可以简单过。\n",
      "\n",
      "\n",
      "How to experience and enjoy, never done things to do.\n",
      "多去经历和享受，没做过的事情要做一做。\n",
      "\n",
      "\n",
      "Not thing is don't lose the feelings don't to heart.\n",
      "得不到的东西就不要了，失去的感情就别再耿耿于怀了。\n",
      "\n",
      "\n",
      "We are going to do, it is good to eat every meal, every thing ready at hand, love around every a person worthy of love.\n",
      "我们要做的，是吃好每一顿饭，做好手边的每一件事，用心去爱身边每一个值得爱的人。\n",
      "\n",
      "\n",
      "Let's do a simple person.\n",
      "一起做个简单的人吧。\n",
      "\n",
      "\n",
      "A person, what's most important quality?\n",
      "一个人身上，什么品质最重要呢？\n",
      "\n",
      "\n",
      "This world, the temptation is too much, too many test, can hold their own bad, is the one most precious quality.\n",
      "这个世界，诱惑太多，考验太多了，能坚守住自己的本心，才是一个人最珍贵的品质。\n",
      "\n",
      "\n",
      "In life is the trip, we slowly grow up, has experienced social hone, throw away the innocent and simple, gradually learn to wear a mask, became the world.\n",
      "在人生这趟旅途中，我们慢慢成长，经历了社会的磨砺，扔掉了天真和简单，渐渐学会戴上面具，开始变得人情世故。\n",
      "\n",
      "\n",
      "But in the end I hope you no matter where go, walk how far, can always in the afternoon.\n",
      "但希望你最后不管走到哪里，走得多远，都能永远赤诚。\n",
      "\n",
      "\n",
      "Pure eyes, can see the beautiful scenery;\n",
      "眼睛纯净，才能看见美丽的风景；\n",
      "\n",
      "\n",
      "People in this life, don't have to be powerful and expensive,, but must live clean, have a clear conscience.\n",
      "人这辈子，不一定要大富大贵，功成名就，但一定要活得清白，问心无愧。\n",
      "\n",
      "\n",
      "Sweep the dust in my heart, do a clean person.\n",
      "扫扫心里的尘埃，做个干净的人。\n",
      "\n",
      "\n",
      "Even if this world more complex, and disturbance, may you still leave a pure land for themselves.\n",
      "哪怕这世界再复杂、再纷扰，愿你仍为自己留一处净土。\n",
      "\n",
      "\n",
      "Smart but however head, round and smooth through the canopy.\n",
      "精明却不过头，历圆滑而弥天真。\n",
      "\n",
      "\n",
      "Read one sentence has a lot of feelings: \"if you are more and more cold, you think you grow up, but actually not.\n",
      "读过一句很有感触的话：“如果你越来越冷漠，你以为你成长了，但其实没有。\n",
      "\n",
      "\n",
      "Although my ability is limited, it can bring warmth to others.\n",
      "虽然自己能力有限，却力所能及地给他人带去温暖。\n",
      "\n",
      "\n",
      "I hope you can after seen it indifference, still be a kind and warm person.\n",
      "希望你能在看过了冷漠之后，仍然做一个善良、温暖的人。\n",
      "\n",
      "\n",
      "As someone said: \"we insist on one thing at a time, and not because to do so will have effect, but believes it is right to.\"\n",
      "就像有人说的：“我们坚持一件事，不是因为这样做了会有效果，而是坚信这样做是对的。”\n",
      "\n",
      "\n",
      "Is that we can think back at the end of the matter, this matter, is worthy of my heart;\n",
      "是让我们能在事情结束之后回头想想，这件事，我无愧于心；\n",
      "\n",
      "\n",
      "Your heart is warm sun, and the world will be bright;\n",
      "你心怀暖阳，世界便会明亮；\n",
      "\n",
      "\n",
      "Have you seen the world beyond, still believe that the world of good.\n",
      "愿你看过了世间百态，仍然相信世界的美好。\n"
     ]
    }
   ],
   "source": [
    "if __name__ == \"__main__\":\n",
    "    # 打开需要翻译的文章\n",
    "    with open(\"文章.txt\", mode=\"r\", encoding=\"utf-8\") as f:\n",
    "        # 获取文章全部内容\n",
    "        text = f.read()\n",
    "    result = fanyi(text)\n",
    "    r_data = result[\"translateResult\"]\n",
    "    \n",
    "    # 翻译结果保存\n",
    "    with open(\"文章翻译.txt\", mode=\"w\", encoding=\"utf-8\") as f:\n",
    "        for data in r_data:\n",
    "            f.write(data[0][\"tgt\"])     # 翻译\n",
    "            f.write('\\n')\n",
    "            f.write(data[0][\"src\"])     # 原文\n",
    "            f.write('\\n')\n",
    "            print(data[0][\"tgt\"])\n",
    "            print(data[0][\"src\"])"
   ]
  }
 ],
 "metadata": {
  "interpreter": {
   "hash": "916dbcbb3f70747c44a77c7bcd40155683ae19c65e1c03b4aa3499c5328201f1"
  },
  "kernelspec": {
   "display_name": "Python 3.8.10 64-bit",
   "language": "python",
   "name": "python3"
  },
  "language_info": {
   "codemirror_mode": {
    "name": "ipython",
    "version": 3
   },
   "file_extension": ".py",
   "mimetype": "text/x-python",
   "name": "python",
   "nbconvert_exporter": "python",
   "pygments_lexer": "ipython3",
   "version": "3.8.10"
  },
  "orig_nbformat": 4
 },
 "nbformat": 4,
 "nbformat_minor": 2
}
