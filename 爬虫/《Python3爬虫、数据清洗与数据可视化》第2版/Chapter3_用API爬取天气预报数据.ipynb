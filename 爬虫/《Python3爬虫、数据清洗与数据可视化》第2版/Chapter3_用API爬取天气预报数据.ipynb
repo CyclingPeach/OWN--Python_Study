{
 "cells": [
  {
   "cell_type": "code",
   "execution_count": 27,
   "metadata": {},
   "outputs": [
    {
     "name": "stdout",
     "output_type": "stream",
     "text": [
      "CN101010100\n",
      "CN101010200\n",
      "CN101010300\n",
      "CN101010400\n",
      "CN101010500\n",
      "CN101010600\n",
      "CN101010700\n",
      "CN101010800\n",
      "CN101010900\n",
      "CN101011000\n"
     ]
    }
   ],
   "source": [
    "import requests\n",
    "\n",
    "url = 'https://cdn.qweather.com/china-city-list.txt'\n",
    "strhtml = requests.get(url)\n",
    "strhtml.encoding = 'utf8'\n",
    "data = strhtml.text\n",
    "data_list = data.split('\\n')    # 用split()方法将文本转换成列表\n",
    "for i in range(6):\n",
    "    data_list.remove(data_list[0])  # 去除前六行无用数据\n",
    "for item in data_list[0:10]:\n",
    "    print(item[2:13])\n"
   ]
  },
  {
   "cell_type": "markdown",
   "metadata": {},
   "source": [
    "### 两个函数\n",
    "#### [`split()`](https://www.runoob.com/python3/python3-string-split.html)\n",
    "#### [`strip()`](https://www.runoob.com/python3/python3-string-strip.html)"
   ]
  },
  {
   "cell_type": "code",
   "execution_count": 30,
   "metadata": {},
   "outputs": [
    {
     "name": "stdout",
     "output_type": "stream",
     "text": [
      "['this', 'is', 'string', 'example....wow!!!']\n",
      "['th', 's ', 's string example....wow!!!']\n",
      "['this is string example....', 'o', '!!!']\n"
     ]
    }
   ],
   "source": [
    "# 分隔字符串\n",
    "str = \"this is string example....wow!!!\"\n",
    "print (str.split( ))       # 以空格为分隔符\n",
    "print (str.split('i',2))   # 以 i 为分隔符\n",
    "print (str.split('w'))     # 以 w 为分隔符"
   ]
  },
  {
   "cell_type": "code",
   "execution_count": 36,
   "metadata": {},
   "outputs": [
    {
     "name": "stdout",
     "output_type": "stream",
     "text": [
      "this is **string** example....wow!!!\n",
      "3abcrunoob3\n"
     ]
    }
   ],
   "source": [
    "# strip()移除字符串头尾指定的字符（默认为空格）或字符序列。\n",
    "str = \"******this is **string** example....wow!!!*****\"\n",
    "print (str.strip( '*' ))  # 指定字符串 *\n",
    "\n",
    "str = \"123abcrunoob321\"\n",
    "print (str.strip( '12' ))  # 字符序列为 12"
   ]
  },
  {
   "cell_type": "markdown",
   "metadata": {},
   "source": [
    "### 调用接口获取数据"
   ]
  },
  {
   "cell_type": "code",
   "execution_count": 41,
   "metadata": {},
   "outputs": [
    {
     "name": "stdout",
     "output_type": "stream",
     "text": [
      "CN101010100\n",
      "{\"code\":\"200\",\"updateTime\":\"2022-04-21T09:35+08:00\",\"fxLink\":\"http://hfx.link/2ax1\",\"daily\":[{\"fxDate\":\"2022-04-21\",\"sunrise\":\"05:29\",\"sunset\":\"18:58\",\"moonrise\":\"00:00\",\"moonset\":\"08:29\",\"moonPhase\":\"亏凸月\",\"moonPhaseIcon\":\"805\",\"tempMax\":\"26\",\"tempMin\":\"9\",\"iconDay\":\"503\",\"textDay\":\"扬沙\",\"iconNight\":\"150\",\"textNight\":\"晴\",\"wind360Day\":\"315\",\"windDirDay\":\"西北风\",\"windScaleDay\":\"3-4\",\"windSpeedDay\":\"24\",\"wind360Night\":\"0\",\"windDirNight\":\"北风\",\"windScaleNight\":\"3-4\",\"windSpeedNight\":\"16\",\"humidity\":\"19\",\"precip\":\"0.0\",\"pressure\":\"1006\",\"vis\":\"2\",\"cloud\":\"25\",\"uvIndex\":\"7\"},{\"fxDate\":\"2022-04-22\",\"sunrise\":\"05:28\",\"sunset\":\"18:59\",\"moonrise\":\"00:31\",\"moonset\":\"09:31\",\"moonPhase\":\"亏凸月\",\"moonPhaseIcon\":\"805\",\"tempMax\":\"23\",\"tempMin\":\"11\",\"iconDay\":\"100\",\"textDay\":\"晴\",\"iconNight\":\"150\",\"textNight\":\"晴\",\"wind360Day\":\"180\",\"windDirDay\":\"南风\",\"windScaleDay\":\"3-4\",\"windSpeedDay\":\"16\",\"wind360Night\":\"180\",\"windDirNight\":\"南风\",\"windScaleNight\":\"1-2\",\"windSpeedNight\":\"3\",\"humidity\":\"33\",\"precip\":\"0.0\",\"pressure\":\"1002\",\"vis\":\"2\",\"cloud\":\"25\",\"uvIndex\":\"4\"},{\"fxDate\":\"2022-04-23\",\"sunrise\":\"05:26\",\"sunset\":\"19:00\",\"moonrise\":\"01:29\",\"moonset\":\"10:40\",\"moonPhase\":\"下弦月\",\"moonPhaseIcon\":\"806\",\"tempMax\":\"29\",\"tempMin\":\"15\",\"iconDay\":\"100\",\"textDay\":\"晴\",\"iconNight\":\"150\",\"textNight\":\"晴\",\"wind360Day\":\"225\",\"windDirDay\":\"西南风\",\"windScaleDay\":\"3-4\",\"windSpeedDay\":\"16\",\"wind360Night\":\"225\",\"windDirNight\":\"西南风\",\"windScaleNight\":\"1-2\",\"windSpeedNight\":\"3\",\"humidity\":\"31\",\"precip\":\"0.0\",\"pressure\":\"996\",\"vis\":\"2\",\"cloud\":\"25\",\"uvIndex\":\"8\"}],\"refer\":{\"sources\":[\"QWeather\",\"NMC\",\"ECMWF\"],\"license\":[\"no commercial use\"]}} \n",
      "\n",
      "CN101010200\n",
      "{\"code\":\"200\",\"updateTime\":\"2022-04-21T09:35+08:00\",\"fxLink\":\"http://hfx.link/2ay1\",\"daily\":[{\"fxDate\":\"2022-04-21\",\"sunrise\":\"05:29\",\"sunset\":\"18:59\",\"moonrise\":\"00:00\",\"moonset\":\"08:30\",\"moonPhase\":\"亏凸月\",\"moonPhaseIcon\":\"805\",\"tempMax\":\"27\",\"tempMin\":\"9\",\"iconDay\":\"503\",\"textDay\":\"扬沙\",\"iconNight\":\"150\",\"textNight\":\"晴\",\"wind360Day\":\"315\",\"windDirDay\":\"西北风\",\"windScaleDay\":\"3-4\",\"windSpeedDay\":\"24\",\"wind360Night\":\"0\",\"windDirNight\":\"北风\",\"windScaleNight\":\"3-4\",\"windSpeedNight\":\"16\",\"humidity\":\"19\",\"precip\":\"0.0\",\"pressure\":\"1002\",\"vis\":\"2\",\"cloud\":\"25\",\"uvIndex\":\"8\"},{\"fxDate\":\"2022-04-22\",\"sunrise\":\"05:28\",\"sunset\":\"19:00\",\"moonrise\":\"00:32\",\"moonset\":\"09:31\",\"moonPhase\":\"亏凸月\",\"moonPhaseIcon\":\"805\",\"tempMax\":\"24\",\"tempMin\":\"10\",\"iconDay\":\"100\",\"textDay\":\"晴\",\"iconNight\":\"150\",\"textNight\":\"晴\",\"wind360Day\":\"180\",\"windDirDay\":\"南风\",\"windScaleDay\":\"3-4\",\"windSpeedDay\":\"16\",\"wind360Night\":\"180\",\"windDirNight\":\"南风\",\"windScaleNight\":\"1-2\",\"windSpeedNight\":\"3\",\"humidity\":\"32\",\"precip\":\"0.0\",\"pressure\":\"998\",\"vis\":\"2\",\"cloud\":\"25\",\"uvIndex\":\"6\"},{\"fxDate\":\"2022-04-23\",\"sunrise\":\"05:27\",\"sunset\":\"19:01\",\"moonrise\":\"01:30\",\"moonset\":\"10:40\",\"moonPhase\":\"下弦月\",\"moonPhaseIcon\":\"806\",\"tempMax\":\"29\",\"tempMin\":\"14\",\"iconDay\":\"100\",\"textDay\":\"晴\",\"iconNight\":\"150\",\"textNight\":\"晴\",\"wind360Day\":\"225\",\"windDirDay\":\"西南风\",\"windScaleDay\":\"3-4\",\"windSpeedDay\":\"16\",\"wind360Night\":\"225\",\"windDirNight\":\"西南风\",\"windScaleNight\":\"1-2\",\"windSpeedNight\":\"3\",\"humidity\":\"28\",\"precip\":\"0.0\",\"pressure\":\"992\",\"vis\":\"2\",\"cloud\":\"25\",\"uvIndex\":\"8\"}],\"refer\":{\"sources\":[\"QWeather\",\"NMC\",\"ECMWF\"],\"license\":[\"no commercial use\"]}} \n",
      "\n",
      "CN101010300\n",
      "{\"code\":\"200\",\"updateTime\":\"2022-04-21T09:35+08:00\",\"fxLink\":\"http://hfx.link/2az1\",\"daily\":[{\"fxDate\":\"2022-04-21\",\"sunrise\":\"05:29\",\"sunset\":\"18:58\",\"moonrise\":\"00:00\",\"moonset\":\"08:29\",\"moonPhase\":\"亏凸月\",\"moonPhaseIcon\":\"805\",\"tempMax\":\"27\",\"tempMin\":\"10\",\"iconDay\":\"503\",\"textDay\":\"扬沙\",\"iconNight\":\"150\",\"textNight\":\"晴\",\"wind360Day\":\"315\",\"windDirDay\":\"西北风\",\"windScaleDay\":\"3-4\",\"windSpeedDay\":\"24\",\"wind360Night\":\"0\",\"windDirNight\":\"北风\",\"windScaleNight\":\"3-4\",\"windSpeedNight\":\"16\",\"humidity\":\"19\",\"precip\":\"0.0\",\"pressure\":\"1008\",\"vis\":\"2\",\"cloud\":\"25\",\"uvIndex\":\"7\"},{\"fxDate\":\"2022-04-22\",\"sunrise\":\"05:27\",\"sunset\":\"18:59\",\"moonrise\":\"00:31\",\"moonset\":\"09:31\",\"moonPhase\":\"亏凸月\",\"moonPhaseIcon\":\"805\",\"tempMax\":\"23\",\"tempMin\":\"11\",\"iconDay\":\"100\",\"textDay\":\"晴\",\"iconNight\":\"150\",\"textNight\":\"晴\",\"wind360Day\":\"180\",\"windDirDay\":\"南风\",\"windScaleDay\":\"3-4\",\"windSpeedDay\":\"16\",\"wind360Night\":\"180\",\"windDirNight\":\"南风\",\"windScaleNight\":\"1-2\",\"windSpeedNight\":\"3\",\"humidity\":\"33\",\"precip\":\"0.0\",\"pressure\":\"1004\",\"vis\":\"2\",\"cloud\":\"25\",\"uvIndex\":\"4\"},{\"fxDate\":\"2022-04-23\",\"sunrise\":\"05:26\",\"sunset\":\"19:00\",\"moonrise\":\"01:29\",\"moonset\":\"10:40\",\"moonPhase\":\"下弦月\",\"moonPhaseIcon\":\"806\",\"tempMax\":\"28\",\"tempMin\":\"16\",\"iconDay\":\"100\",\"textDay\":\"晴\",\"iconNight\":\"150\",\"textNight\":\"晴\",\"wind360Day\":\"225\",\"windDirDay\":\"西南风\",\"windScaleDay\":\"3-4\",\"windSpeedDay\":\"16\",\"wind360Night\":\"225\",\"windDirNight\":\"西南风\",\"windScaleNight\":\"1-2\",\"windSpeedNight\":\"3\",\"humidity\":\"33\",\"precip\":\"0.0\",\"pressure\":\"997\",\"vis\":\"2\",\"cloud\":\"25\",\"uvIndex\":\"8\"}],\"refer\":{\"sources\":[\"QWeather\",\"NMC\",\"ECMWF\"],\"license\":[\"no commercial use\"]}} \n",
      "\n",
      "CN101010400\n",
      "{\"code\":\"200\",\"updateTime\":\"2022-04-21T09:35+08:00\",\"fxLink\":\"http://hfx.link/2b01\",\"daily\":[{\"fxDate\":\"2022-04-21\",\"sunrise\":\"05:28\",\"sunset\":\"18:57\",\"moonrise\":\"00:00\",\"moonset\":\"08:28\",\"moonPhase\":\"亏凸月\",\"moonPhaseIcon\":\"805\",\"tempMax\":\"27\",\"tempMin\":\"8\",\"iconDay\":\"503\",\"textDay\":\"扬沙\",\"iconNight\":\"150\",\"textNight\":\"晴\",\"wind360Day\":\"270\",\"windDirDay\":\"西风\",\"windScaleDay\":\"3-4\",\"windSpeedDay\":\"24\",\"wind360Night\":\"0\",\"windDirNight\":\"北风\",\"windScaleNight\":\"3-4\",\"windSpeedNight\":\"16\",\"humidity\":\"22\",\"precip\":\"0.0\",\"pressure\":\"1005\",\"vis\":\"2\",\"cloud\":\"25\",\"uvIndex\":\"8\"},{\"fxDate\":\"2022-04-22\",\"sunrise\":\"05:26\",\"sunset\":\"18:58\",\"moonrise\":\"00:31\",\"moonset\":\"09:29\",\"moonPhase\":\"亏凸月\",\"moonPhaseIcon\":\"805\",\"tempMax\":\"24\",\"tempMin\":\"11\",\"iconDay\":\"100\",\"textDay\":\"晴\",\"iconNight\":\"150\",\"textNight\":\"晴\",\"wind360Day\":\"180\",\"windDirDay\":\"南风\",\"windScaleDay\":\"3-4\",\"windSpeedDay\":\"16\",\"wind360Night\":\"180\",\"windDirNight\":\"南风\",\"windScaleNight\":\"1-2\",\"windSpeedNight\":\"3\",\"humidity\":\"36\",\"precip\":\"0.0\",\"pressure\":\"1002\",\"vis\":\"2\",\"cloud\":\"25\",\"uvIndex\":\"8\"},{\"fxDate\":\"2022-04-23\",\"sunrise\":\"05:25\",\"sunset\":\"18:59\",\"moonrise\":\"01:29\",\"moonset\":\"10:38\",\"moonPhase\":\"下弦月\",\"moonPhaseIcon\":\"806\",\"tempMax\":\"29\",\"tempMin\":\"14\",\"iconDay\":\"100\",\"textDay\":\"晴\",\"iconNight\":\"150\",\"textNight\":\"晴\",\"wind360Day\":\"180\",\"windDirDay\":\"南风\",\"windScaleDay\":\"1-2\",\"windSpeedDay\":\"3\",\"wind360Night\":\"0\",\"windDirNight\":\"北风\",\"windScaleNight\":\"1-2\",\"windSpeedNight\":\"3\",\"humidity\":\"35\",\"precip\":\"0.0\",\"pressure\":\"995\",\"vis\":\"2\",\"cloud\":\"25\",\"uvIndex\":\"8\"}],\"refer\":{\"sources\":[\"QWeather\",\"NMC\",\"ECMWF\"],\"license\":[\"no commercial use\"]}} \n",
      "\n",
      "CN101010500\n",
      "{\"code\":\"200\",\"updateTime\":\"2022-04-21T09:35+08:00\",\"fxLink\":\"http://hfx.link/2b11\",\"daily\":[{\"fxDate\":\"2022-04-21\",\"sunrise\":\"05:28\",\"sunset\":\"18:58\",\"moonrise\":\"00:00\",\"moonset\":\"08:27\",\"moonPhase\":\"亏凸月\",\"moonPhaseIcon\":\"805\",\"tempMax\":\"27\",\"tempMin\":\"6\",\"iconDay\":\"503\",\"textDay\":\"扬沙\",\"iconNight\":\"150\",\"textNight\":\"晴\",\"wind360Day\":\"270\",\"windDirDay\":\"西风\",\"windScaleDay\":\"1-2\",\"windSpeedDay\":\"3\",\"wind360Night\":\"0\",\"windDirNight\":\"北风\",\"windScaleNight\":\"1-2\",\"windSpeedNight\":\"3\",\"humidity\":\"25\",\"precip\":\"0.0\",\"pressure\":\"987\",\"vis\":\"2\",\"cloud\":\"25\",\"uvIndex\":\"8\"},{\"fxDate\":\"2022-04-22\",\"sunrise\":\"05:26\",\"sunset\":\"18:59\",\"moonrise\":\"00:31\",\"moonset\":\"09:29\",\"moonPhase\":\"亏凸月\",\"moonPhaseIcon\":\"805\",\"tempMax\":\"24\",\"tempMin\":\"10\",\"iconDay\":\"100\",\"textDay\":\"晴\",\"iconNight\":\"150\",\"textNight\":\"晴\",\"wind360Day\":\"180\",\"windDirDay\":\"南风\",\"windScaleDay\":\"3-4\",\"windSpeedDay\":\"16\",\"wind360Night\":\"180\",\"windDirNight\":\"南风\",\"windScaleNight\":\"1-2\",\"windSpeedNight\":\"3\",\"humidity\":\"38\",\"precip\":\"0.0\",\"pressure\":\"984\",\"vis\":\"2\",\"cloud\":\"25\",\"uvIndex\":\"8\"},{\"fxDate\":\"2022-04-23\",\"sunrise\":\"05:25\",\"sunset\":\"19:00\",\"moonrise\":\"01:30\",\"moonset\":\"10:37\",\"moonPhase\":\"下弦月\",\"moonPhaseIcon\":\"806\",\"tempMax\":\"28\",\"tempMin\":\"13\",\"iconDay\":\"100\",\"textDay\":\"晴\",\"iconNight\":\"150\",\"textNight\":\"晴\",\"wind360Day\":\"180\",\"windDirDay\":\"南风\",\"windScaleDay\":\"1-2\",\"windSpeedDay\":\"3\",\"wind360Night\":\"0\",\"windDirNight\":\"北风\",\"windScaleNight\":\"1-2\",\"windSpeedNight\":\"3\",\"humidity\":\"29\",\"precip\":\"0.0\",\"pressure\":\"978\",\"vis\":\"2\",\"cloud\":\"25\",\"uvIndex\":\"8\"}],\"refer\":{\"sources\":[\"QWeather\",\"NMC\",\"ECMWF\"],\"license\":[\"no commercial use\"]}} \n",
      "\n"
     ]
    }
   ],
   "source": [
    "import time\n",
    "import requests\n",
    "\n",
    "url = 'https://cdn.heweather.com/china-city-list.txt'\n",
    "strhtml = requests.get(url)\n",
    "strhtml.encoding = 'utf8'\n",
    "data = strhtml.text\n",
    "data_list = data.split('\\n')    # 用split()方法将文本转换成列表\n",
    "for i in range(6):\n",
    "    data_list.remove(data_list[0])  # 去除前六行无用数据\n",
    "for item in data_list[0:5]:         # 至获取 5 个城市的天气预报\n",
    "    print(item[2:13])\n",
    "\n",
    "    \n",
    "    请求参数 = 'location=' + item[2:13] + '&key=2c770ec285564bacb8726f7910d7e88f'\n",
    "    url = 'https://devapi.qweather.com/v7/weather/3d?' + 请求参数\n",
    "    strhtml = requests.get(url)\n",
    "    strhtml.encoding = 'utf-8'\n",
    "    time.sleep(1)\n",
    "    print(strhtml.text, \"\\n\")"
   ]
  },
  {
   "cell_type": "markdown",
   "metadata": {},
   "source": [
    "### 解析JSON格式\n",
    "\n",
    "[将JSON字符串转换为Python对象](https://zhuanlan.zhihu.com/p/344241754#:~:text=JSON(JavaScript%20Object%20Notation%EF%BC%8CJS,%E5%9C%B0%E6%8F%90%E5%8D%87%E7%BD%91%E7%BB%9C%E4%BC%A0%E8%BE%93%E6%95%88%E7%8E%87%E3%80%82)"
   ]
  },
  {
   "cell_type": "code",
   "execution_count": 109,
   "metadata": {},
   "outputs": [
    {
     "name": "stdout",
     "output_type": "stream",
     "text": [
      "CN101010100\n",
      "('2022-04-21', '26', '9')\n",
      "('2022-04-22', '23', '11')\n",
      "('2022-04-23', '29', '15')\n",
      "\n",
      "\n",
      "CN101010200\n",
      "('2022-04-21', '27', '9')\n",
      "('2022-04-22', '24', '10')\n",
      "('2022-04-23', '29', '14')\n",
      "\n",
      "\n"
     ]
    }
   ],
   "source": [
    "import time\n",
    "import requests\n",
    "\n",
    "url = 'https://cdn.heweather.com/china-city-list.txt'\n",
    "strhtml = requests.get(url)\n",
    "strhtml.encoding = 'utf8'\n",
    "data = strhtml.text\n",
    "data_list = data.split('\\n')    # 用split()方法将文本转换成列表\n",
    "for i in range(6):\n",
    "    data_list.remove(data_list[0])  # 去除前六行无用数据\n",
    "for item in data_list[0:2]:         # 至获取 5 个城市的天气预报\n",
    "    print(item[2:13])\n",
    "\n",
    "    \n",
    "    请求参数 = 'location=' + item[2:13] + '&key=2c770ec285564bacb8726f7910d7e88f'\n",
    "    url = 'https://devapi.qweather.com/v7/weather/3d?' + 请求参数\n",
    "    strhtml = requests.get(url)\n",
    "    strhtml.encoding = 'utf-8'\n",
    "    time.sleep(1)\n",
    "    dic = json.loads(strhtml.text)  # 将JSON字符串转换为Python对象"
   ]
  },
  {
   "cell_type": "markdown",
   "metadata": {},
   "source": [
    "### 连接数据库"
   ]
  },
  {
   "cell_type": "code",
   "execution_count": 58,
   "metadata": {},
   "outputs": [],
   "source": [
    "import time\n",
    "import json\n",
    "import pymongo\n",
    "import requests\n",
    "\n",
    "### 新建连接\n",
    "client = pymongo.MongoClient('localhost', 27017)\n",
    "\n",
    "# 在MongoDB中新建weather数据库\n",
    "book_weather = client['weather']\n",
    "# 在weather数据库中新建名为sheet_weather_3的表\n",
    "sheet_weather = book_weather['sheet_weather_3']\n",
    "\n",
    "### 爬虫\n",
    "url = 'https://cdn.heweather.com/china-city-list.txt'\n",
    "strhtml = requests.get(url)\n",
    "strhtml.encoding = 'utf8'\n",
    "data = strhtml.text\n",
    "data_list = data.split('\\n')    # 用split()方法将文本转换成列表, \\r是回车, 光标移至行首; \\n是换行, 光标下移一格\n",
    "for i in range(6):\n",
    "    data_list.remove(data_list[0])  # 去除前六行无用数据\n",
    "\n",
    "for item in data_list[0:5]:         # 至获取 5 个城市的天气预报\n",
    "    city_info = []\n",
    "    for i in item.split('|')[1:-1]:\n",
    "        i.split()\n",
    "        city_info.append(i.split())\n",
    "    city_info_need_key = ['ID', 'City', 'Province', 'Country']\n",
    "    city_info_need_value = city_info[0] + city_info[2] + city_info[7] + city_info[5]\n",
    "    city_info_need = dict(zip(city_info_need_key, city_info_need_value))\n",
    "    print(city_info_need)\n",
    "    \n",
    "    ## 调用API\n",
    "    请求参数 = 'location=' + item[2:13] + '&key=2c770ec285564bacb8726f7910d7e88f'\n",
    "    url = 'https://devapi.qweather.com/v7/weather/3d?' + 请求参数\n",
    "    strhtml = requests.get(url)\n",
    "    strhtml.encoding = 'utf-8'\n",
    "    time.sleep(1)\n",
    "    dic = json.loads(strhtml.text)  # 将JSON字符串转换为Python对象\n",
    "    \n",
    "    ## 字典拼接\n",
    "    dics = dict(city_info_need, **dic)\n",
    "    \n",
    "    ## 向表中写入一条数据\n",
    "    sheet_weather.insert_one(dics)"
   ]
  },
  {
   "cell_type": "code",
   "execution_count": 57,
   "metadata": {},
   "outputs": [
    {
     "data": {
      "text/plain": [
       "{'ID': 'CN101010500',\n",
       " 'City': '怀柔',\n",
       " 'Province': '北京',\n",
       " 'Country': '中国',\n",
       " 'code': '200',\n",
       " 'updateTime': '2022-04-21T12:35+08:00',\n",
       " 'fxLink': 'http://hfx.link/2b11',\n",
       " 'daily': [{'fxDate': '2022-04-21',\n",
       "   'sunrise': '05:28',\n",
       "   'sunset': '18:58',\n",
       "   'moonrise': '00:00',\n",
       "   'moonset': '08:27',\n",
       "   'moonPhase': '亏凸月',\n",
       "   'moonPhaseIcon': '805',\n",
       "   'tempMax': '27',\n",
       "   'tempMin': '6',\n",
       "   'iconDay': '503',\n",
       "   'textDay': '扬沙',\n",
       "   'iconNight': '150',\n",
       "   'textNight': '晴',\n",
       "   'wind360Day': '270',\n",
       "   'windDirDay': '西风',\n",
       "   'windScaleDay': '1-2',\n",
       "   'windSpeedDay': '3',\n",
       "   'wind360Night': '0',\n",
       "   'windDirNight': '北风',\n",
       "   'windScaleNight': '1-2',\n",
       "   'windSpeedNight': '3',\n",
       "   'humidity': '25',\n",
       "   'precip': '0.0',\n",
       "   'pressure': '987',\n",
       "   'vis': '2',\n",
       "   'cloud': '25',\n",
       "   'uvIndex': '8'},\n",
       "  {'fxDate': '2022-04-22',\n",
       "   'sunrise': '05:26',\n",
       "   'sunset': '18:59',\n",
       "   'moonrise': '00:31',\n",
       "   'moonset': '09:29',\n",
       "   'moonPhase': '亏凸月',\n",
       "   'moonPhaseIcon': '805',\n",
       "   'tempMax': '24',\n",
       "   'tempMin': '10',\n",
       "   'iconDay': '100',\n",
       "   'textDay': '晴',\n",
       "   'iconNight': '150',\n",
       "   'textNight': '晴',\n",
       "   'wind360Day': '180',\n",
       "   'windDirDay': '南风',\n",
       "   'windScaleDay': '3-4',\n",
       "   'windSpeedDay': '16',\n",
       "   'wind360Night': '180',\n",
       "   'windDirNight': '南风',\n",
       "   'windScaleNight': '1-2',\n",
       "   'windSpeedNight': '3',\n",
       "   'humidity': '38',\n",
       "   'precip': '0.0',\n",
       "   'pressure': '984',\n",
       "   'vis': '2',\n",
       "   'cloud': '25',\n",
       "   'uvIndex': '8'},\n",
       "  {'fxDate': '2022-04-23',\n",
       "   'sunrise': '05:25',\n",
       "   'sunset': '19:00',\n",
       "   'moonrise': '01:30',\n",
       "   'moonset': '10:37',\n",
       "   'moonPhase': '下弦月',\n",
       "   'moonPhaseIcon': '806',\n",
       "   'tempMax': '28',\n",
       "   'tempMin': '13',\n",
       "   'iconDay': '100',\n",
       "   'textDay': '晴',\n",
       "   'iconNight': '150',\n",
       "   'textNight': '晴',\n",
       "   'wind360Day': '180',\n",
       "   'windDirDay': '南风',\n",
       "   'windScaleDay': '1-2',\n",
       "   'windSpeedDay': '3',\n",
       "   'wind360Night': '0',\n",
       "   'windDirNight': '北风',\n",
       "   'windScaleNight': '1-2',\n",
       "   'windSpeedNight': '3',\n",
       "   'humidity': '29',\n",
       "   'precip': '0.0',\n",
       "   'pressure': '978',\n",
       "   'vis': '2',\n",
       "   'cloud': '25',\n",
       "   'uvIndex': '8'}],\n",
       " 'refer': {'sources': ['QWeather', 'NMC', 'ECMWF'],\n",
       "  'license': ['no commercial use']},\n",
       " '_id': ObjectId('6260e4c09480c33e2a8e688c')}"
      ]
     },
     "execution_count": 57,
     "metadata": {},
     "output_type": "execute_result"
    }
   ],
   "source": [
    "city_info = []\n",
    "for i in item.split('|')[1:-1]:\n",
    "    i.split()\n",
    "    city_info.append(i.split())\n",
    "city_info_need_key = ['ID', 'City', 'Province', 'Country']\n",
    "city_info_need_value = city_info[0] + city_info[2] + city_info[7] + city_info[5]\n",
    "city_info_need = dict(zip(city_info_need_key, city_info_need_value))\n",
    "\n",
    "dics = dict(city_info_need, **dic)\n",
    "dics"
   ]
  },
  {
   "cell_type": "markdown",
   "metadata": {},
   "source": [
    "### [将两个列表转换为字典](https://www.delftstack.com/zh/howto/python/python-convert-list-into-dictionary/)\n",
    "\n",
    "- `zip()` 和 `dict()` \n",
    "- `字典推导法`\n",
    "- `for 循环`"
   ]
  },
  {
   "cell_type": "markdown",
   "metadata": {},
   "source": [
    "#### 使用 `zip()` 和 `dict()` 在 Python 中把两个列表转换为字典\n",
    "\n",
    "- `zip()`\n",
    "    - Python 有一个内置函数 `zip()`，它将可迭代的数据类型聚合成一个元组并返回给调用者。函数 dict() 从给定集合中创建一个字典。"
   ]
  },
  {
   "cell_type": "code",
   "execution_count": 37,
   "metadata": {},
   "outputs": [
    {
     "data": {
      "text/plain": [
       "{'ID': 'CN101010500', 'City': '怀柔', 'Province': '北京', 'Country': '中国'}"
      ]
     },
     "execution_count": 37,
     "metadata": {},
     "output_type": "execute_result"
    }
   ],
   "source": [
    "city_info_need = dict(zip(city_info_need_key, city_info_need_value))\n",
    "city_info_need"
   ]
  },
  {
   "cell_type": "markdown",
   "metadata": {},
   "source": [
    "#### 在 Python 中使用`字典推导法`将列表转换为字典"
   ]
  },
  {
   "cell_type": "code",
   "execution_count": 40,
   "metadata": {},
   "outputs": [
    {
     "data": {
      "text/plain": [
       "{'ID': 'CN101010500', 'City': '怀柔', 'Province': '北京', 'Country': '中国'}"
      ]
     },
     "execution_count": 40,
     "metadata": {},
     "output_type": "execute_result"
    }
   ],
   "source": [
    "city_info_need = {k : v for k, v in zip(city_info_need_key, city_info_need_value)}\n",
    "city_info_need"
   ]
  },
  {
   "cell_type": "markdown",
   "metadata": {},
   "source": [
    "#### 在 Python 中使用 `for 循环`将列表转换为字典"
   ]
  },
  {
   "cell_type": "code",
   "execution_count": 47,
   "metadata": {},
   "outputs": [
    {
     "data": {
      "text/plain": [
       "{'ID': 'CN101010500', 'City': '怀柔', 'Province': '北京', 'Country': '中国'}"
      ]
     },
     "execution_count": 47,
     "metadata": {},
     "output_type": "execute_result"
    }
   ],
   "source": [
    "city_info_need = {}\n",
    "for i in range(len(city_info_need_value)):\n",
    "    city_info_need[city_info_need_key[i]] = city_info_need_value[i]\n",
    "\n",
    "city_info_need"
   ]
  },
  {
   "cell_type": "markdown",
   "metadata": {},
   "source": [
    "### [字典拼接](https://blog.csdn.net/Jerry_1126/article/details/73017270)\n",
    "- 四种方法"
   ]
  },
  {
   "cell_type": "code",
   "execution_count": 55,
   "metadata": {},
   "outputs": [
    {
     "data": {
      "text/plain": [
       "{'ID': 'CN101010500',\n",
       " 'City': '怀柔',\n",
       " 'Province': '北京',\n",
       " 'Country': '中国',\n",
       " 'code': '200',\n",
       " 'updateTime': '2022-04-21T12:35+08:00',\n",
       " 'fxLink': 'http://hfx.link/2b11',\n",
       " 'daily': [{'fxDate': '2022-04-21',\n",
       "   'sunrise': '05:28',\n",
       "   'sunset': '18:58',\n",
       "   'moonrise': '00:00',\n",
       "   'moonset': '08:27',\n",
       "   'moonPhase': '亏凸月',\n",
       "   'moonPhaseIcon': '805',\n",
       "   'tempMax': '27',\n",
       "   'tempMin': '6',\n",
       "   'iconDay': '503',\n",
       "   'textDay': '扬沙',\n",
       "   'iconNight': '150',\n",
       "   'textNight': '晴',\n",
       "   'wind360Day': '270',\n",
       "   'windDirDay': '西风',\n",
       "   'windScaleDay': '1-2',\n",
       "   'windSpeedDay': '3',\n",
       "   'wind360Night': '0',\n",
       "   'windDirNight': '北风',\n",
       "   'windScaleNight': '1-2',\n",
       "   'windSpeedNight': '3',\n",
       "   'humidity': '25',\n",
       "   'precip': '0.0',\n",
       "   'pressure': '987',\n",
       "   'vis': '2',\n",
       "   'cloud': '25',\n",
       "   'uvIndex': '8'},\n",
       "  {'fxDate': '2022-04-22',\n",
       "   'sunrise': '05:26',\n",
       "   'sunset': '18:59',\n",
       "   'moonrise': '00:31',\n",
       "   'moonset': '09:29',\n",
       "   'moonPhase': '亏凸月',\n",
       "   'moonPhaseIcon': '805',\n",
       "   'tempMax': '24',\n",
       "   'tempMin': '10',\n",
       "   'iconDay': '100',\n",
       "   'textDay': '晴',\n",
       "   'iconNight': '150',\n",
       "   'textNight': '晴',\n",
       "   'wind360Day': '180',\n",
       "   'windDirDay': '南风',\n",
       "   'windScaleDay': '3-4',\n",
       "   'windSpeedDay': '16',\n",
       "   'wind360Night': '180',\n",
       "   'windDirNight': '南风',\n",
       "   'windScaleNight': '1-2',\n",
       "   'windSpeedNight': '3',\n",
       "   'humidity': '38',\n",
       "   'precip': '0.0',\n",
       "   'pressure': '984',\n",
       "   'vis': '2',\n",
       "   'cloud': '25',\n",
       "   'uvIndex': '8'},\n",
       "  {'fxDate': '2022-04-23',\n",
       "   'sunrise': '05:25',\n",
       "   'sunset': '19:00',\n",
       "   'moonrise': '01:30',\n",
       "   'moonset': '10:37',\n",
       "   'moonPhase': '下弦月',\n",
       "   'moonPhaseIcon': '806',\n",
       "   'tempMax': '28',\n",
       "   'tempMin': '13',\n",
       "   'iconDay': '100',\n",
       "   'textDay': '晴',\n",
       "   'iconNight': '150',\n",
       "   'textNight': '晴',\n",
       "   'wind360Day': '180',\n",
       "   'windDirDay': '南风',\n",
       "   'windScaleDay': '1-2',\n",
       "   'windSpeedDay': '3',\n",
       "   'wind360Night': '0',\n",
       "   'windDirNight': '北风',\n",
       "   'windScaleNight': '1-2',\n",
       "   'windSpeedNight': '3',\n",
       "   'humidity': '29',\n",
       "   'precip': '0.0',\n",
       "   'pressure': '978',\n",
       "   'vis': '2',\n",
       "   'cloud': '25',\n",
       "   'uvIndex': '8'}],\n",
       " 'refer': {'sources': ['QWeather', 'NMC', 'ECMWF'],\n",
       "  'license': ['no commercial use']},\n",
       " '_id': ObjectId('6260e4c09480c33e2a8e688c')}"
      ]
     },
     "execution_count": 55,
     "metadata": {},
     "output_type": "execute_result"
    }
   ],
   "source": [
    "dics = dict(city_info_need, **dic)\n",
    "dics"
   ]
  },
  {
   "cell_type": "code",
   "execution_count": 53,
   "metadata": {},
   "outputs": [
    {
     "data": {
      "text/plain": [
       "dict"
      ]
     },
     "execution_count": 53,
     "metadata": {},
     "output_type": "execute_result"
    }
   ],
   "source": []
  }
 ],
 "metadata": {
  "interpreter": {
   "hash": "916dbcbb3f70747c44a77c7bcd40155683ae19c65e1c03b4aa3499c5328201f1"
  },
  "kernelspec": {
   "display_name": "Python 3.8.10 64-bit",
   "language": "python",
   "name": "python3"
  },
  "language_info": {
   "codemirror_mode": {
    "name": "ipython",
    "version": 3
   },
   "file_extension": ".py",
   "mimetype": "text/x-python",
   "name": "python",
   "nbconvert_exporter": "python",
   "pygments_lexer": "ipython3",
   "version": "3.8.10"
  },
  "orig_nbformat": 4
 },
 "nbformat": 4,
 "nbformat_minor": 2
}
