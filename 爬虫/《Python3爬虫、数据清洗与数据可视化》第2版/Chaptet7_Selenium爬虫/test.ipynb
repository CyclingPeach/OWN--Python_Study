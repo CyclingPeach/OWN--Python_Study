{
 "cells": [
  {
   "cell_type": "code",
   "execution_count": 8,
   "metadata": {},
   "outputs": [
    {
     "name": "stdout",
     "output_type": "stream",
     "text": [
      "网络爬虫是什么意思?(精简通俗版)\n"
     ]
    }
   ],
   "source": [
    "from selenium import webdriver\n",
    "import time\n",
    "driver = webdriver.Chrome()\n",
    "driver.get(\"https://www.baidu.com/\")\n",
    "input = driver.find_element_by_id('kw')\n",
    "input.send_keys(\"爬虫\")\n",
    "enter = driver.find_element_by_id('su')\n",
    "enter.click()\n",
    "time.sleep(2)\n",
    "\n",
    "\n",
    "res_element = driver.find_element_by_xpath('//*[@id=\"1\"]/div/div/h3/a')\n",
    "print(res_element.text)\n",
    "\n",
    "next_page = driver.find_element_by_xpath('//*[@id=\"page\"]/div/a[10]')\n",
    "next_page.click()\n",
    "time.sleep(5)"
   ]
  },
  {
   "cell_type": "markdown",
   "metadata": {},
   "source": [
    "# 去哪儿网\n"
   ]
  },
  {
   "cell_type": "code",
   "execution_count": 89,
   "metadata": {},
   "outputs": [
    {
     "name": "stdout",
     "output_type": "stream",
     "text": [
      "dep:北京 arr:三亚\n",
      "120\n",
      "dep:北京 arr:大理\n",
      "120\n",
      "dep:北京 arr:拉萨\n",
      "60\n",
      "dep:北京 arr:丽江\n",
      "120\n",
      "dep:北京 arr:青海湖\n",
      "0\n",
      "dep:北京 arr:西双版纳\n",
      "80\n",
      "dep:北京 arr:北海\n",
      "40\n",
      "dep:北京 arr:张家界\n",
      "40\n",
      "dep:北京 arr:厦门\n",
      "80\n",
      "dep:北京 arr:成都\n",
      "报错了\n",
      "0\n",
      "dep:北京 arr:九寨沟\n",
      "40\n",
      "dep:北京 arr:桂林\n",
      "40\n",
      "dep:北京 arr:杭州\n",
      "100\n",
      "dep:北京 arr:西安\n",
      "20\n",
      "dep:北京 arr:青岛\n",
      "20\n",
      "dep:北京 arr:泰国\n",
      "0\n",
      "dep:北京 arr:马尔代夫\n",
      "0\n",
      "dep:北京 arr:曼谷\n",
      "0\n",
      "dep:北京 arr:日本\n",
      "0\n",
      "dep:北京 arr:埃及\n",
      "0\n",
      "dep:北京 arr:巴厘岛\n",
      "0\n",
      "dep:北京 arr:东京\n",
      "0\n",
      "dep:北京 arr:伊斯坦布尔\n",
      "0\n",
      "dep:北京 arr:莫斯科\n",
      "0\n",
      "dep:北京 arr:德国\n",
      "0\n",
      "dep:北京 arr:法国\n",
      "0\n",
      "dep:北京 arr:芭堤雅\n",
      "0\n",
      "dep:北京 arr:巴黎\n",
      "0\n",
      "dep:北京 arr:圣托里尼\n",
      "0\n",
      "dep:北京 arr:冰岛\n",
      "0\n",
      "dep:北京 arr:古北水镇\n",
      "报错了\n",
      "0\n",
      "dep:北京 arr:十渡\n",
      "报错了\n"
     ]
    },
    {
     "ename": "NoSuchWindowException",
     "evalue": "Message: no such window: target window already closed\nfrom unknown error: web view not found\n  (Session info: chrome=100.0.4896.127)\n",
     "output_type": "error",
     "traceback": [
      "\u001b[0;31m---------------------------------------------------------------------------\u001b[0m",
      "\u001b[0;31mNoSuchWindowException\u001b[0m                     Traceback (most recent call last)",
      "\u001b[1;32m/home/tzy/文档/Project/OWN--Python_Study/爬虫/《Python3爬虫、数据清洗与数据可视化》第2版/Chaptet7_Selenium爬虫/test.ipynb Cell 3'\u001b[0m in \u001b[0;36m<cell line: 13>\u001b[0;34m()\u001b[0m\n\u001b[1;32m     <a href='vscode-notebook-cell:/home/tzy/%E6%96%87%E6%A1%A3/Project/OWN--Python_Study/%E7%88%AC%E8%99%AB/%E3%80%8APython3%E7%88%AC%E8%99%AB%E3%80%81%E6%95%B0%E6%8D%AE%E6%B8%85%E6%B4%97%E4%B8%8E%E6%95%B0%E6%8D%AE%E5%8F%AF%E8%A7%86%E5%8C%96%E3%80%8B%E7%AC%AC2%E7%89%88/Chaptet7_Selenium%E7%88%AC%E8%99%AB/test.ipynb#ch0000002?line=45'>46</a>\u001b[0m \u001b[39mfinally\u001b[39;00m:\n\u001b[1;32m     <a href='vscode-notebook-cell:/home/tzy/%E6%96%87%E6%A1%A3/Project/OWN--Python_Study/%E7%88%AC%E8%99%AB/%E3%80%8APython3%E7%88%AC%E8%99%AB%E3%80%81%E6%95%B0%E6%8D%AE%E6%B8%85%E6%B4%97%E4%B8%8E%E6%95%B0%E6%8D%AE%E5%8F%AF%E8%A7%86%E5%8C%96%E3%80%8B%E7%AC%AC2%E7%89%88/Chaptet7_Selenium%E7%88%AC%E8%99%AB/test.ipynb#ch0000002?line=46'>47</a>\u001b[0m     result_hotel_list \u001b[39m=\u001b[39m []\n\u001b[0;32m---> <a href='vscode-notebook-cell:/home/tzy/%E6%96%87%E6%A1%A3/Project/OWN--Python_Study/%E7%88%AC%E8%99%AB/%E3%80%8APython3%E7%88%AC%E8%99%AB%E3%80%81%E6%95%B0%E6%8D%AE%E6%B8%85%E6%B4%97%E4%B8%8E%E6%95%B0%E6%8D%AE%E5%8F%AF%E8%A7%86%E5%8C%96%E3%80%8B%E7%AC%AC2%E7%89%88/Chaptet7_Selenium%E7%88%AC%E8%99%AB/test.ipynb#ch0000002?line=47'>48</a>\u001b[0m     hotel_elements \u001b[39m=\u001b[39m driver\u001b[39m.\u001b[39;49mfind_elements_by_xpath(\u001b[39m'\u001b[39;49m\u001b[39m//*[@id=\u001b[39;49m\u001b[39m\"\u001b[39;49m\u001b[39mapp\u001b[39;49m\u001b[39m\"\u001b[39;49m\u001b[39m]/div/main/div[1]/div\u001b[39;49m\u001b[39m'\u001b[39;49m)\n\u001b[1;32m     <a href='vscode-notebook-cell:/home/tzy/%E6%96%87%E6%A1%A3/Project/OWN--Python_Study/%E7%88%AC%E8%99%AB/%E3%80%8APython3%E7%88%AC%E8%99%AB%E3%80%81%E6%95%B0%E6%8D%AE%E6%B8%85%E6%B4%97%E4%B8%8E%E6%95%B0%E6%8D%AE%E5%8F%AF%E8%A7%86%E5%8C%96%E3%80%8B%E7%AC%AC2%E7%89%88/Chaptet7_Selenium%E7%88%AC%E8%99%AB/test.ipynb#ch0000002?line=48'>49</a>\u001b[0m     \u001b[39mfor\u001b[39;00m hotel \u001b[39min\u001b[39;00m hotel_elements:\n\u001b[1;32m     <a href='vscode-notebook-cell:/home/tzy/%E6%96%87%E6%A1%A3/Project/OWN--Python_Study/%E7%88%AC%E8%99%AB/%E3%80%8APython3%E7%88%AC%E8%99%AB%E3%80%81%E6%95%B0%E6%8D%AE%E6%B8%85%E6%B4%97%E4%B8%8E%E6%95%B0%E6%8D%AE%E5%8F%AF%E8%A7%86%E5%8C%96%E3%80%8B%E7%AC%AC2%E7%89%88/Chaptet7_Selenium%E7%88%AC%E8%99%AB/test.ipynb#ch0000002?line=49'>50</a>\u001b[0m         result \u001b[39m=\u001b[39m {\n\u001b[1;32m     <a href='vscode-notebook-cell:/home/tzy/%E6%96%87%E6%A1%A3/Project/OWN--Python_Study/%E7%88%AC%E8%99%AB/%E3%80%8APython3%E7%88%AC%E8%99%AB%E3%80%81%E6%95%B0%E6%8D%AE%E6%B8%85%E6%B4%97%E4%B8%8E%E6%95%B0%E6%8D%AE%E5%8F%AF%E8%A7%86%E5%8C%96%E3%80%8B%E7%AC%AC2%E7%89%88/Chaptet7_Selenium%E7%88%AC%E8%99%AB/test.ipynb#ch0000002?line=50'>51</a>\u001b[0m             \u001b[39m'\u001b[39m\u001b[39mdate\u001b[39m\u001b[39m'\u001b[39m:time\u001b[39m.\u001b[39mstrftime(\u001b[39m'\u001b[39m\u001b[39m%\u001b[39m\u001b[39mY-\u001b[39m\u001b[39m%\u001b[39m\u001b[39mm-\u001b[39m\u001b[39m%d\u001b[39;00m\u001b[39m'\u001b[39m, time\u001b[39m.\u001b[39mlocaltime(time\u001b[39m.\u001b[39mtime())),\n\u001b[1;32m     <a href='vscode-notebook-cell:/home/tzy/%E6%96%87%E6%A1%A3/Project/OWN--Python_Study/%E7%88%AC%E8%99%AB/%E3%80%8APython3%E7%88%AC%E8%99%AB%E3%80%81%E6%95%B0%E6%8D%AE%E6%B8%85%E6%B4%97%E4%B8%8E%E6%95%B0%E6%8D%AE%E5%8F%AF%E8%A7%86%E5%8C%96%E3%80%8B%E7%AC%AC2%E7%89%88/Chaptet7_Selenium%E7%88%AC%E8%99%AB/test.ipynb#ch0000002?line=51'>52</a>\u001b[0m             \u001b[39m'\u001b[39m\u001b[39mdep\u001b[39m\u001b[39m'\u001b[39m: dep,\n\u001b[1;32m     <a href='vscode-notebook-cell:/home/tzy/%E6%96%87%E6%A1%A3/Project/OWN--Python_Study/%E7%88%AC%E8%99%AB/%E3%80%8APython3%E7%88%AC%E8%99%AB%E3%80%81%E6%95%B0%E6%8D%AE%E6%B8%85%E6%B4%97%E4%B8%8E%E6%95%B0%E6%8D%AE%E5%8F%AF%E8%A7%86%E5%8C%96%E3%80%8B%E7%AC%AC2%E7%89%88/Chaptet7_Selenium%E7%88%AC%E8%99%AB/test.ipynb#ch0000002?line=52'>53</a>\u001b[0m             \u001b[39m'\u001b[39m\u001b[39marrive\u001b[39m\u001b[39m'\u001b[39m: query[\u001b[39m'\u001b[39m\u001b[39mquery\u001b[39m\u001b[39m'\u001b[39m],\n\u001b[1;32m     <a href='vscode-notebook-cell:/home/tzy/%E6%96%87%E6%A1%A3/Project/OWN--Python_Study/%E7%88%AC%E8%99%AB/%E3%80%8APython3%E7%88%AC%E8%99%AB%E3%80%81%E6%95%B0%E6%8D%AE%E6%B8%85%E6%B4%97%E4%B8%8E%E6%95%B0%E6%8D%AE%E5%8F%AF%E8%A7%86%E5%8C%96%E3%80%8B%E7%AC%AC2%E7%89%88/Chaptet7_Selenium%E7%88%AC%E8%99%AB/test.ipynb#ch0000002?line=53'>54</a>\u001b[0m             \u001b[39m'\u001b[39m\u001b[39mresult\u001b[39m\u001b[39m'\u001b[39m:hotel\u001b[39m.\u001b[39mtext\n\u001b[1;32m     <a href='vscode-notebook-cell:/home/tzy/%E6%96%87%E6%A1%A3/Project/OWN--Python_Study/%E7%88%AC%E8%99%AB/%E3%80%8APython3%E7%88%AC%E8%99%AB%E3%80%81%E6%95%B0%E6%8D%AE%E6%B8%85%E6%B4%97%E4%B8%8E%E6%95%B0%E6%8D%AE%E5%8F%AF%E8%A7%86%E5%8C%96%E3%80%8B%E7%AC%AC2%E7%89%88/Chaptet7_Selenium%E7%88%AC%E8%99%AB/test.ipynb#ch0000002?line=54'>55</a>\u001b[0m         }\n",
      "File \u001b[0;32m~/.local/lib/python3.8/site-packages/selenium/webdriver/remote/webdriver.py:410\u001b[0m, in \u001b[0;36mWebDriver.find_elements_by_xpath\u001b[0;34m(self, xpath)\u001b[0m\n\u001b[1;32m    <a href='file:///home/tzy/.local/lib/python3.8/site-packages/selenium/webdriver/remote/webdriver.py?line=395'>396</a>\u001b[0m \u001b[39mdef\u001b[39;00m \u001b[39mfind_elements_by_xpath\u001b[39m(\u001b[39mself\u001b[39m, xpath):\n\u001b[1;32m    <a href='file:///home/tzy/.local/lib/python3.8/site-packages/selenium/webdriver/remote/webdriver.py?line=396'>397</a>\u001b[0m     \u001b[39m\"\"\"\u001b[39;00m\n\u001b[1;32m    <a href='file:///home/tzy/.local/lib/python3.8/site-packages/selenium/webdriver/remote/webdriver.py?line=397'>398</a>\u001b[0m \u001b[39m    Finds multiple elements by xpath.\u001b[39;00m\n\u001b[1;32m    <a href='file:///home/tzy/.local/lib/python3.8/site-packages/selenium/webdriver/remote/webdriver.py?line=398'>399</a>\u001b[0m \n\u001b[0;32m   (...)\u001b[0m\n\u001b[1;32m    <a href='file:///home/tzy/.local/lib/python3.8/site-packages/selenium/webdriver/remote/webdriver.py?line=407'>408</a>\u001b[0m \u001b[39m        elements = driver.find_elements_by_xpath(\"//div[contains(@class, 'foo')]\")\u001b[39;00m\n\u001b[1;32m    <a href='file:///home/tzy/.local/lib/python3.8/site-packages/selenium/webdriver/remote/webdriver.py?line=408'>409</a>\u001b[0m \u001b[39m    \"\"\"\u001b[39;00m\n\u001b[0;32m--> <a href='file:///home/tzy/.local/lib/python3.8/site-packages/selenium/webdriver/remote/webdriver.py?line=409'>410</a>\u001b[0m     \u001b[39mreturn\u001b[39;00m \u001b[39mself\u001b[39;49m\u001b[39m.\u001b[39;49mfind_elements(by\u001b[39m=\u001b[39;49mBy\u001b[39m.\u001b[39;49mXPATH, value\u001b[39m=\u001b[39;49mxpath)\n",
      "File \u001b[0;32m~/.local/lib/python3.8/site-packages/selenium/webdriver/remote/webdriver.py:1005\u001b[0m, in \u001b[0;36mWebDriver.find_elements\u001b[0;34m(self, by, value)\u001b[0m\n\u001b[1;32m   <a href='file:///home/tzy/.local/lib/python3.8/site-packages/selenium/webdriver/remote/webdriver.py?line=1000'>1001</a>\u001b[0m         value \u001b[39m=\u001b[39m \u001b[39m'\u001b[39m\u001b[39m[name=\u001b[39m\u001b[39m\"\u001b[39m\u001b[39m%s\u001b[39;00m\u001b[39m\"\u001b[39m\u001b[39m]\u001b[39m\u001b[39m'\u001b[39m \u001b[39m%\u001b[39m value\n\u001b[1;32m   <a href='file:///home/tzy/.local/lib/python3.8/site-packages/selenium/webdriver/remote/webdriver.py?line=1002'>1003</a>\u001b[0m \u001b[39m# Return empty list if driver returns null\u001b[39;00m\n\u001b[1;32m   <a href='file:///home/tzy/.local/lib/python3.8/site-packages/selenium/webdriver/remote/webdriver.py?line=1003'>1004</a>\u001b[0m \u001b[39m# See https://github.com/SeleniumHQ/selenium/issues/4555\u001b[39;00m\n\u001b[0;32m-> <a href='file:///home/tzy/.local/lib/python3.8/site-packages/selenium/webdriver/remote/webdriver.py?line=1004'>1005</a>\u001b[0m \u001b[39mreturn\u001b[39;00m \u001b[39mself\u001b[39;49m\u001b[39m.\u001b[39;49mexecute(Command\u001b[39m.\u001b[39;49mFIND_ELEMENTS, {\n\u001b[1;32m   <a href='file:///home/tzy/.local/lib/python3.8/site-packages/selenium/webdriver/remote/webdriver.py?line=1005'>1006</a>\u001b[0m     \u001b[39m'\u001b[39;49m\u001b[39musing\u001b[39;49m\u001b[39m'\u001b[39;49m: by,\n\u001b[1;32m   <a href='file:///home/tzy/.local/lib/python3.8/site-packages/selenium/webdriver/remote/webdriver.py?line=1006'>1007</a>\u001b[0m     \u001b[39m'\u001b[39;49m\u001b[39mvalue\u001b[39;49m\u001b[39m'\u001b[39;49m: value})[\u001b[39m'\u001b[39m\u001b[39mvalue\u001b[39m\u001b[39m'\u001b[39m] \u001b[39mor\u001b[39;00m []\n",
      "File \u001b[0;32m~/.local/lib/python3.8/site-packages/selenium/webdriver/remote/webdriver.py:321\u001b[0m, in \u001b[0;36mWebDriver.execute\u001b[0;34m(self, driver_command, params)\u001b[0m\n\u001b[1;32m    <a href='file:///home/tzy/.local/lib/python3.8/site-packages/selenium/webdriver/remote/webdriver.py?line=318'>319</a>\u001b[0m response \u001b[39m=\u001b[39m \u001b[39mself\u001b[39m\u001b[39m.\u001b[39mcommand_executor\u001b[39m.\u001b[39mexecute(driver_command, params)\n\u001b[1;32m    <a href='file:///home/tzy/.local/lib/python3.8/site-packages/selenium/webdriver/remote/webdriver.py?line=319'>320</a>\u001b[0m \u001b[39mif\u001b[39;00m response:\n\u001b[0;32m--> <a href='file:///home/tzy/.local/lib/python3.8/site-packages/selenium/webdriver/remote/webdriver.py?line=320'>321</a>\u001b[0m     \u001b[39mself\u001b[39;49m\u001b[39m.\u001b[39;49merror_handler\u001b[39m.\u001b[39;49mcheck_response(response)\n\u001b[1;32m    <a href='file:///home/tzy/.local/lib/python3.8/site-packages/selenium/webdriver/remote/webdriver.py?line=321'>322</a>\u001b[0m     response[\u001b[39m'\u001b[39m\u001b[39mvalue\u001b[39m\u001b[39m'\u001b[39m] \u001b[39m=\u001b[39m \u001b[39mself\u001b[39m\u001b[39m.\u001b[39m_unwrap_value(\n\u001b[1;32m    <a href='file:///home/tzy/.local/lib/python3.8/site-packages/selenium/webdriver/remote/webdriver.py?line=322'>323</a>\u001b[0m         response\u001b[39m.\u001b[39mget(\u001b[39m'\u001b[39m\u001b[39mvalue\u001b[39m\u001b[39m'\u001b[39m, \u001b[39mNone\u001b[39;00m))\n\u001b[1;32m    <a href='file:///home/tzy/.local/lib/python3.8/site-packages/selenium/webdriver/remote/webdriver.py?line=323'>324</a>\u001b[0m     \u001b[39mreturn\u001b[39;00m response\n",
      "File \u001b[0;32m~/.local/lib/python3.8/site-packages/selenium/webdriver/remote/errorhandler.py:242\u001b[0m, in \u001b[0;36mErrorHandler.check_response\u001b[0;34m(self, response)\u001b[0m\n\u001b[1;32m    <a href='file:///home/tzy/.local/lib/python3.8/site-packages/selenium/webdriver/remote/errorhandler.py?line=239'>240</a>\u001b[0m         alert_text \u001b[39m=\u001b[39m value[\u001b[39m'\u001b[39m\u001b[39malert\u001b[39m\u001b[39m'\u001b[39m]\u001b[39m.\u001b[39mget(\u001b[39m'\u001b[39m\u001b[39mtext\u001b[39m\u001b[39m'\u001b[39m)\n\u001b[1;32m    <a href='file:///home/tzy/.local/lib/python3.8/site-packages/selenium/webdriver/remote/errorhandler.py?line=240'>241</a>\u001b[0m     \u001b[39mraise\u001b[39;00m exception_class(message, screen, stacktrace, alert_text)\n\u001b[0;32m--> <a href='file:///home/tzy/.local/lib/python3.8/site-packages/selenium/webdriver/remote/errorhandler.py?line=241'>242</a>\u001b[0m \u001b[39mraise\u001b[39;00m exception_class(message, screen, stacktrace)\n",
      "\u001b[0;31mNoSuchWindowException\u001b[0m: Message: no such window: target window already closed\nfrom unknown error: web view not found\n  (Session info: chrome=100.0.4896.127)\n"
     ]
    }
   ],
   "source": [
    "import urllib\n",
    "import requests\n",
    "from selenium import webdriver\n",
    "\n",
    "from selenium.webdriver.common.by import By\n",
    "from selenium.webdriver.support.ui import WebDriverWait\n",
    "from selenium.webdriver.support import expected_conditions as EC\n",
    "\n",
    "def get_url(url):\n",
    "    time.sleep(1)\n",
    "    return(requests.get(url))\n",
    "\n",
    "if __name__ == \"__main__\":\n",
    "    driver = webdriver.Chrome() # 初始化一个浏览器对象\n",
    "    dep_cities = [\"北京\",\"上海\",\"广州\",\"深圳\",\"天津\",\"杭州\",\"南京\",\"济南\",\"重庆\",\"青岛\",\"大连\",\"宁波\",\"厦门\",\"成都\",\"武汉\",\\\n",
    "                    \"哈尔滨\",\"沈阳\",\"西安\",\"长春\",\"长沙\",\"福州\",\"郑州\",\"石家庄\",\"苏州\",\"佛山\",\"烟台\",\"合肥\",\"昆明\",\"唐山\",\\\n",
    "                    \"乌鲁木齐\",\"兰州\",\"呼和浩特\",\"南通\",\"潍坊\",\"绍兴\",\"邯郸\",\"东营\",\"嘉兴\",\"泰州\",\"江阴\",\"金华\",\"鞍山\",\"襄阳\",\\\n",
    "                    \"南阳\",\"岳阳\",\"漳州\",\"淮安\",\"湛江\",\"柳州\",\"绵阳\"]\n",
    "    all_dep_hotel_list = []\n",
    "    for dep in dep_cities:\n",
    "        strhtml = get_url('https://m.dujia.qunar.com/golfz/sight/arriveRecommend?dep=' + urllib.request.quote(dep) + '&exclude=&extensionImg=255,175')\n",
    "        arrive_dict = strhtml.json()\n",
    "        # print(arrive_dict)\n",
    "        for arr_item in arrive_dict['data'][1:]:\n",
    "            for arr_item_1 in arr_item['subModules']:\n",
    "                for query in arr_item_1['items']:\n",
    "                    \n",
    "                    driver.get(\"https://fh.dujia.qunar.com/?tf=package\")\n",
    "                    # 等待出发地输入框加载完毕，最多等待10s\n",
    "                    WebDriverWait(driver, 10).until(EC.presence_of_element_located((By.ID, \"depCity\")))\n",
    "                    \n",
    "                    driver.find_element_by_id('depCity').clear()\n",
    "                    driver.find_element_by_id('depCity').send_keys(dep)\n",
    "                    driver.find_element_by_id('arrCity').send_keys(query['query'])\n",
    "                    driver.find_element_by_xpath('/html/body/div[3]/div[1]/div[2]/div[3]/div/div[2]/div/a').click()\n",
    "                    print(\"dep:%s arr:%s\" % (dep, query[\"query\"]))\n",
    "                    # time.sleep(5)\n",
    "                    WebDriverWait(driver, 10).until(EC.presence_of_element_located((By.XPATH, '//*[@id=\"app\"]/div/main/div[2]')))\n",
    "\n",
    "                    try:\n",
    "                        for i in range(5):\n",
    "                            driver.find_element_by_xpath('//*[@id=\"app\"]/div/main/div[2]').click()\n",
    "                            time.sleep(2)\n",
    "                    except:\n",
    "                        print('报错了')\n",
    "                    finally:\n",
    "                        result_hotel_list = []\n",
    "                        hotel_elements = driver.find_elements_by_xpath('//*[@id=\"app\"]/div/main/div[1]/div')\n",
    "                        for hotel in hotel_elements:\n",
    "                            result = {\n",
    "                                'date':time.strftime('%Y-%m-%d', time.localtime(time.time())),\n",
    "                                'dep': dep,\n",
    "                                'arrive': query['query'],\n",
    "                                'result':hotel.text\n",
    "                            }\n",
    "                            result_hotel_list.append(result)\n",
    "                        print(len(result_hotel_list))\n",
    "                    all_dep_hotel_list.append(result_hotel_list)                    "
   ]
  },
  {
   "cell_type": "code",
   "execution_count": 88,
   "metadata": {},
   "outputs": [
    {
     "name": "stdout",
     "output_type": "stream",
     "text": [
      "40\n",
      "40\n",
      "[{'date': '2022-04-26', 'dep': '北京', 'arrive': '三亚', 'result': '杭州齐威酒店'}, {'date': '2022-04-26', 'dep': '北京', 'arrive': '三亚', 'result': '泽宝的家巨幕影院公寓(杭州东站店)'}, {'date': '2022-04-26', 'dep': '北京', 'arrive': '三亚', 'result': '千岛湖古卓源昱堂民宿'}, {'date': '2022-04-26', 'dep': '北京', 'arrive': '三亚', 'result': '杭州草莓精品客栈'}, {'date': '2022-04-26', 'dep': '北京', 'arrive': '三亚', 'result': '杭州五峰山房'}, {'date': '2022-04-26', 'dep': '北京', 'arrive': '三亚', 'result': '千岛湖花花民宿'}, {'date': '2022-04-26', 'dep': '北京', 'arrive': '三亚', 'result': '杭州泽尘民宿'}, {'date': '2022-04-26', 'dep': '北京', 'arrive': '三亚', 'result': '里安酒店'}, {'date': '2022-04-26', 'dep': '北京', 'arrive': '三亚', 'result': '建德忆缘客栈'}, {'date': '2022-04-26', 'dep': '北京', 'arrive': '三亚', 'result': '杭州奢庄公寓'}, {'date': '2022-04-26', 'dep': '北京', 'arrive': '三亚', 'result': '杭州58连锁客房'}, {'date': '2022-04-26', 'dep': '北京', 'arrive': '三亚', 'result': '桐庐大自然饭店'}, {'date': '2022-04-26', 'dep': '北京', 'arrive': '三亚', 'result': '杭州耘缦居民宿'}, {'date': '2022-04-26', 'dep': '北京', 'arrive': '三亚', 'result': '杭州思煜旅馆'}, {'date': '2022-04-26', 'dep': '北京', 'arrive': '三亚', 'result': '桐庐青龙坞·醉里民宿'}, {'date': '2022-04-26', 'dep': '北京', 'arrive': '三亚', 'result': '杭州竹里居民宿'}, {'date': '2022-04-26', 'dep': '北京', 'arrive': '三亚', 'result': '杭州宜居山庄'}, {'date': '2022-04-26', 'dep': '北京', 'arrive': '三亚', 'result': '杭州九都宾馆'}, {'date': '2022-04-26', 'dep': '北京', 'arrive': '三亚', 'result': '墅e族品牌别墅(杭州淳安千岛湖店)'}, {'date': '2022-04-26', 'dep': '北京', 'arrive': '三亚', 'result': '杭州嘉缘宾馆'}]\n"
     ]
    }
   ],
   "source": [
    "driver = webdriver.Chrome() # 初始化一个浏览器对象\n",
    "\n",
    "driver.get(\"https://fh.dujia.qunar.com/?tf=package\")\n",
    "# 等待出发地输入框加载完毕，最多等待10s\n",
    "WebDriverWait(driver, 10).until(EC.presence_of_element_located((By.ID, \"depCity\")))\n",
    "driver.find_element_by_xpath(\"//*[@id='depCity']\").clear()\n",
    "driver.find_element_by_xpath(\"//*[@id='depCity']\").send_keys('南京')\n",
    "driver.find_element_by_xpath(\"//*[@id='arrCity']\").send_keys('杭州')\n",
    "driver.find_element_by_xpath(\"/html/body/div[3]/div[1]/div[2]/div[3]/div/div[2]/div/a\").click()\n",
    "\n",
    "\n",
    "# time.sleep(5)\n",
    "WebDriverWait(driver, 10).until(EC.presence_of_element_located((By.XPATH, '//*[@id=\"app\"]/div/main/div[2]')))\n",
    "\n",
    "try:\n",
    "    for i in range(5):\n",
    "        driver.find_element_by_xpath('//*[@id=\"app\"]/div/main/div[2]').click()\n",
    "        time.sleep(3)\n",
    "except:\n",
    "    print('报错了')\n",
    "finally:\n",
    "    result_hotel_list = []\n",
    "    hotel_elements = driver.find_elements_by_xpath('//*[@id=\"app\"]/div/main/div[1]/div')\n",
    "    for hotel in hotel_elements:\n",
    "        result = {\n",
    "            'date':time.strftime('%Y-%m-%d', time.localtime(time.time())),\n",
    "            'dep': dep,\n",
    "            'arrive': query['query'],\n",
    "            'result':hotel.text\n",
    "        }\n",
    "        result_hotel_list.append(result)\n",
    "print(len(result_hotel_list))\n",
    "print(result_hotel_list[-20:])"
   ]
  },
  {
   "cell_type": "code",
   "execution_count": 82,
   "metadata": {},
   "outputs": [
    {
     "data": {
      "text/plain": [
       "'杭州百顺宾馆 二星/实惠\\n7.2分超棒 3条评论\\n距离市中心直线距离11.2公里·九堡客运中心\\n¥156起'"
      ]
     },
     "execution_count": 82,
     "metadata": {},
     "output_type": "execute_result"
    }
   ],
   "source": [
    "a = hotel.text\n",
    "a"
   ]
  },
  {
   "cell_type": "code",
   "execution_count": 83,
   "metadata": {},
   "outputs": [
    {
     "data": {
      "text/plain": [
       "'杭州百顺宾馆 二星/实惠\\n7.2分超棒 3条评论\\n距离市中心直线距离11.2公里·九堡客运中心\\n¥156起'"
      ]
     },
     "execution_count": 83,
     "metadata": {},
     "output_type": "execute_result"
    }
   ],
   "source": [
    "a"
   ]
  },
  {
   "cell_type": "code",
   "execution_count": 86,
   "metadata": {},
   "outputs": [
    {
     "data": {
      "text/plain": [
       "'杭州百顺宾馆'"
      ]
     },
     "execution_count": 86,
     "metadata": {},
     "output_type": "execute_result"
    }
   ],
   "source": [
    "b = a.split()[0]\n",
    "b"
   ]
  },
  {
   "cell_type": "code",
   "execution_count": null,
   "metadata": {},
   "outputs": [],
   "source": [
    "'''\n",
    "name\n",
    "star\n",
    "score\n",
    "comment_nums\n",
    "price\n",
    "'''"
   ]
  },
  {
   "cell_type": "code",
   "execution_count": null,
   "metadata": {},
   "outputs": [],
   "source": [
    "# 加载包\n",
    "import requests\n",
    "import time\n",
    "import json\n",
    "# 设置表头\n",
    "post_headers={\n",
    "    \"Accept\":\"*/*\",\n",
    "    \"Accept-Encoding\":\"gzip, deflate, br\",\n",
    "    \"Accept-Language\":\"en-US,en;q=0.9,zh-CN;q=0.8,zh;q=0.7\",\n",
    "    \"Connection\":\"keep-alive\",\n",
    "    \"Content-Length\":\"1341\",\n",
    "    \"Content-Type\":\"application/x-www-form-urlencoded\",\n",
    "    \"Cookie\":'wm_order_channel=default; request_source=openh5; au_trace_key_net=default; _lx_utm=utm_source%3D60066; _lxsdk_cuid=18064140fe2c8-0be98c43e9aa72-5b4c7c4c-f7716-18064140fe2c8; terminal=i; w_utmz=\"utm_campaign=(direct)&utm_source=5000&utm_medium=(none)&utm_content=(none)&utm_term=(none)\"; iuuid=C1C8C763F975395D99BCC2DFA37AFE325BFBD519079EC8859B9F4E58034D87E4; token=xOpkTlTpmsc2MGUdNSvZZYi0ya8AAAAAihEAAE34TLLN906FFimrFlXymQ5xcaQKaw7vzH4fJ_y53mKzDbLjOHEhltS3YUYzuQP67Q; mt_c_token=xOpkTlTpmsc2MGUdNSvZZYi0ya8AAAAAihEAAE34TLLN906FFimrFlXymQ5xcaQKaw7vzH4fJ_y53mKzDbLjOHEhltS3YUYzuQP67Q; oops=xOpkTlTpmsc2MGUdNSvZZYi0ya8AAAAAihEAAE34TLLN906FFimrFlXymQ5xcaQKaw7vzH4fJ_y53mKzDbLjOHEhltS3YUYzuQP67Q; userId=318902474; openh5_uuid=C1C8C763F975395D99BCC2DFA37AFE325BFBD519079EC8859B9F4E58034D87E4; uuid=C1C8C763F975395D99BCC2DFA37AFE325BFBD519079EC8859B9F4E58034D87E4; _lxsdk=C1C8C763F975395D99BCC2DFA37AFE325BFBD519079EC8859B9F4E58034D87E4; w_token=xOpkTlTpmsc2MGUdNSvZZYi0ya8AAAAAihEAAE34TLLN906FFimrFlXymQ5xcaQKaw7vzH4fJ_y53mKzDbLjOHEhltS3YUYzuQP67Q; openh5_uuid=C1C8C763F975395D99BCC2DFA37AFE325BFBD519079EC8859B9F4E58034D87E4; w_uuid=yO6-Hyg34rmFtt5lNi823Mj4JjQ4sh4kuDizyltaMhBokMgDay0izLLtBK3ta1XP; w_visitid=d47e8ac5-5908-4beb-9583-07bdbe7e4077; cssVersion=42725d1e; _lxsdk_s=18064140fe5-ae4-6f2-52b%7C%7C3110',\n",
    "    \"Host\":\"i.waimai.meituan.com\",\n",
    "    \"Origin\":\"https://h5.waimai.meituan.com\",\n",
    "    \"Referer\":\"https://h5.waimai.meituan.com/\",\n",
    "    \"User-Agent\":\"Mozilla/5.0 (iPhone; CPU iPhone OS 13_2_3 like Mac OS X) AppleWebKit/605.1.15 (KHTML, like Gecko) Version/13.0.3 Mobile/15E148 Safari/604.1\"\n",
    "}\n",
    "\n",
    "\n",
    "post_data={\n",
    "    \"startIndex\":100,     #控制页码\n",
    "    \"uuid\":\"C1C8C763F975395D99BCC2DFA37AFE325BFBD519079EC8859B9F4E58034D87E4\",\n",
    "    \"originUrl\":\"https://h5.waimai.meituan.com/waimai/mindex/home\",\n",
    "    \"wm_actual_latitude\":\"31338023\",\n",
    "    \"wm_actual_longitude\":\"118412192\",\n",
    "    \"openh5_uuid\":\"C1C8C763F975395D99BCC2DFA37AFE325BFBD519079EC8859B9F4E58034D87E4\",\n",
    "    \"_token\":\"eJx9kHuLm0AUxb+LsP0nIb7iK7AU45pEo1GTXY0ppfiY9TE+Et+69Lt3ttmyFErhwj33N/cwZ+YNq5QQW5EEyRHkHOtAha0wckEsWGyONTU6YRlCYDiaYmmem2PBX4wjlswc8yv7CVt9owVizi+X39/BEc2f4FNRS1TvGwpawOKmudYrHI+ZRe8luZcscpA0rVcsgjLH7wjPkyIEAx6XOUCR/m/Jyigpvr6WVQAem6oFX3wvgD/aKnv87XugxQdqg+qfbsTvEIn7pXcBMBQ4f0aBUYcf3fvozZ9ZR/+G8tVJVCAF1LGBetP2o2gdX/lMYrxB91wqs1NZ47NTS93G9CoKtb1ZOorkM4ag5ZD0LyHMmJ6ZDk44wZrdWdbJrbROhV5YilWLa4E4XTeBfZFCWzwAs0gMLlKLa2DT6VmhqzphwEkP9qc4brb77mbkLbs7ZdT5pR6dwrataaNJgu9cXrLL4N/4q2Pv+ZtbU2nfSuS+6yo3DdQ+YWcWnAL5apagnx0CmIOCUm6WE9yadZw5LuesSR5KapZ7sjep/pMTHbU47k0ZaHK7gQVwZcPZGWAMtqwMjMJ8Lg54JA9Wq3eqkraiYOnKcydkODzbEy5uYVJLHIFePRs0bUbHxCs+mkkZ4TOtitZrxiR6F0aVW1TuIGpFK6XbvWKG7nQ+prtBLBV1Hxo6ro91flzGQ+4YOj+OAK+IkTEv0xF4JYvz2M9fbgHz7Q==\"\n",
    "}   # _token 是会变的？\n",
    "\n",
    "start_url = \"https://i.waimai.meituan.com/openh5/homepage/poilist?_=1650957979896\"\n",
    "response_data = requests.post(start_url, headers=post_headers, data=post_data)\n",
    "response_data = response_data.text  # 返回的是 str 类型的数据\n",
    "    \n",
    "print(len(response_data))"
   ]
  }
 ],
 "metadata": {
  "interpreter": {
   "hash": "916dbcbb3f70747c44a77c7bcd40155683ae19c65e1c03b4aa3499c5328201f1"
  },
  "kernelspec": {
   "display_name": "Python 3.8.10 64-bit",
   "language": "python",
   "name": "python3"
  },
  "language_info": {
   "codemirror_mode": {
    "name": "ipython",
    "version": 3
   },
   "file_extension": ".py",
   "mimetype": "text/x-python",
   "name": "python",
   "nbconvert_exporter": "python",
   "pygments_lexer": "ipython3",
   "version": "3.8.10"
  },
  "orig_nbformat": 4
 },
 "nbformat": 4,
 "nbformat_minor": 2
}
