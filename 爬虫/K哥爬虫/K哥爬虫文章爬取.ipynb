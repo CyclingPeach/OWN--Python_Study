{
 "cells": [
  {
   "cell_type": "code",
   "execution_count": 41,
   "metadata": {},
   "outputs": [
    {
     "name": "stdout",
     "output_type": "stream",
     "text": [
      "94 ['[当爬虫工程师遇到 CTF丨2021 年 B 站 1024 安全攻防题解](https://blog.csdn.net/kdl_csdn/article/details/120924168)', '[JS 逆向之 Hook，吃着火锅唱着歌，突然就被麻匪劫了！](https://blog.csdn.net/kdl_csdn/article/details/120548182)', '[爬虫逆向进阶，利用 AST 技术还原 JavaScript 混淆代码](https://blog.csdn.net/kdl_csdn/article/details/124444533)', '[【JS 逆向百例】网洛者反爬练习平台第七题：JSVMPZL 初体验](https://blog.csdn.net/kdl_csdn/article/details/123818178)', '[【JS 逆向百例】某招聘平台爬虫，traceparent、__lg_stoken__、X-S-HEADER 等参数分析](https://blog.csdn.net/kdl_csdn/article/details/123542236)', '[RPC 技术及其框架 Sekiro 在爬虫逆向中的应用，加密数据一把梭](https://blog.csdn.net/kdl_csdn/article/details/123074729)', '[【JS 逆向百例】吾爱破解2022春节解题领红包之番外篇 Web 中级题解](https://blog.csdn.net/kdl_csdn/article/details/122963495)', '[【JS 逆向百例】HN某服务网登录逆向，验证码形同虚设](https://blog.csdn.net/kdl_csdn/article/details/122561720)', '[CTF&爬虫：掌握这些特征，一秒识别密文加密方式](https://blog.csdn.net/kdl_csdn/article/details/122497669)', '[【JS 逆向百例】某空气质量监测平台无限 debugger 以及数据动态加密](https://blog.csdn.net/kdl_csdn/article/details/122437354)', '[【JS 逆向百例】PEDATA 加密资讯以及 zlib.gunzipSync() 的应用](https://blog.csdn.net/kdl_csdn/article/details/122348586)', '[【JS 逆向百例】X球投资者社区 cookie 参数 acw_sc__v2 加密分析](https://blog.csdn.net/kdl_csdn/article/details/122240939)', '[【JS 逆向百例】网洛者反爬练习平台第六题：JS 加密，环境模拟检测](https://blog.csdn.net/kdl_csdn/article/details/122196708)', '[【JS 逆向百例】网洛者反爬练习平台第五题：控制台反调试](https://blog.csdn.net/kdl_csdn/article/details/122122026)', '[【JS 逆向百例】网洛者反爬练习平台第四题：JSFuck 加密](https://blog.csdn.net/kdl_csdn/article/details/122084863)', '[【JS 逆向百例】网洛者反爬练习平台第三题：AAEncode 加密](https://blog.csdn.net/kdl_csdn/article/details/121977337)', '[【JS 逆向百例】网洛者反爬练习平台第二题：JJEncode 加密](https://blog.csdn.net/kdl_csdn/article/details/121955374)', '[【JS 逆向百例】网洛者反爬练习平台第一题：JS 混淆加密，反 Hook 操作](https://blog.csdn.net/kdl_csdn/article/details/121832967)', '[【JS 逆向百例】WebSocket 协议爬虫，智慧树扫码登录案例分析](https://blog.csdn.net/kdl_csdn/article/details/121773693)', '[【JS 逆向百例】W店UA，OB反混淆，抓包替换CORS跨域错误分析](https://blog.csdn.net/kdl_csdn/article/details/121682678)', '[【JS 逆向百例】反混淆入门，某鹏教育 JS 混淆还原](https://blog.csdn.net/kdl_csdn/article/details/121633349)', '[【JS 逆向百例】你没见过的社会主义核心价值观加密](https://blog.csdn.net/kdl_csdn/article/details/121543491)', '[【JS 逆向百例】Ether Rock 空投接口 AES256 加密分析](https://blog.csdn.net/kdl_csdn/article/details/121521304)', '[【JS 逆向百例】cnki 学术翻译 AES 加密分析](https://blog.csdn.net/kdl_csdn/article/details/121404845)', '[【JS 逆向百例】某易支付密码 MD5+AES 加密分析](https://blog.csdn.net/kdl_csdn/article/details/121359268)', '[【JS 逆向百例】医保局 SM2+SM4 国产加密算法实战](https://blog.csdn.net/kdl_csdn/article/details/121269937)', '[爬虫逆向基础，认识 SM1-SM9、ZUC 国密算法](https://blog.csdn.net/kdl_csdn/article/details/121230509)', '[Loguru：Python 日志终极解决方案](https://blog.csdn.net/kdl_csdn/article/details/121146354)', '[【JS逆向百例】某音乐网分离式 webpack 非 IIFE 改写实战](https://blog.csdn.net/kdl_csdn/article/details/121135203)', '[【JS 逆向百例】webpack 改写实战，G 某游戏 RSA 加密](https://blog.csdn.net/kdl_csdn/article/details/121007115)', '[爬虫逆向基础，理解 JavaScript 模块化编程 webpack](https://blog.csdn.net/kdl_csdn/article/details/120891046)', '[Python 3.10 正式发布，新增模式匹配，同事用了直呼真香！](https://blog.csdn.net/kdl_csdn/article/details/120828534)', '[【JS 逆向百例】浏览器插件 Hook 实战，亚航加密参数分析](https://blog.csdn.net/kdl_csdn/article/details/120769251)', '[【JS 逆向百例】Fiddler 插件 Hook 实战，某创帮登录逆向](https://blog.csdn.net/kdl_csdn/article/details/120726429)', '[【JS 逆向百例】如何跟栈调试？某 e 网通 AES 加密分析](https://blog.csdn.net/kdl_csdn/article/details/120501738)', '[【JS 逆向百例】XHR 断点调试，Steam 登录逆向](https://blog.csdn.net/kdl_csdn/article/details/120199625)', '[【JS 逆向百例】DOM事件断点调试，某商盟登录逆向](https://blog.csdn.net/kdl_csdn/article/details/120128238)', '[【JS 逆向百例】无限 debugger 绕过实战](https://blog.csdn.net/kdl_csdn/article/details/120009918)', '[【JS 逆向百例】复杂的登录过程，最新微博逆向](https://blog.csdn.net/kdl_csdn/article/details/119997552)', '[【JS 逆向百例】元素ID定位加密位置，某麻将数据逆向](https://blog.csdn.net/kdl_csdn/article/details/119926689)', '[【JS 逆向百例】转变思路，少走弯路，X米加密分析](https://blog.csdn.net/kdl_csdn/article/details/119906489)', '[【JS 逆向百例】层层嵌套！某加速商城 RSA 加密](https://blog.csdn.net/kdl_csdn/article/details/119808391)', '[【JS 逆向百例】37网游登录接口参数逆向](https://blog.csdn.net/kdl_csdn/article/details/119762268)', '[【JS 逆向百例】房天下登录接口参数逆向](https://blog.csdn.net/kdl_csdn/article/details/119636428)', '[【JS 逆向百例】当乐网登录接口参数逆向](https://blog.csdn.net/kdl_csdn/article/details/119608715)', '[【JS 逆向百例】建筑市场监管平台企业数据](https://blog.csdn.net/kdl_csdn/article/details/119566542)', '[【JS 逆向百例】有道翻译接口参数逆向](https://blog.csdn.net/kdl_csdn/article/details/119420908)', '[【JS 逆向百例】百度翻译接口参数逆向](https://blog.csdn.net/kdl_csdn/article/details/119419865)', '[【爬虫知识】爬虫常见加密解密算法](https://blog.csdn.net/kdl_csdn/article/details/119249645)', '[【爬虫知识】浏览器开发者工具使用技巧总结](https://blog.csdn.net/kdl_csdn/article/details/119035208)', '[隧道代理无法更换IP？](https://blog.csdn.net/kdl_csdn/article/details/118554025)', '[每次更换代理IP仍然被反爬](https://blog.csdn.net/kdl_csdn/article/details/118385486)', '[使用动态代理IP返回Response [407]](https://blog.csdn.net/kdl_csdn/article/details/117733069)', '[常见的反爬策略及解决方案](https://blog.csdn.net/kdl_csdn/article/details/117255569)', '[【爬虫知识】你真的完全了解了 post 和 get 的区别和联系吗？](https://blog.csdn.net/kdl_csdn/article/details/114626154)', '[Scrapy使用隧道代理403问题解决方案](https://blog.csdn.net/kdl_csdn/article/details/113611723)', '[开放代理产品介绍](https://blog.csdn.net/kdl_csdn/article/details/107311369)', '[独享代理产品介绍](https://blog.csdn.net/kdl_csdn/article/details/107311346)', '[隧道代理产品简介](https://blog.csdn.net/kdl_csdn/article/details/107311313)', '[私密代理产品简介](https://blog.csdn.net/kdl_csdn/article/details/107311259)', '[【快代理API】获取代理鉴权信息](https://blog.csdn.net/kdl_csdn/article/details/105164143)', '[【快代理API】设置IP白名单](https://blog.csdn.net/kdl_csdn/article/details/105164003)', '[【快代理API】获取IP白名单](https://blog.csdn.net/kdl_csdn/article/details/105163676)', '[【快代理】获取独享代理用户名密码](https://blog.csdn.net/kdl_csdn/article/details/105163466)', '[【快代理】获取私密代理用户名密码](https://blog.csdn.net/kdl_csdn/article/details/105163374)', '[【快代理API】检测开放代理有效性](https://blog.csdn.net/kdl_csdn/article/details/105163212)', '[【快代理API】获取开放代理](https://blog.csdn.net/kdl_csdn/article/details/105163081)', '[【快代理API】获取独享代理](https://blog.csdn.net/kdl_csdn/article/details/105162951)', '[【快代理API】获取隧道代理IP](https://blog.csdn.net/kdl_csdn/article/details/105162761)', '[【快代理API】更换隧道代理IP](https://blog.csdn.net/kdl_csdn/article/details/105162662)', '[【快代理API】查询隧道代理当前IP](https://blog.csdn.net/kdl_csdn/article/details/105162306)', '[【快代理API】获取订单IP提取余额](https://blog.csdn.net/kdl_csdn/article/details/105161931)', '[【快代理API】获取私密代理可用时长](https://blog.csdn.net/kdl_csdn/article/details/105161720)', '[【快代理API】检测私密代理有效性](https://blog.csdn.net/kdl_csdn/article/details/105161346)', '[【快代理API】获取私密代理](https://blog.csdn.net/kdl_csdn/article/details/105161238)', '[【快代理API】获取订单到期时间](https://blog.csdn.net/kdl_csdn/article/details/105160570)', '[【快代理】获取订单号和 API key](https://blog.csdn.net/kdl_csdn/article/details/105160723)', '[【快代理】Python SDK 使用](https://blog.csdn.net/kdl_csdn/article/details/104952348)', '[代理访问https网站报ssl错误](https://blog.csdn.net/kdl_csdn/article/details/104712365)', '[【快代理】隧道代理使用教程](https://blog.csdn.net/kdl_csdn/article/details/104385181)', '[【快代理】开放代理使用教程](https://blog.csdn.net/kdl_csdn/article/details/104380178)', '[【快代理】独享代理使用教程](https://blog.csdn.net/kdl_csdn/article/details/104379892)', '[Node——request使用代理](https://blog.csdn.net/kdl_csdn/article/details/104308809)', '[Nodejs——标准库（http+url）使用代理](https://blog.csdn.net/kdl_csdn/article/details/104307358)', '[PHP——curl使用代理](https://blog.csdn.net/kdl_csdn/article/details/104304554)', '[Go——标准库使用代理](https://blog.csdn.net/kdl_csdn/article/details/104300004)', '[Ruby——httparty使用代理](https://blog.csdn.net/kdl_csdn/article/details/104299748)', '[Ruby——net/http使用代理](https://blog.csdn.net/kdl_csdn/article/details/104298458)', '[http状态码解释](https://blog.csdn.net/kdl_csdn/article/details/104023516)', '[python爬虫——scrapy的使用](https://blog.csdn.net/kdl_csdn/article/details/103999779)', '[python爬虫——urllib使用代理](https://blog.csdn.net/kdl_csdn/article/details/103989024)', '[python爬虫——selenium+firefox使用代理](https://blog.csdn.net/kdl_csdn/article/details/103986221)', '[python爬虫——selenium+chrome使用代理](https://blog.csdn.net/kdl_csdn/article/details/103985282)', '[python爬虫——requests库使用代理](https://blog.csdn.net/kdl_csdn/article/details/103962098)']\n"
     ]
    }
   ],
   "source": [
    "import requests\n",
    "import time\n",
    "\n",
    "headers = {\n",
    "    'user-agent':'Mozilla/5.0 (X11; Linux x86_64) AppleWebKit/537.36 (KHTML, like Gecko) Chrome/101.0.4951.54 Safari/537.36'\n",
    "}\n",
    "\n",
    "article = []\n",
    "for i in range(1,6):\n",
    "    url = 'https://blog.csdn.net/community/home-api/v1/get-business-list?page={}&size=20&businessType=blog&orderby=&noMore=false&year=&month=&username=kdl_csdn'.format(i)\n",
    "    res = requests.get(url, headers=headers)\n",
    "    res_json = res.json()\n",
    "    res_data = res_json['data']['list']\n",
    "    for data in res_data:\n",
    "        article.append('[{0}]({1})'.format(data['title'],data['url']))\n",
    "    time.sleep(2)\n",
    "print(len(article), article)"
   ]
  },
  {
   "cell_type": "code",
   "execution_count": 34,
   "metadata": {},
   "outputs": [
    {
     "data": {
      "text/plain": [
       "['[当爬虫工程师遇到 CTF丨2021 年 B 站 1024 安全攻防题解](https://blog.csdn.net/kdl_csdn/article/details/120924168)',\n",
       " '[JS 逆向之 Hook，吃着火锅唱着歌，突然就被麻匪劫了！](https://blog.csdn.net/kdl_csdn/article/details/120548182)',\n",
       " '[爬虫逆向进阶，利用 AST 技术还原 JavaScript 混淆代码](https://blog.csdn.net/kdl_csdn/article/details/124444533)',\n",
       " '[【JS 逆向百例】网洛者反爬练习平台第七题：JSVMPZL 初体验](https://blog.csdn.net/kdl_csdn/article/details/123818178)',\n",
       " '[【JS 逆向百例】某招聘平台爬虫，traceparent、__lg_stoken__、X-S-HEADER 等参数分析](https://blog.csdn.net/kdl_csdn/article/details/123542236)']"
      ]
     },
     "execution_count": 34,
     "metadata": {},
     "output_type": "execute_result"
    }
   ],
   "source": [
    "new_article = article\n",
    "new_article[0:5]"
   ]
  },
  {
   "cell_type": "code",
   "execution_count": 39,
   "metadata": {},
   "outputs": [
    {
     "name": "stdout",
     "output_type": "stream",
     "text": [
      "['[当爬虫工程师遇到 CTF丨2021 年 B 站 1024 安全攻防题解](https://blog.csdn.net/kdl_csdn/article/details/120924168)/n/n/n/n/n', '[JS 逆向之 Hook，吃着火锅唱着歌，突然就被麻匪劫了！](https://blog.csdn.net/kdl_csdn/article/details/120548182)/n/n/n/n/n', '[爬虫逆向进阶，利用 AST 技术还原 JavaScript 混淆代码](https://blog.csdn.net/kdl_csdn/article/details/124444533)/n/n/n/n/n', '[【JS 逆向百例】网洛者反爬练习平台第七题：JSVMPZL 初体验](https://blog.csdn.net/kdl_csdn/article/details/123818178)/n/n/n/n/n', '[【JS 逆向百例】某招聘平台爬虫，traceparent、__lg_stoken__、X-S-HEADER 等参数分析](https://blog.csdn.net/kdl_csdn/article/details/123542236)/n/n/n/n/n']\n"
     ]
    }
   ],
   "source": [
    "new_article = article\n",
    "for i in range(len(new_article)):\n",
    "    new_article[i] = new_article[i] + '/n'\n",
    "print(new_article[0:5])\n",
    "\n",
    "file = open('article.txt', 'w')\n",
    "for a in new_article:\n",
    "    file.writelines(new_article)\n",
    "file.close()"
   ]
  }
 ],
 "metadata": {
  "interpreter": {
   "hash": "916dbcbb3f70747c44a77c7bcd40155683ae19c65e1c03b4aa3499c5328201f1"
  },
  "kernelspec": {
   "display_name": "Python 3.8.10 64-bit",
   "language": "python",
   "name": "python3"
  },
  "language_info": {
   "codemirror_mode": {
    "name": "ipython",
    "version": 3
   },
   "file_extension": ".py",
   "mimetype": "text/x-python",
   "name": "python",
   "nbconvert_exporter": "python",
   "pygments_lexer": "ipython3",
   "version": "3.8.10"
  },
  "orig_nbformat": 4
 },
 "nbformat": 4,
 "nbformat_minor": 2
}
