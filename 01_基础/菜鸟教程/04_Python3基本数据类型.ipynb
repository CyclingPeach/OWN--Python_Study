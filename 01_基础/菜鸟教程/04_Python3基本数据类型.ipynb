{
 "cells": [
  {
   "cell_type": "code",
   "execution_count": 11,
   "metadata": {},
   "outputs": [
    {
     "name": "stdout",
     "output_type": "stream",
     "text": [
      "input:\n",
      "I like runoob\n",
      "\n",
      "inputWords:\n",
      "['I', 'like', 'runoob']\n",
      "\n",
      "inputWords:\n",
      "['runoob', 'like', 'I']\n"
     ]
    }
   ],
   "source": [
    "\n",
    "input = 'I like runoob'\n",
    "print(\"input:\\n\", input, sep=\"\")\n",
    "\n",
    "inputWords = input.split(\" \")\n",
    "print(\"\\ninputWords:\\n\",inputWords, sep=\"\")\n",
    "\n",
    "inputWords=inputWords[-1::-1]\n",
    "print(\"\\ninputWords:\\n\",inputWords, sep=\"\")"
   ]
  },
  {
   "cell_type": "code",
   "execution_count": 16,
   "metadata": {},
   "outputs": [
    {
     "name": "stdout",
     "output_type": "stream",
     "text": [
      "[6, 5, 4, 3]\n",
      "[]\n"
     ]
    }
   ],
   "source": [
    "a = [1,2,3,4,5,6,7,8,9]\n",
    "print(a[5:1:-1])\n",
    "print(a[1:5:-1])"
   ]
  }
 ],
 "metadata": {
  "interpreter": {
   "hash": "916dbcbb3f70747c44a77c7bcd40155683ae19c65e1c03b4aa3499c5328201f1"
  },
  "kernelspec": {
   "display_name": "Python 3.8.10 64-bit",
   "language": "python",
   "name": "python3"
  },
  "language_info": {
   "codemirror_mode": {
    "name": "ipython",
    "version": 3
   },
   "file_extension": ".py",
   "mimetype": "text/x-python",
   "name": "python",
   "nbconvert_exporter": "python",
   "pygments_lexer": "ipython3",
   "version": "3.8.10"
  },
  "orig_nbformat": 4
 },
 "nbformat": 4,
 "nbformat_minor": 2
}
