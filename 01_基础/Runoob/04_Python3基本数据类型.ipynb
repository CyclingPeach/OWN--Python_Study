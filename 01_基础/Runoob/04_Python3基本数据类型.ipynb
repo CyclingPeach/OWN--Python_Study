{
 "cells": [
  {
   "cell_type": "markdown",
   "metadata": {},
   "source": [
    "# 目录\n",
    "\n",
    "**`6个`标准数据类型**\n",
    "|类型名|元素是否可变|有/无序|\n",
    "|:-:|:-:|:-:|\n",
    "|`Number`|||\n",
    "|`String`|||\n",
    "|`List`|元素可变||\n",
    "|`Tuple`|`元素不可变`||\n",
    "|`Set`|元素可变|`无序`且`不重复`|\n",
    "|`Dictionary`|元素可变|`无序`|\n",
    "\n",
    "可变数据与不可变数据\n",
    "|不可变数据|可变数据|\n",
    "|:-:|:-:|\n",
    "|`Number`|`List`|\n",
    "|`String`|`Dictionary`|\n",
    "|`Tuple`|`Set`|"
   ]
  },
  {
   "cell_type": "markdown",
   "metadata": {},
   "source": [
    "- Number\n",
    "    - `int`、`float`、`bool`、`complex`\n",
    "    - 整数类型只有`int`表示长整型，没有Python中的`Long`\n",
    "    - `isinstance`判断是否是某种类型：如`isinstance(111, int)`;`True`\n",
    "        - `isinstance()`会认为子类是一种父类类型\n",
    "        - `type()`不会认为子类是一种父类类型\n",
    "        - **注意**：`bool`是`int`子类，`True``False`可以和数字相加\n",
    "            - `True == 1`、`False == 0 `会返回`True`\n",
    "            - `True + 1 = 2`、`False + 1 = 0`\n",
    "            - `1 is True`>>>`False`；`0 is False`>>>`False`\n",
    "    - 使用`del`删除对象引用\n",
    "    - 数值运算（重要的几个）\n",
    "        - `/`得到一个浮点数\n",
    "        - `//`得到一个整数\n",
    "        - `%`取余\n",
    "        - `**`乘方\n",
    "    - Python可以同时为多个变量赋值\n",
    "        - `a, b = 1, 2`\n",
    "        - `a = b = c = 1`\n",
    "\n",
    "- String\n",
    "    - `\\`（转义特殊字符、续行符）；`r`\n",
    "    - 索引\n",
    "        - 注意逆向索引\n",
    "    - 运算\n",
    "        - `str * 2`输出字符串两次\n",
    "        - `str + \"Another_str\"`"
   ]
  },
  {
   "cell_type": "markdown",
   "metadata": {},
   "source": [
    "- List\n",
    "    - 索引；`逆向索引`、`步长`\n",
    "    - 切片\n",
    "    - 运算\n",
    "        - `list * 2`：`一个列表`中输出`两个列表内容`：`[1,2,3] * 2`>>>[1,2,3,1,2,3]\n",
    "        - `list1 + list2`\n",
    "    - 方法：`append()`、`pop()`......\n",
    "- Tuple\n",
    "    - 索引、切片\n",
    "    - `*`、`+`\n",
    "    - **创建元组**\n",
    "        - 空元组:`tup = ()`\n",
    "        - 包含1个元素的元组:`tup = (99, )`需要在元素后面添加逗号\n",
    "        - **`string`**、`list` 和 `tuple` 都属于 `sequence`（序列）\n",
    "\n",
    "- Dictionary\n",
    "    - 键不能重复\n",
    "    - 创建`{}`\n",
    "- Set\n",
    "    - 创建【对比Dictionary】\n",
    "        - `{1,2,3}`或`set()`创建空集合必须使用`set()`\n",
    "    - 集合运算\n",
    "        - 差集`-`\n",
    "        - 并集`|`\n",
    "        - 交集`&`\n",
    "        - 同时不存在`^`"
   ]
  },
  {
   "cell_type": "markdown",
   "metadata": {},
   "source": []
  },
  {
   "cell_type": "code",
   "execution_count": 11,
   "metadata": {},
   "outputs": [
    {
     "name": "stdout",
     "output_type": "stream",
     "text": [
      "input:\n",
      "I like runoob\n",
      "\n",
      "inputWords:\n",
      "['I', 'like', 'runoob']\n",
      "\n",
      "inputWords:\n",
      "['runoob', 'like', 'I']\n"
     ]
    }
   ],
   "source": [
    "\n",
    "input = 'I like runoob'\n",
    "print(\"input:\\n\", input, sep=\"\")\n",
    "\n",
    "inputWords = input.split(\" \")\n",
    "print(\"\\ninputWords:\\n\",inputWords, sep=\"\")\n",
    "\n",
    "inputWords=inputWords[-1::-1]\n",
    "print(\"\\ninputWords:\\n\",inputWords, sep=\"\")"
   ]
  },
  {
   "cell_type": "code",
   "execution_count": 16,
   "metadata": {},
   "outputs": [
    {
     "name": "stdout",
     "output_type": "stream",
     "text": [
      "[6, 5, 4, 3]\n",
      "[]\n"
     ]
    }
   ],
   "source": [
    "a = [1,2,3,4,5,6,7,8,9]\n",
    "print(a[5:1:-1])\n",
    "print(a[1:5:-1])"
   ]
  },
  {
   "cell_type": "markdown",
   "metadata": {},
   "source": [
    "## Python数据类型\n",
    "\n",
    "\n",
    "内置函数——数据类型转换\n",
    "\n",
    "|函数|描述|\n",
    "|:-:|:-:|\n",
    "|`repr(x)`|将对象x转换为表达式字符串|\n",
    "|`eval(str)`|用来计算在字符串中的有效Python表达式,并返回一个对象|\n",
    "|`tuple(s)`|将序列 s 转换为一个元组|\n",
    "|`set(s)`|转换为可变集合|"
   ]
  },
  {
   "cell_type": "markdown",
   "metadata": {},
   "source": [
    "![图 4](../../images/3c955bedf88ce134c5c8de6c34028b047695ecd570965b8a51b8e42bb3b905df.png)  \n"
   ]
  }
 ],
 "metadata": {
  "interpreter": {
   "hash": "916dbcbb3f70747c44a77c7bcd40155683ae19c65e1c03b4aa3499c5328201f1"
  },
  "kernelspec": {
   "display_name": "Python 3.8.10 64-bit",
   "language": "python",
   "name": "python3"
  },
  "language_info": {
   "codemirror_mode": {
    "name": "ipython",
    "version": 3
   },
   "file_extension": ".py",
   "mimetype": "text/x-python",
   "name": "python",
   "nbconvert_exporter": "python",
   "pygments_lexer": "ipython3",
   "version": "3.8.10"
  },
  "orig_nbformat": 4
 },
 "nbformat": 4,
 "nbformat_minor": 2
}
