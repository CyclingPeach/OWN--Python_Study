{
 "cells": [
  {
   "cell_type": "markdown",
   "metadata": {},
   "source": [
    ">目录\n",
    "- 1、**列表推导式**\n",
    "    - `[表达式 for 变量 in 列表]`\n",
    "    - `[表达式 for 变量 in 列表 if 条件]`\n",
    "- 2、**字典推导式**\n",
    "    - `{key_expr:value_expr for value in collection}`\n",
    "    - `{key_expr:value_expr for value in collection if condition}`\n",
    "- 3、**集合推导式**\n",
    "    - `{expression for item in Sequence}`\n",
    "    - `{expression for item in Sequence if conditional}`\n",
    "- 4、**元组推导式**\n",
    "    - `(expression for item in Sequence)`\n",
    "    - `(expression for item in Sequence if conditional)`\n",
    "    - 注意：元组返回的是一个`生成器对象`，需要使用`tuple(生成器对象)`才是结果"
   ]
  },
  {
   "cell_type": "markdown",
   "metadata": {},
   "source": [
    "### 1、列表推导式\n",
    "\n",
    "**`[表达式 for 变量 in 列表]`**\n",
    "\n",
    "**`[表达式 for 变量 in 列表 if 条件]`**\n"
   ]
  },
  {
   "cell_type": "code",
   "execution_count": 4,
   "metadata": {},
   "outputs": [
    {
     "name": "stdout",
     "output_type": "stream",
     "text": [
      "[0, 1, 4, 9, 16]\n",
      "[9, 16]\n"
     ]
    }
   ],
   "source": [
    "print([i*i for i in range(5)])\n",
    "print([i*i for i in range(5) if i>2])"
   ]
  },
  {
   "cell_type": "code",
   "execution_count": 5,
   "metadata": {},
   "outputs": [
    {
     "name": "stdout",
     "output_type": "stream",
     "text": [
      "[0, 3, 6, 9, 12, 15, 18, 21, 24, 27]\n"
     ]
    }
   ],
   "source": [
    "# 计算 30 以内可以被 3 整除的整数\n",
    "\n",
    "multiples = [i for i in range(30) if i % 3 == 0]\n",
    "print(multiples)"
   ]
  },
  {
   "cell_type": "markdown",
   "metadata": {},
   "source": [
    "### 2、字典推导式\n",
    "\n",
    "**`{key_expr:value_expr for value in collection}`**\n",
    "\n",
    "或者\n",
    "\n",
    "**`{key_expr:value_expr for value in collection if condition}`**\n",
    "\n",
    "\n",
    "这里的`key_expr`是一个序列"
   ]
  },
  {
   "cell_type": "code",
   "execution_count": 20,
   "metadata": {},
   "outputs": [
    {
     "name": "stdout",
     "output_type": "stream",
     "text": [
      "{2: 4, 4: 16, 6: 36}\n",
      "{'Tao': 9, 'Zhi': 9, 'Yuan': 16}\n",
      "{'Tao': 4, 'Zhi': 4, 'Yuan': 4}\n"
     ]
    }
   ],
   "source": [
    "key_expr = ['Tao', 'Zhi', 'Yuan']\n",
    "key_expr_len = [3, 3, 4]\n",
    "\n",
    "print({x:x**2 for x in [2, 4, 6]})\n",
    "print({key: len(key)**2 for key in key_expr})\n",
    "print({i: j for i in key_expr for j in key_expr_len})"
   ]
  },
  {
   "cell_type": "markdown",
   "metadata": {},
   "source": [
    "### 3、集合推导式\n",
    "【**参考列表推导式**】\n",
    "\n",
    "**`{expression for item in Sequence}`**\n",
    "\n",
    "或\n",
    "\n",
    "**`{expression for item in Sequence if conditional}`**\n",
    "\n",
    "\n",
    "- `expression`：表达式\n",
    "- `item`：\n",
    "- `Sequence`：序列"
   ]
  },
  {
   "cell_type": "code",
   "execution_count": 23,
   "metadata": {},
   "outputs": [
    {
     "name": "stdout",
     "output_type": "stream",
     "text": [
      "{1, 4, 9}\n",
      "[1, 4, 9]\n"
     ]
    }
   ],
   "source": [
    "print({i**2 for i in (1,2,3)})\n",
    "print([i**2 for i in (1,2,3)])"
   ]
  },
  {
   "cell_type": "code",
   "execution_count": 26,
   "metadata": {},
   "outputs": [
    {
     "data": {
      "text/plain": [
       "{'d', 'j', 'n', 'r'}"
      ]
     },
     "execution_count": 26,
     "metadata": {},
     "output_type": "execute_result"
    }
   ],
   "source": [
    "# 判断不是 abc 的字母并输出\n",
    "\n",
    "{x for x in 'abracadabrjanb' if x not in 'abc'}"
   ]
  },
  {
   "cell_type": "markdown",
   "metadata": {},
   "source": [
    "### 4、元组推导式\n",
    "\n",
    "元组推导式可以利用 range 区间、元组、列表、字典和集合等数据类型，快速生成一个满足指定需求的元组。\n",
    "\n",
    "**`(expression for item in Sequence )`**\n",
    "\n",
    "或\n",
    "\n",
    "**`(expression for item in Sequence if conditional )`**\n",
    "\n",
    "- 元组推导式和列表推导式的用法也完全相同，只是元组推导式是用 () 圆括号将各部分括起来，而列表推导式用的是中括号 []\n",
    "- **`元组推导式返回的结果是一个生成器对象`**"
   ]
  },
  {
   "cell_type": "code",
   "execution_count": 29,
   "metadata": {},
   "outputs": [
    {
     "data": {
      "text/plain": [
       "<generator object <genexpr> at 0x7fc2c1a32040>"
      ]
     },
     "execution_count": 29,
     "metadata": {},
     "output_type": "execute_result"
    }
   ],
   "source": [
    "# 生成一个包含数字 1~9 的元组：\n",
    "\n",
    "a = (x for x in range(1,10))\n",
    "a"
   ]
  },
  {
   "cell_type": "code",
   "execution_count": 28,
   "metadata": {},
   "outputs": [
    {
     "data": {
      "text/plain": [
       "(1, 2, 3, 4, 5, 6, 7, 8, 9)"
      ]
     },
     "execution_count": 28,
     "metadata": {},
     "output_type": "execute_result"
    }
   ],
   "source": [
    "tuple(a)"
   ]
  }
 ],
 "metadata": {
  "interpreter": {
   "hash": "916dbcbb3f70747c44a77c7bcd40155683ae19c65e1c03b4aa3499c5328201f1"
  },
  "kernelspec": {
   "display_name": "Python 3.8.10 64-bit",
   "language": "python",
   "name": "python3"
  },
  "language_info": {
   "codemirror_mode": {
    "name": "ipython",
    "version": 3
   },
   "file_extension": ".py",
   "mimetype": "text/x-python",
   "name": "python",
   "nbconvert_exporter": "python",
   "pygments_lexer": "ipython3",
   "version": "3.8.10"
  },
  "orig_nbformat": 4
 },
 "nbformat": 4,
 "nbformat_minor": 2
}
