{
 "cells": [
  {
   "cell_type": "markdown",
   "metadata": {},
   "source": [
    "## 介绍"
   ]
  },
  {
   "cell_type": "markdown",
   "metadata": {},
   "source": [
    "## 数学函数\n",
    "![图 13](../../images/73162ee97ef3d10095f593cb72942c1e6413eadb17331949874ff2a0fef53894.png)  \n",
    "\n",
    "\n",
    "## 随机数函数\n",
    "![图 12](../../images/d76385baa0112b520e7cb33c0aaca85f7bee758f9d740e843c5369f24c2d13c7.png)  \n",
    "\n",
    "\n",
    "## 三角函数\n",
    "![图 11](../../images/863de429467ae1f911fe1bb5a53842cf10ac57f86f7bc9a2006b4ddad2596d28.png)  \n",
    "\n",
    "\n",
    "## 数字常量\n",
    "![图 10](../../images/d88ea1e42e0ed2e2299fdfb65a8ed282a46462057360ba9e94f48c1b939dab7a.png)  \n"
   ]
  }
 ],
 "metadata": {
  "interpreter": {
   "hash": "916dbcbb3f70747c44a77c7bcd40155683ae19c65e1c03b4aa3499c5328201f1"
  },
  "kernelspec": {
   "display_name": "Python 3.8.10 64-bit",
   "language": "python",
   "name": "python3"
  },
  "language_info": {
   "name": "python",
   "version": "3.8.10"
  },
  "orig_nbformat": 4
 },
 "nbformat": 4,
 "nbformat_minor": 2
}
