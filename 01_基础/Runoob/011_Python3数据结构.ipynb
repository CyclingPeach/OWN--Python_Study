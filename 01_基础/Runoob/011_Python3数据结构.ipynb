{
 "cells": [
  {
   "cell_type": "code",
   "execution_count": null,
   "metadata": {},
   "outputs": [],
   "source": []
  },
  {
   "cell_type": "markdown",
   "metadata": {},
   "source": [
    "# Python3数据结构\n",
    "## 列表\n",
    "#### 列表常用方法\n",
    "|方法|描述|\n",
    "|:-:|:-:|\n",
    "|`list.append(x)`||\n",
    "|`list.insert(i, x)`||\n",
    "|`list.remove(x)`|删除列表中值为 x 的`第一个`元素。如果没有这样的元素，就会返回一个错误。|\n",
    "|`list.pop([i])`|从列表的`指定位置`移除元素，并将其返回。如果没有指定索引，a.pop()返回`最后一个元素`。元素随即从列表中被移除。|\n",
    "|--|--|\n",
    "|`list.index(x)`|返回列表中`第一个`值为 x 的元素的索引。如果没有匹配的元素就会返回一个错误。|\n",
    "|`list.sort()`||\n",
    "|`list.count(x)`|返回 x 在列表中出现的次数。|\n",
    "|`list.reverse()`|倒排列表中的元素。|\n",
    "|`list.clear()`|等同于`del a[:]`|"
   ]
  },
  {
   "cell_type": "markdown",
   "metadata": {},
   "source": [
    "### 将列表当做`堆栈`使用\n",
    "### 将列表当作`队列`使用\n",
    "### 列表推导式"
   ]
  },
  {
   "cell_type": "code",
   "execution_count": 4,
   "metadata": {},
   "outputs": [
    {
     "data": {
      "text/plain": [
       "3.14159"
      ]
     },
     "execution_count": 4,
     "metadata": {},
     "output_type": "execute_result"
    }
   ],
   "source": [
    "round(355/113, 5)"
   ]
  },
  {
   "cell_type": "code",
   "execution_count": 6,
   "metadata": {},
   "outputs": [
    {
     "data": {
      "text/plain": [
       "[3.1, 3.14, 3.142, 3.1416, 3.14159]"
      ]
     },
     "execution_count": 6,
     "metadata": {},
     "output_type": "execute_result"
    }
   ],
   "source": [
    "[round(355/113, i) for i in range(1, 6)]"
   ]
  },
  {
   "cell_type": "code",
   "execution_count": 21,
   "metadata": {},
   "outputs": [
    {
     "name": "stdout",
     "output_type": "stream",
     "text": [
      "[[1, 5, 9], [2, 6, 10], [3, 7, 11], [4, 8, 12]]\n",
      "\n",
      "[[1, 5, 9], [2, 6, 10], [3, 7, 11], [4, 8, 12]]\n"
     ]
    }
   ],
   "source": [
    "## 将 3x4 的矩阵列表转换位 4x3 列表\n",
    "matrix = [\n",
    "    [1, 2, 3, 4],\n",
    "    [5, 6, 7, 8],\n",
    "    [9, 10, 11, 12]\n",
    "]\n",
    "\n",
    "'''\n",
    "    ## 解析：\n",
    "    [\n",
    "        [row[1] for row in matrix],\n",
    "        [row[2] for row in matrix],\n",
    "        [row[2] for row in matrix]\n",
    "    ]\n",
    "'''\n",
    "\n",
    "print([[row[i] for row in matrix] for i in range(4)])\n",
    "print()\n",
    "\n",
    "## 等同与：\n",
    "\n",
    "transposed = []\n",
    "for i in range(4):\n",
    "    transposed_row = []     # 每一个列表元素\n",
    "    for row in matrix:\n",
    "        transposed_row.append(row[i])\n",
    "    transposed.append(transposed_row)\n",
    "\n",
    "print(transposed)"
   ]
  },
  {
   "cell_type": "code",
   "execution_count": 30,
   "metadata": {},
   "outputs": [
    {
     "name": "stdout",
     "output_type": "stream",
     "text": [
      "<built-in method items of dict object at 0x7f18703e24c0>\n",
      "gallahad the pure\n",
      "robin the brave\n"
     ]
    }
   ],
   "source": [
    "knights = {'gallahad': 'the pure', 'robin': 'the brave'}\n",
    "\n",
    "print(knights.items)\n",
    "for k, v in knights.items():\n",
    "    print(k, v)"
   ]
  },
  {
   "cell_type": "code",
   "execution_count": 32,
   "metadata": {},
   "outputs": [
    {
     "name": "stdout",
     "output_type": "stream",
     "text": [
      "0 tic\n",
      "1 tac\n",
      "2 toe\n"
     ]
    }
   ],
   "source": [
    "## 列表\n",
    "# 索引位置和对应值\n",
    "\n",
    "for i, v in enumerate(['tic', 'tac', 'toe']):\n",
    "    print(i, v)"
   ]
  }
 ],
 "metadata": {
  "interpreter": {
   "hash": "916dbcbb3f70747c44a77c7bcd40155683ae19c65e1c03b4aa3499c5328201f1"
  },
  "kernelspec": {
   "display_name": "Python 3.8.10 64-bit",
   "language": "python",
   "name": "python3"
  },
  "language_info": {
   "codemirror_mode": {
    "name": "ipython",
    "version": 3
   },
   "file_extension": ".py",
   "mimetype": "text/x-python",
   "name": "python",
   "nbconvert_exporter": "python",
   "pygments_lexer": "ipython3",
   "version": "3.8.10"
  },
  "orig_nbformat": 4
 },
 "nbformat": 4,
 "nbformat_minor": 2
}
