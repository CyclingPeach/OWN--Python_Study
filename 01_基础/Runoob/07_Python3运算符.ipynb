{
 "cells": [
  {
   "cell_type": "markdown",
   "metadata": {},
   "source": [
    "## 算术运算符\n",
    "【注意】除法要和C语言区分、\n",
    "- C语言除法只有`/`和`%`\n",
    "- Python除法有`/`、`//`、`%`\n",
    "\n",
    "![图 1](../../images/3dc296d3c03f74596b29d96dbcb2a5d9a424a3f058ea6c92e05aab692f96d56f.png)\n",
    "\n",
    "\n",
    "## 比较运算符\n",
    "![图 2](../../images/d71a385ac704f10cfbce05ff85e896cd22559fa69ddc7de3aa1c14c55def80f7.png)  \n",
    "\n",
    "\n",
    "## 赋值运算符\n",
    "- 【注意】\n",
    "    - `/=`\n",
    "    - `//=`\n",
    "    - `%=`\n",
    "    - `**=`\n",
    "    - `:=`海象运算符。可在表达式内部为变量赋值\n",
    "\n",
    "![图 3](../../images/24805153b865278e8e3cab35cbadca0c3f274e69f87e4ac9e23e1aa4eb203092.png)  \n",
    "\n",
    "## 位运算符\n",
    "\n",
    "**【注意】对比04的集合运算**\n",
    "\n",
    "|运算符|位运算符|集合|\n",
    "|:-:|:-:|:-:|\n",
    "|`&`|按位与|交集|\n",
    "|`\\|`|按位或|并集|\n",
    "|`^`|**按位异或**|**同时不存在**|\n",
    "|`-`||差集|\n",
    "\n",
    "![图 4](../../images/7c59e23c44a56726b5ec927cbb9f28e8841cb345cb451df2510522f4332560ef.png)  \n",
    "\n",
    "```bash\n",
    "a = 60; b = 13\n",
    "a = 0011 1100\n",
    "b = 0000 1101\n",
    "```\n",
    "```Python\n",
    "a&b = 0000 1100\n",
    "a|b = 0011 1101\n",
    "a^b = 0011 0001\n",
    "~a  = 1100 0011\n",
    "```\n",
    "\n",
    "\n",
    "## 逻辑运算符\n",
    "![图 5](../../images/a65b6933a54bc69db5e445e9ccd7d6e4d5499a4ce6044ca71e09285a2d1cf105.png)  \n",
    "\n",
    "## 成员运算符\n",
    "![图 6](../../images/84c664fcc0cb03708a09da340f93e146647c3d0252d7d7cd4f7a95ed55b7c98f.png)  \n",
    "\n",
    "## 身份运算符\n",
    "![图 7](../../images/a5b4a1466159535459ac5976223cf98c6f0b840022aa5cfb00ec7ab236da34ac.png)  \n",
    "\n"
   ]
  },
  {
   "cell_type": "markdown",
   "metadata": {},
   "source": [
    "## 运算符号优先级\n",
    "![图 9](../../images/454cc5d8eba44412fe62ade05df70c9f34fc45037ebd6dcb2d8b79315c4312eb.png)  \n",
    "\n"
   ]
  }
 ],
 "metadata": {
  "interpreter": {
   "hash": "916dbcbb3f70747c44a77c7bcd40155683ae19c65e1c03b4aa3499c5328201f1"
  },
  "kernelspec": {
   "display_name": "Python 3.8.10 64-bit",
   "language": "python",
   "name": "python3"
  },
  "language_info": {
   "name": "python",
   "version": "3.8.10"
  },
  "orig_nbformat": 4
 },
 "nbformat": 4,
 "nbformat_minor": 2
}
