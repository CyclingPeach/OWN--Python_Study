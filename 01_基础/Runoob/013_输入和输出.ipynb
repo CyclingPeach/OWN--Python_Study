{
 "cells": [
  {
   "cell_type": "markdown",
   "metadata": {},
   "source": [
    "## 输出格式美化\n",
    "Python两种输出值的方式: 表达式语句和 print() 函数。\n",
    "\n",
    "第三种方式是使用文件对象的 write() 方法，标准输出文件可以用 sys.stdout 引用。\n",
    "\n",
    "如果你希望输出的形式更加多样，可以使用 str.format() 函数来格式化输出值。\n",
    "\n",
    "如果你希望将输出的值转成字符串，可以使用 repr() 或 str() 函数来实现。\n",
    "\n",
    "- str()： 函数返回一个用户易读的表达形式。\n",
    "- repr()： 产生一个解释器易读的表达形式。"
   ]
  }
 ],
 "metadata": {
  "interpreter": {
   "hash": "916dbcbb3f70747c44a77c7bcd40155683ae19c65e1c03b4aa3499c5328201f1"
  },
  "kernelspec": {
   "display_name": "Python 3.8.10 64-bit",
   "language": "python",
   "name": "python3"
  },
  "language_info": {
   "name": "python",
   "version": "3.8.10"
  },
  "orig_nbformat": 4
 },
 "nbformat": 4,
 "nbformat_minor": 2
}
