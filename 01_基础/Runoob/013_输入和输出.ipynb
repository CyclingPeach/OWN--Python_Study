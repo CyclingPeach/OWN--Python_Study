{
 "cells": [
  {
   "cell_type": "markdown",
   "metadata": {},
   "source": [
    "## 输出格式美化\n",
    "Python两种输出值的方式: 表达式语句和 print() 函数。\n",
    "\n",
    "第三种方式是使用文件对象的 write() 方法，标准输出文件可以用 sys.stdout 引用。\n",
    "\n",
    "如果你希望输出的形式更加多样，可以使用 str.format() 函数来格式化输出值。\n",
    "\n",
    "如果你希望将输出的值转成字符串，可以使用 repr() 或 str() 函数来实现。\n",
    "\n",
    "- `str()`： 函数返回一个用户易读的表达形式。\n",
    "- `repr()`： 产生一个解释器易读的表达形式。"
   ]
  },
  {
   "cell_type": "code",
   "execution_count": 1,
   "metadata": {},
   "outputs": [
    {
     "data": {
      "text/plain": [
       "'Hello, Runoob'"
      ]
     },
     "execution_count": 1,
     "metadata": {},
     "output_type": "execute_result"
    }
   ],
   "source": [
    "s = \"Hello, Runoob\"\n",
    "s"
   ]
  },
  {
   "cell_type": "code",
   "execution_count": 2,
   "metadata": {},
   "outputs": [
    {
     "data": {
      "text/plain": [
       "'Hello, Runoob'"
      ]
     },
     "execution_count": 2,
     "metadata": {},
     "output_type": "execute_result"
    }
   ],
   "source": [
    "s = \"Hello, Runoob\"\n",
    "str(s)"
   ]
  },
  {
   "cell_type": "code",
   "execution_count": 3,
   "metadata": {},
   "outputs": [
    {
     "data": {
      "text/plain": [
       "\"'Hello, Runoob'\""
      ]
     },
     "execution_count": 3,
     "metadata": {},
     "output_type": "execute_result"
    }
   ],
   "source": [
    "s = \"Hello, Runoob\"\n",
    "repr(s)"
   ]
  },
  {
   "cell_type": "markdown",
   "metadata": {},
   "source": [
    "`repr()` 函数可以转义字符串中的特殊字符"
   ]
  },
  {
   "cell_type": "code",
   "execution_count": 10,
   "metadata": {},
   "outputs": [
    {
     "name": "stdout",
     "output_type": "stream",
     "text": [
      "Hello, Tzy\n",
      "\n",
      "Hello, Tzy\n",
      "\n",
      "'Hello, Tzy\\n'\n"
     ]
    }
   ],
   "source": [
    "hello = \"Hello, Tzy\\n\"\n",
    "print(hello)\n",
    "print(str(hello))\n",
    "print(repr(hello))"
   ]
  },
  {
   "cell_type": "markdown",
   "metadata": {},
   "source": [
    "`repr()` 的参数可以是 Python 的任何对象"
   ]
  },
  {
   "cell_type": "code",
   "execution_count": 11,
   "metadata": {},
   "outputs": [
    {
     "data": {
      "text/plain": [
       "\"(32.5, 40000, ('Google', 'Runoob'))\""
      ]
     },
     "execution_count": 11,
     "metadata": {},
     "output_type": "execute_result"
    }
   ],
   "source": [
    "x = 10 * 3.25\n",
    "y = 200 * 200\n",
    "repr((x, y, ('Google', 'Runoob')))"
   ]
  },
  {
   "cell_type": "markdown",
   "metadata": {},
   "source": [
    "- 字符串对象的 `rjust()` 方法, 它可以将字符串靠右, 并在左边填充空格\n",
    "- 类似的方法, 如 `ljust()` 和 `center()`"
   ]
  },
  {
   "cell_type": "code",
   "execution_count": 18,
   "metadata": {},
   "outputs": [
    {
     "name": "stdout",
     "output_type": "stream",
     "text": [
      " 1   1    1\n",
      " 2   4    8\n",
      " 3   9   27\n",
      " 4  16   64\n",
      " 5  25  125\n",
      " 6  36  216\n",
      " 7  49  343\n",
      " 8  64  512\n",
      " 9  81  729\n",
      "10 100 1000\n"
     ]
    }
   ],
   "source": [
    "for x in range(1, 11):\n",
    "    print(repr(x).rjust(2), repr(x*x).rjust(3), end=' ')\n",
    "    # 注意前一行 'end' 的使用\n",
    "    print(repr(x*x*x).rjust(4))"
   ]
  },
  {
   "cell_type": "code",
   "execution_count": 21,
   "metadata": {},
   "outputs": [
    {
     "name": "stdout",
     "output_type": "stream",
     "text": [
      " 1   1    1\n",
      " 2   4    8\n",
      " 3   9   27\n",
      " 4  16   64\n",
      " 5  25  125\n",
      " 6  36  216\n",
      " 7  49  343\n",
      " 8  64  512\n",
      " 9  81  729\n",
      "10 100 1000\n"
     ]
    }
   ],
   "source": [
    "for x in range(1, 11):\n",
    "    print('{0:2d} {1:3d} {2:4d}'.format(x, x*x, x*x*x))"
   ]
  },
  {
   "cell_type": "markdown",
   "metadata": {},
   "source": [
    "- 方法 `zfill()`, 它会在数字的左边填充 0"
   ]
  },
  {
   "cell_type": "code",
   "execution_count": 26,
   "metadata": {},
   "outputs": [
    {
     "name": "stdout",
     "output_type": "stream",
     "text": [
      "00012\n",
      "-003.14\n",
      "3.1415926\n"
     ]
    }
   ],
   "source": [
    "print('12'.zfill(5))\n",
    "print('-3.14'.zfill(7))\n",
    "print('3.1415926'.zfill(5))"
   ]
  },
  {
   "cell_type": "markdown",
   "metadata": {},
   "source": [
    "### `format()`"
   ]
  },
  {
   "cell_type": "code",
   "execution_count": 27,
   "metadata": {},
   "outputs": [
    {
     "name": "stdout",
     "output_type": "stream",
     "text": [
      "Tzy与Yzt\n",
      "Google和Runoob\n",
      "Runoob和Google\n"
     ]
    }
   ],
   "source": [
    "print('{}与{}'.format('Tzy', 'Yzt'))\n",
    "print('{0}和{1}'.format('Google', 'Runoob'))\n",
    "print('{1}和{0}'.format('Google', 'Runoob'))"
   ]
  },
  {
   "cell_type": "code",
   "execution_count": 28,
   "metadata": {},
   "outputs": [
    {
     "name": "stdout",
     "output_type": "stream",
     "text": [
      "站点列表 Google, Runoob, 和 Taobao。\n"
     ]
    }
   ],
   "source": [
    "print('站点列表 {0}, {1}, 和 {other}。'.format('Google', 'Runoob', other='Taobao'))"
   ]
  },
  {
   "cell_type": "markdown",
   "metadata": {},
   "source": [
    "- 可选项 `:` 和格式标识符可以跟着字段名。 这就允许对值进行更好的格式化。 下面的例子将 Pi 保留到小数点后三位：\n",
    "\n"
   ]
  },
  {
   "cell_type": "code",
   "execution_count": 37,
   "metadata": {},
   "outputs": [
    {
     "name": "stdout",
     "output_type": "stream",
     "text": [
      "常量 PI 的值近似为 3.142, 20220418。\n",
      "常量 PI 的值近似为 20220418.000, 3.141592653589793。\n"
     ]
    }
   ],
   "source": [
    "import math\n",
    "\n",
    "print('常量 PI 的值近似为 {0:.3f}, {1}。'.format(math.pi, 20220418))\n",
    "print('常量 PI 的值近似为 {1:.3f}, {0}。'.format(math.pi, 20220418))"
   ]
  },
  {
   "cell_type": "markdown",
   "metadata": {},
   "source": [
    "- 在 `:` 后传入一个整数, 可以保证该域至少有这么多的`宽度`。 用于美化表格时很有用。"
   ]
  },
  {
   "cell_type": "code",
   "execution_count": 40,
   "metadata": {},
   "outputs": [
    {
     "name": "stdout",
     "output_type": "stream",
     "text": [
      "Google     ==>          1\n",
      "Runoob     ==>          2\n",
      "Taobao     ==>          3\n"
     ]
    }
   ],
   "source": [
    "table = {'Google': 1, 'Runoob': 2, 'Taobao': 3}\n",
    "for name, number in table.items():\n",
    "    print('{0:10} ==> {1:10d}'.format(name, number))"
   ]
  },
  {
   "cell_type": "code",
   "execution_count": 47,
   "metadata": {},
   "outputs": [
    {
     "name": "stdout",
     "output_type": "stream",
     "text": [
      "Runoob: 2; Google: 1; Taobao: 3\n",
      "Runoob: 2; Google: 1; Taobao: 3\n"
     ]
    }
   ],
   "source": [
    "# 如果你有一个很长的格式化字符串, 而你不想将它们分开, 那么在格式化时通过变量名而非位置会是很好的事情\n",
    "print('Runoob: {0[Runoob]}; Google: {0[Google]}; Taobao: {0[Taobao]}'.format(table))\n",
    "\n",
    "print('Runoob: {Runoob}; Google: {Google}; Taobao: {Taobao}'.format(**table))"
   ]
  },
  {
   "cell_type": "markdown",
   "metadata": {},
   "source": [
    "## 旧式字符串格式化\n",
    "\n",
    "- `%` 操作符也可以实现字符串格式化。 \n",
    "- 它将左边的参数作为类似 sprintf() 式的格式化字符串, 而将右边的代入, 然后返回格式化后的字符串"
   ]
  },
  {
   "cell_type": "code",
   "execution_count": 53,
   "metadata": {},
   "outputs": [
    {
     "name": "stdout",
     "output_type": "stream",
     "text": [
      "常量 PI 的值近似为:3.14。\n",
      "常量 PI 的值近似为:      3.14。\n"
     ]
    }
   ],
   "source": [
    "import math\n",
    "print('常量 PI 的值近似为:%0.2f。' % math.pi)\n",
    "print('常量 PI 的值近似为:%10.2f。' % math.pi)"
   ]
  },
  {
   "cell_type": "markdown",
   "metadata": {},
   "source": [
    "> 因为 `str.format()` 是比较新的函数， 大多数的 Python 代码仍然使用 `%` 操作符。但是因为这种旧式的格式化最终会从该语言中移除, 应该更多的使用 `str.format()`.\n",
    "\n"
   ]
  },
  {
   "cell_type": "markdown",
   "metadata": {},
   "source": [
    "## 读取键盘输入"
   ]
  },
  {
   "cell_type": "code",
   "execution_count": 54,
   "metadata": {},
   "outputs": [
    {
     "name": "stdout",
     "output_type": "stream",
     "text": [
      "Your Enter hhhhh\n"
     ]
    }
   ],
   "source": [
    "str = input(\"请输入\")\n",
    "print(\"Your Enter\", str)"
   ]
  },
  {
   "cell_type": "markdown",
   "metadata": {},
   "source": [
    "## 读和写文件\n",
    "**[参考:笨办法学Python——Github]()**\n",
    "- `open()`\n",
    "- `write()`\n",
    "\n",
    "- `r`、`r+`\n",
    "- `w`、`w+`\n",
    "- `a`、`a+`"
   ]
  },
  {
   "cell_type": "code",
   "execution_count": 58,
   "metadata": {},
   "outputs": [
    {
     "ename": "TypeError",
     "evalue": "'str' object is not callable",
     "output_type": "error",
     "traceback": [
      "\u001b[0;31m---------------------------------------------------------------------------\u001b[0m",
      "\u001b[0;31mTypeError\u001b[0m                                 Traceback (most recent call last)",
      "\u001b[1;32m/home/tzy/文档/Project/OWN--Python_Study/01_基础/Runoob/013_输入和输出.ipynb Cell 28'\u001b[0m in \u001b[0;36m<cell line: 2>\u001b[0;34m()\u001b[0m\n\u001b[1;32m      <a href='vscode-notebook-cell:/home/tzy/%E6%96%87%E6%A1%A3/Project/OWN--Python_Study/01_%E5%9F%BA%E7%A1%80/Runoob/013_%E8%BE%93%E5%85%A5%E5%92%8C%E8%BE%93%E5%87%BA.ipynb#ch0000028?line=0'>1</a>\u001b[0m value \u001b[39m=\u001b[39m (\u001b[39m'\u001b[39m\u001b[39mwww.runoob.com\u001b[39m\u001b[39m'\u001b[39m, \u001b[39m14\u001b[39m)\n\u001b[0;32m----> <a href='vscode-notebook-cell:/home/tzy/%E6%96%87%E6%A1%A3/Project/OWN--Python_Study/01_%E5%9F%BA%E7%A1%80/Runoob/013_%E8%BE%93%E5%85%A5%E5%92%8C%E8%BE%93%E5%87%BA.ipynb#ch0000028?line=1'>2</a>\u001b[0m \u001b[39mstr\u001b[39;49m(value)\n",
      "\u001b[0;31mTypeError\u001b[0m: 'str' object is not callable"
     ]
    }
   ],
   "source": [
    "value = ('www.runoob.com', 14)\n",
    "str(value)"
   ]
  }
 ],
 "metadata": {
  "interpreter": {
   "hash": "916dbcbb3f70747c44a77c7bcd40155683ae19c65e1c03b4aa3499c5328201f1"
  },
  "kernelspec": {
   "display_name": "Python 3.8.10 64-bit",
   "language": "python",
   "name": "python3"
  },
  "language_info": {
   "codemirror_mode": {
    "name": "ipython",
    "version": 3
   },
   "file_extension": ".py",
   "mimetype": "text/x-python",
   "name": "python",
   "nbconvert_exporter": "python",
   "pygments_lexer": "ipython3",
   "version": "3.8.10"
  },
  "orig_nbformat": 4
 },
 "nbformat": 4,
 "nbformat_minor": 2
}
