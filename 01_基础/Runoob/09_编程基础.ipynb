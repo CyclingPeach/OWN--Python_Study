{
 "cells": [
  {
   "cell_type": "markdown",
   "metadata": {},
   "source": [
    "## `目录`\n",
    "- 编程第一步\n",
    "- 条件控制\n",
    "    - `if elif else`\n",
    "- 循环语句\n",
    "    - `while`\n",
    "        - 无限循环\n",
    "        - `while...else...`\n",
    "    - `for`\n",
    "        - `for <variable> in <sequence>`\n",
    "        - `range`\n",
    "        - \n",
    "    - `break`\n",
    "    - `continue`\n",
    "    - `else`子句\n",
    "    - `pass`"
   ]
  },
  {
   "cell_type": "code",
   "execution_count": 5,
   "metadata": {},
   "outputs": [
    {
     "name": "stdout",
     "output_type": "stream",
     "text": [
      "1 | 1 | 2 | 3 | 5 | 8 | 13 | 21 | 34 | 55 | 89 | 144 | 233 | 377 | 610 | 987 | "
     ]
    }
   ],
   "source": [
    "#!/usr/bin/env python3\n",
    "\n",
    "# Fibonacci series\n",
    "# \n",
    "a, b = 0, 1\n",
    "\n",
    "while b < 1000:\n",
    "    print(b, end=' | ')\n",
    "    a, b = b, a+b"
   ]
  },
  {
   "cell_type": "markdown",
   "metadata": {},
   "source": [
    "### `if else`"
   ]
  },
  {
   "cell_type": "code",
   "execution_count": 6,
   "metadata": {},
   "outputs": [
    {
     "name": "stdout",
     "output_type": "stream",
     "text": [
      "1 is odd\n",
      "2 is even\n",
      "3 is odd\n",
      "4 is even\n",
      "5 is odd\n",
      "6 is even\n"
     ]
    }
   ],
   "source": [
    "a = 1\n",
    "while a < 7:\n",
    "    if(a % 2 == 0):\n",
    "        print(a, \"is even\") # 偶数\n",
    "    else:\n",
    "        print(a, \"is odd\")  # 奇数 \n",
    "    a += 1"
   ]
  },
  {
   "cell_type": "code",
   "execution_count": 8,
   "metadata": {},
   "outputs": [
    {
     "name": "stdout",
     "output_type": "stream",
     "text": [
      "第一条\n",
      "下一个\n"
     ]
    }
   ],
   "source": [
    "var1 = 100\n",
    "if var1:\n",
    "    print(\"第一条\")\n",
    "\n",
    "var2 = 0\n",
    "if var2:\n",
    "    print(\"第二条\")\n",
    "    print(var2)\n",
    "print(\"下一个\")"
   ]
  },
  {
   "cell_type": "markdown",
   "metadata": {},
   "source": [
    "`var2 = 0`>>>`if var2`不执行，相当于`False` "
   ]
  },
  {
   "cell_type": "markdown",
   "metadata": {},
   "source": [
    "### `while`"
   ]
  },
  {
   "cell_type": "code",
   "execution_count": 10,
   "metadata": {},
   "outputs": [],
   "source": [
    "# 计算🐶的年龄"
   ]
  },
  {
   "cell_type": "code",
   "execution_count": 19,
   "metadata": {},
   "outputs": [
    {
     "name": "stdout",
     "output_type": "stream",
     "text": [
      "1\n",
      "3\n",
      "5\n",
      "7\n",
      "9\n"
     ]
    }
   ],
   "source": [
    "a = 1\n",
    "while a < 10:\n",
    "    print(a)\n",
    "    a += 2"
   ]
  },
  {
   "cell_type": "markdown",
   "metadata": {},
   "source": [
    "```Python\n",
    "while <expr>:\n",
    "    <statement(s)>\n",
    "else:\n",
    "    <additional_statement(s)>\n",
    "```"
   ]
  },
  {
   "cell_type": "code",
   "execution_count": null,
   "metadata": {},
   "outputs": [],
   "source": [
    "flag = 1\n",
    "\n",
    "while (flag):   print('红红火火')"
   ]
  },
  {
   "cell_type": "markdown",
   "metadata": {},
   "source": [
    "### `for`"
   ]
  },
  {
   "cell_type": "code",
   "execution_count": 23,
   "metadata": {},
   "outputs": [
    {
     "name": "stdout",
     "output_type": "stream",
     "text": [
      "继续循环\n",
      "继续循环\n",
      "Runoob\n",
      "Over\n"
     ]
    }
   ],
   "source": [
    "sites = ['Baidu', 'Google', 'Runoob', 'Taobao']\n",
    "\n",
    "for site in sites:\n",
    "    if site == 'Runoob':\n",
    "        print('Runoob')\n",
    "        break\n",
    "    print('继续循环')\n",
    "else:\n",
    "    print('不循环了')\n",
    "print('Over')"
   ]
  },
  {
   "cell_type": "code",
   "execution_count": 26,
   "metadata": {},
   "outputs": [
    {
     "name": "stdout",
     "output_type": "stream",
     "text": [
      "0\n",
      "3\n",
      "6\n",
      "9\n"
     ]
    }
   ],
   "source": [
    "for i in range(0, 10, 3):   # `3`为步长\n",
    "    print(i)"
   ]
  },
  {
   "cell_type": "code",
   "execution_count": 28,
   "metadata": {},
   "outputs": [
    {
     "name": "stdout",
     "output_type": "stream",
     "text": [
      "-10\n",
      "-40\n",
      "-70\n"
     ]
    }
   ],
   "source": [
    "# 步长为负，头尾也要反着写\n",
    "for i in range(-10, -100, -30):\n",
    "    print(i)"
   ]
  },
  {
   "cell_type": "code",
   "execution_count": 30,
   "metadata": {},
   "outputs": [
    {
     "data": {
      "text/plain": [
       "[0, 1, 2, 3, 4]"
      ]
     },
     "execution_count": 30,
     "metadata": {},
     "output_type": "execute_result"
    }
   ],
   "source": [
    "# 生成列表\n",
    "list(range(5))"
   ]
  },
  {
   "cell_type": "code",
   "execution_count": 34,
   "metadata": {},
   "outputs": [],
   "source": [
    "for i in range(2,2):\n",
    "    print(i)\n",
    "    print('运行了')"
   ]
  },
  {
   "cell_type": "markdown",
   "metadata": {},
   "source": [
    "# `不懂的地方`\n",
    "\n",
    "### `循环语句可以有 else 子句`\n",
    "- **它在`穷尽列表(for循环)`或`条件变为 false (while循环)`导致`循环终止时`被执行**\n",
    "- **但循环被 break 终止时不执行**\n",
    "```Python\n",
    "for i in range(2, 2):\n",
    "    print('循环输出')\n",
    "else:\n",
    "    print('进入else')\n",
    "```\n",
    "这种情况`range(2, 2)`说明了循环穷尽了"
   ]
  },
  {
   "cell_type": "code",
   "execution_count": 57,
   "metadata": {},
   "outputs": [
    {
     "name": "stdout",
     "output_type": "stream",
     "text": [
      "循环数据 Baidu\n",
      "循环数据 Google\n",
      "菜鸟教程!\n",
      "完成循环!\n"
     ]
    }
   ],
   "source": [
    "sites = [\"Baidu\", \"Google\",\"Runoob\",\"Taobao\"]\n",
    "for site in sites:\n",
    "    if site == \"Runoob\":\n",
    "        print(\"菜鸟教程!\")\n",
    "        break\n",
    "    print(\"循环数据 \" + site)   ## 这句话是相当于else吗\n",
    "else:\n",
    "    print(\"没有循环数据!\")\n",
    "print(\"完成循环!\")"
   ]
  },
  {
   "cell_type": "code",
   "execution_count": 72,
   "metadata": {},
   "outputs": [
    {
     "name": "stdout",
     "output_type": "stream",
     "text": [
      "2 是质数\n",
      "3 是质数\n",
      "4 不是质数\n",
      "5 是质数\n",
      "6 不是质数\n",
      "7 是质数\n",
      "8 不是质数\n",
      "9 不是质数\n"
     ]
    }
   ],
   "source": [
    "## 质数计算\n",
    "\n",
    "for n in range(2, 10):\n",
    "    for x in range(2, n):   # 排除了'1'和'n'(自身)\n",
    "        if n % x == 0:      # 说明在1~n之间，除了1和它自身(n)还有其他数可以被它整除\n",
    "            print(n, '不是质数')\n",
    "            break\n",
    "    else:\n",
    "        print(n, '是质数')\n",
    "        # break\n",
    "        "
   ]
  },
  {
   "cell_type": "markdown",
   "metadata": {},
   "source": [
    "### `Pass`语句\n",
    "- **`pass`是空语句**\n",
    "- **占位语句**"
   ]
  },
  {
   "cell_type": "code",
   "execution_count": null,
   "metadata": {},
   "outputs": [],
   "source": []
  }
 ],
 "metadata": {
  "interpreter": {
   "hash": "916dbcbb3f70747c44a77c7bcd40155683ae19c65e1c03b4aa3499c5328201f1"
  },
  "kernelspec": {
   "display_name": "Python 3.8.10 64-bit",
   "language": "python",
   "name": "python3"
  },
  "language_info": {
   "codemirror_mode": {
    "name": "ipython",
    "version": 3
   },
   "file_extension": ".py",
   "mimetype": "text/x-python",
   "name": "python",
   "nbconvert_exporter": "python",
   "pygments_lexer": "ipython3",
   "version": "3.8.10"
  },
  "orig_nbformat": 4
 },
 "nbformat": 4,
 "nbformat_minor": 2
}
