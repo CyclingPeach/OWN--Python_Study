{
 "cells": [
  {
   "cell_type": "markdown",
   "metadata": {},
   "source": [
    "### `iterator`"
   ]
  },
  {
   "cell_type": "code",
   "execution_count": 6,
   "metadata": {},
   "outputs": [
    {
     "name": "stdout",
     "output_type": "stream",
     "text": [
      "1\n",
      "2\n"
     ]
    }
   ],
   "source": [
    "list = [1,2,3,4]\n",
    "li = iter(list)\n",
    "print(next(li))\n",
    "print(next(li))"
   ]
  },
  {
   "cell_type": "code",
   "execution_count": 9,
   "metadata": {},
   "outputs": [
    {
     "name": "stdout",
     "output_type": "stream",
     "text": [
      "<class 'list_iterator'>\n",
      "<list_iterator object at 0x7f8dd8031b20>\n",
      "1 | 2 | 3 | 4 | "
     ]
    }
   ],
   "source": [
    "list = [1,2,3,4]\n",
    "li = iter(list)\n",
    "\n",
    "print(type(li))\n",
    "print(li)\n",
    "for l in li:\n",
    "    print(l, end=' | ')"
   ]
  },
  {
   "cell_type": "code",
   "execution_count": null,
   "metadata": {},
   "outputs": [],
   "source": [
    "import sys\n",
    "\n",
    "list = [1,2,3,4]\n",
    "it = iter(list)\n",
    "\n",
    "while True:\n",
    "    try:\n",
    "        print(next(it))\n",
    "    except StopIteration:\n",
    "        sys.exit()"
   ]
  },
  {
   "cell_type": "markdown",
   "metadata": {},
   "source": [
    "## `generator`"
   ]
  },
  {
   "cell_type": "markdown",
   "metadata": {},
   "source": [
    "### Python3 函数\n",
    "\n",
    "不带表达式的 return 相当于返回 None。\n",
    "\n",
    "#### 参数传递\n",
    "\n",
    "- 可变对象（`mutable`）\n",
    "- 不可变对象（`immutable`）\n",
    "\n",
    "- 不可变类型：\n",
    "    - 不可变类型：变量赋值 a=5 后再赋值 a=10，这里实际是新生成一个 int 值对象 10，再让 a 指向它，而 5 被丢弃，不是改变 a 的值，相当于新生成了 a。\n",
    "- 可变类型：\n",
    "    - 变量赋值 la=[1,2,3,4] 后再赋值 la[2]=5 则是将 list la 的第三个元素值更改，本身la没有动，只是其内部的一部分值被修改了。\n",
    "\n",
    "- python 函数的参数传递：\n",
    "    - 不可变类型：\n",
    "        - 类似 C++ 的值传递，如`Number`、`String`、`Tuple`。\n",
    "        - 如 `fun(a)`，传递的只是 `a` 的值，没有影响 `a` 对象本身。\n",
    "        - 如果在 `fun(a)` 内部修改 `a` 的值，则是新生成一个 `a` 的对象。\n",
    "    - 可变类型：\n",
    "        - 类似 C++ 的引用传递，如 `List`，`Dictionary`。\n",
    "        - 如 `fun(la)`，则是将 la 真正的传过去，修改后 fun 外部的 la 也会受影响"
   ]
  }
 ],
 "metadata": {
  "interpreter": {
   "hash": "916dbcbb3f70747c44a77c7bcd40155683ae19c65e1c03b4aa3499c5328201f1"
  },
  "kernelspec": {
   "display_name": "Python 3.8.10 64-bit",
   "language": "python",
   "name": "python3"
  },
  "language_info": {
   "codemirror_mode": {
    "name": "ipython",
    "version": 3
   },
   "file_extension": ".py",
   "mimetype": "text/x-python",
   "name": "python",
   "nbconvert_exporter": "python",
   "pygments_lexer": "ipython3",
   "version": "3.8.10"
  },
  "orig_nbformat": 4
 },
 "nbformat": 4,
 "nbformat_minor": 2
}
