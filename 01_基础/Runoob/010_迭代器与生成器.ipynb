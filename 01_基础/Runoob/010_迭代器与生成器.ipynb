{
 "cells": [
  {
   "cell_type": "markdown",
   "metadata": {},
   "source": [
    "### `iterator`"
   ]
  },
  {
   "cell_type": "code",
   "execution_count": 6,
   "metadata": {},
   "outputs": [
    {
     "name": "stdout",
     "output_type": "stream",
     "text": [
      "1\n",
      "2\n"
     ]
    }
   ],
   "source": [
    "list = [1,2,3,4]\n",
    "li = iter(list)\n",
    "print(next(li))\n",
    "print(next(li))"
   ]
  },
  {
   "cell_type": "code",
   "execution_count": 9,
   "metadata": {},
   "outputs": [
    {
     "name": "stdout",
     "output_type": "stream",
     "text": [
      "<class 'list_iterator'>\n",
      "<list_iterator object at 0x7f8dd8031b20>\n",
      "1 | 2 | 3 | 4 | "
     ]
    }
   ],
   "source": [
    "list = [1,2,3,4]\n",
    "li = iter(list)\n",
    "\n",
    "print(type(li))\n",
    "print(li)\n",
    "for l in li:\n",
    "    print(l, end=' | ')"
   ]
  },
  {
   "cell_type": "code",
   "execution_count": null,
   "metadata": {},
   "outputs": [],
   "source": [
    "import sys\n",
    "\n",
    "list = [1,2,3,4]\n",
    "it = iter(list)\n",
    "\n",
    "while True:\n",
    "    try:\n",
    "        print(next(it))\n",
    "    except StopIteration:\n",
    "        sys.exit()"
   ]
  },
  {
   "cell_type": "markdown",
   "metadata": {},
   "source": [
    "## `generator`"
   ]
  },
  {
   "cell_type": "markdown",
   "metadata": {},
   "source": [
    "### Python3 函数\n",
    "\n",
    "不带表达式的 return 相当于返回 None。\n",
    "\n",
    "#### 参数传递\n",
    "\n",
    "- 可变对象（`mutable`）\n",
    "- 不可变对象（`immutable`）\n",
    "\n",
    "- 不可变类型：\n",
    "    - 不可变类型：变量赋值 a=5 后再赋值 a=10，这里实际是新生成一个 int 值对象 10，再让 a 指向它，而 5 被丢弃，不是改变 a 的值，相当于新生成了 a。\n",
    "- 可变类型：\n",
    "    - 变量赋值 la=[1,2,3,4] 后再赋值 la[2]=5 则是将 list la 的第三个元素值更改，本身la没有动，只是其内部的一部分值被修改了。\n",
    "\n",
    "- python 函数的参数传递：\n",
    "    - 不可变类型：\n",
    "        - 类似 C++ 的**值传递**，如`Number`、`String`、`Tuple`。\n",
    "        - 如 `fun(a)`，传递的只是 `a` 的值，没有影响 `a` 对象本身。\n",
    "        - 如果在 `fun(a)` 内部修改 `a` 的值，则是新生成一个 `a` 的对象。\n",
    "    - 可变类型：\n",
    "        - 类似 C++ 的**引用传递**，如 `List`，`Dictionary`。\n",
    "        - 如 `fun(la)`，则是将 la 真正的传过去，修改后 fun 外部的 la 也会受影响"
   ]
  },
  {
   "cell_type": "code",
   "execution_count": 16,
   "metadata": {},
   "outputs": [
    {
     "name": "stdout",
     "output_type": "stream",
     "text": [
      "9788960\n",
      "9788960\n",
      "9789248\n"
     ]
    }
   ],
   "source": [
    "# Python传不可变对象实例\n",
    "\n",
    "def charge(a):\n",
    "    print(id(a))\n",
    "    a = 10\n",
    "    print(id(a))\n",
    "\n",
    "a = 1\n",
    "print(id(a))\n",
    "charge(a)"
   ]
  },
  {
   "cell_type": "code",
   "execution_count": 17,
   "metadata": {},
   "outputs": [
    {
     "name": "stdout",
     "output_type": "stream",
     "text": [
      "[10, 20, 30, [1, 2, 3, 4]]\n",
      "[10, 20, 30, [1, 2, 3, 4]]\n"
     ]
    }
   ],
   "source": [
    "# Python传可变对象实例\n",
    "# 可变对象在函数里修改了参数，那么在调用这个函数的函数里，原始的参数也被改变了。\n",
    "\n",
    "def changeme(mylist):\n",
    "    mylist.append([1,2,3,4])\n",
    "    print(mylist)\n",
    "\n",
    "mylist = [10,20,30]\n",
    "changeme(mylist)\n",
    "print(mylist)"
   ]
  },
  {
   "cell_type": "markdown",
   "metadata": {},
   "source": [
    "#### 参数"
   ]
  },
  {
   "cell_type": "code",
   "execution_count": 21,
   "metadata": {},
   "outputs": [
    {
     "name": "stdout",
     "output_type": "stream",
     "text": [
      "Name Zhiyuan Tao\n",
      "Age 23\n"
     ]
    }
   ],
   "source": [
    "## 关键字参数\n",
    "# 函数参数的使用不需要使用指定顺序\n",
    "\n",
    "def printinfo(name, age):\n",
    "    print(\"Name\", name)\n",
    "    print(\"Age\", age)\n",
    "\n",
    "printinfo(age=23, name=\"Zhiyuan Tao\")"
   ]
  },
  {
   "cell_type": "code",
   "execution_count": 26,
   "metadata": {},
   "outputs": [
    {
     "name": "stdout",
     "output_type": "stream",
     "text": [
      "默认参数：\n",
      "Name Zhiyuan Tao\n",
      "Age 2022\n",
      "\n",
      "自定义参数:\n",
      "Name Zhiyuan Tao\n",
      "Age 23\n"
     ]
    }
   ],
   "source": [
    "## 默认参数\n",
    "# \n",
    "\n",
    "def printinfo(name, age=2022):\n",
    "    print(\"Name\", name)\n",
    "    print(\"Age\", age)\n",
    "\n",
    "print(\"默认参数：\")\n",
    "printinfo(name=\"Zhiyuan Tao\")\n",
    "print(\"\\n自定义参数:\")\n",
    "printinfo(name=\"Zhiyuan Tao\", age=23)"
   ]
  },
  {
   "cell_type": "code",
   "execution_count": 30,
   "metadata": {},
   "outputs": [
    {
     "name": "stdout",
     "output_type": "stream",
     "text": [
      "70\n",
      "(60, 50)\n"
     ]
    }
   ],
   "source": [
    "## 不定长参数\n",
    "\n",
    "# 加了星号 * 的参数会以元组(tuple)的形式导入，存放所有未命名的变量参数\n",
    "def printinfo( arg1, *vartuple ):\n",
    "   print (arg1)\n",
    "   print (vartuple)\n",
    " \n",
    "printinfo( 70, 60, 50 )"
   ]
  },
  {
   "cell_type": "code",
   "execution_count": 43,
   "metadata": {},
   "outputs": [
    {
     "name": "stdout",
     "output_type": "stream",
     "text": [
      "输出：\n",
      "【arg】 10\n",
      "【vartuple】 ()\n",
      "【拆分vartuple】\n",
      "\n",
      "输出：\n",
      "【arg】 70\n",
      "【vartuple】 (60, 50)\n",
      "【拆分vartuple】60 50 "
     ]
    }
   ],
   "source": [
    "## 不定长参数\n",
    "\n",
    "# 如果在函数调用时没有指定参数，它就是一个空元组。\n",
    "# 我们也可以不向函数传递未命名的变量。\n",
    "def printinfo(arg1, *vartuple):\n",
    "    print(\"输出：\")\n",
    "    print(\"【arg】\", arg1)\n",
    "    print(\"【vartuple】\", vartuple)\n",
    "    print(\"【拆分vartuple】\", end=\"\")\n",
    "    for var in vartuple:\n",
    "        print(var, end=' ')\n",
    " \n",
    "printinfo(10)\n",
    "print(\"\\n\")\n",
    "printinfo(70, 60, 50)"
   ]
  },
  {
   "cell_type": "code",
   "execution_count": 47,
   "metadata": {},
   "outputs": [
    {
     "name": "stdout",
     "output_type": "stream",
     "text": [
      "输出: \n",
      "1\n",
      "{'a': 2, 'b': 3}\n"
     ]
    }
   ],
   "source": [
    "## 加了两个星号 ** 的参数会以字典的形式导入。\n",
    "def printinfo( arg1, **vardict ):\n",
    "   print (\"输出: \")\n",
    "   print (arg1)\n",
    "   print (vardict)\n",
    " \n",
    "# 调用printinfo 函数\n",
    "printinfo(1, a = 2,b = 3)"
   ]
  },
  {
   "cell_type": "code",
   "execution_count": 51,
   "metadata": {},
   "outputs": [],
   "source": [
    "## 单独出现星号 *， * 后的参数必须用关键字传入\n",
    "\n",
    "def f(a,b,*,c):\n",
    "    return a+b+c"
   ]
  },
  {
   "cell_type": "code",
   "execution_count": 52,
   "metadata": {},
   "outputs": [
    {
     "ename": "TypeError",
     "evalue": "f() takes 2 positional arguments but 3 were given",
     "output_type": "error",
     "traceback": [
      "\u001b[0;31m---------------------------------------------------------------------------\u001b[0m",
      "\u001b[0;31mTypeError\u001b[0m                                 Traceback (most recent call last)",
      "\u001b[1;32m/home/tzy/文档/Project/OWN--Python_Study/01_基础/Runoob/010_迭代器与生成器.ipynb Cell 16'\u001b[0m in \u001b[0;36m<cell line: 1>\u001b[0;34m()\u001b[0m\n\u001b[0;32m----> <a href='vscode-notebook-cell:/home/tzy/%E6%96%87%E6%A1%A3/Project/OWN--Python_Study/01_%E5%9F%BA%E7%A1%80/Runoob/010_%E8%BF%AD%E4%BB%A3%E5%99%A8%E4%B8%8E%E7%94%9F%E6%88%90%E5%99%A8.ipynb#ch0000021?line=0'>1</a>\u001b[0m f(\u001b[39m1\u001b[39;49m,\u001b[39m2\u001b[39;49m,\u001b[39m3\u001b[39;49m)\n",
      "\u001b[0;31mTypeError\u001b[0m: f() takes 2 positional arguments but 3 were given"
     ]
    }
   ],
   "source": [
    "f(1,2,3)"
   ]
  },
  {
   "cell_type": "code",
   "execution_count": 53,
   "metadata": {},
   "outputs": [
    {
     "data": {
      "text/plain": [
       "6"
      ]
     },
     "execution_count": 53,
     "metadata": {},
     "output_type": "execute_result"
    }
   ],
   "source": [
    "f(1,2,c=3)"
   ]
  },
  {
   "cell_type": "markdown",
   "metadata": {},
   "source": [
    "### `匿名函数`\n",
    "\n",
    "Python 使用 `lambda` 来创建匿名函数。\n",
    "\n",
    "所谓匿名，意即不再使用 `def` 语句这样标准的形式定义一个函数。\n",
    "\n",
    "- `lambda` 只是一个表达式，函数体比 `def` 简单很多。\n",
    "- `lambda` 的主体是一个表达式，而不是一个代码块。仅仅能在 `lambda` 表达式中封装`有限的逻辑`进去。\n",
    "- `lambda` 函数拥有自己的`命名空间`，且不能访问自己参数列表之外或全局命名空间里的参数。\n",
    "- 虽然 `lambda` 函数看起来只能写一行，却不等同于 C 或 C++ 的内联函数，后者的目的是调用小函数时不占用栈内存从而增加运行效率。"
   ]
  },
  {
   "cell_type": "code",
   "execution_count": 72,
   "metadata": {},
   "outputs": [
    {
     "name": "stdout",
     "output_type": "stream",
     "text": [
      "15 \n",
      "\n",
      "匿名函数设置两个参数 30\n"
     ]
    }
   ],
   "source": [
    "x = lambda a : a + 10\n",
    "print(x(5), \"\\n\")\n",
    "\n",
    "## 匿名函数设置两个参数\n",
    "sum = lambda arg1, arg2 : arg1 + arg2\n",
    "print(\"匿名函数设置两个参数\",sum(10, 20))\n"
   ]
  },
  {
   "cell_type": "code",
   "execution_count": 78,
   "metadata": {},
   "outputs": [
    {
     "name": "stdout",
     "output_type": "stream",
     "text": [
      "<function myfunc.<locals>.<lambda> at 0x7f8dc0f96d30>\n",
      "<class 'function'>\n",
      "20\n",
      "30\n"
     ]
    }
   ],
   "source": [
    "## 我们可以将匿名函数封装在一个函数内，这样可以使用同样的代码来创建多个匿名函数。\n",
    "\n",
    "def myfunc(n):\n",
    "    return lambda a : a * n\n",
    "\n",
    "mydoubler = myfunc(2)\n",
    "mytriper  = myfunc(3)\n",
    "\n",
    "print(mytriper)\n",
    "print(type(mytriper))\n",
    "print(mydoubler(10))\n",
    "print(mytriper(10))"
   ]
  }
 ],
 "metadata": {
  "interpreter": {
   "hash": "916dbcbb3f70747c44a77c7bcd40155683ae19c65e1c03b4aa3499c5328201f1"
  },
  "kernelspec": {
   "display_name": "Python 3.8.10 64-bit",
   "language": "python",
   "name": "python3"
  },
  "language_info": {
   "codemirror_mode": {
    "name": "ipython",
    "version": 3
   },
   "file_extension": ".py",
   "mimetype": "text/x-python",
   "name": "python",
   "nbconvert_exporter": "python",
   "pygments_lexer": "ipython3",
   "version": "3.8.10"
  },
  "orig_nbformat": 4
 },
 "nbformat": 4,
 "nbformat_minor": 2
}
